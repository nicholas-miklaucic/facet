{
 "cells": [
  {
   "cell_type": "code",
   "execution_count": 25,
   "metadata": {},
   "outputs": [
    {
     "name": "stdout",
     "output_type": "stream",
     "text": [
      "/home/nmiklaucic/cdv\n"
     ]
    },
    {
     "name": "stderr",
     "output_type": "stream",
     "text": [
      "/home/nmiklaucic/miniconda3/envs/avid/lib/python3.12/site-packages/IPython/core/magics/osm.py:393: UserWarning: This is now an optional IPython functionality, using bookmarks requires you to install the `pickleshare` library.\n",
      "  bkms = self.shell.db.get('bookmarks', {})\n",
      "/home/nmiklaucic/miniconda3/envs/avid/lib/python3.12/site-packages/IPython/core/magics/osm.py:417: UserWarning: This is now an optional IPython functionality, setting dhist requires you to install the `pickleshare` library.\n",
      "  self.shell.db['dhist'] = compress_dhist(dhist)[-100:]\n"
     ]
    }
   ],
   "source": [
    "%cd ~/cdv/\n",
    "\n",
    "import os\n",
    "\n",
    "os.environ['CUDA_VISIBLE_DEVICES'] = '0,1,2'\n",
    "\n",
    "import numpy as np\n",
    "import jax.numpy as jnp\n",
    "import jax\n",
    "import jax.random as jr\n",
    "import pandas as pd\n",
    "import plotly.express as px\n",
    "import matplotlib.pyplot as plt\n",
    "import seaborn as sns\n",
    "import rho_plus as rp\n",
    "\n",
    "is_dark = True\n",
    "theme, cs = rp.mpl_setup(is_dark)\n",
    "rp.plotly_setup(is_dark)"
   ]
  },
  {
   "cell_type": "code",
   "execution_count": 2,
   "metadata": {},
   "outputs": [
    {
     "name": "stderr",
     "output_type": "stream",
     "text": [
      "WARNING:absl:Configured `CheckpointManager` using deprecated legacy API. Please follow the instructions at https://orbax.readthedocs.io/en/latest/api_refactor.html to migrate.\n",
      "WARNING:absl:Given directory is read only=/home/nmiklaucic/cdv/logs/11-08-19-53_500/final_ckpt/ckpts\n",
      "WARNING:absl:`StandardCheckpointHandler` expects a target tree to be provided for restore. Not doing so is generally UNSAFE unless you know the present topology to be the same one as the checkpoint was saved under.\n"
     ]
    }
   ],
   "source": [
    "from pathlib import Path\n",
    "import pyrallis\n",
    "from facet.config import MainConfig\n",
    "import orbax.checkpoint as ocp\n",
    "\n",
    "from facet.training_state import TrainingRun\n",
    "from facet.checkpointing import best_ckpt\n",
    "\n",
    "# run_dir = Path('logs') / '10-15-01-06_751'\n",
    "run_dir = Path('logs') / '11-08-19-53_500'\n",
    "# run_dir = Path('logs') / 'enb-86'\n",
    "\n",
    "with open(run_dir / 'config.toml') as conf_file:\n",
    "    config = pyrallis.cfgparsing.load(MainConfig, conf_file)\n",
    "\n",
    "model = config.build_regressor()\n",
    "\n",
    "\n",
    "ckpt = best_ckpt(run_dir)\n",
    "ckpt = jax.tree.map(lambda x: x if isinstance(x, (float, int)) else x.astype(jnp.float32), ckpt)\n",
    "# model = model.bind(ckpt['state']['params'])"
   ]
  },
  {
   "cell_type": "code",
   "execution_count": 32,
   "metadata": {},
   "outputs": [
    {
     "data": {
      "text/html": [
       "<pre style=\"white-space:pre;overflow-x:auto;line-height:normal;font-family:Menlo,'DejaVu Sans Mono',consolas,'Courier New',monospace\"></pre>\n"
      ],
      "text/plain": []
     },
     "metadata": {},
     "output_type": "display_data"
    },
    {
     "data": {
      "text/plain": [
       "\u001b[1;35mCrystalGraphs\u001b[0m\u001b[1m(\u001b[0m\u001b[33mnodes\u001b[0m=\u001b[1m(\u001b[0m\u001b[1;36m1024\u001b[0m, \u001b[1;36m3\u001b[0m\u001b[1m)\u001b[0m, \u001b[33medges\u001b[0m=\u001b[1m(\u001b[0m\u001b[1;36m1024\u001b[0m, \u001b[1;36m32\u001b[0m\u001b[1m)\u001b[0m, \u001b[33mgraphs\u001b[0m=\u001b[1m(\u001b[0m\u001b[1;36m32\u001b[0m,\u001b[1m)\u001b[0m\u001b[1m)\u001b[0m"
      ]
     },
     "execution_count": 32,
     "metadata": {},
     "output_type": "execute_result"
    }
   ],
   "source": [
    "from facet.data.dataset import load_file\n",
    "cg = load_file(config, group_num=2)\n",
    "cg"
   ]
  },
  {
   "cell_type": "code",
   "execution_count": 33,
   "metadata": {},
   "outputs": [
    {
     "data": {
      "text/html": [
       "<pre style=\"white-space:pre;overflow-x:auto;line-height:normal;font-family:Menlo,'DejaVu Sans Mono',consolas,'Courier New',monospace\"></pre>\n"
      ],
      "text/plain": []
     },
     "metadata": {},
     "output_type": "display_data"
    },
    {
     "data": {
      "text/plain": [
       "\n",
       "\u001b[1;35mEFSOutput\u001b[0m\u001b[1m(\u001b[0m\n",
       "    \u001b[33menergy\u001b[0m=\u001b[1;35mArray\u001b[0m\u001b[1m(\u001b[0m\u001b[1m[\u001b[0m\u001b[1m[\u001b[0m\u001b[1;36m-5.541932\u001b[0m  \u001b[1m]\u001b[0m,\n",
       "       \u001b[1m[\u001b[0m\u001b[1;36m-5.6015916\u001b[0m \u001b[1m]\u001b[0m,\n",
       "       \u001b[1m[\u001b[0m\u001b[1;36m-8.702359\u001b[0m  \u001b[1m]\u001b[0m,\n",
       "       \u001b[1m[\u001b[0m\u001b[1;36m-6.8489895\u001b[0m \u001b[1m]\u001b[0m,\n",
       "       \u001b[1m[\u001b[0m\u001b[1;36m-7.509343\u001b[0m  \u001b[1m]\u001b[0m,\n",
       "       \u001b[1m[\u001b[0m\u001b[1;36m-8.387628\u001b[0m  \u001b[1m]\u001b[0m,\n",
       "       \u001b[1m[\u001b[0m\u001b[1;36m-7.2625656\u001b[0m \u001b[1m]\u001b[0m,\n",
       "       \u001b[1m[\u001b[0m\u001b[1;36m-6.0519185\u001b[0m \u001b[1m]\u001b[0m,\n",
       "       \u001b[1m[\u001b[0m\u001b[1;36m-2.930354\u001b[0m  \u001b[1m]\u001b[0m,\n",
       "       \u001b[1m[\u001b[0m\u001b[1;36m-2.9281373\u001b[0m \u001b[1m]\u001b[0m,\n",
       "       \u001b[1m[\u001b[0m\u001b[1;36m-7.6060786\u001b[0m \u001b[1m]\u001b[0m,\n",
       "       \u001b[1m[\u001b[0m\u001b[1;36m-7.4052444\u001b[0m \u001b[1m]\u001b[0m,\n",
       "       \u001b[1m[\u001b[0m\u001b[1;36m-9.209475\u001b[0m  \u001b[1m]\u001b[0m,\n",
       "       \u001b[1m[\u001b[0m\u001b[1;36m-8.0269165\u001b[0m \u001b[1m]\u001b[0m,\n",
       "       \u001b[1m[\u001b[0m\u001b[1;36m-7.668445\u001b[0m  \u001b[1m]\u001b[0m,\n",
       "       \u001b[1m[\u001b[0m\u001b[1;36m-5.9169917\u001b[0m \u001b[1m]\u001b[0m,\n",
       "       \u001b[1m[\u001b[0m\u001b[1;36m-2.18415\u001b[0m   \u001b[1m]\u001b[0m,\n",
       "       \u001b[1m[\u001b[0m\u001b[1;36m-3.660702\u001b[0m  \u001b[1m]\u001b[0m,\n",
       "       \u001b[1m[\u001b[0m\u001b[1;36m-6.2351284\u001b[0m \u001b[1m]\u001b[0m,\n",
       "       \u001b[1m[\u001b[0m\u001b[1;36m-6.511806\u001b[0m  \u001b[1m]\u001b[0m,\n",
       "       \u001b[1m[\u001b[0m\u001b[1;36m-8.830331\u001b[0m  \u001b[1m]\u001b[0m,\n",
       "       \u001b[1m[\u001b[0m\u001b[1;36m-3.9106195\u001b[0m \u001b[1m]\u001b[0m,\n",
       "       \u001b[1m[\u001b[0m\u001b[1;36m-3.2405577\u001b[0m \u001b[1m]\u001b[0m,\n",
       "       \u001b[1m[\u001b[0m\u001b[1;36m-7.306643\u001b[0m  \u001b[1m]\u001b[0m,\n",
       "       \u001b[1m[\u001b[0m\u001b[1;36m-8.734775\u001b[0m  \u001b[1m]\u001b[0m,\n",
       "       \u001b[1m[\u001b[0m\u001b[1;36m-3.9402268\u001b[0m \u001b[1m]\u001b[0m,\n",
       "       \u001b[1m[\u001b[0m\u001b[1;36m-0.81307775\u001b[0m\u001b[1m]\u001b[0m,\n",
       "       \u001b[1m[\u001b[0m\u001b[1;36m-4.9675827\u001b[0m \u001b[1m]\u001b[0m,\n",
       "       \u001b[1m[\u001b[0m\u001b[1;36m-0.78971606\u001b[0m\u001b[1m]\u001b[0m,\n",
       "       \u001b[1m[\u001b[0m\u001b[1;36m-0.6897897\u001b[0m \u001b[1m]\u001b[0m,\n",
       "       \u001b[1m[\u001b[0m \u001b[1;36m0\u001b[0m.        \u001b[1m]\u001b[0m,\n",
       "       \u001b[1m[\u001b[0m \u001b[1;36m0\u001b[0m.        \u001b[1m]\u001b[0m\u001b[1m]\u001b[0m, \u001b[33mdtype\u001b[0m=\u001b[35mfloat32\u001b[0m\u001b[1m)\u001b[0m,\n",
       "    \u001b[33mforce\u001b[0m=\u001b[1;35mArray\u001b[0m\u001b[1m(\u001b[0m\u001b[1m[\u001b[0m\u001b[1m[\u001b[0m \u001b[1;36m0.06021235\u001b[0m, \u001b[1;36m-0.02381758\u001b[0m, \u001b[1;36m-0.01598296\u001b[0m\u001b[1m]\u001b[0m,\n",
       "       \u001b[1m[\u001b[0m \u001b[1;36m0.06021226\u001b[0m,  \u001b[1;36m0.02381426\u001b[0m,  \u001b[1;36m0.0159864\u001b[0m \u001b[1m]\u001b[0m,\n",
       "       \u001b[1m[\u001b[0m\u001b[1;36m-0.06030993\u001b[0m, \u001b[1;36m-0.02332661\u001b[0m,  \u001b[1;36m0.01578423\u001b[0m\u001b[1m]\u001b[0m,\n",
       "       \u001b[33m...\u001b[0m,\n",
       "       \u001b[1m[\u001b[0m\u001b[1;36m-0\u001b[0m.        , \u001b[1;36m-0\u001b[0m.        , \u001b[1;36m-0\u001b[0m.        \u001b[1m]\u001b[0m,\n",
       "       \u001b[1m[\u001b[0m\u001b[1;36m-0\u001b[0m.        , \u001b[1;36m-0\u001b[0m.        , \u001b[1;36m-0\u001b[0m.        \u001b[1m]\u001b[0m,\n",
       "       \u001b[1m[\u001b[0m\u001b[1;36m-0\u001b[0m.        , \u001b[1;36m-0\u001b[0m.        , \u001b[1;36m-0\u001b[0m.        \u001b[1m]\u001b[0m\u001b[1m]\u001b[0m, \u001b[33mdtype\u001b[0m=\u001b[35mfloat32\u001b[0m\u001b[1m)\u001b[0m,\n",
       "    \u001b[33mstress\u001b[0m=\u001b[1;35mArray\u001b[0m\u001b[1m(\u001b[0m\u001b[1m[\u001b[0m\u001b[1m[\u001b[0m\u001b[1m[\u001b[0m\u001b[1;36m-2.22655942e-07\u001b[0m, \u001b[1;36m-9.48521556e-05\u001b[0m,  \u001b[1;36m8.13458674e-03\u001b[0m\u001b[1m]\u001b[0m,\n",
       "        \u001b[1m[\u001b[0m \u001b[1;36m2.05416400e-02\u001b[0m, \u001b[1;36m-4.36771688e-06\u001b[0m,  \u001b[1;36m2.32264139e-02\u001b[0m\u001b[1m]\u001b[0m,\n",
       "        \u001b[1m[\u001b[0m\u001b[1;36m-1.03015006e-02\u001b[0m,  \u001b[1;36m1.66922119e-02\u001b[0m,  \u001b[1;36m9.41874441e-06\u001b[0m\u001b[1m]\u001b[0m\u001b[1m]\u001b[0m,\n",
       "\n",
       "       \u001b[1m[\u001b[0m\u001b[1m[\u001b[0m \u001b[1;36m1.02686502e-01\u001b[0m,  \u001b[1;36m1.30247697e-02\u001b[0m, \u001b[1;36m-3.19257396e-07\u001b[0m\u001b[1m]\u001b[0m,\n",
       "        \u001b[1m[\u001b[0m\u001b[1;36m-1.90200408e-05\u001b[0m,  \u001b[1;36m1.58791348e-01\u001b[0m,  \u001b[1;36m4.10458597e-07\u001b[0m\u001b[1m]\u001b[0m,\n",
       "        \u001b[1m[\u001b[0m\u001b[1;36m-3.85218649e-03\u001b[0m,  \u001b[1;36m1.80985880e-04\u001b[0m,  \u001b[1;36m9.98841077e-02\u001b[0m\u001b[1m]\u001b[0m\u001b[1m]\u001b[0m,\n",
       "\n",
       "       \u001b[1m[\u001b[0m\u001b[1m[\u001b[0m \u001b[1;36m1.88704193e-01\u001b[0m,  \u001b[1;36m8.30019489e-02\u001b[0m,  \u001b[1;36m3.25851403e-02\u001b[0m\u001b[1m]\u001b[0m,\n",
       "        \u001b[1m[\u001b[0m \u001b[1;36m1.08992616e-02\u001b[0m,  \u001b[1;36m1.64678067e-01\u001b[0m,  \u001b[1;36m9.60559472e-02\u001b[0m\u001b[1m]\u001b[0m,\n",
       "        \u001b[1m[\u001b[0m\u001b[1;36m-2.18685921e-02\u001b[0m,  \u001b[1;36m8.87378398e-03\u001b[0m,  \u001b[1;36m1.60506666e-01\u001b[0m\u001b[1m]\u001b[0m\u001b[1m]\u001b[0m,\n",
       "\n",
       "       \u001b[1m[\u001b[0m\u001b[1m[\u001b[0m \u001b[1;36m7.04646036e-02\u001b[0m, \u001b[1;36m-2.79117376e-06\u001b[0m, \u001b[1;36m-6.08987175e-02\u001b[0m\u001b[1m]\u001b[0m,\n",
       "        \u001b[1m[\u001b[0m\u001b[1;36m-2.18033381e-02\u001b[0m,  \u001b[1;36m8.27979669e-02\u001b[0m, \u001b[1;36m-3.08536622e-03\u001b[0m\u001b[1m]\u001b[0m,\n",
       "        \u001b[1m[\u001b[0m \u001b[1;36m2.65767332e-02\u001b[0m,  \u001b[1;36m1.48583176e-02\u001b[0m,  \u001b[1;36m6.80930838e-02\u001b[0m\u001b[1m]\u001b[0m\u001b[1m]\u001b[0m,\n",
       "\n",
       "       \u001b[1m[\u001b[0m\u001b[1m[\u001b[0m\u001b[1;36m-4.74484563e-02\u001b[0m, \u001b[1;36m-3.93856311e-07\u001b[0m, \u001b[1;36m-1.22515488e-07\u001b[0m\u001b[1m]\u001b[0m,\n",
       "        \u001b[1m[\u001b[0m \u001b[1;36m3.22852633e-03\u001b[0m, \u001b[1;36m-4.85338010e-02\u001b[0m, \u001b[1;36m-6.38900325e-04\u001b[0m\u001b[1m]\u001b[0m,\n",
       "        \u001b[1m[\u001b[0m \u001b[1;36m6.18682941e-03\u001b[0m, \u001b[1;36m-8.75263195e-03\u001b[0m, \u001b[1;36m-5.46326600e-02\u001b[0m\u001b[1m]\u001b[0m\u001b[1m]\u001b[0m,\n",
       "\n",
       "       \u001b[1m[\u001b[0m\u001b[1m[\u001b[0m \u001b[1;36m6.57272860e-02\u001b[0m,  \u001b[1;36m3.60090286e-02\u001b[0m,  \u001b[1;36m3.14179249e-02\u001b[0m\u001b[1m]\u001b[0m,\n",
       "        \u001b[1m[\u001b[0m\u001b[1;36m-3.29689942e-02\u001b[0m, \u001b[1;36m-4.37989980e-02\u001b[0m,  \u001b[1;36m1.12848720e-02\u001b[0m\u001b[1m]\u001b[0m,\n",
       "        \u001b[1m[\u001b[0m \u001b[1;36m1.69127118e-02\u001b[0m, \u001b[1;36m-4.60805707e-02\u001b[0m, \u001b[1;36m-4.84949462e-02\u001b[0m\u001b[1m]\u001b[0m\u001b[1m]\u001b[0m,\n",
       "\n",
       "       \u001b[1m[\u001b[0m\u001b[1m[\u001b[0m \u001b[1;36m8.38400647e-02\u001b[0m,  \u001b[1;36m2.48500556e-02\u001b[0m, \u001b[1;36m-4.71323756e-06\u001b[0m\u001b[1m]\u001b[0m,\n",
       "        \u001b[1m[\u001b[0m \u001b[1;36m1.87814818e-03\u001b[0m,  \u001b[1;36m3.02196126e-02\u001b[0m,  \u001b[1;36m1.68295574e-05\u001b[0m\u001b[1m]\u001b[0m,\n",
       "        \u001b[1m[\u001b[0m \u001b[1;36m6.21312283e-05\u001b[0m,  \u001b[1;36m9.88060515e-03\u001b[0m,  \u001b[1;36m2.30680555e-02\u001b[0m\u001b[1m]\u001b[0m\u001b[1m]\u001b[0m,\n",
       "\n",
       "       \u001b[1m[\u001b[0m\u001b[1m[\u001b[0m\u001b[1;36m-1.56299099e-01\u001b[0m,  \u001b[1;36m1.12449599e-03\u001b[0m,  \u001b[1;36m5.17878542e-03\u001b[0m\u001b[1m]\u001b[0m,\n",
       "        \u001b[1m[\u001b[0m\u001b[1;36m-1.81151181e-03\u001b[0m,  \u001b[1;36m1.82502940e-01\u001b[0m, \u001b[1;36m-3.32878204e-04\u001b[0m\u001b[1m]\u001b[0m,\n",
       "        \u001b[1m[\u001b[0m\u001b[1;36m-6.99153310e-03\u001b[0m,  \u001b[1;36m3.82675062e-04\u001b[0m, \u001b[1;36m-1.72882944e-01\u001b[0m\u001b[1m]\u001b[0m\u001b[1m]\u001b[0m,\n",
       "\n",
       "       \u001b[1m[\u001b[0m\u001b[1m[\u001b[0m \u001b[1;36m7.78447017e-02\u001b[0m,  \u001b[1;36m3.99489254e-02\u001b[0m, \u001b[1;36m-7.56177772e-03\u001b[0m\u001b[1m]\u001b[0m,\n",
       "        \u001b[1m[\u001b[0m\u001b[1;36m-1.00136129e-02\u001b[0m,  \u001b[1;36m7.18056038e-02\u001b[0m,  \u001b[1;36m9.42824408e-03\u001b[0m\u001b[1m]\u001b[0m,\n",
       "        \u001b[1m[\u001b[0m\u001b[1;36m-2.69457642e-02\u001b[0m,  \u001b[1;36m1.22054620e-02\u001b[0m,  \u001b[1;36m3.70707251e-02\u001b[0m\u001b[1m]\u001b[0m\u001b[1m]\u001b[0m,\n",
       "\n",
       "       \u001b[1m[\u001b[0m\u001b[1m[\u001b[0m \u001b[1;36m8.28717276e-02\u001b[0m,  \u001b[1;36m6.55063335e-03\u001b[0m,  \u001b[1;36m4.77322424e-03\u001b[0m\u001b[1m]\u001b[0m,\n",
       "        \u001b[1m[\u001b[0m\u001b[1;36m-1.01067722e-02\u001b[0m,  \u001b[1;36m3.57194692e-02\u001b[0m,  \u001b[1;36m2.38220510e-03\u001b[0m\u001b[1m]\u001b[0m,\n",
       "        \u001b[1m[\u001b[0m\u001b[1;36m-4.59036678e-02\u001b[0m,  \u001b[1;36m2.57432517e-02\u001b[0m,  \u001b[1;36m7.62615129e-02\u001b[0m\u001b[1m]\u001b[0m\u001b[1m]\u001b[0m,\n",
       "\n",
       "       \u001b[1m[\u001b[0m\u001b[1m[\u001b[0m \u001b[1;36m6.51782006e-03\u001b[0m, \u001b[1;36m-1.71369509e-04\u001b[0m,  \u001b[1;36m7.85410777e-02\u001b[0m\u001b[1m]\u001b[0m,\n",
       "        \u001b[1m[\u001b[0m \u001b[1;36m4.51084524e-02\u001b[0m, \u001b[1;36m-1.55209287e-04\u001b[0m, \u001b[1;36m-1.74773857e-03\u001b[0m\u001b[1m]\u001b[0m,\n",
       "        \u001b[1m[\u001b[0m\u001b[1;36m-9.02587920e-03\u001b[0m,  \u001b[1;36m5.69561683e-02\u001b[0m, \u001b[1;36m-1.89808008e-04\u001b[0m\u001b[1m]\u001b[0m\u001b[1m]\u001b[0m,\n",
       "\n",
       "       \u001b[1m[\u001b[0m\u001b[1m[\u001b[0m\u001b[1;36m-2.75122970e-02\u001b[0m,  \u001b[1;36m3.27053517e-01\u001b[0m,  \u001b[1;36m1.84386972e-05\u001b[0m\u001b[1m]\u001b[0m,\n",
       "        \u001b[1m[\u001b[0m \u001b[1;36m1.40781021e+00\u001b[0m, \u001b[1;36m-2.53403181e-04\u001b[0m, \u001b[1;36m-8.85406911e-01\u001b[0m\u001b[1m]\u001b[0m,\n",
       "        \u001b[1m[\u001b[0m \u001b[1;36m1.24573708e-05\u001b[0m,  \u001b[1;36m1.92496464e-01\u001b[0m,  \u001b[1;36m1.92900968e+00\u001b[0m\u001b[1m]\u001b[0m\u001b[1m]\u001b[0m,\n",
       "\n",
       "       \u001b[1m[\u001b[0m\u001b[1m[\u001b[0m \u001b[1;36m3.89099114e-05\u001b[0m,  \u001b[1;36m1.17651813e-01\u001b[0m, \u001b[1;36m-3.25199738e-02\u001b[0m\u001b[1m]\u001b[0m,\n",
       "        \u001b[1m[\u001b[0m \u001b[1;36m3.41804698e-05\u001b[0m, \u001b[1;36m-4.64892946e-06\u001b[0m,  \u001b[1;36m7.57326931e-02\u001b[0m\u001b[1m]\u001b[0m,\n",
       "        \u001b[1m[\u001b[0m \u001b[1;36m9.50252041e-02\u001b[0m, \u001b[1;36m-1.37467873e-06\u001b[0m,  \u001b[1;36m1.24766110e-02\u001b[0m\u001b[1m]\u001b[0m\u001b[1m]\u001b[0m,\n",
       "\n",
       "       \u001b[1m[\u001b[0m\u001b[1m[\u001b[0m\u001b[1;36m-3.92699242e-02\u001b[0m,  \u001b[1;36m1.01236998e-04\u001b[0m, \u001b[1;36m-5.85991517e-02\u001b[0m\u001b[1m]\u001b[0m,\n",
       "        \u001b[1m[\u001b[0m\u001b[1;36m-1.91176981e-02\u001b[0m,  \u001b[1;36m1.00425306e-04\u001b[0m,  \u001b[1;36m6.96597574e-03\u001b[0m\u001b[1m]\u001b[0m,\n",
       "        \u001b[1m[\u001b[0m \u001b[1;36m2.70915381e-03\u001b[0m, \u001b[1;36m-9.26985778e-03\u001b[0m, \u001b[1;36m-4.52604172e-06\u001b[0m\u001b[1m]\u001b[0m\u001b[1m]\u001b[0m,\n",
       "\n",
       "       \u001b[1m[\u001b[0m\u001b[1m[\u001b[0m \u001b[1;36m3.93053368e-02\u001b[0m, \u001b[1;36m-2.95183305e-02\u001b[0m, \u001b[1;36m-6.05177879e-03\u001b[0m\u001b[1m]\u001b[0m,\n",
       "        \u001b[1m[\u001b[0m\u001b[1;36m-2.48343516e-02\u001b[0m,  \u001b[1;36m6.67837560e-02\u001b[0m,  \u001b[1;36m7.74569763e-03\u001b[0m\u001b[1m]\u001b[0m,\n",
       "        \u001b[1m[\u001b[0m\u001b[1;36m-3.67674567e-02\u001b[0m,  \u001b[1;36m8.71752668e-03\u001b[0m,  \u001b[1;36m6.09069578e-02\u001b[0m\u001b[1m]\u001b[0m\u001b[1m]\u001b[0m,\n",
       "\n",
       "       \u001b[1m[\u001b[0m\u001b[1m[\u001b[0m \u001b[1;36m2.31441215e-01\u001b[0m, \u001b[1;36m-6.54747114e-02\u001b[0m,  \u001b[1;36m7.85953328e-02\u001b[0m\u001b[1m]\u001b[0m,\n",
       "        \u001b[1m[\u001b[0m\u001b[1;36m-8.91925581e-03\u001b[0m,  \u001b[1;36m3.50404978e-02\u001b[0m,  \u001b[1;36m9.84046329e-03\u001b[0m\u001b[1m]\u001b[0m,\n",
       "        \u001b[1m[\u001b[0m\u001b[1;36m-1.93096828e-02\u001b[0m, \u001b[1;36m-2.95910239e-03\u001b[0m,  \u001b[1;36m4.06377725e-02\u001b[0m\u001b[1m]\u001b[0m\u001b[1m]\u001b[0m,\n",
       "\n",
       "       \u001b[1m[\u001b[0m\u001b[1m[\u001b[0m \u001b[1;36m2.12280914e-01\u001b[0m,  \u001b[1;36m1.22563474e-01\u001b[0m,  \u001b[1;36m2.70910107e-07\u001b[0m\u001b[1m]\u001b[0m,\n",
       "        \u001b[1m[\u001b[0m \u001b[1;36m1.69641808e-07\u001b[0m,  \u001b[1;36m2.44666010e-01\u001b[0m, \u001b[1;36m-1.38184987e-07\u001b[0m\u001b[1m]\u001b[0m,\n",
       "        \u001b[1m[\u001b[0m \u001b[1;36m1.04447827e-06\u001b[0m,  \u001b[1;36m1.12814018e-06\u001b[0m,  \u001b[1;36m1.44040287e-01\u001b[0m\u001b[1m]\u001b[0m\u001b[1m]\u001b[0m,\n",
       "\n",
       "       \u001b[1m[\u001b[0m\u001b[1m[\u001b[0m\u001b[1;36m-4.07664515e-02\u001b[0m, \u001b[1;36m-7.09940940e-02\u001b[0m,  \u001b[1;36m5.25148325e-02\u001b[0m\u001b[1m]\u001b[0m,\n",
       "        \u001b[1m[\u001b[0m \u001b[1;36m3.78540196e-02\u001b[0m, \u001b[1;36m-1.77260842e-02\u001b[0m,  \u001b[1;36m4.63169590e-02\u001b[0m\u001b[1m]\u001b[0m,\n",
       "        \u001b[1m[\u001b[0m\u001b[1;36m-1.36345869e-03\u001b[0m, \u001b[1;36m-3.69577599e-03\u001b[0m,  \u001b[1;36m2.39974409e-01\u001b[0m\u001b[1m]\u001b[0m\u001b[1m]\u001b[0m,\n",
       "\n",
       "       \u001b[1m[\u001b[0m\u001b[1m[\u001b[0m\u001b[1;36m-4.90214936e-02\u001b[0m, \u001b[1;36m-3.88240777e-02\u001b[0m, \u001b[1;36m-5.02968095e-02\u001b[0m\u001b[1m]\u001b[0m,\n",
       "        \u001b[1m[\u001b[0m\u001b[1;36m-2.70357658e-03\u001b[0m,  \u001b[1;36m3.48350704e-02\u001b[0m,  \u001b[1;36m1.35686640e-02\u001b[0m\u001b[1m]\u001b[0m,\n",
       "        \u001b[1m[\u001b[0m \u001b[1;36m4.59969370e-03\u001b[0m,  \u001b[1;36m8.73341560e-02\u001b[0m, \u001b[1;36m-2.08571199e-02\u001b[0m\u001b[1m]\u001b[0m\u001b[1m]\u001b[0m,\n",
       "\n",
       "       \u001b[1m[\u001b[0m\u001b[1m[\u001b[0m\u001b[1;36m-1.69824567e-02\u001b[0m, \u001b[1;36m-2.22338349e-01\u001b[0m, \u001b[1;36m-2.29477891e-07\u001b[0m\u001b[1m]\u001b[0m,\n",
       "        \u001b[1m[\u001b[0m\u001b[1;36m-1.96492642e-01\u001b[0m, \u001b[1;36m-4.33192326e-07\u001b[0m, \u001b[1;36m-5.10927811e-02\u001b[0m\u001b[1m]\u001b[0m,\n",
       "        \u001b[1m[\u001b[0m\u001b[1;36m-3.31019014e-02\u001b[0m,  \u001b[1;36m8.42820725e-07\u001b[0m, \u001b[1;36m-1.19288638e-01\u001b[0m\u001b[1m]\u001b[0m\u001b[1m]\u001b[0m,\n",
       "\n",
       "       \u001b[1m[\u001b[0m\u001b[1m[\u001b[0m \u001b[1;36m2.02092171e-01\u001b[0m, \u001b[1;36m-1.13509600e-06\u001b[0m, \u001b[1;36m-2.28763802e-05\u001b[0m\u001b[1m]\u001b[0m,\n",
       "        \u001b[1m[\u001b[0m\u001b[1;36m-6.92012161e-03\u001b[0m,  \u001b[1;36m2.09705666e-01\u001b[0m, \u001b[1;36m-1.34371226e-06\u001b[0m\u001b[1m]\u001b[0m,\n",
       "        \u001b[1m[\u001b[0m \u001b[1;36m4.81910026e-03\u001b[0m, \u001b[1;36m-1.67256803e-06\u001b[0m,  \u001b[1;36m3.34614180e-02\u001b[0m\u001b[1m]\u001b[0m\u001b[1m]\u001b[0m,\n",
       "\n",
       "       \u001b[1m[\u001b[0m\u001b[1m[\u001b[0m\u001b[1;36m-2.50504351e+00\u001b[0m,  \u001b[1;36m1.44523144e+00\u001b[0m,  \u001b[1;36m1.02092946e+00\u001b[0m\u001b[1m]\u001b[0m,\n",
       "        \u001b[1m[\u001b[0m \u001b[1;36m3.24667688e-03\u001b[0m, \u001b[1;36m-2.87667060e+00\u001b[0m,  \u001b[1;36m1.01430476e+00\u001b[0m\u001b[1m]\u001b[0m,\n",
       "        \u001b[1m[\u001b[0m \u001b[1;36m3.24535370e-03\u001b[0m, \u001b[1;36m-2.91172857e-03\u001b[0m, \u001b[1;36m-3.05010414e+00\u001b[0m\u001b[1m]\u001b[0m\u001b[1m]\u001b[0m,\n",
       "\n",
       "       \u001b[1m[\u001b[0m\u001b[1m[\u001b[0m \u001b[1;36m1.04246043e-01\u001b[0m,  \u001b[1;36m1.62413772e-02\u001b[0m,  \u001b[1;36m5.29018939e-02\u001b[0m\u001b[1m]\u001b[0m,\n",
       "        \u001b[1m[\u001b[0m \u001b[1;36m1.13981906e-02\u001b[0m,  \u001b[1;36m1.04883745e-01\u001b[0m,  \u001b[1;36m5.29002845e-02\u001b[0m\u001b[1m]\u001b[0m,\n",
       "        \u001b[1m[\u001b[0m \u001b[1;36m2.49475632e-02\u001b[0m,  \u001b[1;36m2.61306521e-02\u001b[0m,  \u001b[1;36m1.15862884e-01\u001b[0m\u001b[1m]\u001b[0m\u001b[1m]\u001b[0m,\n",
       "\n",
       "       \u001b[1m[\u001b[0m\u001b[1m[\u001b[0m \u001b[1;36m3.80488008e-01\u001b[0m, \u001b[1;36m-1.34919599e-01\u001b[0m,  \u001b[1;36m1.03543345e-02\u001b[0m\u001b[1m]\u001b[0m,\n",
       "        \u001b[1m[\u001b[0m \u001b[1;36m4.10517771e-03\u001b[0m,  \u001b[1;36m4.03988361e-01\u001b[0m,  \u001b[1;36m4.73593408e-03\u001b[0m\u001b[1m]\u001b[0m,\n",
       "        \u001b[1m[\u001b[0m\u001b[1;36m-1.92975625e-01\u001b[0m, \u001b[1;36m-1.34120554e-01\u001b[0m,  \u001b[1;36m3.34712744e-01\u001b[0m\u001b[1m]\u001b[0m\u001b[1m]\u001b[0m,\n",
       "\n",
       "       \u001b[1m[\u001b[0m\u001b[1m[\u001b[0m \u001b[1;36m1.89823359e-01\u001b[0m,  \u001b[1;36m2.07674026e-01\u001b[0m,  \u001b[1;36m4.37701233e-02\u001b[0m\u001b[1m]\u001b[0m,\n",
       "        \u001b[1m[\u001b[0m\u001b[1;36m-8.41038860e-03\u001b[0m,  \u001b[1;36m1.85594231e-01\u001b[0m,  \u001b[1;36m7.25672022e-02\u001b[0m\u001b[1m]\u001b[0m,\n",
       "        \u001b[1m[\u001b[0m\u001b[1;36m-3.15171288e-04\u001b[0m, \u001b[1;36m-2.10015758e-04\u001b[0m,  \u001b[1;36m1.45183086e-01\u001b[0m\u001b[1m]\u001b[0m\u001b[1m]\u001b[0m,\n",
       "\n",
       "       \u001b[1m[\u001b[0m\u001b[1m[\u001b[0m\u001b[1;36m-3.57680291e-01\u001b[0m, \u001b[1;36m-2.06469759e-01\u001b[0m,  \u001b[1;36m1.48050608e-02\u001b[0m\u001b[1m]\u001b[0m,\n",
       "        \u001b[1m[\u001b[0m\u001b[1;36m-3.57440323e-01\u001b[0m,  \u001b[1;36m2.06346825e-01\u001b[0m, \u001b[1;36m-1.47702722e-02\u001b[0m\u001b[1m]\u001b[0m,\n",
       "        \u001b[1m[\u001b[0m\u001b[1;36m-1.17847310e-06\u001b[0m,  \u001b[1;36m5.52110687e-05\u001b[0m, \u001b[1;36m-1.18449114e-01\u001b[0m\u001b[1m]\u001b[0m\u001b[1m]\u001b[0m,\n",
       "\n",
       "       \u001b[1m[\u001b[0m\u001b[1m[\u001b[0m\u001b[1;36m-1.95660457e-01\u001b[0m, \u001b[1;36m-2.15227303e-08\u001b[0m, \u001b[1;36m-1.12969518e-01\u001b[0m\u001b[1m]\u001b[0m,\n",
       "        \u001b[1m[\u001b[0m \u001b[1;36m0.00000000e+00\u001b[0m,  \u001b[1;36m0.00000000e+00\u001b[0m,  \u001b[1;36m0.00000000e+00\u001b[0m\u001b[1m]\u001b[0m,\n",
       "        \u001b[1m[\u001b[0m \u001b[1;36m0.00000000e+00\u001b[0m,  \u001b[1;36m0.00000000e+00\u001b[0m,  \u001b[1;36m0.00000000e+00\u001b[0m\u001b[1m]\u001b[0m\u001b[1m]\u001b[0m,\n",
       "\n",
       "       \u001b[1m[\u001b[0m\u001b[1m[\u001b[0m\u001b[1;36m-3.69878501e-01\u001b[0m,  \u001b[1;36m1.16389981e-06\u001b[0m, \u001b[1;36m-2.15115428e-01\u001b[0m\u001b[1m]\u001b[0m,\n",
       "        \u001b[1m[\u001b[0m \u001b[1;36m0.00000000e+00\u001b[0m,  \u001b[1;36m0.00000000e+00\u001b[0m,  \u001b[1;36m0.00000000e+00\u001b[0m\u001b[1m]\u001b[0m,\n",
       "        \u001b[1m[\u001b[0m \u001b[1;36m0.00000000e+00\u001b[0m,  \u001b[1;36m0.00000000e+00\u001b[0m,  \u001b[1;36m0.00000000e+00\u001b[0m\u001b[1m]\u001b[0m\u001b[1m]\u001b[0m,\n",
       "\n",
       "       \u001b[1m[\u001b[0m\u001b[1m[\u001b[0m\u001b[1;36m-3.33517753e-02\u001b[0m,  \u001b[1;36m2.42889877e-02\u001b[0m,  \u001b[1;36m1.76201221e-02\u001b[0m\u001b[1m]\u001b[0m,\n",
       "        \u001b[1m[\u001b[0m \u001b[1;36m9.68575531e-09\u001b[0m, \u001b[1;36m-4.85779606e-02\u001b[0m,  \u001b[1;36m1.95577754e-09\u001b[0m\u001b[1m]\u001b[0m,\n",
       "        \u001b[1m[\u001b[0m \u001b[1;36m1.03161233e-02\u001b[0m, \u001b[1;36m-9.99148507e-12\u001b[0m, \u001b[1;36m-4.74890321e-02\u001b[0m\u001b[1m]\u001b[0m\u001b[1m]\u001b[0m,\n",
       "\n",
       "       \u001b[1m[\u001b[0m\u001b[1m[\u001b[0m\u001b[1;36m-4.99668121e-01\u001b[0m, \u001b[1;36m-4.91034768e-10\u001b[0m, \u001b[1;36m-1.08542241e-01\u001b[0m\u001b[1m]\u001b[0m,\n",
       "        \u001b[1m[\u001b[0m \u001b[1;36m0.00000000e+00\u001b[0m,  \u001b[1;36m0.00000000e+00\u001b[0m,  \u001b[1;36m0.00000000e+00\u001b[0m\u001b[1m]\u001b[0m,\n",
       "        \u001b[1m[\u001b[0m \u001b[1;36m0.00000000e+00\u001b[0m,  \u001b[1;36m0.00000000e+00\u001b[0m,  \u001b[1;36m0.00000000e+00\u001b[0m\u001b[1m]\u001b[0m\u001b[1m]\u001b[0m,\n",
       "\n",
       "       \u001b[1m[\u001b[0m\u001b[1m[\u001b[0m \u001b[1;36m0.00000000e+00\u001b[0m,  \u001b[1;36m0.00000000e+00\u001b[0m,  \u001b[1;36m0.00000000e+00\u001b[0m\u001b[1m]\u001b[0m,\n",
       "        \u001b[1m[\u001b[0m \u001b[1;36m0.00000000e+00\u001b[0m,  \u001b[1;36m0.00000000e+00\u001b[0m,  \u001b[1;36m0.00000000e+00\u001b[0m\u001b[1m]\u001b[0m,\n",
       "        \u001b[1m[\u001b[0m \u001b[1;36m0.00000000e+00\u001b[0m,  \u001b[1;36m0.00000000e+00\u001b[0m,  \u001b[1;36m0.00000000e+00\u001b[0m\u001b[1m]\u001b[0m\u001b[1m]\u001b[0m,\n",
       "\n",
       "       \u001b[1m[\u001b[0m\u001b[1m[\u001b[0m \u001b[1;36m0.00000000e+00\u001b[0m,  \u001b[1;36m0.00000000e+00\u001b[0m,  \u001b[1;36m0.00000000e+00\u001b[0m\u001b[1m]\u001b[0m,\n",
       "        \u001b[1m[\u001b[0m \u001b[1;36m0.00000000e+00\u001b[0m,  \u001b[1;36m0.00000000e+00\u001b[0m,  \u001b[1;36m0.00000000e+00\u001b[0m\u001b[1m]\u001b[0m,\n",
       "        \u001b[1m[\u001b[0m \u001b[1;36m0.00000000e+00\u001b[0m,  \u001b[1;36m0.00000000e+00\u001b[0m,  \u001b[1;36m0.00000000e+00\u001b[0m\u001b[1m]\u001b[0m\u001b[1m]\u001b[0m\u001b[1m]\u001b[0m,      \u001b[33mdtype\u001b[0m=\u001b[35mfloat32\u001b[0m\u001b[1m)\u001b[0m\n",
       "\u001b[1m)\u001b[0m"
      ]
     },
     "execution_count": 33,
     "metadata": {},
     "output_type": "execute_result"
    }
   ],
   "source": [
    "from facet.layers import Context\n",
    "from facet.regression import EFSWrapper\n",
    "ctx = Context(training=False)\n",
    "\n",
    "raw_params = ckpt['state']['params']\n",
    "ema_params = ckpt['state']['opt_state'][2]['ema']\n",
    "\n",
    "out = EFSWrapper()(model.apply, ema_params, cg=cg, ctx=ctx)\n",
    "out"
   ]
  },
  {
   "cell_type": "code",
   "execution_count": 44,
   "metadata": {},
   "outputs": [
    {
     "name": "stdout",
     "output_type": "stream",
     "text": [
      "force\t0.12164566\t0.21452071\n",
      "energy\t0.17639449\t5.58088\n",
      "stress\t14.610129\t14.563433\n"
     ]
    }
   ],
   "source": [
    "from ase import units as U\n",
    "\n",
    "\n",
    "\n",
    "node_pad = cg.node_pad\n",
    "f = cg.target_data.force[node_pad].reshape(-1, 3)\n",
    "fhat = out.force[node_pad].reshape(-1, 3)\n",
    "e = cg.target_data.e_form[cg.padding_mask].reshape(-1)\n",
    "ehat = out.energy[cg.padding_mask].reshape(-1)\n",
    "s = cg.target_data.stress[cg.padding_mask]\n",
    "shat = out.stress[cg.padding_mask]\n",
    "\n",
    "def l1_loss(x, y: jax.Array | int = 0):\n",
    "    return jnp.mean(jnp.abs(x - y))\n",
    "\n",
    "def med_ae(x, y: jax.Array | int = 0):\n",
    "    return jnp.median(jnp.abs(x - y).reshape(-1))\n",
    "\n",
    "print('force', l1_loss(fhat, f), l1_loss(f), sep='\\t')\n",
    "print('energy', l1_loss(ehat, e), l1_loss(e), sep='\\t')\n",
    "print('stress', l1_loss(shat, s), l1_loss(s), sep='\\t')"
   ]
  },
  {
   "cell_type": "code",
   "execution_count": 35,
   "metadata": {},
   "outputs": [],
   "source": [
    "def energy_fn(cart, lat):\n",
    "    energy = model.apply(\n",
    "        ema_params,\n",
    "        cg.replace(\n",
    "            nodes=cg.nodes.replace(cart=cart), graph_data=cg.graph_data.replace(lat=lat)\n",
    "        ),\n",
    "        ctx=ctx\n",
    "    )\n",
    "    return jnp.sum(energy, where=cg.padding_mask), energy\n",
    "\n",
    "\n",
    "(fgrad, sgrad), energy = jax.grad(energy_fn, argnums=(0, 1), has_aux=True)(\n",
    "    cg.nodes.cart, cg.graph_data.lat\n",
    ")"
   ]
  },
  {
   "cell_type": "code",
   "execution_count": 36,
   "metadata": {},
   "outputs": [],
   "source": [
    "import e3nn_jax as e3nn\n",
    "det = jax.vmap(jnp.linalg.det)(cg.graph_data.lat)[:, None, None]  # [n_graphs, 1, 1]\n",
    "det = jnp.where(det > 0.0, det, 1.0)  # dummy graphs have det = 0\n",
    "\n",
    "minus_forces = fgrad\n",
    "pseudo_stress = sgrad\n",
    "\n",
    "stress_cell = (\n",
    "    jnp.transpose(pseudo_stress, (0, 2, 1)) @ cg.graph_data.lat\n",
    ")  # [n_graphs, 3, 3]\n",
    "stress_forces = e3nn.scatter_sum(\n",
    "    jnp.einsum(\"iu,iv->iuv\", minus_forces, cg.nodes.cart),\n",
    "    nel=cg.n_node,\n",
    ")  # [n_graphs, 3, 3]\n",
    "viriel = stress_cell + stress_forces  # NOTE: sign suggested by Ilyes Batatia\n",
    "stress = -1.0 / det * viriel\n",
    "stress = stress[cg.padding_mask]"
   ]
  },
  {
   "cell_type": "code",
   "execution_count": 46,
   "metadata": {},
   "outputs": [
    {
     "data": {
      "text/html": [
       "<pre style=\"white-space:pre;overflow-x:auto;line-height:normal;font-family:Menlo,'DejaVu Sans Mono',consolas,'Courier New',monospace\"></pre>\n"
      ],
      "text/plain": []
     },
     "metadata": {},
     "output_type": "display_data"
    },
    {
     "data": {
      "text/plain": [
       "\u001b[1m(\u001b[0m\u001b[1;35mArray\u001b[0m\u001b[1m(\u001b[0m\u001b[1;36m0.34281254\u001b[0m, \u001b[33mdtype\u001b[0m=\u001b[35mfloat32\u001b[0m\u001b[1m)\u001b[0m, \u001b[1;35mArray\u001b[0m\u001b[1m(\u001b[0m\u001b[1;36m0.34226674\u001b[0m, \u001b[33mdtype\u001b[0m=\u001b[35mfloat32\u001b[0m\u001b[1m)\u001b[0m\u001b[1m)\u001b[0m"
      ]
     },
     "execution_count": 46,
     "metadata": {},
     "output_type": "execute_result"
    }
   ],
   "source": [
    "med_ae(stress, s), med_ae(s)"
   ]
  },
  {
   "cell_type": "code",
   "execution_count": 42,
   "metadata": {},
   "outputs": [
    {
     "name": "stdout",
     "output_type": "stream",
     "text": [
      "0.44785944\n"
     ]
    },
    {
     "data": {
      "text/html": [
       "<pre style=\"white-space:pre;overflow-x:auto;line-height:normal;font-family:Menlo,'DejaVu Sans Mono',consolas,'Courier New',monospace\"></pre>\n"
      ],
      "text/plain": []
     },
     "metadata": {},
     "output_type": "display_data"
    },
    {
     "data": {
      "text/plain": [
       "\u001b[1m<\u001b[0m\u001b[1;95mseaborn.axisgrid.FacetGrid\u001b[0m\u001b[39m object at \u001b[0m\u001b[1;36m0x768d8fefe810\u001b[0m\u001b[1m>\u001b[0m"
      ]
     },
     "execution_count": 42,
     "metadata": {},
     "output_type": "execute_result"
    },
    {
     "data": {
      "text/html": [
       "<pre style=\"white-space:pre;overflow-x:auto;line-height:normal;font-family:Menlo,'DejaVu Sans Mono',consolas,'Courier New',monospace\"></pre>\n"
      ],
      "text/plain": []
     },
     "metadata": {},
     "output_type": "display_data"
    },
    {
     "data": {
      "image/png": "[encoded data removed]",
      "text/plain": [
       "\u001b[1m<\u001b[0m\u001b[1;95mFigure\u001b[0m\u001b[39m size 50\u001b[0m\u001b[1;36m0x500\u001b[0m\u001b[39m with \u001b[0m\u001b[1;36m1\u001b[0m\u001b[39m Axes\u001b[0m\u001b[1m>\u001b[0m"
      ]
     },
     "metadata": {},
     "output_type": "display_data"
    }
   ],
   "source": [
    "@jax.vmap\n",
    "def cos_dist(x1, x2):\n",
    "    return jnp.dot(x1, x2) / jnp.sqrt(jnp.dot(x1, x1) * jnp.dot(x2, x2) + 1e-10)\n",
    "\n",
    "fdist = cos_dist(f, fhat)\n",
    "print(fdist.mean())\n",
    "sns.displot(fdist)"
   ]
  },
  {
   "cell_type": "code",
   "execution_count": 31,
   "metadata": {},
   "outputs": [
    {
     "data": {
      "text/html": [
       "<pre style=\"white-space:pre;overflow-x:auto;line-height:normal;font-family:Menlo,'DejaVu Sans Mono',consolas,'Courier New',monospace\"></pre>\n"
      ],
      "text/plain": []
     },
     "metadata": {},
     "output_type": "display_data"
    },
    {
     "data": {
      "text/plain": [
       "\u001b[1m<\u001b[0m\u001b[1;95mmatplotlib.lines.AxLine\u001b[0m\u001b[39m object at \u001b[0m\u001b[1;36m0x768d9d276f90\u001b[0m\u001b[1m>\u001b[0m"
      ]
     },
     "execution_count": 31,
     "metadata": {},
     "output_type": "execute_result"
    },
    {
     "data": {
      "text/html": [
       "<pre style=\"white-space:pre;overflow-x:auto;line-height:normal;font-family:Menlo,'DejaVu Sans Mono',consolas,'Courier New',monospace\"></pre>\n"
      ],
      "text/plain": []
     },
     "metadata": {},
     "output_type": "display_data"
    },
    {
     "data": {
      "image/png": "[encoded data removed]",
      "text/plain": [
       "\u001b[1m<\u001b[0m\u001b[1;95mFigure\u001b[0m\u001b[39m size 80\u001b[0m\u001b[1;36m0x600\u001b[0m\u001b[39m with \u001b[0m\u001b[1;36m1\u001b[0m\u001b[39m Axes\u001b[0m\u001b[1m>\u001b[0m"
      ]
     },
     "metadata": {},
     "output_type": "display_data"
    }
   ],
   "source": [
    "sns.scatterplot(x=ehat, y=e, hue=cg.n_node[cg.padding_mask], palette='rho_sequential', ec=None)\n",
    "plt.axline((0, 0), slope=1, lw=0.2)"
   ]
  },
  {
   "cell_type": "code",
   "execution_count": 50,
   "metadata": {},
   "outputs": [
    {
     "data": {
      "text/html": [
       "<pre style=\"white-space:pre;overflow-x:auto;line-height:normal;font-family:Menlo,'DejaVu Sans Mono',consolas,'Courier New',monospace\"></pre>\n"
      ],
      "text/plain": []
     },
     "metadata": {},
     "output_type": "display_data"
    },
    {
     "data": {
      "text/plain": [
       "\u001b[1m<\u001b[0m\u001b[1;95mseaborn.axisgrid.FacetGrid\u001b[0m\u001b[39m object at \u001b[0m\u001b[1;36m0x768d8fc85490\u001b[0m\u001b[1m>\u001b[0m"
      ]
     },
     "execution_count": 50,
     "metadata": {},
     "output_type": "execute_result"
    },
    {
     "data": {
      "text/html": [
       "<pre style=\"white-space:pre;overflow-x:auto;line-height:normal;font-family:Menlo,'DejaVu Sans Mono',consolas,'Courier New',monospace\"></pre>\n"
      ],
      "text/plain": []
     },
     "metadata": {},
     "output_type": "display_data"
    },
    {
     "data": {
      "image/png": "[encoded data removed]",
      "text/plain": [
       "\u001b[1m<\u001b[0m\u001b[1;95mFigure\u001b[0m\u001b[39m size 50\u001b[0m\u001b[1;36m0x500\u001b[0m\u001b[39m with \u001b[0m\u001b[1;36m1\u001b[0m\u001b[39m Axes\u001b[0m\u001b[1m>\u001b[0m"
      ]
     },
     "metadata": {},
     "output_type": "display_data"
    }
   ],
   "source": [
    "fdiff = f - fhat\n",
    "fdnorm = jnp.linalg.vector_norm(fdiff, axis=1)\n",
    "\n",
    "mask = jnp.abs(fdnorm) < 0.1\n",
    "sns.displot(x=f[mask].reshape(-1), y=fhat[mask].reshape(-1))"
   ]
  },
  {
   "cell_type": "code",
   "execution_count": 52,
   "metadata": {},
   "outputs": [
    {
     "data": {
      "text/html": [
       "<pre style=\"white-space:pre;overflow-x:auto;line-height:normal;font-family:Menlo,'DejaVu Sans Mono',consolas,'Courier New',monospace\"></pre>\n"
      ],
      "text/plain": []
     },
     "metadata": {},
     "output_type": "display_data"
    },
    {
     "data": {
      "text/plain": [
       "\u001b[1m<\u001b[0m\u001b[1;95mseaborn.axisgrid.FacetGrid\u001b[0m\u001b[39m object at \u001b[0m\u001b[1;36m0x768d8cd57170\u001b[0m\u001b[1m>\u001b[0m"
      ]
     },
     "execution_count": 52,
     "metadata": {},
     "output_type": "execute_result"
    },
    {
     "data": {
      "text/html": [
       "<pre style=\"white-space:pre;overflow-x:auto;line-height:normal;font-family:Menlo,'DejaVu Sans Mono',consolas,'Courier New',monospace\"></pre>\n"
      ],
      "text/plain": []
     },
     "metadata": {},
     "output_type": "display_data"
    },
    {
     "data": {
      "image/png": "[encoded data removed]",
      "text/plain": [
       "\u001b[1m<\u001b[0m\u001b[1;95mFigure\u001b[0m\u001b[39m size 50\u001b[0m\u001b[1;36m0x500\u001b[0m\u001b[39m with \u001b[0m\u001b[1;36m1\u001b[0m\u001b[39m Axes\u001b[0m\u001b[1m>\u001b[0m"
      ]
     },
     "metadata": {},
     "output_type": "display_data"
    },
    {
     "data": {
      "text/html": [
       "<pre style=\"white-space:pre;overflow-x:auto;line-height:normal;font-family:Menlo,'DejaVu Sans Mono',consolas,'Courier New',monospace\"></pre>\n"
      ],
      "text/plain": []
     },
     "metadata": {},
     "output_type": "display_data"
    },
    {
     "data": {
      "image/png": "[encoded data removed]",
      "text/plain": [
       "\u001b[1m<\u001b[0m\u001b[1;95mFigure\u001b[0m\u001b[39m size 50\u001b[0m\u001b[1;36m0x500\u001b[0m\u001b[39m with \u001b[0m\u001b[1;36m1\u001b[0m\u001b[39m Axes\u001b[0m\u001b[1m>\u001b[0m"
      ]
     },
     "metadata": {},
     "output_type": "display_data"
    }
   ],
   "source": [
    "sns.displot(f.reshape(-1))\n",
    "\n",
    "sns.displot(fhat.reshape(-1))"
   ]
  },
  {
   "cell_type": "code",
   "execution_count": 9,
   "metadata": {},
   "outputs": [
    {
     "data": {
      "text/html": [
       "<pre style=\"white-space:pre;overflow-x:auto;line-height:normal;font-family:Menlo,'DejaVu Sans Mono',consolas,'Courier New',monospace\"></pre>\n"
      ],
      "text/plain": []
     },
     "metadata": {},
     "output_type": "display_data"
    },
    {
     "data": {
      "text/plain": [
       "\u001b[1;35mArray\u001b[0m\u001b[1m(\u001b[0m\u001b[1;36m0.04981579\u001b[0m, \u001b[33mdtype\u001b[0m=\u001b[35mfloat32\u001b[0m\u001b[1m)\u001b[0m"
      ]
     },
     "execution_count": 9,
     "metadata": {},
     "output_type": "execute_result"
    }
   ],
   "source": [
    "l1_loss(f)"
   ]
  },
  {
   "cell_type": "code",
   "execution_count": 87,
   "metadata": {},
   "outputs": [
    {
     "data": {
      "text/html": [
       "<pre style=\"white-space:pre;overflow-x:auto;line-height:normal;font-family:Menlo,'DejaVu Sans Mono',consolas,'Courier New',monospace\"></pre>\n"
      ],
      "text/plain": []
     },
     "metadata": {},
     "output_type": "display_data"
    },
    {
     "data": {
      "text/plain": [
       "\n",
       "\u001b[1;35mArray\u001b[0m\u001b[1m(\u001b[0m\u001b[1m[\u001b[0m\u001b[1m[\u001b[0m\u001b[1;36m-0.10890532\u001b[0m,  \u001b[1;36m0.00817202\u001b[0m, \u001b[1;36m-0.03942756\u001b[0m\u001b[1m]\u001b[0m,\n",
       "       \u001b[1m[\u001b[0m\u001b[1;36m-0.01127376\u001b[0m,  \u001b[1;36m0.18733723\u001b[0m, \u001b[1;36m-0.05919498\u001b[0m\u001b[1m]\u001b[0m,\n",
       "       \u001b[1m[\u001b[0m \u001b[1;36m0.02392958\u001b[0m, \u001b[1;36m-0.00932203\u001b[0m,  \u001b[1;36m0.14120552\u001b[0m\u001b[1m]\u001b[0m\u001b[1m]\u001b[0m, \u001b[33mdtype\u001b[0m=\u001b[35mfloat32\u001b[0m\u001b[1m)\u001b[0m"
      ]
     },
     "execution_count": 87,
     "metadata": {},
     "output_type": "execute_result"
    }
   ],
   "source": [
    "vol = jnp.linalg.det(cg.graph_data.lat[1])\n",
    "(-shat[1]) * cg.n_node[1]"
   ]
  },
  {
   "cell_type": "code",
   "execution_count": 92,
   "metadata": {},
   "outputs": [
    {
     "data": {
      "text/html": [
       "<pre style=\"white-space:pre;overflow-x:auto;line-height:normal;font-family:Menlo,'DejaVu Sans Mono',consolas,'Courier New',monospace\"></pre>\n"
      ],
      "text/plain": []
     },
     "metadata": {},
     "output_type": "display_data"
    },
    {
     "data": {
      "text/plain": [
       "\n",
       "\u001b[1;35mArray\u001b[0m\u001b[1m(\u001b[0m\u001b[1m[\u001b[0m\u001b[1m[\u001b[0m\u001b[1;36m-0.60424715\u001b[0m,  \u001b[1;36m0\u001b[0m.        ,  \u001b[1;36m0\u001b[0m.        \u001b[1m]\u001b[0m,\n",
       "       \u001b[1m[\u001b[0m\u001b[1;36m-0\u001b[0m.        , \u001b[1;36m-0.60424715\u001b[0m, \u001b[1;36m-0\u001b[0m.        \u001b[1m]\u001b[0m,\n",
       "       \u001b[1m[\u001b[0m \u001b[1;36m0\u001b[0m.        , \u001b[1;36m-0\u001b[0m.        , \u001b[1;36m-0.60424715\u001b[0m\u001b[1m]\u001b[0m\u001b[1m]\u001b[0m, \u001b[33mdtype\u001b[0m=\u001b[35mfloat32\u001b[0m\u001b[1m)\u001b[0m"
      ]
     },
     "execution_count": 92,
     "metadata": {},
     "output_type": "execute_result"
    }
   ],
   "source": [
    "s[0]"
   ]
  },
  {
   "cell_type": "code",
   "execution_count": 115,
   "metadata": {},
   "outputs": [
    {
     "data": {
      "text/html": [
       "<pre style=\"white-space:pre;overflow-x:auto;line-height:normal;font-family:Menlo,'DejaVu Sans Mono',consolas,'Courier New',monospace\"></pre>\n"
      ],
      "text/plain": []
     },
     "metadata": {},
     "output_type": "display_data"
    },
    {
     "data": {
      "text/plain": [
       "\u001b[1;35mArray\u001b[0m\u001b[1m(\u001b[0m\u001b[1;36m2.8824584\u001b[0m, \u001b[33mdtype\u001b[0m=\u001b[35mfloat32\u001b[0m\u001b[1m)\u001b[0m"
      ]
     },
     "execution_count": 115,
     "metadata": {},
     "output_type": "execute_result"
    }
   ],
   "source": [
    "import e3nn_jax as e3nn\n",
    "s_forces = e3nn.scatter_sum(\n",
    "    jnp.einsum(\"iu,iv->iuv\", -out.force, cg.nodes.cart),\n",
    "    nel=cg.n_node,\n",
    ")\n",
    "\n",
    "vols = jnp.linalg.det(cg.graph_data.lat[cg.padding_mask])[:, None, None]\n",
    "\n",
    "shat2 = (-0.1 * (s_forces[cg.padding_mask] - shat))\n",
    "\n",
    "l1_loss(shat2, s)"
   ]
  },
  {
   "cell_type": "code",
   "execution_count": 111,
   "metadata": {},
   "outputs": [
    {
     "data": {
      "text/html": [
       "<pre style=\"white-space:pre;overflow-x:auto;line-height:normal;font-family:Menlo,'DejaVu Sans Mono',consolas,'Courier New',monospace\"></pre>\n"
      ],
      "text/plain": []
     },
     "metadata": {},
     "output_type": "display_data"
    },
    {
     "data": {
      "text/plain": [
       "\n",
       "\u001b[1;35mArray\u001b[0m\u001b[1m(\u001b[0m\u001b[1m[\u001b[0m\u001b[1m[\u001b[0m\u001b[1m[\u001b[0m\u001b[1;36m-6.82180226e-01\u001b[0m,  \u001b[1;36m5.21102250e-02\u001b[0m, \u001b[1;36m-1.55381334e-04\u001b[0m\u001b[1m]\u001b[0m,\n",
       "        \u001b[1m[\u001b[0m \u001b[1;36m7.86673103e-04\u001b[0m, \u001b[1;36m-6.93698823e-01\u001b[0m,  \u001b[1;36m1.54064153e-04\u001b[0m\u001b[1m]\u001b[0m,\n",
       "        \u001b[1m[\u001b[0m\u001b[1;36m-2.03943625e-02\u001b[0m, \u001b[1;36m-1.98779013e-02\u001b[0m, \u001b[1;36m-7.25386918e-01\u001b[0m\u001b[1m]\u001b[0m\u001b[1m]\u001b[0m,\n",
       "\n",
       "       \u001b[1m[\u001b[0m\u001b[1m[\u001b[0m\u001b[1;36m-3.64974514e-02\u001b[0m, \u001b[1;36m-1.59305617e-01\u001b[0m,  \u001b[1;36m1.03405789e-02\u001b[0m\u001b[1m]\u001b[0m,\n",
       "        \u001b[1m[\u001b[0m \u001b[1;36m4.09099227e-03\u001b[0m,  \u001b[1;36m1.42291594e+00\u001b[0m, \u001b[1;36m-2.72516429e-01\u001b[0m\u001b[1m]\u001b[0m,\n",
       "        \u001b[1m[\u001b[0m\u001b[1;36m-5.24951458e-01\u001b[0m, \u001b[1;36m-6.91891611e-01\u001b[0m,  \u001b[1;36m9.62256253e-01\u001b[0m\u001b[1m]\u001b[0m\u001b[1m]\u001b[0m,\n",
       "\n",
       "       \u001b[1m[\u001b[0m\u001b[1m[\u001b[0m\u001b[1;36m-5.04558861e-01\u001b[0m,  \u001b[1;36m7.28574872e-01\u001b[0m,  \u001b[1;36m1.82530209e-01\u001b[0m\u001b[1m]\u001b[0m,\n",
       "        \u001b[1m[\u001b[0m \u001b[1;36m2.07458183e-01\u001b[0m, \u001b[1;36m-1.00633371e+00\u001b[0m,  \u001b[1;36m1.20740972e-01\u001b[0m\u001b[1m]\u001b[0m,\n",
       "        \u001b[1m[\u001b[0m \u001b[1;36m2.94208616e-01\u001b[0m,  \u001b[1;36m5.05794048e-01\u001b[0m,  \u001b[1;36m4.97382075e-01\u001b[0m\u001b[1m]\u001b[0m\u001b[1m]\u001b[0m,\n",
       "\n",
       "       \u001b[1m[\u001b[0m\u001b[1m[\u001b[0m \u001b[1;36m9.91178080e-02\u001b[0m,  \u001b[1;36m2.25008893e+00\u001b[0m,  \u001b[1;36m6.83501911e+00\u001b[0m\u001b[1m]\u001b[0m,\n",
       "        \u001b[1m[\u001b[0m \u001b[1;36m8.62053990e-01\u001b[0m, \u001b[1;36m-2.38283277e+00\u001b[0m,  \u001b[1;36m4.54934269e-01\u001b[0m\u001b[1m]\u001b[0m,\n",
       "        \u001b[1m[\u001b[0m \u001b[1;36m3.83615422e+00\u001b[0m, \u001b[1;36m-7.51134753e-01\u001b[0m, \u001b[1;36m-3.47551084e+00\u001b[0m\u001b[1m]\u001b[0m\u001b[1m]\u001b[0m,\n",
       "\n",
       "       \u001b[1m[\u001b[0m\u001b[1m[\u001b[0m \u001b[1;36m1.84880006e+00\u001b[0m, \u001b[1;36m-1.23305130e+00\u001b[0m,  \u001b[1;36m1.97775289e-01\u001b[0m\u001b[1m]\u001b[0m,\n",
       "        \u001b[1m[\u001b[0m\u001b[1;36m-2.26320490e-01\u001b[0m, \u001b[1;36m-2.26188108e-01\u001b[0m,  \u001b[1;36m3.11821371e-01\u001b[0m\u001b[1m]\u001b[0m,\n",
       "        \u001b[1m[\u001b[0m\u001b[1;36m-6.85291469e-01\u001b[0m,  \u001b[1;36m5.40968895e-01\u001b[0m, \u001b[1;36m-2.96678126e-01\u001b[0m\u001b[1m]\u001b[0m\u001b[1m]\u001b[0m,\n",
       "\n",
       "       \u001b[1m[\u001b[0m\u001b[1m[\u001b[0m \u001b[1;36m6.13155305e-01\u001b[0m, \u001b[1;36m-3.21964383e-01\u001b[0m,  \u001b[1;36m7.14292079e-02\u001b[0m\u001b[1m]\u001b[0m,\n",
       "        \u001b[1m[\u001b[0m \u001b[1;36m5.63803315e-02\u001b[0m,  \u001b[1;36m3.96890640e-01\u001b[0m,  \u001b[1;36m1.34976745e-01\u001b[0m\u001b[1m]\u001b[0m,\n",
       "        \u001b[1m[\u001b[0m\u001b[1;36m-2.70603955e-01\u001b[0m, \u001b[1;36m-2.55498201e-01\u001b[0m,  \u001b[1;36m4.56192940e-01\u001b[0m\u001b[1m]\u001b[0m\u001b[1m]\u001b[0m,\n",
       "\n",
       "       \u001b[1m[\u001b[0m\u001b[1m[\u001b[0m\u001b[1;36m-1.46720797e-01\u001b[0m,  \u001b[1;36m3.23558822e-02\u001b[0m,  \u001b[1;36m2.65811514e-02\u001b[0m\u001b[1m]\u001b[0m,\n",
       "        \u001b[1m[\u001b[0m\u001b[1;36m-3.49668354e-01\u001b[0m,  \u001b[1;36m1.95440516e-01\u001b[0m,  \u001b[1;36m5.14607072e-01\u001b[0m\u001b[1m]\u001b[0m,\n",
       "        \u001b[1m[\u001b[0m\u001b[1;36m-4.91154604e-02\u001b[0m,  \u001b[1;36m2.65554500e+00\u001b[0m,  \u001b[1;36m2.99823833e+00\u001b[0m\u001b[1m]\u001b[0m\u001b[1m]\u001b[0m,\n",
       "\n",
       "       \u001b[1m[\u001b[0m\u001b[1m[\u001b[0m \u001b[1;36m1.49705321e-01\u001b[0m,  \u001b[1;36m2.64181256e-01\u001b[0m,  \u001b[1;36m7.06814900e-02\u001b[0m\u001b[1m]\u001b[0m,\n",
       "        \u001b[1m[\u001b[0m \u001b[1;36m1.77976459e-01\u001b[0m,  \u001b[1;36m9.41742241e-01\u001b[0m, \u001b[1;36m-1.21787263e-04\u001b[0m\u001b[1m]\u001b[0m,\n",
       "        \u001b[1m[\u001b[0m\u001b[1;36m-1.03786647e-01\u001b[0m, \u001b[1;36m-2.13919789e-01\u001b[0m, \u001b[1;36m-1.65982489e-02\u001b[0m\u001b[1m]\u001b[0m\u001b[1m]\u001b[0m,\n",
       "\n",
       "       \u001b[1m[\u001b[0m\u001b[1m[\u001b[0m \u001b[1;36m5.00809813e+00\u001b[0m,  \u001b[1;36m5.70301414e-01\u001b[0m, \u001b[1;36m-1.89613149e-01\u001b[0m\u001b[1m]\u001b[0m,\n",
       "        \u001b[1m[\u001b[0m\u001b[1;36m-8.26297581e-01\u001b[0m,  \u001b[1;36m1.73594463e+00\u001b[0m, \u001b[1;36m-1.74634665e-01\u001b[0m\u001b[1m]\u001b[0m,\n",
       "        \u001b[1m[\u001b[0m\u001b[1;36m-4.24465477e-01\u001b[0m, \u001b[1;36m-4.67707694e-01\u001b[0m,  \u001b[1;36m1.02769375e+00\u001b[0m\u001b[1m]\u001b[0m\u001b[1m]\u001b[0m,\n",
       "\n",
       "       \u001b[1m[\u001b[0m\u001b[1m[\u001b[0m\u001b[1;36m-5.64725518e-01\u001b[0m, \u001b[1;36m-4.95614737e-01\u001b[0m,  \u001b[1;36m3.35904896e-01\u001b[0m\u001b[1m]\u001b[0m,\n",
       "        \u001b[1m[\u001b[0m\u001b[1;36m-4.13069010e-01\u001b[0m, \u001b[1;36m-5.51425032e-02\u001b[0m, \u001b[1;36m-6.21160030e-01\u001b[0m\u001b[1m]\u001b[0m,\n",
       "        \u001b[1m[\u001b[0m \u001b[1;36m3.15740079e-01\u001b[0m, \u001b[1;36m-4.96982306e-01\u001b[0m, \u001b[1;36m-9.10896480e-01\u001b[0m\u001b[1m]\u001b[0m\u001b[1m]\u001b[0m,\n",
       "\n",
       "       \u001b[1m[\u001b[0m\u001b[1m[\u001b[0m\u001b[1;36m-7.28239641e-02\u001b[0m, \u001b[1;36m-2.18933091e-01\u001b[0m, \u001b[1;36m-1.25988498e-01\u001b[0m\u001b[1m]\u001b[0m,\n",
       "        \u001b[1m[\u001b[0m \u001b[1;36m3.38216156e-01\u001b[0m,  \u001b[1;36m1.91319311e+00\u001b[0m,  \u001b[1;36m2.37405300e-01\u001b[0m\u001b[1m]\u001b[0m,\n",
       "        \u001b[1m[\u001b[0m\u001b[1;36m-4.87835966e-02\u001b[0m,  \u001b[1;36m5.89803457e-01\u001b[0m, \u001b[1;36m-5.79392672e-01\u001b[0m\u001b[1m]\u001b[0m\u001b[1m]\u001b[0m,\n",
       "\n",
       "       \u001b[1m[\u001b[0m\u001b[1m[\u001b[0m \u001b[1;36m1.70645714e+00\u001b[0m,  \u001b[1;36m3.36856127e-01\u001b[0m, \u001b[1;36m-1.00084567e+00\u001b[0m\u001b[1m]\u001b[0m,\n",
       "        \u001b[1m[\u001b[0m\u001b[1;36m-1.14831105e-01\u001b[0m, \u001b[1;36m-1.92794725e-01\u001b[0m, \u001b[1;36m-8.93643964e-03\u001b[0m\u001b[1m]\u001b[0m,\n",
       "        \u001b[1m[\u001b[0m \u001b[1;36m2.73653455e-02\u001b[0m, \u001b[1;36m-2.83125103e-01\u001b[0m, \u001b[1;36m-1.32478559e+00\u001b[0m\u001b[1m]\u001b[0m\u001b[1m]\u001b[0m,\n",
       "\n",
       "       \u001b[1m[\u001b[0m\u001b[1m[\u001b[0m \u001b[1;36m4.51621860e-01\u001b[0m, \u001b[1;36m-3.05344272e+00\u001b[0m,  \u001b[1;36m3.12971413e-01\u001b[0m\u001b[1m]\u001b[0m,\n",
       "        \u001b[1m[\u001b[0m \u001b[1;36m1.28387094e+00\u001b[0m, \u001b[1;36m-6.55619526e+00\u001b[0m,  \u001b[1;36m5.21772563e-01\u001b[0m\u001b[1m]\u001b[0m,\n",
       "        \u001b[1m[\u001b[0m \u001b[1;36m3.79742324e-01\u001b[0m,  \u001b[1;36m4.27857697e-01\u001b[0m, \u001b[1;36m-1.44337404e+00\u001b[0m\u001b[1m]\u001b[0m\u001b[1m]\u001b[0m,\n",
       "\n",
       "       \u001b[1m[\u001b[0m\u001b[1m[\u001b[0m \u001b[1;36m5.36743879e-01\u001b[0m, \u001b[1;36m-2.15314418e-01\u001b[0m, \u001b[1;36m-2.48952612e-01\u001b[0m\u001b[1m]\u001b[0m,\n",
       "        \u001b[1m[\u001b[0m\u001b[1;36m-3.43001366e-01\u001b[0m,  \u001b[1;36m1.15696526e+00\u001b[0m,  \u001b[1;36m2.33619571e-01\u001b[0m\u001b[1m]\u001b[0m,\n",
       "        \u001b[1m[\u001b[0m\u001b[1;36m-1.07709312e+00\u001b[0m, \u001b[1;36m-8.26493930e-03\u001b[0m, \u001b[1;36m-3.67904633e-01\u001b[0m\u001b[1m]\u001b[0m\u001b[1m]\u001b[0m,\n",
       "\n",
       "       \u001b[1m[\u001b[0m\u001b[1m[\u001b[0m\u001b[1;36m-7.35892951e-01\u001b[0m, \u001b[1;36m-8.03366363e-01\u001b[0m,  \u001b[1;36m3.55112940e-01\u001b[0m\u001b[1m]\u001b[0m,\n",
       "        \u001b[1m[\u001b[0m \u001b[1;36m5.49502790e-01\u001b[0m, \u001b[1;36m-4.91564661e-01\u001b[0m, \u001b[1;36m-7.56490111e-01\u001b[0m\u001b[1m]\u001b[0m,\n",
       "        \u001b[1m[\u001b[0m \u001b[1;36m2.82000273e-01\u001b[0m, \u001b[1;36m-8.21453556e-02\u001b[0m, \u001b[1;36m-3.66659403e-01\u001b[0m\u001b[1m]\u001b[0m\u001b[1m]\u001b[0m,\n",
       "\n",
       "       \u001b[1m[\u001b[0m\u001b[1m[\u001b[0m \u001b[1;36m9.79478002e-01\u001b[0m, \u001b[1;36m-3.60521495e-01\u001b[0m,  \u001b[1;36m1.55658376e+00\u001b[0m\u001b[1m]\u001b[0m,\n",
       "        \u001b[1m[\u001b[0m\u001b[1;36m-1.38201857e+00\u001b[0m, \u001b[1;36m-1.12128772e-01\u001b[0m,  \u001b[1;36m1.27114415e+00\u001b[0m\u001b[1m]\u001b[0m,\n",
       "        \u001b[1m[\u001b[0m\u001b[1;36m-2.79386967e-01\u001b[0m,  \u001b[1;36m1.06432641e+00\u001b[0m, \u001b[1;36m-3.92922133e-01\u001b[0m\u001b[1m]\u001b[0m\u001b[1m]\u001b[0m,\n",
       "\n",
       "       \u001b[1m[\u001b[0m\u001b[1m[\u001b[0m\u001b[1;36m-1.34110379e+00\u001b[0m, \u001b[1;36m-2.16486216e-01\u001b[0m,  \u001b[1;36m6.47850931e-01\u001b[0m\u001b[1m]\u001b[0m,\n",
       "        \u001b[1m[\u001b[0m \u001b[1;36m3.35980386e-01\u001b[0m, \u001b[1;36m-1.41216135e+00\u001b[0m, \u001b[1;36m-1.25168204e+00\u001b[0m\u001b[1m]\u001b[0m,\n",
       "        \u001b[1m[\u001b[0m\u001b[1;36m-6.83914870e-02\u001b[0m, \u001b[1;36m-8.54990780e-02\u001b[0m, \u001b[1;36m-3.74508560e-01\u001b[0m\u001b[1m]\u001b[0m\u001b[1m]\u001b[0m,\n",
       "\n",
       "       \u001b[1m[\u001b[0m\u001b[1m[\u001b[0m \u001b[1;36m7.88063288e-01\u001b[0m, \u001b[1;36m-4.05754000e-01\u001b[0m,  \u001b[1;36m1.58483878e-01\u001b[0m\u001b[1m]\u001b[0m,\n",
       "        \u001b[1m[\u001b[0m\u001b[1;36m-1.06418394e-01\u001b[0m,  \u001b[1;36m6.37190580e-01\u001b[0m,  \u001b[1;36m3.00386082e-02\u001b[0m\u001b[1m]\u001b[0m,\n",
       "        \u001b[1m[\u001b[0m\u001b[1;36m-4.50405806e-01\u001b[0m,  \u001b[1;36m5.14118791e-01\u001b[0m, \u001b[1;36m-1.07533090e-01\u001b[0m\u001b[1m]\u001b[0m\u001b[1m]\u001b[0m,\n",
       "\n",
       "       \u001b[1m[\u001b[0m\u001b[1m[\u001b[0m\u001b[1;36m-4.38492107e+00\u001b[0m,  \u001b[1;36m1.28044114e-01\u001b[0m,  \u001b[1;36m6.45427084e+00\u001b[0m\u001b[1m]\u001b[0m,\n",
       "        \u001b[1m[\u001b[0m \u001b[1;36m6.93778455e-01\u001b[0m,  \u001b[1;36m3.02407681e-03\u001b[0m, \u001b[1;36m-3.52280468e-01\u001b[0m\u001b[1m]\u001b[0m,\n",
       "        \u001b[1m[\u001b[0m\u001b[1;36m-7.09222198e-01\u001b[0m, \u001b[1;36m-1.08229063e-01\u001b[0m,  \u001b[1;36m1.79039991e+00\u001b[0m\u001b[1m]\u001b[0m\u001b[1m]\u001b[0m,\n",
       "\n",
       "       \u001b[1m[\u001b[0m\u001b[1m[\u001b[0m \u001b[1;36m6.12362206e-01\u001b[0m,  \u001b[1;36m1.83643806e+00\u001b[0m, \u001b[1;36m-2.89377284e+00\u001b[0m\u001b[1m]\u001b[0m,\n",
       "        \u001b[1m[\u001b[0m \u001b[1;36m3.29824638e+00\u001b[0m, \u001b[1;36m-2.57684612e+00\u001b[0m, \u001b[1;36m-2.13834882e+00\u001b[0m\u001b[1m]\u001b[0m,\n",
       "        \u001b[1m[\u001b[0m \u001b[1;36m2.32902479e+00\u001b[0m, \u001b[1;36m-1.96326220e+00\u001b[0m, \u001b[1;36m-3.49979568e+00\u001b[0m\u001b[1m]\u001b[0m\u001b[1m]\u001b[0m,\n",
       "\n",
       "       \u001b[1m[\u001b[0m\u001b[1m[\u001b[0m \u001b[1;36m3.46694589e-01\u001b[0m,  \u001b[1;36m7.17425197e-02\u001b[0m, \u001b[1;36m-2.68005282e-01\u001b[0m\u001b[1m]\u001b[0m,\n",
       "        \u001b[1m[\u001b[0m \u001b[1;36m8.23974788e-01\u001b[0m, \u001b[1;36m-6.44432783e-01\u001b[0m,  \u001b[1;36m4.18017596e-01\u001b[0m\u001b[1m]\u001b[0m,\n",
       "        \u001b[1m[\u001b[0m\u001b[1;36m-3.00047512e-04\u001b[0m,  \u001b[1;36m3.05066904e-04\u001b[0m, \u001b[1;36m-3.24905723e-01\u001b[0m\u001b[1m]\u001b[0m\u001b[1m]\u001b[0m,\n",
       "\n",
       "       \u001b[1m[\u001b[0m\u001b[1m[\u001b[0m \u001b[1;36m8.84707391e-01\u001b[0m, \u001b[1;36m-1.57103285e-01\u001b[0m, \u001b[1;36m-6.61411509e-02\u001b[0m\u001b[1m]\u001b[0m,\n",
       "        \u001b[1m[\u001b[0m\u001b[1;36m-5.08630335e-01\u001b[0m,  \u001b[1;36m3.31742793e-01\u001b[0m,  \u001b[1;36m2.87529439e-01\u001b[0m\u001b[1m]\u001b[0m,\n",
       "        \u001b[1m[\u001b[0m\u001b[1;36m-1.40327585e+00\u001b[0m, \u001b[1;36m-2.43711472e-01\u001b[0m, \u001b[1;36m-6.60613239e-01\u001b[0m\u001b[1m]\u001b[0m\u001b[1m]\u001b[0m,\n",
       "\n",
       "       \u001b[1m[\u001b[0m\u001b[1m[\u001b[0m\u001b[1;36m-1.79955706e-01\u001b[0m,  \u001b[1;36m1.28871888e-01\u001b[0m, \u001b[1;36m-2.26851940e-01\u001b[0m\u001b[1m]\u001b[0m,\n",
       "        \u001b[1m[\u001b[0m\u001b[1;36m-7.49353170e-01\u001b[0m,  \u001b[1;36m3.14458430e-01\u001b[0m,  \u001b[1;36m6.26685247e-02\u001b[0m\u001b[1m]\u001b[0m,\n",
       "        \u001b[1m[\u001b[0m\u001b[1;36m-1.59069281e-02\u001b[0m, \u001b[1;36m-1.15634277e-01\u001b[0m,  \u001b[1;36m1.04598859e-02\u001b[0m\u001b[1m]\u001b[0m\u001b[1m]\u001b[0m,\n",
       "\n",
       "       \u001b[1m[\u001b[0m\u001b[1m[\u001b[0m \u001b[1;36m2.33016089e-01\u001b[0m, \u001b[1;36m-6.89696446e-02\u001b[0m,  \u001b[1;36m2.67660350e-01\u001b[0m\u001b[1m]\u001b[0m,\n",
       "        \u001b[1m[\u001b[0m\u001b[1;36m-2.33238220e-01\u001b[0m,  \u001b[1;36m3.31049524e-02\u001b[0m, \u001b[1;36m-6.50051951e-01\u001b[0m\u001b[1m]\u001b[0m,\n",
       "        \u001b[1m[\u001b[0m\u001b[1;36m-2.55396992e-01\u001b[0m,  \u001b[1;36m3.15699816e-01\u001b[0m, \u001b[1;36m-1.43693974e-02\u001b[0m\u001b[1m]\u001b[0m\u001b[1m]\u001b[0m,\n",
       "\n",
       "       \u001b[1m[\u001b[0m\u001b[1m[\u001b[0m\u001b[1;36m-1.08997023e+00\u001b[0m,  \u001b[1;36m1.01577356e-01\u001b[0m, \u001b[1;36m-3.28556418e-01\u001b[0m\u001b[1m]\u001b[0m,\n",
       "        \u001b[1m[\u001b[0m\u001b[1;36m-6.40890181e-01\u001b[0m,  \u001b[1;36m6.67233467e-02\u001b[0m, \u001b[1;36m-2.04131529e-01\u001b[0m\u001b[1m]\u001b[0m,\n",
       "        \u001b[1m[\u001b[0m\u001b[1;36m-1.55695945e-01\u001b[0m,  \u001b[1;36m2.86955953e-01\u001b[0m,  \u001b[1;36m5.19359997e-03\u001b[0m\u001b[1m]\u001b[0m\u001b[1m]\u001b[0m,\n",
       "\n",
       "       \u001b[1m[\u001b[0m\u001b[1m[\u001b[0m\u001b[1;36m-1.33387875e-04\u001b[0m,  \u001b[1;36m2.09142410e-04\u001b[0m, \u001b[1;36m-3.14188910e-05\u001b[0m\u001b[1m]\u001b[0m,\n",
       "        \u001b[1m[\u001b[0m \u001b[1;36m1.80453542e-04\u001b[0m,  \u001b[1;36m2.52024899e-03\u001b[0m, \u001b[1;36m-9.34202108e-05\u001b[0m\u001b[1m]\u001b[0m,\n",
       "        \u001b[1m[\u001b[0m \u001b[1;36m9.23983939e-03\u001b[0m,  \u001b[1;36m9.23972111e-03\u001b[0m, \u001b[1;36m-1.18071854e+00\u001b[0m\u001b[1m]\u001b[0m\u001b[1m]\u001b[0m,\n",
       "\n",
       "       \u001b[1m[\u001b[0m\u001b[1m[\u001b[0m \u001b[1;36m3.04907012e+00\u001b[0m,  \u001b[1;36m1.42023909e+00\u001b[0m,  \u001b[1;36m1.27149940e+00\u001b[0m\u001b[1m]\u001b[0m,\n",
       "        \u001b[1m[\u001b[0m\u001b[1;36m-1.71429157e+00\u001b[0m, \u001b[1;36m-1.73776519e+00\u001b[0m, \u001b[1;36m-1.79909647e+00\u001b[0m\u001b[1m]\u001b[0m,\n",
       "        \u001b[1m[\u001b[0m \u001b[1;36m3.55898333e+00\u001b[0m,  \u001b[1;36m3.49555445e+00\u001b[0m,  \u001b[1;36m7.28729391e+00\u001b[0m\u001b[1m]\u001b[0m\u001b[1m]\u001b[0m,\n",
       "\n",
       "       \u001b[1m[\u001b[0m\u001b[1m[\u001b[0m \u001b[1;36m2.19707656e+00\u001b[0m,  \u001b[1;36m9.67269784e-07\u001b[0m,  \u001b[1;36m1.26846814e+00\u001b[0m\u001b[1m]\u001b[0m,\n",
       "        \u001b[1m[\u001b[0m\u001b[1;36m-1.10988310e-02\u001b[0m, \u001b[1;36m-0.00000000e+00\u001b[0m, \u001b[1;36m-6.40791235e-03\u001b[0m\u001b[1m]\u001b[0m,\n",
       "        \u001b[1m[\u001b[0m \u001b[1;36m1.40496469e+00\u001b[0m, \u001b[1;36m-0.00000000e+00\u001b[0m,  \u001b[1;36m8.11156690e-01\u001b[0m\u001b[1m]\u001b[0m\u001b[1m]\u001b[0m,\n",
       "\n",
       "       \u001b[1m[\u001b[0m\u001b[1m[\u001b[0m\u001b[1;36m-4.71719074e+00\u001b[0m, \u001b[1;36m-3.05382279e-03\u001b[0m, \u001b[1;36m-7.28608549e-01\u001b[0m\u001b[1m]\u001b[0m,\n",
       "        \u001b[1m[\u001b[0m\u001b[1;36m-2.62538195e+00\u001b[0m, \u001b[1;36m-4.23281733e-03\u001b[0m, \u001b[1;36m-3.95921201e-01\u001b[0m\u001b[1m]\u001b[0m,\n",
       "        \u001b[1m[\u001b[0m\u001b[1;36m-2.12567115e+00\u001b[0m,  \u001b[1;36m5.19120554e-03\u001b[0m, \u001b[1;36m-3.36813658e-01\u001b[0m\u001b[1m]\u001b[0m\u001b[1m]\u001b[0m,\n",
       "\n",
       "       \u001b[1m[\u001b[0m\u001b[1m[\u001b[0m\u001b[1;36m-9.19376373e-01\u001b[0m,  \u001b[1;36m3.42196965e+00\u001b[0m,  \u001b[1;36m5.25750446e+00\u001b[0m\u001b[1m]\u001b[0m,\n",
       "        \u001b[1m[\u001b[0m \u001b[1;36m6.26973450e-01\u001b[0m, \u001b[1;36m-2.31126070e+00\u001b[0m, \u001b[1;36m-3.54721832e+00\u001b[0m\u001b[1m]\u001b[0m,\n",
       "        \u001b[1m[\u001b[0m \u001b[1;36m4.70350653e-01\u001b[0m, \u001b[1;36m-1.75067103e+00\u001b[0m, \u001b[1;36m-2.68972635e+00\u001b[0m\u001b[1m]\u001b[0m\u001b[1m]\u001b[0m,\n",
       "\n",
       "       \u001b[1m[\u001b[0m\u001b[1m[\u001b[0m\u001b[1;36m-1.89545155e-02\u001b[0m,  \u001b[1;36m1.59176871e-05\u001b[0m,  \u001b[1;36m2.65652784e-06\u001b[0m\u001b[1m]\u001b[0m,\n",
       "        \u001b[1m[\u001b[0m \u001b[1;36m1.50683600e-05\u001b[0m, \u001b[1;36m-1.58232749e-02\u001b[0m, \u001b[1;36m-1.21410657e-03\u001b[0m\u001b[1m]\u001b[0m,\n",
       "        \u001b[1m[\u001b[0m\u001b[1;36m-2.83932854e-06\u001b[0m, \u001b[1;36m-1.17856136e-03\u001b[0m, \u001b[1;36m-2.31113378e-02\u001b[0m\u001b[1m]\u001b[0m\u001b[1m]\u001b[0m\u001b[1m]\u001b[0m,      \u001b[33mdtype\u001b[0m=\u001b[35mfloat32\u001b[0m\u001b[1m)\u001b[0m"
      ]
     },
     "execution_count": 111,
     "metadata": {},
     "output_type": "execute_result"
    }
   ],
   "source": [
    "shat2"
   ]
  },
  {
   "cell_type": "code",
   "execution_count": 109,
   "metadata": {},
   "outputs": [
    {
     "data": {
      "text/html": [
       "<pre style=\"white-space:pre;overflow-x:auto;line-height:normal;font-family:Menlo,'DejaVu Sans Mono',consolas,'Courier New',monospace\"></pre>\n"
      ],
      "text/plain": []
     },
     "metadata": {},
     "output_type": "display_data"
    },
    {
     "data": {
      "text/plain": [
       "\n",
       "\u001b[1;35mArray\u001b[0m\u001b[1m(\u001b[0m\u001b[1m[\u001b[0m\u001b[1m[\u001b[0m\u001b[1m[\u001b[0m\u001b[1;36m-6.0424715e-01\u001b[0m,  \u001b[1;36m0.0000000e+00\u001b[0m,  \u001b[1;36m0.0000000e+00\u001b[0m\u001b[1m]\u001b[0m,\n",
       "        \u001b[1m[\u001b[0m\u001b[1;36m-0.0000000e+00\u001b[0m, \u001b[1;36m-6.0424715e-01\u001b[0m, \u001b[1;36m-0.0000000e+00\u001b[0m\u001b[1m]\u001b[0m,\n",
       "        \u001b[1m[\u001b[0m \u001b[1;36m0.0000000e+00\u001b[0m, \u001b[1;36m-0.0000000e+00\u001b[0m, \u001b[1;36m-6.0424715e-01\u001b[0m\u001b[1m]\u001b[0m\u001b[1m]\u001b[0m,\n",
       "\n",
       "       \u001b[1m[\u001b[0m\u001b[1m[\u001b[0m \u001b[1;36m1.0462394e+00\u001b[0m,  \u001b[1;36m0.0000000e+00\u001b[0m,  \u001b[1;36m0.0000000e+00\u001b[0m\u001b[1m]\u001b[0m,\n",
       "        \u001b[1m[\u001b[0m \u001b[1;36m0.0000000e+00\u001b[0m,  \u001b[1;36m2.8096368e+00\u001b[0m,  \u001b[1;36m0.0000000e+00\u001b[0m\u001b[1m]\u001b[0m,\n",
       "        \u001b[1m[\u001b[0m \u001b[1;36m0.0000000e+00\u001b[0m,  \u001b[1;36m0.0000000e+00\u001b[0m,  \u001b[1;36m2.8096368e+00\u001b[0m\u001b[1m]\u001b[0m\u001b[1m]\u001b[0m,\n",
       "\n",
       "       \u001b[1m[\u001b[0m\u001b[1m[\u001b[0m \u001b[1;36m3.3103592e+00\u001b[0m,  \u001b[1;36m8.9109997e-04\u001b[0m,  \u001b[1;36m8.7364800e-03\u001b[0m\u001b[1m]\u001b[0m,\n",
       "        \u001b[1m[\u001b[0m \u001b[1;36m8.9109997e-04\u001b[0m,  \u001b[1;36m3.3401010e+00\u001b[0m,  \u001b[1;36m3.8545862e-02\u001b[0m\u001b[1m]\u001b[0m,\n",
       "        \u001b[1m[\u001b[0m \u001b[1;36m8.7365601e-03\u001b[0m,  \u001b[1;36m3.8545821e-02\u001b[0m,  \u001b[1;36m2.1181519e+00\u001b[0m\u001b[1m]\u001b[0m\u001b[1m]\u001b[0m,\n",
       "\n",
       "       \u001b[1m[\u001b[0m\u001b[1m[\u001b[0m\u001b[1;36m-6.9081502e+00\u001b[0m,  \u001b[1;36m0.0000000e+00\u001b[0m,  \u001b[1;36m1.7676691e+00\u001b[0m\u001b[1m]\u001b[0m,\n",
       "        \u001b[1m[\u001b[0m \u001b[1;36m0.0000000e+00\u001b[0m, \u001b[1;36m-3.1795950e+00\u001b[0m,  \u001b[1;36m0.0000000e+00\u001b[0m\u001b[1m]\u001b[0m,\n",
       "        \u001b[1m[\u001b[0m \u001b[1;36m1.7676692e+00\u001b[0m,  \u001b[1;36m0.0000000e+00\u001b[0m, \u001b[1;36m-4.2425270e+00\u001b[0m\u001b[1m]\u001b[0m\u001b[1m]\u001b[0m,\n",
       "\n",
       "       \u001b[1m[\u001b[0m\u001b[1m[\u001b[0m\u001b[1;36m-1.0880770e-01\u001b[0m, \u001b[1;36m-1.2903541e-01\u001b[0m,  \u001b[1;36m0.0000000e+00\u001b[0m\u001b[1m]\u001b[0m,\n",
       "        \u001b[1m[\u001b[0m\u001b[1;36m-1.2902828e-01\u001b[0m,  \u001b[1;36m6.1132740e-02\u001b[0m,  \u001b[1;36m0.0000000e+00\u001b[0m\u001b[1m]\u001b[0m,\n",
       "        \u001b[1m[\u001b[0m \u001b[1;36m0.0000000e+00\u001b[0m,  \u001b[1;36m0.0000000e+00\u001b[0m, \u001b[1;36m-5.8678418e-02\u001b[0m\u001b[1m]\u001b[0m\u001b[1m]\u001b[0m,\n",
       "\n",
       "       \u001b[1m[\u001b[0m\u001b[1m[\u001b[0m\u001b[1;36m-3.7215585e-01\u001b[0m, \u001b[1;36m-0.0000000e+00\u001b[0m,  \u001b[1;36m0.0000000e+00\u001b[0m\u001b[1m]\u001b[0m,\n",
       "        \u001b[1m[\u001b[0m\u001b[1;36m-0.0000000e+00\u001b[0m, \u001b[1;36m-3.7215585e-01\u001b[0m,  \u001b[1;36m0.0000000e+00\u001b[0m\u001b[1m]\u001b[0m,\n",
       "        \u001b[1m[\u001b[0m\u001b[1;36m-0.0000000e+00\u001b[0m, \u001b[1;36m-0.0000000e+00\u001b[0m, \u001b[1;36m-3.7215585e-01\u001b[0m\u001b[1m]\u001b[0m\u001b[1m]\u001b[0m,\n",
       "\n",
       "       \u001b[1m[\u001b[0m\u001b[1m[\u001b[0m \u001b[1;36m2.4973841e+00\u001b[0m,  \u001b[1;36m0.0000000e+00\u001b[0m,  \u001b[1;36m0.0000000e+00\u001b[0m\u001b[1m]\u001b[0m,\n",
       "        \u001b[1m[\u001b[0m \u001b[1;36m0.0000000e+00\u001b[0m,  \u001b[1;36m2.1608264e+00\u001b[0m,  \u001b[1;36m0.0000000e+00\u001b[0m\u001b[1m]\u001b[0m,\n",
       "        \u001b[1m[\u001b[0m \u001b[1;36m0.0000000e+00\u001b[0m,  \u001b[1;36m0.0000000e+00\u001b[0m, \u001b[1;36m-3.3969688e-01\u001b[0m\u001b[1m]\u001b[0m\u001b[1m]\u001b[0m,\n",
       "\n",
       "       \u001b[1m[\u001b[0m\u001b[1m[\u001b[0m\u001b[1;36m-2.2157550e+00\u001b[0m,  \u001b[1;36m0.0000000e+00\u001b[0m,  \u001b[1;36m0.0000000e+00\u001b[0m\u001b[1m]\u001b[0m,\n",
       "        \u001b[1m[\u001b[0m \u001b[1;36m0.0000000e+00\u001b[0m, \u001b[1;36m-3.4384408e+00\u001b[0m,  \u001b[1;36m0.0000000e+00\u001b[0m\u001b[1m]\u001b[0m,\n",
       "        \u001b[1m[\u001b[0m \u001b[1;36m0.0000000e+00\u001b[0m,  \u001b[1;36m0.0000000e+00\u001b[0m, \u001b[1;36m-6.7039180e+00\u001b[0m\u001b[1m]\u001b[0m\u001b[1m]\u001b[0m,\n",
       "\n",
       "       \u001b[1m[\u001b[0m\u001b[1m[\u001b[0m \u001b[1;36m1.2299723e+01\u001b[0m,  \u001b[1;36m0.0000000e+00\u001b[0m,  \u001b[1;36m0.0000000e+00\u001b[0m\u001b[1m]\u001b[0m,\n",
       "        \u001b[1m[\u001b[0m\u001b[1;36m-0.0000000e+00\u001b[0m,  \u001b[1;36m6.3333338e-01\u001b[0m,  \u001b[1;36m0.0000000e+00\u001b[0m\u001b[1m]\u001b[0m,\n",
       "        \u001b[1m[\u001b[0m \u001b[1;36m0.0000000e+00\u001b[0m,  \u001b[1;36m0.0000000e+00\u001b[0m,  \u001b[1;36m8.2211437e+00\u001b[0m\u001b[1m]\u001b[0m\u001b[1m]\u001b[0m,\n",
       "\n",
       "       \u001b[1m[\u001b[0m\u001b[1m[\u001b[0m \u001b[1;36m3.3723621e+00\u001b[0m,  \u001b[1;36m0.0000000e+00\u001b[0m, \u001b[1;36m-3.1104579e+00\u001b[0m\u001b[1m]\u001b[0m,\n",
       "        \u001b[1m[\u001b[0m \u001b[1;36m0.0000000e+00\u001b[0m, \u001b[1;36m-1.2385024e+00\u001b[0m,  \u001b[1;36m0.0000000e+00\u001b[0m\u001b[1m]\u001b[0m,\n",
       "        \u001b[1m[\u001b[0m\u001b[1;36m-3.1104579e+00\u001b[0m,  \u001b[1;36m0.0000000e+00\u001b[0m, \u001b[1;36m-4.4822021e+00\u001b[0m\u001b[1m]\u001b[0m\u001b[1m]\u001b[0m,\n",
       "\n",
       "       \u001b[1m[\u001b[0m\u001b[1m[\u001b[0m\u001b[1;36m-4.6044044e+00\u001b[0m,  \u001b[1;36m6.5629999e-04\u001b[0m, \u001b[1;36m-8.7808003e-04\u001b[0m\u001b[1m]\u001b[0m,\n",
       "        \u001b[1m[\u001b[0m \u001b[1;36m6.3919998e-04\u001b[0m,  \u001b[1;36m2.3784784e+01\u001b[0m,  \u001b[1;36m8.4267193e-01\u001b[0m\u001b[1m]\u001b[0m,\n",
       "        \u001b[1m[\u001b[0m\u001b[1;36m-8.6534000e-04\u001b[0m,  \u001b[1;36m8.4268302e-01\u001b[0m,  \u001b[1;36m2.0621521e+00\u001b[0m\u001b[1m]\u001b[0m\u001b[1m]\u001b[0m,\n",
       "\n",
       "       \u001b[1m[\u001b[0m\u001b[1m[\u001b[0m\u001b[1;36m-5.0976853e+00\u001b[0m, \u001b[1;36m-1.2504701e-03\u001b[0m, \u001b[1;36m-3.2684672e+00\u001b[0m\u001b[1m]\u001b[0m,\n",
       "        \u001b[1m[\u001b[0m\u001b[1;36m-1.2942500e-03\u001b[0m, \u001b[1;36m-4.9710541e+00\u001b[0m,  \u001b[1;36m6.7846901e-03\u001b[0m\u001b[1m]\u001b[0m,\n",
       "        \u001b[1m[\u001b[0m\u001b[1;36m-3.2684679e+00\u001b[0m,  \u001b[1;36m6.8013500e-03\u001b[0m, \u001b[1;36m-7.8330064e+00\u001b[0m\u001b[1m]\u001b[0m\u001b[1m]\u001b[0m,\n",
       "\n",
       "       \u001b[1m[\u001b[0m\u001b[1m[\u001b[0m \u001b[1;36m2.9339699e+01\u001b[0m, \u001b[1;36m-2.9999999e-08\u001b[0m, \u001b[1;36m-0.0000000e+00\u001b[0m\u001b[1m]\u001b[0m,\n",
       "        \u001b[1m[\u001b[0m \u001b[1;36m2.9999999e-08\u001b[0m,  \u001b[1;36m2.9339699e+01\u001b[0m, \u001b[1;36m-0.0000000e+00\u001b[0m\u001b[1m]\u001b[0m,\n",
       "        \u001b[1m[\u001b[0m\u001b[1;36m-0.0000000e+00\u001b[0m, \u001b[1;36m-0.0000000e+00\u001b[0m,  \u001b[1;36m2.5953777e+01\u001b[0m\u001b[1m]\u001b[0m\u001b[1m]\u001b[0m,\n",
       "\n",
       "       \u001b[1m[\u001b[0m\u001b[1m[\u001b[0m\u001b[1;36m-1.8196327e+01\u001b[0m, \u001b[1;36m-7.2399002e-01\u001b[0m,  \u001b[1;36m0.0000000e+00\u001b[0m\u001b[1m]\u001b[0m,\n",
       "        \u001b[1m[\u001b[0m\u001b[1;36m-7.2420812e-01\u001b[0m, \u001b[1;36m-1.7395250e+01\u001b[0m,  \u001b[1;36m0.0000000e+00\u001b[0m\u001b[1m]\u001b[0m,\n",
       "        \u001b[1m[\u001b[0m \u001b[1;36m0.0000000e+00\u001b[0m,  \u001b[1;36m0.0000000e+00\u001b[0m, \u001b[1;36m-1.4662378e+01\u001b[0m\u001b[1m]\u001b[0m\u001b[1m]\u001b[0m,\n",
       "\n",
       "       \u001b[1m[\u001b[0m\u001b[1m[\u001b[0m\u001b[1;36m-4.5098605e+00\u001b[0m,  \u001b[1;36m0.0000000e+00\u001b[0m, \u001b[1;36m-4.8083976e-01\u001b[0m\u001b[1m]\u001b[0m,\n",
       "        \u001b[1m[\u001b[0m \u001b[1;36m0.0000000e+00\u001b[0m, \u001b[1;36m-2.2578833e-01\u001b[0m,  \u001b[1;36m0.0000000e+00\u001b[0m\u001b[1m]\u001b[0m,\n",
       "        \u001b[1m[\u001b[0m\u001b[1;36m-4.8083973e-01\u001b[0m,  \u001b[1;36m0.0000000e+00\u001b[0m, \u001b[1;36m-1.6770862e+00\u001b[0m\u001b[1m]\u001b[0m\u001b[1m]\u001b[0m,\n",
       "\n",
       "       \u001b[1m[\u001b[0m\u001b[1m[\u001b[0m \u001b[1;36m1.2276725e+00\u001b[0m,  \u001b[1;36m2.9375421e-02\u001b[0m, \u001b[1;36m-5.3250999e-04\u001b[0m\u001b[1m]\u001b[0m,\n",
       "        \u001b[1m[\u001b[0m \u001b[1;36m2.9376660e-02\u001b[0m,  \u001b[1;36m1.1007864e+01\u001b[0m, \u001b[1;36m-3.1383001e-04\u001b[0m\u001b[1m]\u001b[0m,\n",
       "        \u001b[1m[\u001b[0m\u001b[1;36m-5.3070998e-04\u001b[0m, \u001b[1;36m-3.3904999e-04\u001b[0m, \u001b[1;36m-7.1899018e+00\u001b[0m\u001b[1m]\u001b[0m\u001b[1m]\u001b[0m,\n",
       "\n",
       "       \u001b[1m[\u001b[0m\u001b[1m[\u001b[0m\u001b[1;36m-3.0673430e+00\u001b[0m,  \u001b[1;36m0.0000000e+00\u001b[0m,  \u001b[1;36m8.5036725e-01\u001b[0m\u001b[1m]\u001b[0m,\n",
       "        \u001b[1m[\u001b[0m \u001b[1;36m0.0000000e+00\u001b[0m, \u001b[1;36m-2.4366271e+00\u001b[0m,  \u001b[1;36m0.0000000e+00\u001b[0m\u001b[1m]\u001b[0m,\n",
       "        \u001b[1m[\u001b[0m \u001b[1;36m8.5036725e-01\u001b[0m,  \u001b[1;36m0.0000000e+00\u001b[0m, \u001b[1;36m-3.4111745e+00\u001b[0m\u001b[1m]\u001b[0m\u001b[1m]\u001b[0m,\n",
       "\n",
       "       \u001b[1m[\u001b[0m\u001b[1m[\u001b[0m \u001b[1;36m4.4771199e+00\u001b[0m,  \u001b[1;36m0.0000000e+00\u001b[0m,  \u001b[1;36m0.0000000e+00\u001b[0m\u001b[1m]\u001b[0m,\n",
       "        \u001b[1m[\u001b[0m \u001b[1;36m0.0000000e+00\u001b[0m,  \u001b[1;36m4.4771199e+00\u001b[0m,  \u001b[1;36m0.0000000e+00\u001b[0m\u001b[1m]\u001b[0m,\n",
       "        \u001b[1m[\u001b[0m \u001b[1;36m0.0000000e+00\u001b[0m,  \u001b[1;36m0.0000000e+00\u001b[0m,  \u001b[1;36m6.7946835e+00\u001b[0m\u001b[1m]\u001b[0m\u001b[1m]\u001b[0m,\n",
       "\n",
       "       \u001b[1m[\u001b[0m\u001b[1m[\u001b[0m\u001b[1;36m-1.4408293e+01\u001b[0m,  \u001b[1;36m0.0000000e+00\u001b[0m,  \u001b[1;36m9.6332109e-01\u001b[0m\u001b[1m]\u001b[0m,\n",
       "        \u001b[1m[\u001b[0m \u001b[1;36m0.0000000e+00\u001b[0m, \u001b[1;36m-3.8979099e+01\u001b[0m,  \u001b[1;36m0.0000000e+00\u001b[0m\u001b[1m]\u001b[0m,\n",
       "        \u001b[1m[\u001b[0m \u001b[1;36m9.6332115e-01\u001b[0m,  \u001b[1;36m0.0000000e+00\u001b[0m, \u001b[1;36m-4.0220314e+01\u001b[0m\u001b[1m]\u001b[0m\u001b[1m]\u001b[0m,\n",
       "\n",
       "       \u001b[1m[\u001b[0m\u001b[1m[\u001b[0m\u001b[1;36m-2.5966685e+00\u001b[0m,  \u001b[1;36m2.3822494e+00\u001b[0m,  \u001b[1;36m3.9657459e+00\u001b[0m\u001b[1m]\u001b[0m,\n",
       "        \u001b[1m[\u001b[0m \u001b[1;36m2.3822489e+00\u001b[0m, \u001b[1;36m-3.4785817e+00\u001b[0m,  \u001b[1;36m3.3181304e-01\u001b[0m\u001b[1m]\u001b[0m,\n",
       "        \u001b[1m[\u001b[0m \u001b[1;36m3.9657450e+00\u001b[0m,  \u001b[1;36m3.3181289e-01\u001b[0m, \u001b[1;36m-4.6808443e+00\u001b[0m\u001b[1m]\u001b[0m\u001b[1m]\u001b[0m,\n",
       "\n",
       "       \u001b[1m[\u001b[0m\u001b[1m[\u001b[0m \u001b[1;36m7.1421243e-02\u001b[0m,  \u001b[1;36m0.0000000e+00\u001b[0m,  \u001b[1;36m0.0000000e+00\u001b[0m\u001b[1m]\u001b[0m,\n",
       "        \u001b[1m[\u001b[0m \u001b[1;36m0.0000000e+00\u001b[0m,  \u001b[1;36m3.5481194e-01\u001b[0m,  \u001b[1;36m0.0000000e+00\u001b[0m\u001b[1m]\u001b[0m,\n",
       "        \u001b[1m[\u001b[0m \u001b[1;36m0.0000000e+00\u001b[0m,  \u001b[1;36m0.0000000e+00\u001b[0m,  \u001b[1;36m7.9565719e-02\u001b[0m\u001b[1m]\u001b[0m\u001b[1m]\u001b[0m,\n",
       "\n",
       "       \u001b[1m[\u001b[0m\u001b[1m[\u001b[0m \u001b[1;36m1.4527394e+00\u001b[0m,  \u001b[1;36m9.0000000e-08\u001b[0m,  \u001b[1;36m5.9999998e-08\u001b[0m\u001b[1m]\u001b[0m,\n",
       "        \u001b[1m[\u001b[0m \u001b[1;36m9.0000000e-08\u001b[0m,  \u001b[1;36m1.4527395e+00\u001b[0m, \u001b[1;36m-0.0000000e+00\u001b[0m\u001b[1m]\u001b[0m,\n",
       "        \u001b[1m[\u001b[0m \u001b[1;36m5.9999998e-08\u001b[0m, \u001b[1;36m-0.0000000e+00\u001b[0m,  \u001b[1;36m1.4527395e+00\u001b[0m\u001b[1m]\u001b[0m\u001b[1m]\u001b[0m,\n",
       "\n",
       "       \u001b[1m[\u001b[0m\u001b[1m[\u001b[0m\u001b[1;36m-7.1705642e+00\u001b[0m, \u001b[1;36m-1.0241430e-01\u001b[0m, \u001b[1;36m-7.4646515e-01\u001b[0m\u001b[1m]\u001b[0m,\n",
       "        \u001b[1m[\u001b[0m\u001b[1;36m-1.0241443e-01\u001b[0m, \u001b[1;36m-7.0832601e+00\u001b[0m, \u001b[1;36m-9.4417948e-01\u001b[0m\u001b[1m]\u001b[0m,\n",
       "        \u001b[1m[\u001b[0m\u001b[1;36m-7.4646527e-01\u001b[0m, \u001b[1;36m-9.4417942e-01\u001b[0m, \u001b[1;36m-7.3630915e+00\u001b[0m\u001b[1m]\u001b[0m\u001b[1m]\u001b[0m,\n",
       "\n",
       "       \u001b[1m[\u001b[0m\u001b[1m[\u001b[0m \u001b[1;36m2.7893213e+01\u001b[0m,  \u001b[1;36m0.0000000e+00\u001b[0m,  \u001b[1;36m0.0000000e+00\u001b[0m\u001b[1m]\u001b[0m,\n",
       "        \u001b[1m[\u001b[0m \u001b[1;36m0.0000000e+00\u001b[0m,  \u001b[1;36m2.8347898e+01\u001b[0m,  \u001b[1;36m0.0000000e+00\u001b[0m\u001b[1m]\u001b[0m,\n",
       "        \u001b[1m[\u001b[0m \u001b[1;36m0.0000000e+00\u001b[0m,  \u001b[1;36m0.0000000e+00\u001b[0m,  \u001b[1;36m2.8307650e+01\u001b[0m\u001b[1m]\u001b[0m\u001b[1m]\u001b[0m,\n",
       "\n",
       "       \u001b[1m[\u001b[0m\u001b[1m[\u001b[0m\u001b[1;36m-1.0889322e+00\u001b[0m, \u001b[1;36m-1.1429285e+00\u001b[0m,  \u001b[1;36m0.0000000e+00\u001b[0m\u001b[1m]\u001b[0m,\n",
       "        \u001b[1m[\u001b[0m\u001b[1;36m-1.1429285e+00\u001b[0m,  \u001b[1;36m2.3080800e-01\u001b[0m,  \u001b[1;36m0.0000000e+00\u001b[0m\u001b[1m]\u001b[0m,\n",
       "        \u001b[1m[\u001b[0m \u001b[1;36m0.0000000e+00\u001b[0m,  \u001b[1;36m0.0000000e+00\u001b[0m,  \u001b[1;36m7.9184639e-01\u001b[0m\u001b[1m]\u001b[0m\u001b[1m]\u001b[0m,\n",
       "\n",
       "       \u001b[1m[\u001b[0m\u001b[1m[\u001b[0m\u001b[1;36m-8.1794996e+00\u001b[0m,  \u001b[1;36m0.0000000e+00\u001b[0m,  \u001b[1;36m0.0000000e+00\u001b[0m\u001b[1m]\u001b[0m,\n",
       "        \u001b[1m[\u001b[0m \u001b[1;36m0.0000000e+00\u001b[0m, \u001b[1;36m-8.1794996e+00\u001b[0m,  \u001b[1;36m0.0000000e+00\u001b[0m\u001b[1m]\u001b[0m,\n",
       "        \u001b[1m[\u001b[0m \u001b[1;36m0.0000000e+00\u001b[0m,  \u001b[1;36m0.0000000e+00\u001b[0m,  \u001b[1;36m4.6309304e+00\u001b[0m\u001b[1m]\u001b[0m\u001b[1m]\u001b[0m,\n",
       "\n",
       "       \u001b[1m[\u001b[0m\u001b[1m[\u001b[0m\u001b[1;36m-3.1208273e+01\u001b[0m,  \u001b[1;36m0.0000000e+00\u001b[0m, \u001b[1;36m-0.0000000e+00\u001b[0m\u001b[1m]\u001b[0m,\n",
       "        \u001b[1m[\u001b[0m\u001b[1;36m-0.0000000e+00\u001b[0m, \u001b[1;36m-3.1208273e+01\u001b[0m, \u001b[1;36m-0.0000000e+00\u001b[0m\u001b[1m]\u001b[0m,\n",
       "        \u001b[1m[\u001b[0m \u001b[1;36m0.0000000e+00\u001b[0m,  \u001b[1;36m0.0000000e+00\u001b[0m, \u001b[1;36m-3.1208273e+01\u001b[0m\u001b[1m]\u001b[0m\u001b[1m]\u001b[0m,\n",
       "\n",
       "       \u001b[1m[\u001b[0m\u001b[1m[\u001b[0m\u001b[1;36m-3.9366820e-01\u001b[0m, \u001b[1;36m-3.2880459e-02\u001b[0m, \u001b[1;36m-2.5102872e-01\u001b[0m\u001b[1m]\u001b[0m,\n",
       "        \u001b[1m[\u001b[0m\u001b[1;36m-3.2880459e-02\u001b[0m, \u001b[1;36m-5.3737001e-03\u001b[0m,  \u001b[1;36m5.6950629e-02\u001b[0m\u001b[1m]\u001b[0m,\n",
       "        \u001b[1m[\u001b[0m\u001b[1;36m-2.5102872e-01\u001b[0m,  \u001b[1;36m5.6950629e-02\u001b[0m, \u001b[1;36m-1.0380522e-01\u001b[0m\u001b[1m]\u001b[0m\u001b[1m]\u001b[0m,\n",
       "\n",
       "       \u001b[1m[\u001b[0m\u001b[1m[\u001b[0m \u001b[1;36m5.2157402e-01\u001b[0m,  \u001b[1;36m0.0000000e+00\u001b[0m,  \u001b[1;36m1.8446822e-01\u001b[0m\u001b[1m]\u001b[0m,\n",
       "        \u001b[1m[\u001b[0m \u001b[1;36m0.0000000e+00\u001b[0m, \u001b[1;36m-6.7470860e-01\u001b[0m,  \u001b[1;36m0.0000000e+00\u001b[0m\u001b[1m]\u001b[0m,\n",
       "        \u001b[1m[\u001b[0m \u001b[1;36m1.8446822e-01\u001b[0m,  \u001b[1;36m0.0000000e+00\u001b[0m, \u001b[1;36m-6.4626366e-01\u001b[0m\u001b[1m]\u001b[0m\u001b[1m]\u001b[0m,\n",
       "\n",
       "       \u001b[1m[\u001b[0m\u001b[1m[\u001b[0m\u001b[1;36m-4.8696548e-01\u001b[0m,  \u001b[1;36m6.4782208e-01\u001b[0m,  \u001b[1;36m8.5105646e-01\u001b[0m\u001b[1m]\u001b[0m,\n",
       "        \u001b[1m[\u001b[0m \u001b[1;36m6.4782208e-01\u001b[0m, \u001b[1;36m-1.8883285e-01\u001b[0m,  \u001b[1;36m2.3763327e-01\u001b[0m\u001b[1m]\u001b[0m,\n",
       "        \u001b[1m[\u001b[0m \u001b[1;36m8.5105652e-01\u001b[0m,  \u001b[1;36m2.3763327e-01\u001b[0m,  \u001b[1;36m8.6133838e-01\u001b[0m\u001b[1m]\u001b[0m\u001b[1m]\u001b[0m,\n",
       "\n",
       "       \u001b[1m[\u001b[0m\u001b[1m[\u001b[0m \u001b[1;36m1.8067325e+00\u001b[0m,  \u001b[1;36m0.0000000e+00\u001b[0m,  \u001b[1;36m0.0000000e+00\u001b[0m\u001b[1m]\u001b[0m,\n",
       "        \u001b[1m[\u001b[0m \u001b[1;36m0.0000000e+00\u001b[0m,  \u001b[1;36m1.8067325e+00\u001b[0m,  \u001b[1;36m0.0000000e+00\u001b[0m\u001b[1m]\u001b[0m,\n",
       "        \u001b[1m[\u001b[0m \u001b[1;36m0.0000000e+00\u001b[0m,  \u001b[1;36m0.0000000e+00\u001b[0m, \u001b[1;36m-5.1907830e+00\u001b[0m\u001b[1m]\u001b[0m\u001b[1m]\u001b[0m\u001b[1m]\u001b[0m, \u001b[33mdtype\u001b[0m=\u001b[35mfloat32\u001b[0m\u001b[1m)\u001b[0m"
      ]
     },
     "execution_count": 109,
     "metadata": {},
     "output_type": "execute_result"
    }
   ],
   "source": [
    "s"
   ]
  },
  {
   "cell_type": "code",
   "execution_count": 65,
   "metadata": {},
   "outputs": [
    {
     "data": {
      "text/html": [
       "<pre style=\"white-space:pre;overflow-x:auto;line-height:normal;font-family:Menlo,'DejaVu Sans Mono',consolas,'Courier New',monospace\"></pre>\n"
      ],
      "text/plain": []
     },
     "metadata": {},
     "output_type": "display_data"
    },
    {
     "data": {
      "image/png": "[encoded data removed]",
      "text/plain": [
       "\u001b[1m<\u001b[0m\u001b[1;95mFigure\u001b[0m\u001b[39m size 80\u001b[0m\u001b[1;36m0x600\u001b[0m\u001b[39m with \u001b[0m\u001b[1;36m1\u001b[0m\u001b[39m Axes\u001b[0m\u001b[1m>\u001b[0m"
      ]
     },
     "metadata": {},
     "output_type": "display_data"
    },
    {
     "data": {
      "text/html": [
       "<pre style=\"white-space:pre;overflow-x:auto;line-height:normal;font-family:Menlo,'DejaVu Sans Mono',consolas,'Courier New',monospace\"></pre>\n"
      ],
      "text/plain": []
     },
     "metadata": {},
     "output_type": "display_data"
    },
    {
     "data": {
      "text/plain": [
       "\u001b[1m[\u001b[0m\u001b[1m<\u001b[0m\u001b[1;95mmatplotlib.lines.Line2D\u001b[0m\u001b[39m object at \u001b[0m\u001b[1;36m0x7f37444bd340\u001b[0m\u001b[1m>\u001b[0m\u001b[1m]\u001b[0m"
      ]
     },
     "execution_count": 65,
     "metadata": {},
     "output_type": "execute_result"
    },
    {
     "data": {
      "text/html": [
       "<pre style=\"white-space:pre;overflow-x:auto;line-height:normal;font-family:Menlo,'DejaVu Sans Mono',consolas,'Courier New',monospace\"></pre>\n"
      ],
      "text/plain": []
     },
     "metadata": {},
     "output_type": "display_data"
    },
    {
     "data": {
      "image/png": "[encoded data removed]",
      "text/plain": [
       "\u001b[1m<\u001b[0m\u001b[1;95mFigure\u001b[0m\u001b[39m size 80\u001b[0m\u001b[1;36m0x600\u001b[0m\u001b[39m with \u001b[0m\u001b[1;36m1\u001b[0m\u001b[39m Axes\u001b[0m\u001b[1m>\u001b[0m"
      ]
     },
     "metadata": {},
     "output_type": "display_data"
    }
   ],
   "source": [
    "plt.plot((jnp.abs(f) / (jnp.abs(fhat) + 1e-2)).mean(axis=1))\n",
    "plt.show()\n",
    "plt.plot(cg.n_node[cg.nodes.graph_i][node_pad])"
   ]
  },
  {
   "cell_type": "code",
   "execution_count": 42,
   "metadata": {},
   "outputs": [
    {
     "data": {
      "text/html": [
       "<pre style=\"white-space:pre;overflow-x:auto;line-height:normal;font-family:Menlo,'DejaVu Sans Mono',consolas,'Courier New',monospace\"></pre>\n"
      ],
      "text/plain": []
     },
     "metadata": {},
     "output_type": "display_data"
    },
    {
     "data": {
      "text/plain": [
       "\u001b[1;35mArray\u001b[0m\u001b[1m(\u001b[0m\u001b[1;36m0.5799207\u001b[0m, \u001b[33mdtype\u001b[0m=\u001b[35mfloat32\u001b[0m\u001b[1m)\u001b[0m"
      ]
     },
     "execution_count": 42,
     "metadata": {},
     "output_type": "execute_result"
    }
   ],
   "source": [
    "l1_loss(fhat)"
   ]
  },
  {
   "cell_type": "code",
   "execution_count": 43,
   "metadata": {},
   "outputs": [
    {
     "data": {
      "text/html": [
       "<pre style=\"white-space:pre;overflow-x:auto;line-height:normal;font-family:Menlo,'DejaVu Sans Mono',consolas,'Courier New',monospace\"></pre>\n"
      ],
      "text/plain": []
     },
     "metadata": {},
     "output_type": "display_data"
    },
    {
     "data": {
      "text/plain": [
       "\u001b[1;35mArray\u001b[0m\u001b[1m(\u001b[0m\u001b[1;36m0.04981579\u001b[0m, \u001b[33mdtype\u001b[0m=\u001b[35mfloat32\u001b[0m\u001b[1m)\u001b[0m"
      ]
     },
     "execution_count": 43,
     "metadata": {},
     "output_type": "execute_result"
    }
   ],
   "source": [
    "l1_loss(f)"
   ]
  },
  {
   "cell_type": "code",
   "execution_count": 41,
   "metadata": {},
   "outputs": [
    {
     "data": {
      "text/html": [
       "<pre style=\"white-space:pre;overflow-x:auto;line-height:normal;font-family:Menlo,'DejaVu Sans Mono',consolas,'Courier New',monospace\"></pre>\n"
      ],
      "text/plain": []
     },
     "metadata": {},
     "output_type": "display_data"
    },
    {
     "data": {
      "text/plain": [
       "\u001b[1;35mArray\u001b[0m\u001b[1m(\u001b[0m\u001b[1;36m0.5978559\u001b[0m, \u001b[33mdtype\u001b[0m=\u001b[35mfloat32\u001b[0m\u001b[1m)\u001b[0m"
      ]
     },
     "execution_count": 41,
     "metadata": {},
     "output_type": "execute_result"
    }
   ],
   "source": [
    "l1_loss(-fhat, f)"
   ]
  },
  {
   "cell_type": "code",
   "execution_count": 17,
   "metadata": {},
   "outputs": [
    {
     "data": {
      "text/html": [
       "<pre style=\"white-space:pre;overflow-x:auto;line-height:normal;font-family:Menlo,'DejaVu Sans Mono',consolas,'Courier New',monospace\"></pre>\n"
      ],
      "text/plain": []
     },
     "metadata": {},
     "output_type": "display_data"
    },
    {
     "data": {
      "text/plain": [
       "\u001b[1;35mArray\u001b[0m\u001b[1m(\u001b[0m\u001b[1;36m2.1459146\u001b[0m, \u001b[33mdtype\u001b[0m=\u001b[35mfloat32\u001b[0m\u001b[1m)\u001b[0m"
      ]
     },
     "execution_count": 17,
     "metadata": {},
     "output_type": "execute_result"
    }
   ],
   "source": [
    "l1_loss(out.energy, cg.target_data.e_form)"
   ]
  },
  {
   "cell_type": "code",
   "execution_count": 13,
   "metadata": {},
   "outputs": [
    {
     "data": {
      "text/html": [
       "<pre style=\"white-space:pre;overflow-x:auto;line-height:normal;font-family:Menlo,'DejaVu Sans Mono',consolas,'Courier New',monospace\"></pre>\n"
      ],
      "text/plain": []
     },
     "metadata": {},
     "output_type": "display_data"
    },
    {
     "data": {
      "text/plain": [
       "\u001b[1;35mArray\u001b[0m\u001b[1m(\u001b[0m\u001b[1;36m0.6943037\u001b[0m, \u001b[33mdtype\u001b[0m=\u001b[35mfloat32\u001b[0m\u001b[1m)\u001b[0m"
      ]
     },
     "execution_count": 13,
     "metadata": {},
     "output_type": "execute_result"
    }
   ],
   "source": [
    "l1_loss(f)"
   ]
  },
  {
   "cell_type": "code",
   "execution_count": null,
   "metadata": {},
   "outputs": [],
   "source": [
    "l1_loss(fhat, f)"
   ]
  },
  {
   "cell_type": "code",
   "execution_count": 85,
   "metadata": {},
   "outputs": [
    {
     "data": {
      "text/html": [
       "<pre style=\"white-space:pre;overflow-x:auto;line-height:normal;font-family:Menlo,'DejaVu Sans Mono',consolas,'Courier New',monospace\"></pre>\n"
      ],
      "text/plain": []
     },
     "metadata": {},
     "output_type": "display_data"
    },
    {
     "data": {
      "text/plain": [
       "\n",
       "\u001b[1;35mArray\u001b[0m\u001b[1m(\u001b[0m\u001b[1m[\u001b[0m\u001b[1;36m2696.727\u001b[0m   ,  \u001b[1;36m992.36285\u001b[0m ,  \u001b[1;36m620.93396\u001b[0m ,  \u001b[1;36m776.3881\u001b[0m  , \u001b[1;36m1254.885\u001b[0m   ,\n",
       "        \u001b[1;36m445.16635\u001b[0m ,  \u001b[1;36m662.7077\u001b[0m  ,  \u001b[1;36m448.4857\u001b[0m  ,  \u001b[1;36m603.1233\u001b[0m  ,  \u001b[1;36m495.03308\u001b[0m ,\n",
       "        \u001b[1;36m755.0803\u001b[0m  ,  \u001b[1;36m326.15817\u001b[0m ,  \u001b[1;36m325.39355\u001b[0m ,  \u001b[1;36m279.91446\u001b[0m ,  \u001b[1;36m277.42963\u001b[0m ,\n",
       "        \u001b[1;36m258.77118\u001b[0m ,  \u001b[1;36m274.63596\u001b[0m ,  \u001b[1;36m342.94644\u001b[0m ,  \u001b[1;36m159.77986\u001b[0m ,  \u001b[1;36m166.9987\u001b[0m  ,\n",
       "        \u001b[1;36m158.49847\u001b[0m ,  \u001b[1;36m213.66805\u001b[0m ,  \u001b[1;36m142.81676\u001b[0m ,  \u001b[1;36m195.74626\u001b[0m ,  \u001b[1;36m103.411896\u001b[0m,\n",
       "        \u001b[1;36m204.39546\u001b[0m ,   \u001b[1;36m65.49931\u001b[0m ,   \u001b[1;36m44.829044\u001b[0m,   \u001b[1;36m61.68288\u001b[0m ,   \u001b[1;36m52.1802\u001b[0m  ,\n",
       "         \u001b[1;36m26.543814\u001b[0m,    \u001b[1;36m0\u001b[0m.      \u001b[1m]\u001b[0m, \u001b[33mdtype\u001b[0m=\u001b[35mfloat32\u001b[0m\u001b[1m)\u001b[0m"
      ]
     },
     "execution_count": 85,
     "metadata": {},
     "output_type": "execute_result"
    }
   ],
   "source": [
    "jnp.linalg.det(cg.graph_data.lat)"
   ]
  },
  {
   "cell_type": "code",
   "execution_count": null,
   "metadata": {},
   "outputs": [],
   "source": [
    "loss = config.train.loss.efs_loss(cg, out)"
   ]
  },
  {
   "cell_type": "code",
   "execution_count": 35,
   "metadata": {},
   "outputs": [
    {
     "data": {
      "text/html": [
       "<pre style=\"white-space:pre;overflow-x:auto;line-height:normal;font-family:Menlo,'DejaVu Sans Mono',consolas,'Courier New',monospace\"></pre>\n"
      ],
      "text/plain": []
     },
     "metadata": {},
     "output_type": "display_data"
    },
    {
     "data": {
      "text/plain": [
       "\n",
       "\u001b[1;35mArray\u001b[0m\u001b[1m(\u001b[0m\u001b[1m[\u001b[0m\u001b[1;36m0\u001b[0m, \u001b[1;36m0\u001b[0m, \u001b[1;36m0\u001b[0m, \u001b[1;36m0\u001b[0m, \u001b[1;36m0\u001b[0m, \u001b[1;36m0\u001b[0m, \u001b[1;36m0\u001b[0m, \u001b[1;36m0\u001b[0m, \u001b[1;36m0\u001b[0m, \u001b[1;36m0\u001b[0m, \u001b[1;36m0\u001b[0m, \u001b[1;36m0\u001b[0m, \u001b[1;36m0\u001b[0m, \u001b[1;36m0\u001b[0m, \u001b[1;36m0\u001b[0m, \u001b[1;36m0\u001b[0m, \u001b[1;36m0\u001b[0m, \u001b[1;36m0\u001b[0m, \u001b[1;36m0\u001b[0m, \u001b[1;36m0\u001b[0m, \u001b[1;36m0\u001b[0m, \u001b[1;36m0\u001b[0m,\n",
       "       \u001b[1;36m0\u001b[0m, \u001b[1;36m0\u001b[0m, \u001b[1;36m0\u001b[0m, \u001b[1;36m0\u001b[0m, \u001b[1;36m0\u001b[0m, \u001b[1;36m0\u001b[0m, \u001b[1;36m0\u001b[0m, \u001b[1;36m0\u001b[0m, \u001b[1;36m0\u001b[0m, \u001b[1;36m0\u001b[0m, \u001b[1;36m0\u001b[0m, \u001b[1;36m0\u001b[0m, \u001b[1;36m0\u001b[0m, \u001b[1;36m0\u001b[0m, \u001b[1;36m0\u001b[0m, \u001b[1;36m0\u001b[0m, \u001b[1;36m0\u001b[0m, \u001b[1;36m0\u001b[0m, \u001b[1;36m0\u001b[0m, \u001b[1;36m0\u001b[0m, \u001b[1;36m0\u001b[0m, \u001b[1;36m0\u001b[0m,\n",
       "       \u001b[1;36m0\u001b[0m, \u001b[1;36m0\u001b[0m, \u001b[1;36m0\u001b[0m, \u001b[1;36m0\u001b[0m, \u001b[1;36m0\u001b[0m, \u001b[1;36m0\u001b[0m, \u001b[1;36m0\u001b[0m, \u001b[1;36m0\u001b[0m, \u001b[1;36m0\u001b[0m, \u001b[1;36m0\u001b[0m, \u001b[1;36m0\u001b[0m, \u001b[1;36m0\u001b[0m, \u001b[1;36m0\u001b[0m, \u001b[1;36m0\u001b[0m, \u001b[1;36m0\u001b[0m, \u001b[1;36m0\u001b[0m, \u001b[1;36m0\u001b[0m, \u001b[1;36m0\u001b[0m, \u001b[1;36m0\u001b[0m, \u001b[1;36m0\u001b[0m, \u001b[1;36m0\u001b[0m, \u001b[1;36m0\u001b[0m,\n",
       "       \u001b[1;36m0\u001b[0m, \u001b[1;36m0\u001b[0m, \u001b[1;36m0\u001b[0m, \u001b[1;36m0\u001b[0m, \u001b[1;36m0\u001b[0m, \u001b[1;36m0\u001b[0m, \u001b[1;36m0\u001b[0m, \u001b[1;36m0\u001b[0m, \u001b[1;36m0\u001b[0m, \u001b[1;36m0\u001b[0m, \u001b[1;36m0\u001b[0m, \u001b[1;36m0\u001b[0m, \u001b[1;36m0\u001b[0m, \u001b[1;36m0\u001b[0m, \u001b[1;36m0\u001b[0m, \u001b[1;36m0\u001b[0m, \u001b[1;36m0\u001b[0m, \u001b[1;36m0\u001b[0m, \u001b[1;36m0\u001b[0m, \u001b[1;36m0\u001b[0m, \u001b[1;36m0\u001b[0m, \u001b[1;36m0\u001b[0m,\n",
       "       \u001b[1;36m0\u001b[0m, \u001b[1;36m0\u001b[0m, \u001b[1;36m0\u001b[0m, \u001b[1;36m0\u001b[0m, \u001b[1;36m0\u001b[0m, \u001b[1;36m0\u001b[0m, \u001b[1;36m0\u001b[0m, \u001b[1;36m0\u001b[0m, \u001b[1;36m0\u001b[0m, \u001b[1;36m0\u001b[0m, \u001b[1;36m0\u001b[0m, \u001b[1;36m0\u001b[0m, \u001b[1;36m0\u001b[0m, \u001b[1;36m0\u001b[0m, \u001b[1;36m0\u001b[0m, \u001b[1;36m0\u001b[0m, \u001b[1;36m0\u001b[0m, \u001b[1;36m0\u001b[0m, \u001b[1;36m0\u001b[0m, \u001b[1;36m0\u001b[0m, \u001b[1;36m0\u001b[0m, \u001b[1;36m0\u001b[0m,\n",
       "       \u001b[1;36m0\u001b[0m, \u001b[1;36m0\u001b[0m, \u001b[1;36m0\u001b[0m, \u001b[1;36m0\u001b[0m, \u001b[1;36m0\u001b[0m, \u001b[1;36m0\u001b[0m, \u001b[1;36m0\u001b[0m, \u001b[1;36m0\u001b[0m, \u001b[1;36m0\u001b[0m, \u001b[1;36m0\u001b[0m, \u001b[1;36m0\u001b[0m, \u001b[1;36m0\u001b[0m, \u001b[1;36m0\u001b[0m, \u001b[1;36m0\u001b[0m, \u001b[1;36m0\u001b[0m, \u001b[1;36m0\u001b[0m, \u001b[1;36m0\u001b[0m, \u001b[1;36m0\u001b[0m, \u001b[1;36m0\u001b[0m, \u001b[1;36m0\u001b[0m, \u001b[1;36m0\u001b[0m, \u001b[1;36m0\u001b[0m,\n",
       "       \u001b[1;36m0\u001b[0m, \u001b[1;36m0\u001b[0m, \u001b[1;36m0\u001b[0m, \u001b[1;36m0\u001b[0m, \u001b[1;36m0\u001b[0m, \u001b[1;36m0\u001b[0m, \u001b[1;36m0\u001b[0m, \u001b[1;36m0\u001b[0m, \u001b[1;36m0\u001b[0m, \u001b[1;36m0\u001b[0m, \u001b[1;36m0\u001b[0m, \u001b[1;36m0\u001b[0m, \u001b[1;36m0\u001b[0m, \u001b[1;36m0\u001b[0m, \u001b[1;36m0\u001b[0m, \u001b[1;36m0\u001b[0m, \u001b[1;36m0\u001b[0m, \u001b[1;36m0\u001b[0m, \u001b[1;36m0\u001b[0m, \u001b[1;36m0\u001b[0m, \u001b[1;36m0\u001b[0m, \u001b[1;36m0\u001b[0m,\n",
       "       \u001b[1;36m0\u001b[0m, \u001b[1;36m0\u001b[0m, \u001b[1;36m0\u001b[0m, \u001b[1;36m0\u001b[0m, \u001b[1;36m0\u001b[0m, \u001b[1;36m0\u001b[0m, \u001b[1;36m0\u001b[0m, \u001b[1;36m0\u001b[0m, \u001b[1;36m0\u001b[0m, \u001b[1;36m0\u001b[0m, \u001b[1;36m0\u001b[0m, \u001b[1;36m0\u001b[0m, \u001b[1;36m0\u001b[0m, \u001b[1;36m0\u001b[0m, \u001b[1;36m0\u001b[0m, \u001b[1;36m0\u001b[0m, \u001b[1;36m0\u001b[0m, \u001b[1;36m0\u001b[0m, \u001b[1;36m0\u001b[0m, \u001b[1;36m0\u001b[0m, \u001b[1;36m0\u001b[0m, \u001b[1;36m0\u001b[0m,\n",
       "       \u001b[1;36m0\u001b[0m, \u001b[1;36m0\u001b[0m, \u001b[1;36m0\u001b[0m, \u001b[1;36m0\u001b[0m, \u001b[1;36m0\u001b[0m, \u001b[1;36m0\u001b[0m, \u001b[1;36m0\u001b[0m, \u001b[1;36m0\u001b[0m, \u001b[1;36m0\u001b[0m, \u001b[1;36m0\u001b[0m, \u001b[1;36m0\u001b[0m, \u001b[1;36m0\u001b[0m, \u001b[1;36m0\u001b[0m, \u001b[1;36m0\u001b[0m, \u001b[1;36m0\u001b[0m, \u001b[1;36m0\u001b[0m, \u001b[1;36m0\u001b[0m, \u001b[1;36m0\u001b[0m, \u001b[1;36m0\u001b[0m, \u001b[1;36m0\u001b[0m, \u001b[1;36m0\u001b[0m, \u001b[1;36m0\u001b[0m,\n",
       "       \u001b[1;36m0\u001b[0m, \u001b[1;36m0\u001b[0m, \u001b[1;36m0\u001b[0m, \u001b[1;36m0\u001b[0m, \u001b[1;36m0\u001b[0m, \u001b[1;36m0\u001b[0m, \u001b[1;36m0\u001b[0m, \u001b[1;36m0\u001b[0m, \u001b[1;36m0\u001b[0m, \u001b[1;36m0\u001b[0m, \u001b[1;36m0\u001b[0m, \u001b[1;36m0\u001b[0m, \u001b[1;36m0\u001b[0m, \u001b[1;36m0\u001b[0m, \u001b[1;36m0\u001b[0m, \u001b[1;36m0\u001b[0m, \u001b[1;36m0\u001b[0m, \u001b[1;36m0\u001b[0m, \u001b[1;36m0\u001b[0m, \u001b[1;36m0\u001b[0m, \u001b[1;36m0\u001b[0m, \u001b[1;36m0\u001b[0m,\n",
       "       \u001b[1;36m0\u001b[0m, \u001b[1;36m0\u001b[0m, \u001b[1;36m0\u001b[0m, \u001b[1;36m0\u001b[0m, \u001b[1;36m0\u001b[0m, \u001b[1;36m0\u001b[0m, \u001b[1;36m0\u001b[0m, \u001b[1;36m0\u001b[0m, \u001b[1;36m0\u001b[0m, \u001b[1;36m0\u001b[0m, \u001b[1;36m0\u001b[0m, \u001b[1;36m0\u001b[0m, \u001b[1;36m0\u001b[0m, \u001b[1;36m0\u001b[0m, \u001b[1;36m0\u001b[0m, \u001b[1;36m0\u001b[0m, \u001b[1;36m0\u001b[0m, \u001b[1;36m0\u001b[0m, \u001b[1;36m0\u001b[0m, \u001b[1;36m0\u001b[0m, \u001b[1;36m0\u001b[0m, \u001b[1;36m0\u001b[0m,\n",
       "       \u001b[1;36m0\u001b[0m, \u001b[1;36m0\u001b[0m, \u001b[1;36m0\u001b[0m, \u001b[1;36m0\u001b[0m, \u001b[1;36m0\u001b[0m, \u001b[1;36m0\u001b[0m, \u001b[1;36m0\u001b[0m, \u001b[1;36m0\u001b[0m, \u001b[1;36m0\u001b[0m, \u001b[1;36m0\u001b[0m, \u001b[1;36m0\u001b[0m, \u001b[1;36m0\u001b[0m, \u001b[1;36m0\u001b[0m, \u001b[1;36m0\u001b[0m, \u001b[1;36m0\u001b[0m, \u001b[1;36m0\u001b[0m, \u001b[1;36m0\u001b[0m, \u001b[1;36m0\u001b[0m, \u001b[1;36m0\u001b[0m, \u001b[1;36m0\u001b[0m, \u001b[1;36m0\u001b[0m, \u001b[1;36m0\u001b[0m,\n",
       "       \u001b[1;36m0\u001b[0m, \u001b[1;36m0\u001b[0m, \u001b[1;36m0\u001b[0m, \u001b[1;36m0\u001b[0m, \u001b[1;36m0\u001b[0m, \u001b[1;36m0\u001b[0m, \u001b[1;36m0\u001b[0m, \u001b[1;36m0\u001b[0m\u001b[1m]\u001b[0m, \u001b[33mdtype\u001b[0m=\u001b[35mint32\u001b[0m\u001b[1m)\u001b[0m"
      ]
     },
     "execution_count": 35,
     "metadata": {},
     "output_type": "execute_result"
    }
   ],
   "source": [
    "cg.nodes.graph_i[:272]"
   ]
  },
  {
   "cell_type": "code",
   "execution_count": 93,
   "metadata": {},
   "outputs": [],
   "source": [
    "from pymatgen.core import Lattice\n",
    "\n",
    "lat = Lattice(cg.graph_data.lat[0])"
   ]
  },
  {
   "cell_type": "code",
   "execution_count": 97,
   "metadata": {},
   "outputs": [],
   "source": [
    "volume = jnp.abs(jnp.linalg.det(cg.graph_data.lat))[..., None, None]\n",
    "stress_cell = (0.1 * out.stress / jnp.where(volume == 0, jnp.ones_like(volume), volume))"
   ]
  },
  {
   "cell_type": "code",
   "execution_count": 98,
   "metadata": {},
   "outputs": [
    {
     "name": "stdout",
     "output_type": "stream",
     "text": [
      "15.490802\n"
     ]
    },
    {
     "data": {
      "text/html": [
       "<pre style=\"white-space:pre;overflow-x:auto;line-height:normal;font-family:Menlo,'DejaVu Sans Mono',consolas,'Courier New',monospace\"></pre>\n"
      ],
      "text/plain": []
     },
     "metadata": {},
     "output_type": "display_data"
    },
    {
     "data": {
      "text/plain": [
       "\u001b[1m<\u001b[0m\u001b[1;95mseaborn.axisgrid.JointGrid\u001b[0m\u001b[39m object at \u001b[0m\u001b[1;36m0x7ef79c6952e0\u001b[0m\u001b[1m>\u001b[0m"
      ]
     },
     "execution_count": 98,
     "metadata": {},
     "output_type": "execute_result"
    },
    {
     "data": {
      "text/html": [
       "<pre style=\"white-space:pre;overflow-x:auto;line-height:normal;font-family:Menlo,'DejaVu Sans Mono',consolas,'Courier New',monospace\"></pre>\n"
      ],
      "text/plain": []
     },
     "metadata": {},
     "output_type": "display_data"
    },
    {
     "data": {
      "image/png": "[encoded data removed]",
      "text/plain": [
       "\u001b[1m<\u001b[0m\u001b[1;95mFigure\u001b[0m\u001b[39m size 60\u001b[0m\u001b[1;36m0x600\u001b[0m\u001b[39m with \u001b[0m\u001b[1;36m3\u001b[0m\u001b[39m Axes\u001b[0m\u001b[1m>\u001b[0m"
      ]
     },
     "metadata": {},
     "output_type": "display_data"
    }
   ],
   "source": [
    "y = cg.target_data.stress[cg.padding_mask]\n",
    "volume = jnp.linalg.det(cg.graph_data.lat)[..., None, None]\n",
    "yhat = stress_cell[cg.padding_mask]\n",
    "\n",
    "z = y - yhat\n",
    "# z = z[cg.padding_mask[cg.nodes.graph_i]]\n",
    "print(jnp.mean(jnp.abs(z)))\n",
    "sns.jointplot(x=yhat.reshape(-1), y=y.reshape(-1), kind='hex')"
   ]
  },
  {
   "cell_type": "code",
   "execution_count": 40,
   "metadata": {},
   "outputs": [
    {
     "data": {
      "text/html": [
       "<pre style=\"white-space:pre;overflow-x:auto;line-height:normal;font-family:Menlo,'DejaVu Sans Mono',consolas,'Courier New',monospace\"></pre>\n"
      ],
      "text/plain": []
     },
     "metadata": {},
     "output_type": "display_data"
    },
    {
     "data": {
      "text/plain": [
       "\n",
       "\u001b[1;35mArray\u001b[0m\u001b[1m(\u001b[0m\u001b[1m[\u001b[0m\u001b[1m[\u001b[0m\u001b[1;36m10.297847\u001b[0m  ,  \u001b[1;36m0\u001b[0m.        , \u001b[1;36m-2.931051\u001b[0m  \u001b[1m]\u001b[0m,\n",
       "       \u001b[1m[\u001b[0m \u001b[1;36m0\u001b[0m.        ,  \u001b[1;36m9.247357\u001b[0m  ,  \u001b[1;36m0\u001b[0m.        \u001b[1m]\u001b[0m,\n",
       "       \u001b[1m[\u001b[0m\u001b[1;36m-0.02958372\u001b[0m,  \u001b[1;36m0\u001b[0m.        , \u001b[1;36m10.42935\u001b[0m   \u001b[1m]\u001b[0m\u001b[1m]\u001b[0m, \u001b[33mdtype\u001b[0m=\u001b[35mfloat32\u001b[0m\u001b[1m)\u001b[0m"
      ]
     },
     "execution_count": 40,
     "metadata": {},
     "output_type": "execute_result"
    }
   ],
   "source": [
    "cg.graph_data.lat[1]"
   ]
  },
  {
   "cell_type": "code",
   "execution_count": 13,
   "metadata": {},
   "outputs": [
    {
     "data": {
      "text/html": [
       "<pre style=\"white-space:pre;overflow-x:auto;line-height:normal;font-family:Menlo,'DejaVu Sans Mono',consolas,'Courier New',monospace\"></pre>\n"
      ],
      "text/plain": []
     },
     "metadata": {},
     "output_type": "display_data"
    },
    {
     "data": {
      "text/plain": [
       "\u001b[1m<\u001b[0m\u001b[1;95mmatplotlib.collections.PathCollection\u001b[0m\u001b[39m object at \u001b[0m\u001b[1;36m0x7f01105c95b0\u001b[0m\u001b[1m>\u001b[0m"
      ]
     },
     "execution_count": 13,
     "metadata": {},
     "output_type": "execute_result"
    },
    {
     "data": {
      "text/html": [
       "<pre style=\"white-space:pre;overflow-x:auto;line-height:normal;font-family:Menlo,'DejaVu Sans Mono',consolas,'Courier New',monospace\"></pre>\n"
      ],
      "text/plain": []
     },
     "metadata": {},
     "output_type": "display_data"
    },
    {
     "data": {
      "image/png": "[encoded data removed]",
      "text/plain": [
       "\u001b[1m<\u001b[0m\u001b[1;95mFigure\u001b[0m\u001b[39m size 80\u001b[0m\u001b[1;36m0x600\u001b[0m\u001b[39m with \u001b[0m\u001b[1;36m1\u001b[0m\u001b[39m Axes\u001b[0m\u001b[1m>\u001b[0m"
      ]
     },
     "metadata": {},
     "output_type": "display_data"
    }
   ],
   "source": [
    "plt.scatter(out.energy, cg.e_form)"
   ]
  },
  {
   "cell_type": "code",
   "execution_count": null,
   "metadata": {},
   "outputs": [],
   "source": []
  }
 ],
 "metadata": {
  "kernelspec": {
   "display_name": "avid",
   "language": "python",
   "name": "python3"
  },
  "language_info": {
   "codemirror_mode": {
    "name": "ipython",
    "version": 3
   },
   "file_extension": ".py",
   "mimetype": "text/x-python",
   "name": "python",
   "nbconvert_exporter": "python",
   "pygments_lexer": "ipython3",
   "version": "3.12.0"
  }
 },
 "nbformat": 4,
 "nbformat_minor": 2
}
