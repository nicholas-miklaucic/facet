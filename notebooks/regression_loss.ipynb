{
 "cells": [
  {
   "cell_type": "code",
   "execution_count": 1,
   "metadata": {},
   "outputs": [
    {
     "name": "stderr",
     "output_type": "stream",
     "text": [
      "/home/nmiklaucic/miniconda3/envs/avid/lib/python3.12/site-packages/IPython/core/magics/osm.py:393: UserWarning: This is now an optional IPython functionality, using bookmarks requires you to install the `pickleshare` library.\n",
      "  bkms = self.shell.db.get('bookmarks', {})\n",
      "/home/nmiklaucic/miniconda3/envs/avid/lib/python3.12/site-packages/IPython/core/magics/osm.py:417: UserWarning: This is now an optional IPython functionality, setting dhist requires you to install the `pickleshare` library.\n",
      "  self.shell.db['dhist'] = compress_dhist(dhist)[-100:]\n"
     ]
    },
    {
     "name": "stdout",
     "output_type": "stream",
     "text": [
      "/home/nmiklaucic/cdv\n"
     ]
    }
   ],
   "source": [
    "%cd ~/cdv/\n",
    "\n",
    "import os\n",
    "\n",
    "os.environ['CUDA_VISIBLE_DEVICES'] = '0,1,2'\n",
    "\n",
    "import numpy as np\n",
    "import jax.numpy as jnp\n",
    "import jax\n",
    "import jax.random as jr\n",
    "import pandas as pd\n",
    "import plotly.express as px\n",
    "import matplotlib.pyplot as plt\n",
    "import seaborn as sns\n",
    "import rho_plus as rp\n",
    "\n",
    "is_dark = False\n",
    "theme, cs = rp.mpl_setup(is_dark)\n",
    "rp.plotly_setup(is_dark)"
   ]
  },
  {
   "cell_type": "code",
   "execution_count": 56,
   "metadata": {},
   "outputs": [
    {
     "name": "stderr",
     "output_type": "stream",
     "text": [
      "WARNING:absl:Configured `CheckpointManager` using deprecated legacy API. Please follow the instructions at https://orbax.readthedocs.io/en/latest/api_refactor.html to migrate.\n",
      "WARNING:absl:Given directory is read only=/home/nmiklaucic/cdv/logs/10-16-02-31_588/final_ckpt/ckpts\n",
      "WARNING:absl:`StandardCheckpointHandler` expects a target tree to be provided for restore. Not doing so is generally UNSAFE unless you know the present topology to be the same one as the checkpoint was saved under.\n"
     ]
    }
   ],
   "source": [
    "from pathlib import Path\n",
    "import pyrallis\n",
    "from facet.config import MainConfig\n",
    "import orbax.checkpoint as ocp\n",
    "\n",
    "from facet.training_state import TrainingRun\n",
    "from facet.checkpointing import best_ckpt\n",
    "\n",
    "# run_dir = Path('logs') / '10-15-01-06_751'\n",
    "run_dir = Path('logs') / '10-16-02-31_588'\n",
    "\n",
    "with open(run_dir / 'config.toml') as conf_file:\n",
    "    config = pyrallis.cfgparsing.load(MainConfig, conf_file)\n",
    "\n",
    "model = config.build_regressor()\n",
    "\n",
    "\n",
    "ckpt = best_ckpt(run_dir)\n",
    "ckpt = jax.tree.map(lambda x: x if isinstance(x, (float, int)) else x.astype(jnp.float32), ckpt)\n",
    "# model = model.bind(ckpt['state']['params'])"
   ]
  },
  {
   "cell_type": "code",
   "execution_count": 57,
   "metadata": {},
   "outputs": [
    {
     "data": {
      "text/html": [
       "<pre style=\"white-space:pre;overflow-x:auto;line-height:normal;font-family:Menlo,'DejaVu Sans Mono',consolas,'Courier New',monospace\"></pre>\n"
      ],
      "text/plain": []
     },
     "metadata": {},
     "output_type": "display_data"
    },
    {
     "data": {
      "text/plain": [
       "\u001b[1;35mCrystalGraphs\u001b[0m\u001b[1m(\u001b[0m\u001b[33mnodes\u001b[0m=\u001b[1m(\u001b[0m\u001b[1;36m1024\u001b[0m, \u001b[1;36m3\u001b[0m\u001b[1m)\u001b[0m, \u001b[33medges\u001b[0m=\u001b[1m(\u001b[0m\u001b[1;36m1024\u001b[0m, \u001b[1;36m48\u001b[0m\u001b[1m)\u001b[0m, \u001b[33mgraphs\u001b[0m=\u001b[1m(\u001b[0m\u001b[1;36m32\u001b[0m,\u001b[1m)\u001b[0m\u001b[1m)\u001b[0m"
      ]
     },
     "execution_count": 57,
     "metadata": {},
     "output_type": "execute_result"
    }
   ],
   "source": [
    "from facet.data.dataset import load_file\n",
    "cg = load_file(config, group_num=1)\n",
    "cg"
   ]
  },
  {
   "cell_type": "code",
   "execution_count": 58,
   "metadata": {},
   "outputs": [
    {
     "data": {
      "text/html": [
       "<pre style=\"white-space:pre;overflow-x:auto;line-height:normal;font-family:Menlo,'DejaVu Sans Mono',consolas,'Courier New',monospace\"></pre>\n"
      ],
      "text/plain": []
     },
     "metadata": {},
     "output_type": "display_data"
    },
    {
     "data": {
      "text/plain": [
       "\n",
       "\u001b[1;35mEFSOutput\u001b[0m\u001b[1m(\u001b[0m\n",
       "    \u001b[33menergy\u001b[0m=\u001b[1;35mArray\u001b[0m\u001b[1m(\u001b[0m\u001b[1m[\u001b[0m\u001b[1m[\u001b[0m\u001b[1;36m-6.256253\u001b[0m \u001b[1m]\u001b[0m,\n",
       "       \u001b[1m[\u001b[0m\u001b[1;36m-5.30866\u001b[0m  \u001b[1m]\u001b[0m,\n",
       "       \u001b[1m[\u001b[0m\u001b[1;36m-8.3378935\u001b[0m\u001b[1m]\u001b[0m,\n",
       "       \u001b[1m[\u001b[0m\u001b[1;36m-7.5297422\u001b[0m\u001b[1m]\u001b[0m,\n",
       "       \u001b[1m[\u001b[0m\u001b[1;36m-5.047133\u001b[0m \u001b[1m]\u001b[0m,\n",
       "       \u001b[1m[\u001b[0m\u001b[1;36m-5.048846\u001b[0m \u001b[1m]\u001b[0m,\n",
       "       \u001b[1m[\u001b[0m\u001b[1;36m-7.9875107\u001b[0m\u001b[1m]\u001b[0m,\n",
       "       \u001b[1m[\u001b[0m\u001b[1;36m-7.3119884\u001b[0m\u001b[1m]\u001b[0m,\n",
       "       \u001b[1m[\u001b[0m\u001b[1;36m-7.6301227\u001b[0m\u001b[1m]\u001b[0m,\n",
       "       \u001b[1m[\u001b[0m\u001b[1;36m-5.8468184\u001b[0m\u001b[1m]\u001b[0m,\n",
       "       \u001b[1m[\u001b[0m\u001b[1;36m-1.8532681\u001b[0m\u001b[1m]\u001b[0m,\n",
       "       \u001b[1m[\u001b[0m\u001b[1;36m-6.940027\u001b[0m \u001b[1m]\u001b[0m,\n",
       "       \u001b[1m[\u001b[0m\u001b[1;36m-7.1391973\u001b[0m\u001b[1m]\u001b[0m,\n",
       "       \u001b[1m[\u001b[0m\u001b[1;36m-7.718921\u001b[0m \u001b[1m]\u001b[0m,\n",
       "       \u001b[1m[\u001b[0m\u001b[1;36m-3.0589519\u001b[0m\u001b[1m]\u001b[0m,\n",
       "       \u001b[1m[\u001b[0m\u001b[1;36m-7.541955\u001b[0m \u001b[1m]\u001b[0m,\n",
       "       \u001b[1m[\u001b[0m\u001b[1;36m-1.5713776\u001b[0m\u001b[1m]\u001b[0m,\n",
       "       \u001b[1m[\u001b[0m\u001b[1;36m-4.723847\u001b[0m \u001b[1m]\u001b[0m,\n",
       "       \u001b[1m[\u001b[0m\u001b[1;36m-7.0953083\u001b[0m\u001b[1m]\u001b[0m,\n",
       "       \u001b[1m[\u001b[0m\u001b[1;36m-6.8845353\u001b[0m\u001b[1m]\u001b[0m,\n",
       "       \u001b[1m[\u001b[0m\u001b[1;36m-7.7402205\u001b[0m\u001b[1m]\u001b[0m,\n",
       "       \u001b[1m[\u001b[0m\u001b[1;36m-4.6901627\u001b[0m\u001b[1m]\u001b[0m,\n",
       "       \u001b[1m[\u001b[0m\u001b[1;36m-8.920253\u001b[0m \u001b[1m]\u001b[0m,\n",
       "       \u001b[1m[\u001b[0m\u001b[1;36m-3.2195308\u001b[0m\u001b[1m]\u001b[0m,\n",
       "       \u001b[1m[\u001b[0m\u001b[1;36m-1.5944992\u001b[0m\u001b[1m]\u001b[0m,\n",
       "       \u001b[1m[\u001b[0m\u001b[1;36m-6.147034\u001b[0m \u001b[1m]\u001b[0m,\n",
       "       \u001b[1m[\u001b[0m\u001b[1;36m-2.9470437\u001b[0m\u001b[1m]\u001b[0m,\n",
       "       \u001b[1m[\u001b[0m\u001b[1;36m-1.7440763\u001b[0m\u001b[1m]\u001b[0m,\n",
       "       \u001b[1m[\u001b[0m\u001b[1;36m-3.8091683\u001b[0m\u001b[1m]\u001b[0m,\n",
       "       \u001b[1m[\u001b[0m\u001b[1;36m-4.1739063\u001b[0m\u001b[1m]\u001b[0m,\n",
       "       \u001b[1m[\u001b[0m\u001b[1;36m-8.763533\u001b[0m \u001b[1m]\u001b[0m,\n",
       "       \u001b[1m[\u001b[0m \u001b[1;36m0\u001b[0m.       \u001b[1m]\u001b[0m\u001b[1m]\u001b[0m, \u001b[33mdtype\u001b[0m=\u001b[35mfloat32\u001b[0m\u001b[1m)\u001b[0m,\n",
       "    \u001b[33mforce\u001b[0m=\u001b[1;35mArray\u001b[0m\u001b[1m(\u001b[0m\u001b[1m[\u001b[0m\u001b[1m[\u001b[0m\u001b[1;36m-0.05725153\u001b[0m, \u001b[1;36m-0.03813761\u001b[0m,  \u001b[1;36m0.01205482\u001b[0m\u001b[1m]\u001b[0m,\n",
       "       \u001b[1m[\u001b[0m \u001b[1;36m0.05690525\u001b[0m, \u001b[1;36m-0.03809617\u001b[0m, \u001b[1;36m-0.01342034\u001b[0m\u001b[1m]\u001b[0m,\n",
       "       \u001b[1m[\u001b[0m \u001b[1;36m0.07102043\u001b[0m,  \u001b[1;36m0.04085108\u001b[0m, \u001b[1;36m-0.03570865\u001b[0m\u001b[1m]\u001b[0m,\n",
       "       \u001b[33m...\u001b[0m,\n",
       "       \u001b[1m[\u001b[0m\u001b[1;36m-0\u001b[0m.        , \u001b[1;36m-0\u001b[0m.        , \u001b[1;36m-0\u001b[0m.        \u001b[1m]\u001b[0m,\n",
       "       \u001b[1m[\u001b[0m\u001b[1;36m-0\u001b[0m.        , \u001b[1;36m-0\u001b[0m.        , \u001b[1;36m-0\u001b[0m.        \u001b[1m]\u001b[0m,\n",
       "       \u001b[1m[\u001b[0m\u001b[1;36m-0\u001b[0m.        , \u001b[1;36m-0\u001b[0m.        , \u001b[1;36m-0\u001b[0m.        \u001b[1m]\u001b[0m\u001b[1m]\u001b[0m, \u001b[33mdtype\u001b[0m=\u001b[35mfloat32\u001b[0m\u001b[1m)\u001b[0m,\n",
       "    \u001b[33mstress\u001b[0m=\u001b[1;35mArray\u001b[0m\u001b[1m(\u001b[0m\u001b[1m[\u001b[0m\u001b[1m[\u001b[0m\u001b[1m[\u001b[0m \u001b[1;36m1.89650673e-04\u001b[0m, \u001b[1;36m-4.31772918e-02\u001b[0m,  \u001b[1;36m2.85346818e-04\u001b[0m\u001b[1m]\u001b[0m,\n",
       "        \u001b[1m[\u001b[0m \u001b[1;36m7.58578954e-03\u001b[0m, \u001b[1;36m-2.31304395e-04\u001b[0m, \u001b[1;36m-3.42297703e-02\u001b[0m\u001b[1m]\u001b[0m,\n",
       "        \u001b[1m[\u001b[0m\u001b[1;36m-9.75910388e-03\u001b[0m,  \u001b[1;36m9.25992441e-04\u001b[0m, \u001b[1;36m-1.41310683e-02\u001b[0m\u001b[1m]\u001b[0m\u001b[1m]\u001b[0m,\n",
       "\n",
       "       \u001b[1m[\u001b[0m\u001b[1m[\u001b[0m \u001b[1;36m2.60826293e-02\u001b[0m, \u001b[1;36m-7.40426546e-03\u001b[0m,  \u001b[1;36m1.14552174e-02\u001b[0m\u001b[1m]\u001b[0m,\n",
       "        \u001b[1m[\u001b[0m\u001b[1;36m-5.11238491e-03\u001b[0m,  \u001b[1;36m1.19991235e-01\u001b[0m, \u001b[1;36m-8.15800577e-03\u001b[0m\u001b[1m]\u001b[0m,\n",
       "        \u001b[1m[\u001b[0m \u001b[1;36m1.02954386e-02\u001b[0m,  \u001b[1;36m2.76773963e-02\u001b[0m,  \u001b[1;36m1.86751056e-02\u001b[0m\u001b[1m]\u001b[0m\u001b[1m]\u001b[0m,\n",
       "\n",
       "       \u001b[1m[\u001b[0m\u001b[1m[\u001b[0m \u001b[1;36m2.71738917e-02\u001b[0m, \u001b[1;36m-1.32841870e-01\u001b[0m,  \u001b[1;36m2.68572092e-01\u001b[0m\u001b[1m]\u001b[0m,\n",
       "        \u001b[1m[\u001b[0m\u001b[1;36m-8.16648528e-02\u001b[0m, \u001b[1;36m-1.96878597e-01\u001b[0m,  \u001b[1;36m4.85754460e-02\u001b[0m\u001b[1m]\u001b[0m,\n",
       "        \u001b[1m[\u001b[0m\u001b[1;36m-4.33243439e-02\u001b[0m,  \u001b[1;36m1.33969262e-01\u001b[0m,  \u001b[1;36m9.77479219e-02\u001b[0m\u001b[1m]\u001b[0m\u001b[1m]\u001b[0m,\n",
       "\n",
       "       \u001b[1m[\u001b[0m\u001b[1m[\u001b[0m\u001b[1;36m-2.93921351e-01\u001b[0m,  \u001b[1;36m2.45780900e-01\u001b[0m, \u001b[1;36m-7.34006837e-02\u001b[0m\u001b[1m]\u001b[0m,\n",
       "        \u001b[1m[\u001b[0m\u001b[1;36m-1.93204693e-02\u001b[0m,  \u001b[1;36m2.13562116e-01\u001b[0m,  \u001b[1;36m3.76736894e-02\u001b[0m\u001b[1m]\u001b[0m,\n",
       "        \u001b[1m[\u001b[0m \u001b[1;36m6.90332567e-03\u001b[0m,  \u001b[1;36m6.90521821e-02\u001b[0m,  \u001b[1;36m1.50406227e-01\u001b[0m\u001b[1m]\u001b[0m\u001b[1m]\u001b[0m,\n",
       "\n",
       "       \u001b[1m[\u001b[0m\u001b[1m[\u001b[0m \u001b[1;36m9.32377875e-02\u001b[0m, \u001b[1;36m-7.86059648e-02\u001b[0m, \u001b[1;36m-2.61951506e-01\u001b[0m\u001b[1m]\u001b[0m,\n",
       "        \u001b[1m[\u001b[0m\u001b[1;36m-1.80779561e-01\u001b[0m,  \u001b[1;36m1.52664095e-01\u001b[0m, \u001b[1;36m-3.18716705e-01\u001b[0m\u001b[1m]\u001b[0m,\n",
       "        \u001b[1m[\u001b[0m \u001b[1;36m7.45852012e-03\u001b[0m,  \u001b[1;36m9.40714683e-03\u001b[0m,  \u001b[1;36m1.32509414e-02\u001b[0m\u001b[1m]\u001b[0m\u001b[1m]\u001b[0m,\n",
       "\n",
       "       \u001b[1m[\u001b[0m\u001b[1m[\u001b[0m\u001b[1;36m-6.38596952e-01\u001b[0m,  \u001b[1;36m4.08538312e-01\u001b[0m,  \u001b[1;36m1.34732175e+00\u001b[0m\u001b[1m]\u001b[0m,\n",
       "        \u001b[1m[\u001b[0m\u001b[1;36m-1.78993806e-01\u001b[0m,  \u001b[1;36m1.47057831e-01\u001b[0m,  \u001b[1;36m1.67870969e-01\u001b[0m\u001b[1m]\u001b[0m,\n",
       "        \u001b[1m[\u001b[0m\u001b[1;36m-1.76626682e-01\u001b[0m, \u001b[1;36m-1.52767301e-01\u001b[0m,  \u001b[1;36m1.65895492e-01\u001b[0m\u001b[1m]\u001b[0m\u001b[1m]\u001b[0m,\n",
       "\n",
       "       \u001b[1m[\u001b[0m\u001b[1m[\u001b[0m \u001b[1;36m3.66354287e-01\u001b[0m,  \u001b[1;36m8.19220021e-02\u001b[0m,  \u001b[1;36m7.90605471e-02\u001b[0m\u001b[1m]\u001b[0m,\n",
       "        \u001b[1m[\u001b[0m\u001b[1;36m-3.57379705e-01\u001b[0m,  \u001b[1;36m1.06504433e-01\u001b[0m,  \u001b[1;36m8.73146877e-02\u001b[0m\u001b[1m]\u001b[0m,\n",
       "        \u001b[1m[\u001b[0m\u001b[1;36m-7.42889494e-02\u001b[0m, \u001b[1;36m-2.17753679e-01\u001b[0m,  \u001b[1;36m1.93228886e-01\u001b[0m\u001b[1m]\u001b[0m\u001b[1m]\u001b[0m,\n",
       "\n",
       "       \u001b[1m[\u001b[0m\u001b[1m[\u001b[0m \u001b[1;36m4.56187546e-01\u001b[0m, \u001b[1;36m-3.97358745e-01\u001b[0m, \u001b[1;36m-7.73245692e-02\u001b[0m\u001b[1m]\u001b[0m,\n",
       "        \u001b[1m[\u001b[0m\u001b[1;36m-2.52213955e-01\u001b[0m, \u001b[1;36m-3.32804397e-02\u001b[0m, \u001b[1;36m-1.40382992e-02\u001b[0m\u001b[1m]\u001b[0m,\n",
       "        \u001b[1m[\u001b[0m \u001b[1;36m1.38103649e-01\u001b[0m,  \u001b[1;36m1.36322295e-02\u001b[0m, \u001b[1;36m-9.71355364e-02\u001b[0m\u001b[1m]\u001b[0m\u001b[1m]\u001b[0m,\n",
       "\n",
       "       \u001b[1m[\u001b[0m\u001b[1m[\u001b[0m\u001b[1;36m-5.55073678e-01\u001b[0m, \u001b[1;36m-2.91924506e-01\u001b[0m, \u001b[1;36m-2.52092153e-01\u001b[0m\u001b[1m]\u001b[0m,\n",
       "        \u001b[1m[\u001b[0m \u001b[1;36m1.89456165e-01\u001b[0m,  \u001b[1;36m4.54181582e-01\u001b[0m,  \u001b[1;36m3.95642482e-02\u001b[0m\u001b[1m]\u001b[0m,\n",
       "        \u001b[1m[\u001b[0m \u001b[1;36m3.11931572e-03\u001b[0m, \u001b[1;36m-9.66106448e-03\u001b[0m, \u001b[1;36m-1.52086571e-01\u001b[0m\u001b[1m]\u001b[0m\u001b[1m]\u001b[0m,\n",
       "\n",
       "       \u001b[1m[\u001b[0m\u001b[1m[\u001b[0m\u001b[1;36m-2.18985677e-01\u001b[0m, \u001b[1;36m-3.94212075e-05\u001b[0m, \u001b[1;36m-5.08702770e-02\u001b[0m\u001b[1m]\u001b[0m,\n",
       "        \u001b[1m[\u001b[0m\u001b[1;36m-5.31785211e-08\u001b[0m,  \u001b[1;36m6.91446010e-03\u001b[0m, \u001b[1;36m-8.53392016e-03\u001b[0m\u001b[1m]\u001b[0m,\n",
       "        \u001b[1m[\u001b[0m\u001b[1;36m-1.58321566e-03\u001b[0m,  \u001b[1;36m4.22199264e-05\u001b[0m, \u001b[1;36m-1.65137257e-02\u001b[0m\u001b[1m]\u001b[0m\u001b[1m]\u001b[0m,\n",
       "\n",
       "       \u001b[1m[\u001b[0m\u001b[1m[\u001b[0m\u001b[1;36m-6.13498151e-01\u001b[0m, \u001b[1;36m-6.13668144e-01\u001b[0m,  \u001b[1;36m6.11532331e-01\u001b[0m\u001b[1m]\u001b[0m,\n",
       "        \u001b[1m[\u001b[0m\u001b[1;36m-6.13525867e-01\u001b[0m,  \u001b[1;36m6.13697827e-01\u001b[0m, \u001b[1;36m-6.11561656e-01\u001b[0m\u001b[1m]\u001b[0m,\n",
       "        \u001b[1m[\u001b[0m \u001b[1;36m6.12741172e-01\u001b[0m, \u001b[1;36m-6.14397645e-01\u001b[0m, \u001b[1;36m-6.13837600e-01\u001b[0m\u001b[1m]\u001b[0m\u001b[1m]\u001b[0m,\n",
       "\n",
       "       \u001b[1m[\u001b[0m\u001b[1m[\u001b[0m \u001b[1;36m5.05389094e-01\u001b[0m, \u001b[1;36m-1.07040085e-01\u001b[0m, \u001b[1;36m-1.02245659e-02\u001b[0m\u001b[1m]\u001b[0m,\n",
       "        \u001b[1m[\u001b[0m \u001b[1;36m5.91891073e-02\u001b[0m,  \u001b[1;36m2.33474836e-01\u001b[0m, \u001b[1;36m-1.20610617e-01\u001b[0m\u001b[1m]\u001b[0m,\n",
       "        \u001b[1m[\u001b[0m \u001b[1;36m1.29837811e-01\u001b[0m,  \u001b[1;36m1.72563151e-01\u001b[0m,  \u001b[1;36m1.39624417e-01\u001b[0m\u001b[1m]\u001b[0m\u001b[1m]\u001b[0m,\n",
       "\n",
       "       \u001b[1m[\u001b[0m\u001b[1m[\u001b[0m \u001b[1;36m2.42074183e-03\u001b[0m,  \u001b[1;36m7.35187554e-04\u001b[0m, \u001b[1;36m-5.01099229e-03\u001b[0m\u001b[1m]\u001b[0m,\n",
       "        \u001b[1m[\u001b[0m\u001b[1;36m-7.80857727e-02\u001b[0m,  \u001b[1;36m9.99521930e-03\u001b[0m, \u001b[1;36m-1.77018084e-02\u001b[0m\u001b[1m]\u001b[0m,\n",
       "        \u001b[1m[\u001b[0m\u001b[1;36m-3.05810161e-02\u001b[0m,  \u001b[1;36m7.32413307e-02\u001b[0m,  \u001b[1;36m7.52139417e-03\u001b[0m\u001b[1m]\u001b[0m\u001b[1m]\u001b[0m,\n",
       "\n",
       "       \u001b[1m[\u001b[0m\u001b[1m[\u001b[0m \u001b[1;36m9.72573683e-02\u001b[0m, \u001b[1;36m-1.09285526e-01\u001b[0m, \u001b[1;36m-2.03766320e-02\u001b[0m\u001b[1m]\u001b[0m,\n",
       "        \u001b[1m[\u001b[0m\u001b[1;36m-3.34091000e-02\u001b[0m,  \u001b[1;36m8.21166486e-02\u001b[0m, \u001b[1;36m-1.68749854e-01\u001b[0m\u001b[1m]\u001b[0m,\n",
       "        \u001b[1m[\u001b[0m \u001b[1;36m5.16348099e-03\u001b[0m,  \u001b[1;36m2.16874838e-01\u001b[0m,  \u001b[1;36m8.62440001e-03\u001b[0m\u001b[1m]\u001b[0m\u001b[1m]\u001b[0m,\n",
       "\n",
       "       \u001b[1m[\u001b[0m\u001b[1m[\u001b[0m \u001b[1;36m1.52858749e-01\u001b[0m,  \u001b[1;36m2.43662875e-02\u001b[0m, \u001b[1;36m-8.79456699e-02\u001b[0m\u001b[1m]\u001b[0m,\n",
       "        \u001b[1m[\u001b[0m\u001b[1;36m-9.82491374e-02\u001b[0m,  \u001b[1;36m2.04552755e-01\u001b[0m,  \u001b[1;36m5.72813042e-02\u001b[0m\u001b[1m]\u001b[0m,\n",
       "        \u001b[1m[\u001b[0m \u001b[1;36m8.19045454e-02\u001b[0m, \u001b[1;36m-1.00535706e-01\u001b[0m,  \u001b[1;36m6.78182095e-02\u001b[0m\u001b[1m]\u001b[0m\u001b[1m]\u001b[0m,\n",
       "\n",
       "       \u001b[1m[\u001b[0m\u001b[1m[\u001b[0m\u001b[1;36m-3.27456653e-01\u001b[0m, \u001b[1;36m-9.46542656e-04\u001b[0m,  \u001b[1;36m3.50078225e-01\u001b[0m\u001b[1m]\u001b[0m,\n",
       "        \u001b[1m[\u001b[0m\u001b[1;36m-1.10254285e-03\u001b[0m, \u001b[1;36m-2.98373461e-01\u001b[0m,  \u001b[1;36m3.38641584e-01\u001b[0m\u001b[1m]\u001b[0m,\n",
       "        \u001b[1m[\u001b[0m \u001b[1;36m2.99787527e-04\u001b[0m, \u001b[1;36m-8.53459525e-04\u001b[0m, \u001b[1;36m-1.63627774e-01\u001b[0m\u001b[1m]\u001b[0m\u001b[1m]\u001b[0m,\n",
       "\n",
       "       \u001b[1m[\u001b[0m\u001b[1m[\u001b[0m \u001b[1;36m7.35347494e-02\u001b[0m,  \u001b[1;36m4.23297212e-02\u001b[0m,  \u001b[1;36m5.75539198e-05\u001b[0m\u001b[1m]\u001b[0m,\n",
       "        \u001b[1m[\u001b[0m \u001b[1;36m3.19654718e-02\u001b[0m,  \u001b[1;36m4.21834216e-02\u001b[0m,  \u001b[1;36m3.80820333e-04\u001b[0m\u001b[1m]\u001b[0m,\n",
       "        \u001b[1m[\u001b[0m\u001b[1;36m-1.46714316e-04\u001b[0m, \u001b[1;36m-8.00522957e-06\u001b[0m, \u001b[1;36m-7.49447644e-02\u001b[0m\u001b[1m]\u001b[0m\u001b[1m]\u001b[0m,\n",
       "\n",
       "       \u001b[1m[\u001b[0m\u001b[1m[\u001b[0m\u001b[1;36m-1.98237032e-01\u001b[0m, \u001b[1;36m-1.46954760e-01\u001b[0m,  \u001b[1;36m6.03708811e-02\u001b[0m\u001b[1m]\u001b[0m,\n",
       "        \u001b[1m[\u001b[0m\u001b[1;36m-4.03649919e-02\u001b[0m,  \u001b[1;36m2.60840519e-03\u001b[0m, \u001b[1;36m-5.09196520e-02\u001b[0m\u001b[1m]\u001b[0m,\n",
       "        \u001b[1m[\u001b[0m\u001b[1;36m-1.14259697e-01\u001b[0m,  \u001b[1;36m1.15031879e-02\u001b[0m, \u001b[1;36m-1.60158977e-01\u001b[0m\u001b[1m]\u001b[0m\u001b[1m]\u001b[0m,\n",
       "\n",
       "       \u001b[1m[\u001b[0m\u001b[1m[\u001b[0m\u001b[1;36m-5.94002903e-01\u001b[0m,  \u001b[1;36m2.25961208e-01\u001b[0m,  \u001b[1;36m2.93578207e-01\u001b[0m\u001b[1m]\u001b[0m,\n",
       "        \u001b[1m[\u001b[0m\u001b[1;36m-1.10892497e-01\u001b[0m, \u001b[1;36m-6.32289588e-01\u001b[0m,  \u001b[1;36m2.79292136e-01\u001b[0m\u001b[1m]\u001b[0m,\n",
       "        \u001b[1m[\u001b[0m\u001b[1;36m-2.13634726e-02\u001b[0m, \u001b[1;36m-9.09357797e-03\u001b[0m, \u001b[1;36m-5.69192410e-01\u001b[0m\u001b[1m]\u001b[0m\u001b[1m]\u001b[0m,\n",
       "\n",
       "       \u001b[1m[\u001b[0m\u001b[1m[\u001b[0m\u001b[1;36m-3.61636013e-01\u001b[0m,  \u001b[1;36m4.20056283e-04\u001b[0m,  \u001b[1;36m3.82429332e-01\u001b[0m\u001b[1m]\u001b[0m,\n",
       "        \u001b[1m[\u001b[0m\u001b[1;36m-1.62427071e-02\u001b[0m,  \u001b[1;36m4.45808887e-01\u001b[0m, \u001b[1;36m-5.15350886e-02\u001b[0m\u001b[1m]\u001b[0m,\n",
       "        \u001b[1m[\u001b[0m\u001b[1;36m-1.06385387e-01\u001b[0m,  \u001b[1;36m2.32481747e-03\u001b[0m, \u001b[1;36m-2.26579741e-01\u001b[0m\u001b[1m]\u001b[0m\u001b[1m]\u001b[0m,\n",
       "\n",
       "       \u001b[1m[\u001b[0m\u001b[1m[\u001b[0m\u001b[1;36m-8.34411606e-02\u001b[0m, \u001b[1;36m-4.39411066e-02\u001b[0m,  \u001b[1;36m7.70672560e-02\u001b[0m\u001b[1m]\u001b[0m,\n",
       "        \u001b[1m[\u001b[0m\u001b[1;36m-7.96256121e-03\u001b[0m, \u001b[1;36m-8.71866494e-02\u001b[0m, \u001b[1;36m-7.75432959e-02\u001b[0m\u001b[1m]\u001b[0m,\n",
       "        \u001b[1m[\u001b[0m\u001b[1;36m-8.30161478e-03\u001b[0m, \u001b[1;36m-2.97690945e-04\u001b[0m,  \u001b[1;36m1.04259394e-01\u001b[0m\u001b[1m]\u001b[0m\u001b[1m]\u001b[0m,\n",
       "\n",
       "       \u001b[1m[\u001b[0m\u001b[1m[\u001b[0m \u001b[1;36m3.00607324e-01\u001b[0m, \u001b[1;36m-1.70726731e-01\u001b[0m, \u001b[1;36m-1.20957308e-01\u001b[0m\u001b[1m]\u001b[0m,\n",
       "        \u001b[1m[\u001b[0m \u001b[1;36m5.13892993e-03\u001b[0m,  \u001b[1;36m3.41498941e-01\u001b[0m, \u001b[1;36m-1.20088197e-01\u001b[0m\u001b[1m]\u001b[0m,\n",
       "        \u001b[1m[\u001b[0m \u001b[1;36m5.12278406e-03\u001b[0m,  \u001b[1;36m2.27230790e-04\u001b[0m,  \u001b[1;36m3.61961275e-01\u001b[0m\u001b[1m]\u001b[0m\u001b[1m]\u001b[0m,\n",
       "\n",
       "       \u001b[1m[\u001b[0m\u001b[1m[\u001b[0m\u001b[1;36m-8.05234075e-01\u001b[0m, \u001b[1;36m-9.67629075e-01\u001b[0m,  \u001b[1;36m1.49786474e-05\u001b[0m\u001b[1m]\u001b[0m,\n",
       "        \u001b[1m[\u001b[0m\u001b[1;36m-1.61630378e-04\u001b[0m, \u001b[1;36m-9.27878857e-01\u001b[0m,  \u001b[1;36m2.85565857e-05\u001b[0m\u001b[1m]\u001b[0m,\n",
       "        \u001b[1m[\u001b[0m \u001b[1;36m3.20669450e-03\u001b[0m, \u001b[1;36m-1.38737515e-01\u001b[0m, \u001b[1;36m-8.84230137e-01\u001b[0m\u001b[1m]\u001b[0m\u001b[1m]\u001b[0m,\n",
       "\n",
       "       \u001b[1m[\u001b[0m\u001b[1m[\u001b[0m \u001b[1;36m2.81770021e-01\u001b[0m,  \u001b[1;36m1.62639186e-01\u001b[0m,  \u001b[1;36m2.81768862e-05\u001b[0m\u001b[1m]\u001b[0m,\n",
       "        \u001b[1m[\u001b[0m \u001b[1;36m3.86253605e-03\u001b[0m,  \u001b[1;36m3.42480093e-01\u001b[0m, \u001b[1;36m-2.37858086e-03\u001b[0m\u001b[1m]\u001b[0m,\n",
       "        \u001b[1m[\u001b[0m \u001b[1;36m1.96211543e-02\u001b[0m,  \u001b[1;36m1.41513264e-02\u001b[0m,  \u001b[1;36m1.10224798e-01\u001b[0m\u001b[1m]\u001b[0m\u001b[1m]\u001b[0m,\n",
       "\n",
       "       \u001b[1m[\u001b[0m\u001b[1m[\u001b[0m\u001b[1;36m-2.28481933e-01\u001b[0m, \u001b[1;36m-1.31570131e-01\u001b[0m, \u001b[1;36m-7.33240959e-05\u001b[0m\u001b[1m]\u001b[0m,\n",
       "        \u001b[1m[\u001b[0m\u001b[1;36m-7.51597807e-02\u001b[0m,  \u001b[1;36m1.19642213e-01\u001b[0m,  \u001b[1;36m9.87928454e-03\u001b[0m\u001b[1m]\u001b[0m,\n",
       "        \u001b[1m[\u001b[0m\u001b[1;36m-5.77532537e-02\u001b[0m, \u001b[1;36m-2.90848501e-02\u001b[0m, \u001b[1;36m-3.24082486e-02\u001b[0m\u001b[1m]\u001b[0m\u001b[1m]\u001b[0m,\n",
       "\n",
       "       \u001b[1m[\u001b[0m\u001b[1m[\u001b[0m\u001b[1;36m-2.98302025e-01\u001b[0m,  \u001b[1;36m3.99794392e-02\u001b[0m, \u001b[1;36m-8.66609514e-02\u001b[0m\u001b[1m]\u001b[0m,\n",
       "        \u001b[1m[\u001b[0m\u001b[1;36m-4.38754261e-02\u001b[0m, \u001b[1;36m-3.01739573e-01\u001b[0m, \u001b[1;36m-9.53479856e-02\u001b[0m\u001b[1m]\u001b[0m,\n",
       "        \u001b[1m[\u001b[0m \u001b[1;36m7.38241524e-02\u001b[0m,  \u001b[1;36m6.15895353e-02\u001b[0m, \u001b[1;36m-3.11061561e-01\u001b[0m\u001b[1m]\u001b[0m\u001b[1m]\u001b[0m,\n",
       "\n",
       "       \u001b[1m[\u001b[0m\u001b[1m[\u001b[0m \u001b[1;36m7.01150060e-01\u001b[0m,  \u001b[1;36m6.19388288e-07\u001b[0m, \u001b[1;36m-1.26884343e-08\u001b[0m\u001b[1m]\u001b[0m,\n",
       "        \u001b[1m[\u001b[0m \u001b[1;36m8.70979857e-03\u001b[0m,  \u001b[1;36m7.50926197e-01\u001b[0m, \u001b[1;36m-1.38782707e-04\u001b[0m\u001b[1m]\u001b[0m,\n",
       "        \u001b[1m[\u001b[0m \u001b[1;36m5.02871862e-03\u001b[0m, \u001b[1;36m-1.38835414e-04\u001b[0m,  \u001b[1;36m7.49575615e-01\u001b[0m\u001b[1m]\u001b[0m\u001b[1m]\u001b[0m,\n",
       "\n",
       "       \u001b[1m[\u001b[0m\u001b[1m[\u001b[0m \u001b[1;36m1.40919447e-01\u001b[0m, \u001b[1;36m-9.59280715e-06\u001b[0m, \u001b[1;36m-1.16449810e-05\u001b[0m\u001b[1m]\u001b[0m,\n",
       "        \u001b[1m[\u001b[0m\u001b[1;36m-2.06816578e-04\u001b[0m,  \u001b[1;36m1.42669946e-01\u001b[0m,  \u001b[1;36m2.19839185e-05\u001b[0m\u001b[1m]\u001b[0m,\n",
       "        \u001b[1m[\u001b[0m\u001b[1;36m-1.29322906e-03\u001b[0m,  \u001b[1;36m2.89681029e-05\u001b[0m,  \u001b[1;36m1.42961785e-01\u001b[0m\u001b[1m]\u001b[0m\u001b[1m]\u001b[0m,\n",
       "\n",
       "       \u001b[1m[\u001b[0m\u001b[1m[\u001b[0m \u001b[1;36m6.77811921e-01\u001b[0m, \u001b[1;36m-1.87692185e-05\u001b[0m, \u001b[1;36m-4.38203824e-06\u001b[0m\u001b[1m]\u001b[0m,\n",
       "        \u001b[1m[\u001b[0m\u001b[1;36m-1.83462282e-03\u001b[0m,  \u001b[1;36m6.79509163e-01\u001b[0m,  \u001b[1;36m8.28495831e-06\u001b[0m\u001b[1m]\u001b[0m,\n",
       "        \u001b[1m[\u001b[0m \u001b[1;36m3.11004755e-04\u001b[0m,  \u001b[1;36m1.38450478e-05\u001b[0m,  \u001b[1;36m6.78744972e-01\u001b[0m\u001b[1m]\u001b[0m\u001b[1m]\u001b[0m,\n",
       "\n",
       "       \u001b[1m[\u001b[0m\u001b[1m[\u001b[0m\u001b[1;36m-3.50841939e-01\u001b[0m, \u001b[1;36m-4.32359092e-02\u001b[0m,  \u001b[1;36m8.83236006e-02\u001b[0m\u001b[1m]\u001b[0m,\n",
       "        \u001b[1m[\u001b[0m \u001b[1;36m4.36121561e-02\u001b[0m, \u001b[1;36m-3.50867301e-01\u001b[0m,  \u001b[1;36m8.83225501e-02\u001b[0m\u001b[1m]\u001b[0m,\n",
       "        \u001b[1m[\u001b[0m\u001b[1;36m-6.73893318e-02\u001b[0m, \u001b[1;36m-8.64826590e-02\u001b[0m, \u001b[1;36m-1.36515290e-01\u001b[0m\u001b[1m]\u001b[0m\u001b[1m]\u001b[0m,\n",
       "\n",
       "       \u001b[1m[\u001b[0m\u001b[1m[\u001b[0m\u001b[1;36m-1.48312521e+00\u001b[0m, \u001b[1;36m-8.40748966e-01\u001b[0m,  \u001b[1;36m9.30071156e-03\u001b[0m\u001b[1m]\u001b[0m,\n",
       "        \u001b[1m[\u001b[0m \u001b[1;36m7.58699561e-03\u001b[0m, \u001b[1;36m-1.69463861e+00\u001b[0m,  \u001b[1;36m8.61617271e-03\u001b[0m\u001b[1m]\u001b[0m,\n",
       "        \u001b[1m[\u001b[0m\u001b[1;36m-4.87138808e-01\u001b[0m, \u001b[1;36m-8.38093400e-01\u001b[0m, \u001b[1;36m-1.38940156e+00\u001b[0m\u001b[1m]\u001b[0m\u001b[1m]\u001b[0m,\n",
       "\n",
       "       \u001b[1m[\u001b[0m\u001b[1m[\u001b[0m \u001b[1;36m0.00000000e+00\u001b[0m,  \u001b[1;36m0.00000000e+00\u001b[0m,  \u001b[1;36m0.00000000e+00\u001b[0m\u001b[1m]\u001b[0m,\n",
       "        \u001b[1m[\u001b[0m \u001b[1;36m0.00000000e+00\u001b[0m,  \u001b[1;36m0.00000000e+00\u001b[0m,  \u001b[1;36m0.00000000e+00\u001b[0m\u001b[1m]\u001b[0m,\n",
       "        \u001b[1m[\u001b[0m \u001b[1;36m0.00000000e+00\u001b[0m,  \u001b[1;36m0.00000000e+00\u001b[0m,  \u001b[1;36m0.00000000e+00\u001b[0m\u001b[1m]\u001b[0m\u001b[1m]\u001b[0m\u001b[1m]\u001b[0m,      \u001b[33mdtype\u001b[0m=\u001b[35mfloat32\u001b[0m\u001b[1m)\u001b[0m\n",
       "\u001b[1m)\u001b[0m"
      ]
     },
     "execution_count": 58,
     "metadata": {},
     "output_type": "execute_result"
    }
   ],
   "source": [
    "from facet.layers import Context\n",
    "from facet.regression import EFSWrapper\n",
    "ctx = Context(training=False)\n",
    "\n",
    "out = EFSWrapper()(model.apply, ckpt['state']['params'], cg=cg, ctx=ctx)\n",
    "out"
   ]
  },
  {
   "cell_type": "code",
   "execution_count": null,
   "metadata": {},
   "outputs": [],
   "source": []
  },
  {
   "cell_type": "code",
   "execution_count": 102,
   "metadata": {},
   "outputs": [
    {
     "name": "stdout",
     "output_type": "stream",
     "text": [
      "force\t 0.58005726\n",
      "energy\t 0.20908028\n",
      "stress\t 6.9853473\n"
     ]
    }
   ],
   "source": [
    "from ase import units as U\n",
    "\n",
    "\n",
    "\n",
    "node_pad = cg.padding_mask[cg.nodes.graph_i]\n",
    "f = cg.target_data.force[node_pad].reshape(-1, 3)\n",
    "fhat = out.force[node_pad].reshape(-1, 3)\n",
    "e = cg.target_data.e_form[cg.padding_mask].reshape(-1)\n",
    "ehat = out.energy[cg.padding_mask].reshape(-1)\n",
    "s = cg.target_data.stress[cg.padding_mask]\n",
    "shat = out.stress[cg.padding_mask]\n",
    "\n",
    "def l1_loss(x, y: jax.Array | int = 0):\n",
    "    return jnp.mean(jnp.abs(x - y))\n",
    "\n",
    "print('force\\t', l1_loss(fhat, f))\n",
    "print('energy\\t', l1_loss(ehat, e))\n",
    "print('stress\\t', l1_loss(shat, s))"
   ]
  },
  {
   "cell_type": "code",
   "execution_count": 72,
   "metadata": {},
   "outputs": [],
   "source": [
    "def energy_fn(cart, lat):\n",
    "    energy = model.apply(\n",
    "        ckpt['state']['params'],\n",
    "        cg.replace(\n",
    "            nodes=cg.nodes.replace(cart=cart), graph_data=cg.graph_data.replace(lat=lat)\n",
    "        ),\n",
    "        ctx=ctx\n",
    "    )\n",
    "    return jnp.sum(energy, where=cg.padding_mask), energy\n",
    "\n",
    "\n",
    "(fgrad, sgrad), energy = jax.grad(energy_fn, argnums=(0, 1), has_aux=True)(\n",
    "    cg.nodes.cart, cg.graph_data.lat\n",
    ")"
   ]
  },
  {
   "cell_type": "code",
   "execution_count": 77,
   "metadata": {},
   "outputs": [],
   "source": [
    "import e3nn_jax as e3nn\n",
    "det = jax.vmap(jnp.linalg.det)(cg.graph_data.lat)[:, None, None]  # [n_graphs, 1, 1]\n",
    "det = jnp.where(det > 0.0, det, 1.0)  # dummy graphs have det = 0\n",
    "\n",
    "minus_forces = fgrad\n",
    "pseudo_stress = sgrad\n",
    "\n",
    "stress_cell = (\n",
    "    jnp.transpose(pseudo_stress, (0, 2, 1)) @ cg.graph_data.lat\n",
    ")  # [n_graphs, 3, 3]\n",
    "stress_forces = e3nn.scatter_sum(\n",
    "    jnp.einsum(\"iu,iv->iuv\", minus_forces, cg.nodes.cart),\n",
    "    nel=cg.n_node,\n",
    ")  # [n_graphs, 3, 3]\n",
    "viriel = stress_cell + stress_forces  # NOTE: sign suggested by Ilyes Batatia\n",
    "stress = -1.0 / det * viriel\n",
    "stress = stress[cg.padding_mask]"
   ]
  },
  {
   "cell_type": "code",
   "execution_count": null,
   "metadata": {},
   "outputs": [
    {
     "data": {
      "text/html": [
       "<pre style=\"white-space:pre;overflow-x:auto;line-height:normal;font-family:Menlo,'DejaVu Sans Mono',consolas,'Courier New',monospace\"></pre>\n"
      ],
      "text/plain": []
     },
     "metadata": {},
     "output_type": "display_data"
    },
    {
     "data": {
      "text/plain": [
       "\u001b[1;36m72.42973034150647\u001b[0m"
      ]
     },
     "execution_count": 60,
     "metadata": {},
     "output_type": "execute_result"
    }
   ],
   "source": [
    "from ase import units as U\n",
    "\n",
    "U.GPa / U.kB"
   ]
  },
  {
   "cell_type": "code",
   "execution_count": 104,
   "metadata": {},
   "outputs": [
    {
     "data": {
      "text/html": [
       "<pre style=\"white-space:pre;overflow-x:auto;line-height:normal;font-family:Menlo,'DejaVu Sans Mono',consolas,'Courier New',monospace\"></pre>\n"
      ],
      "text/plain": []
     },
     "metadata": {},
     "output_type": "display_data"
    },
    {
     "data": {
      "text/plain": [
       "\u001b[1m(\u001b[0m\u001b[1;35mArray\u001b[0m\u001b[1m(\u001b[0m\u001b[1;36m0.06410566\u001b[0m, \u001b[33mdtype\u001b[0m=\u001b[35mfloat32\u001b[0m\u001b[1m)\u001b[0m, \u001b[1;35mArray\u001b[0m\u001b[1m(\u001b[0m\u001b[1;36m6.8836718\u001b[0m, \u001b[33mdtype\u001b[0m=\u001b[35mfloat32\u001b[0m\u001b[1m)\u001b[0m\u001b[1m)\u001b[0m"
      ]
     },
     "execution_count": 104,
     "metadata": {},
     "output_type": "execute_result"
    }
   ],
   "source": [
    "l1_loss(stress), l1_loss(s)"
   ]
  },
  {
   "cell_type": "code",
   "execution_count": 14,
   "metadata": {},
   "outputs": [
    {
     "data": {
      "text/html": [
       "<pre style=\"white-space:pre;overflow-x:auto;line-height:normal;font-family:Menlo,'DejaVu Sans Mono',consolas,'Courier New',monospace\"></pre>\n"
      ],
      "text/plain": []
     },
     "metadata": {},
     "output_type": "display_data"
    },
    {
     "data": {
      "text/plain": [
       "\u001b[1;35mArray\u001b[0m\u001b[1m(\u001b[0m\u001b[1;36m0.53618264\u001b[0m, \u001b[33mdtype\u001b[0m=\u001b[35mfloat32\u001b[0m\u001b[1m)\u001b[0m"
      ]
     },
     "execution_count": 14,
     "metadata": {},
     "output_type": "execute_result"
    }
   ],
   "source": [
    "l1_loss(fhat / 72.4, f)"
   ]
  },
  {
   "cell_type": "code",
   "execution_count": null,
   "metadata": {},
   "outputs": [
    {
     "data": {
      "text/html": [
       "<pre style=\"white-space:pre;overflow-x:auto;line-height:normal;font-family:Menlo,'DejaVu Sans Mono',consolas,'Courier New',monospace\"></pre>\n"
      ],
      "text/plain": []
     },
     "metadata": {},
     "output_type": "display_data"
    },
    {
     "data": {
      "text/plain": [
       "\u001b[1m<\u001b[0m\u001b[1;95mseaborn.axisgrid.FacetGrid\u001b[0m\u001b[39m object at \u001b[0m\u001b[1;36m0x703644cd0fe0\u001b[0m\u001b[1m>\u001b[0m"
      ]
     },
     "metadata": {},
     "output_type": "display_data"
    },
    {
     "data": {
      "text/html": [
       "<pre style=\"white-space:pre;overflow-x:auto;line-height:normal;font-family:Menlo,'DejaVu Sans Mono',consolas,'Courier New',monospace\"></pre>\n"
      ],
      "text/plain": []
     },
     "metadata": {},
     "output_type": "display_data"
    },
    {
     "data": {
      "image/png": "[encoded data removed]",
      "text/plain": [
       "\u001b[1m<\u001b[0m\u001b[1;95mFigure\u001b[0m\u001b[39m size 50\u001b[0m\u001b[1;36m0x500\u001b[0m\u001b[39m with \u001b[0m\u001b[1;36m1\u001b[0m\u001b[39m Axes\u001b[0m\u001b[1m>\u001b[0m"
      ]
     },
     "metadata": {},
     "output_type": "display_data"
    }
   ],
   "source": [
    "@jax.vmap\n",
    "def cos_dist(x1, x2):\n",
    "    return jnp.dot(x1, x2) / jnp.sqrt(jnp.dot(x1, x1) * jnp.dot(x2, x2) + 1e-10)\n",
    "\n",
    "fdist = cos_dist(f, fhat)\n",
    "sns.displot(fdist)"
   ]
  },
  {
   "cell_type": "code",
   "execution_count": 55,
   "metadata": {},
   "outputs": [
    {
     "data": {
      "text/html": [
       "<pre style=\"white-space:pre;overflow-x:auto;line-height:normal;font-family:Menlo,'DejaVu Sans Mono',consolas,'Courier New',monospace\"></pre>\n"
      ],
      "text/plain": []
     },
     "metadata": {},
     "output_type": "display_data"
    },
    {
     "data": {
      "text/plain": [
       "\u001b[1m<\u001b[0m\u001b[1;95mmatplotlib.lines.AxLine\u001b[0m\u001b[39m object at \u001b[0m\u001b[1;36m0x70364a065340\u001b[0m\u001b[1m>\u001b[0m"
      ]
     },
     "execution_count": 55,
     "metadata": {},
     "output_type": "execute_result"
    },
    {
     "data": {
      "text/html": [
       "<pre style=\"white-space:pre;overflow-x:auto;line-height:normal;font-family:Menlo,'DejaVu Sans Mono',consolas,'Courier New',monospace\"></pre>\n"
      ],
      "text/plain": []
     },
     "metadata": {},
     "output_type": "display_data"
    },
    {
     "data": {
      "image/png": "[encoded data removed]",
      "text/plain": [
       "\u001b[1m<\u001b[0m\u001b[1;95mFigure\u001b[0m\u001b[39m size 80\u001b[0m\u001b[1;36m0x600\u001b[0m\u001b[39m with \u001b[0m\u001b[1;36m1\u001b[0m\u001b[39m Axes\u001b[0m\u001b[1m>\u001b[0m"
      ]
     },
     "metadata": {},
     "output_type": "display_data"
    }
   ],
   "source": [
    "sns.scatterplot(x=ehat / 4 - 4.5, y=e, hue=cg.n_node[cg.padding_mask])\n",
    "plt.axline((0, 0), slope=1)"
   ]
  },
  {
   "cell_type": "code",
   "execution_count": 28,
   "metadata": {},
   "outputs": [
    {
     "data": {
      "text/html": [
       "<pre style=\"white-space:pre;overflow-x:auto;line-height:normal;font-family:Menlo,'DejaVu Sans Mono',consolas,'Courier New',monospace\"></pre>\n"
      ],
      "text/plain": []
     },
     "metadata": {},
     "output_type": "display_data"
    },
    {
     "data": {
      "text/plain": [
       "\u001b[1m<\u001b[0m\u001b[1;95mseaborn.axisgrid.FacetGrid\u001b[0m\u001b[39m object at \u001b[0m\u001b[1;36m0x703651bdb740\u001b[0m\u001b[1m>\u001b[0m"
      ]
     },
     "execution_count": 28,
     "metadata": {},
     "output_type": "execute_result"
    },
    {
     "data": {
      "text/html": [
       "<pre style=\"white-space:pre;overflow-x:auto;line-height:normal;font-family:Menlo,'DejaVu Sans Mono',consolas,'Courier New',monospace\"></pre>\n"
      ],
      "text/plain": []
     },
     "metadata": {},
     "output_type": "display_data"
    },
    {
     "data": {
      "image/png": "[encoded data removed]",
      "text/plain": [
       "\u001b[1m<\u001b[0m\u001b[1;95mFigure\u001b[0m\u001b[39m size 50\u001b[0m\u001b[1;36m0x500\u001b[0m\u001b[39m with \u001b[0m\u001b[1;36m1\u001b[0m\u001b[39m Axes\u001b[0m\u001b[1m>\u001b[0m"
      ]
     },
     "metadata": {},
     "output_type": "display_data"
    }
   ],
   "source": [
    "fdiff = f - fhat\n",
    "fdnorm = jnp.linalg.vector_norm(fdiff, axis=1)\n",
    "\n",
    "mask = jnp.abs(fdnorm) < 1\n",
    "sns.displot(x=f[mask].reshape(-1), y=fhat[mask].reshape(-1))"
   ]
  },
  {
   "cell_type": "code",
   "execution_count": 22,
   "metadata": {},
   "outputs": [
    {
     "data": {
      "text/html": [
       "<pre style=\"white-space:pre;overflow-x:auto;line-height:normal;font-family:Menlo,'DejaVu Sans Mono',consolas,'Courier New',monospace\"></pre>\n"
      ],
      "text/plain": []
     },
     "metadata": {},
     "output_type": "display_data"
    },
    {
     "data": {
      "text/plain": [
       "\u001b[1m<\u001b[0m\u001b[1;95mseaborn.axisgrid.FacetGrid\u001b[0m\u001b[39m object at \u001b[0m\u001b[1;36m0x703651c62ae0\u001b[0m\u001b[1m>\u001b[0m"
      ]
     },
     "execution_count": 22,
     "metadata": {},
     "output_type": "execute_result"
    },
    {
     "data": {
      "text/html": [
       "<pre style=\"white-space:pre;overflow-x:auto;line-height:normal;font-family:Menlo,'DejaVu Sans Mono',consolas,'Courier New',monospace\"></pre>\n"
      ],
      "text/plain": []
     },
     "metadata": {},
     "output_type": "display_data"
    },
    {
     "data": {
      "image/png": "[encoded data removed]",
      "text/plain": [
       "\u001b[1m<\u001b[0m\u001b[1;95mFigure\u001b[0m\u001b[39m size 50\u001b[0m\u001b[1;36m0x500\u001b[0m\u001b[39m with \u001b[0m\u001b[1;36m1\u001b[0m\u001b[39m Axes\u001b[0m\u001b[1m>\u001b[0m"
      ]
     },
     "metadata": {},
     "output_type": "display_data"
    },
    {
     "data": {
      "text/html": [
       "<pre style=\"white-space:pre;overflow-x:auto;line-height:normal;font-family:Menlo,'DejaVu Sans Mono',consolas,'Courier New',monospace\"></pre>\n"
      ],
      "text/plain": []
     },
     "metadata": {},
     "output_type": "display_data"
    },
    {
     "data": {
      "image/png": "[encoded data removed]",
      "text/plain": [
       "\u001b[1m<\u001b[0m\u001b[1;95mFigure\u001b[0m\u001b[39m size 50\u001b[0m\u001b[1;36m0x500\u001b[0m\u001b[39m with \u001b[0m\u001b[1;36m1\u001b[0m\u001b[39m Axes\u001b[0m\u001b[1m>\u001b[0m"
      ]
     },
     "metadata": {},
     "output_type": "display_data"
    }
   ],
   "source": [
    "sns.displot(f.reshape(-1))\n",
    "\n",
    "sns.displot(fhat.reshape(-1).clip(-1, 1))"
   ]
  },
  {
   "cell_type": "code",
   "execution_count": 9,
   "metadata": {},
   "outputs": [
    {
     "data": {
      "text/html": [
       "<pre style=\"white-space:pre;overflow-x:auto;line-height:normal;font-family:Menlo,'DejaVu Sans Mono',consolas,'Courier New',monospace\"></pre>\n"
      ],
      "text/plain": []
     },
     "metadata": {},
     "output_type": "display_data"
    },
    {
     "data": {
      "text/plain": [
       "\u001b[1;35mArray\u001b[0m\u001b[1m(\u001b[0m\u001b[1;36m0.04981579\u001b[0m, \u001b[33mdtype\u001b[0m=\u001b[35mfloat32\u001b[0m\u001b[1m)\u001b[0m"
      ]
     },
     "execution_count": 9,
     "metadata": {},
     "output_type": "execute_result"
    }
   ],
   "source": [
    "l1_loss(f)"
   ]
  },
  {
   "cell_type": "code",
   "execution_count": 87,
   "metadata": {},
   "outputs": [
    {
     "data": {
      "text/html": [
       "<pre style=\"white-space:pre;overflow-x:auto;line-height:normal;font-family:Menlo,'DejaVu Sans Mono',consolas,'Courier New',monospace\"></pre>\n"
      ],
      "text/plain": []
     },
     "metadata": {},
     "output_type": "display_data"
    },
    {
     "data": {
      "text/plain": [
       "\n",
       "\u001b[1;35mArray\u001b[0m\u001b[1m(\u001b[0m\u001b[1m[\u001b[0m\u001b[1m[\u001b[0m\u001b[1;36m-0.10890532\u001b[0m,  \u001b[1;36m0.00817202\u001b[0m, \u001b[1;36m-0.03942756\u001b[0m\u001b[1m]\u001b[0m,\n",
       "       \u001b[1m[\u001b[0m\u001b[1;36m-0.01127376\u001b[0m,  \u001b[1;36m0.18733723\u001b[0m, \u001b[1;36m-0.05919498\u001b[0m\u001b[1m]\u001b[0m,\n",
       "       \u001b[1m[\u001b[0m \u001b[1;36m0.02392958\u001b[0m, \u001b[1;36m-0.00932203\u001b[0m,  \u001b[1;36m0.14120552\u001b[0m\u001b[1m]\u001b[0m\u001b[1m]\u001b[0m, \u001b[33mdtype\u001b[0m=\u001b[35mfloat32\u001b[0m\u001b[1m)\u001b[0m"
      ]
     },
     "execution_count": 87,
     "metadata": {},
     "output_type": "execute_result"
    }
   ],
   "source": [
    "vol = jnp.linalg.det(cg.graph_data.lat[1])\n",
    "(-shat[1]) * cg.n_node[1]"
   ]
  },
  {
   "cell_type": "code",
   "execution_count": 92,
   "metadata": {},
   "outputs": [
    {
     "data": {
      "text/html": [
       "<pre style=\"white-space:pre;overflow-x:auto;line-height:normal;font-family:Menlo,'DejaVu Sans Mono',consolas,'Courier New',monospace\"></pre>\n"
      ],
      "text/plain": []
     },
     "metadata": {},
     "output_type": "display_data"
    },
    {
     "data": {
      "text/plain": [
       "\n",
       "\u001b[1;35mArray\u001b[0m\u001b[1m(\u001b[0m\u001b[1m[\u001b[0m\u001b[1m[\u001b[0m\u001b[1;36m-0.60424715\u001b[0m,  \u001b[1;36m0\u001b[0m.        ,  \u001b[1;36m0\u001b[0m.        \u001b[1m]\u001b[0m,\n",
       "       \u001b[1m[\u001b[0m\u001b[1;36m-0\u001b[0m.        , \u001b[1;36m-0.60424715\u001b[0m, \u001b[1;36m-0\u001b[0m.        \u001b[1m]\u001b[0m,\n",
       "       \u001b[1m[\u001b[0m \u001b[1;36m0\u001b[0m.        , \u001b[1;36m-0\u001b[0m.        , \u001b[1;36m-0.60424715\u001b[0m\u001b[1m]\u001b[0m\u001b[1m]\u001b[0m, \u001b[33mdtype\u001b[0m=\u001b[35mfloat32\u001b[0m\u001b[1m)\u001b[0m"
      ]
     },
     "execution_count": 92,
     "metadata": {},
     "output_type": "execute_result"
    }
   ],
   "source": [
    "s[0]"
   ]
  },
  {
   "cell_type": "code",
   "execution_count": 115,
   "metadata": {},
   "outputs": [
    {
     "data": {
      "text/html": [
       "<pre style=\"white-space:pre;overflow-x:auto;line-height:normal;font-family:Menlo,'DejaVu Sans Mono',consolas,'Courier New',monospace\"></pre>\n"
      ],
      "text/plain": []
     },
     "metadata": {},
     "output_type": "display_data"
    },
    {
     "data": {
      "text/plain": [
       "\u001b[1;35mArray\u001b[0m\u001b[1m(\u001b[0m\u001b[1;36m2.8824584\u001b[0m, \u001b[33mdtype\u001b[0m=\u001b[35mfloat32\u001b[0m\u001b[1m)\u001b[0m"
      ]
     },
     "execution_count": 115,
     "metadata": {},
     "output_type": "execute_result"
    }
   ],
   "source": [
    "import e3nn_jax as e3nn\n",
    "s_forces = e3nn.scatter_sum(\n",
    "    jnp.einsum(\"iu,iv->iuv\", -out.force, cg.nodes.cart),\n",
    "    nel=cg.n_node,\n",
    ")\n",
    "\n",
    "vols = jnp.linalg.det(cg.graph_data.lat[cg.padding_mask])[:, None, None]\n",
    "\n",
    "shat2 = (-0.1 * (s_forces[cg.padding_mask] - shat))\n",
    "\n",
    "l1_loss(shat2, s)"
   ]
  },
  {
   "cell_type": "code",
   "execution_count": 111,
   "metadata": {},
   "outputs": [
    {
     "data": {
      "text/html": [
       "<pre style=\"white-space:pre;overflow-x:auto;line-height:normal;font-family:Menlo,'DejaVu Sans Mono',consolas,'Courier New',monospace\"></pre>\n"
      ],
      "text/plain": []
     },
     "metadata": {},
     "output_type": "display_data"
    },
    {
     "data": {
      "text/plain": [
       "\n",
       "\u001b[1;35mArray\u001b[0m\u001b[1m(\u001b[0m\u001b[1m[\u001b[0m\u001b[1m[\u001b[0m\u001b[1m[\u001b[0m\u001b[1;36m-6.82180226e-01\u001b[0m,  \u001b[1;36m5.21102250e-02\u001b[0m, \u001b[1;36m-1.55381334e-04\u001b[0m\u001b[1m]\u001b[0m,\n",
       "        \u001b[1m[\u001b[0m \u001b[1;36m7.86673103e-04\u001b[0m, \u001b[1;36m-6.93698823e-01\u001b[0m,  \u001b[1;36m1.54064153e-04\u001b[0m\u001b[1m]\u001b[0m,\n",
       "        \u001b[1m[\u001b[0m\u001b[1;36m-2.03943625e-02\u001b[0m, \u001b[1;36m-1.98779013e-02\u001b[0m, \u001b[1;36m-7.25386918e-01\u001b[0m\u001b[1m]\u001b[0m\u001b[1m]\u001b[0m,\n",
       "\n",
       "       \u001b[1m[\u001b[0m\u001b[1m[\u001b[0m\u001b[1;36m-3.64974514e-02\u001b[0m, \u001b[1;36m-1.59305617e-01\u001b[0m,  \u001b[1;36m1.03405789e-02\u001b[0m\u001b[1m]\u001b[0m,\n",
       "        \u001b[1m[\u001b[0m \u001b[1;36m4.09099227e-03\u001b[0m,  \u001b[1;36m1.42291594e+00\u001b[0m, \u001b[1;36m-2.72516429e-01\u001b[0m\u001b[1m]\u001b[0m,\n",
       "        \u001b[1m[\u001b[0m\u001b[1;36m-5.24951458e-01\u001b[0m, \u001b[1;36m-6.91891611e-01\u001b[0m,  \u001b[1;36m9.62256253e-01\u001b[0m\u001b[1m]\u001b[0m\u001b[1m]\u001b[0m,\n",
       "\n",
       "       \u001b[1m[\u001b[0m\u001b[1m[\u001b[0m\u001b[1;36m-5.04558861e-01\u001b[0m,  \u001b[1;36m7.28574872e-01\u001b[0m,  \u001b[1;36m1.82530209e-01\u001b[0m\u001b[1m]\u001b[0m,\n",
       "        \u001b[1m[\u001b[0m \u001b[1;36m2.07458183e-01\u001b[0m, \u001b[1;36m-1.00633371e+00\u001b[0m,  \u001b[1;36m1.20740972e-01\u001b[0m\u001b[1m]\u001b[0m,\n",
       "        \u001b[1m[\u001b[0m \u001b[1;36m2.94208616e-01\u001b[0m,  \u001b[1;36m5.05794048e-01\u001b[0m,  \u001b[1;36m4.97382075e-01\u001b[0m\u001b[1m]\u001b[0m\u001b[1m]\u001b[0m,\n",
       "\n",
       "       \u001b[1m[\u001b[0m\u001b[1m[\u001b[0m \u001b[1;36m9.91178080e-02\u001b[0m,  \u001b[1;36m2.25008893e+00\u001b[0m,  \u001b[1;36m6.83501911e+00\u001b[0m\u001b[1m]\u001b[0m,\n",
       "        \u001b[1m[\u001b[0m \u001b[1;36m8.62053990e-01\u001b[0m, \u001b[1;36m-2.38283277e+00\u001b[0m,  \u001b[1;36m4.54934269e-01\u001b[0m\u001b[1m]\u001b[0m,\n",
       "        \u001b[1m[\u001b[0m \u001b[1;36m3.83615422e+00\u001b[0m, \u001b[1;36m-7.51134753e-01\u001b[0m, \u001b[1;36m-3.47551084e+00\u001b[0m\u001b[1m]\u001b[0m\u001b[1m]\u001b[0m,\n",
       "\n",
       "       \u001b[1m[\u001b[0m\u001b[1m[\u001b[0m \u001b[1;36m1.84880006e+00\u001b[0m, \u001b[1;36m-1.23305130e+00\u001b[0m,  \u001b[1;36m1.97775289e-01\u001b[0m\u001b[1m]\u001b[0m,\n",
       "        \u001b[1m[\u001b[0m\u001b[1;36m-2.26320490e-01\u001b[0m, \u001b[1;36m-2.26188108e-01\u001b[0m,  \u001b[1;36m3.11821371e-01\u001b[0m\u001b[1m]\u001b[0m,\n",
       "        \u001b[1m[\u001b[0m\u001b[1;36m-6.85291469e-01\u001b[0m,  \u001b[1;36m5.40968895e-01\u001b[0m, \u001b[1;36m-2.96678126e-01\u001b[0m\u001b[1m]\u001b[0m\u001b[1m]\u001b[0m,\n",
       "\n",
       "       \u001b[1m[\u001b[0m\u001b[1m[\u001b[0m \u001b[1;36m6.13155305e-01\u001b[0m, \u001b[1;36m-3.21964383e-01\u001b[0m,  \u001b[1;36m7.14292079e-02\u001b[0m\u001b[1m]\u001b[0m,\n",
       "        \u001b[1m[\u001b[0m \u001b[1;36m5.63803315e-02\u001b[0m,  \u001b[1;36m3.96890640e-01\u001b[0m,  \u001b[1;36m1.34976745e-01\u001b[0m\u001b[1m]\u001b[0m,\n",
       "        \u001b[1m[\u001b[0m\u001b[1;36m-2.70603955e-01\u001b[0m, \u001b[1;36m-2.55498201e-01\u001b[0m,  \u001b[1;36m4.56192940e-01\u001b[0m\u001b[1m]\u001b[0m\u001b[1m]\u001b[0m,\n",
       "\n",
       "       \u001b[1m[\u001b[0m\u001b[1m[\u001b[0m\u001b[1;36m-1.46720797e-01\u001b[0m,  \u001b[1;36m3.23558822e-02\u001b[0m,  \u001b[1;36m2.65811514e-02\u001b[0m\u001b[1m]\u001b[0m,\n",
       "        \u001b[1m[\u001b[0m\u001b[1;36m-3.49668354e-01\u001b[0m,  \u001b[1;36m1.95440516e-01\u001b[0m,  \u001b[1;36m5.14607072e-01\u001b[0m\u001b[1m]\u001b[0m,\n",
       "        \u001b[1m[\u001b[0m\u001b[1;36m-4.91154604e-02\u001b[0m,  \u001b[1;36m2.65554500e+00\u001b[0m,  \u001b[1;36m2.99823833e+00\u001b[0m\u001b[1m]\u001b[0m\u001b[1m]\u001b[0m,\n",
       "\n",
       "       \u001b[1m[\u001b[0m\u001b[1m[\u001b[0m \u001b[1;36m1.49705321e-01\u001b[0m,  \u001b[1;36m2.64181256e-01\u001b[0m,  \u001b[1;36m7.06814900e-02\u001b[0m\u001b[1m]\u001b[0m,\n",
       "        \u001b[1m[\u001b[0m \u001b[1;36m1.77976459e-01\u001b[0m,  \u001b[1;36m9.41742241e-01\u001b[0m, \u001b[1;36m-1.21787263e-04\u001b[0m\u001b[1m]\u001b[0m,\n",
       "        \u001b[1m[\u001b[0m\u001b[1;36m-1.03786647e-01\u001b[0m, \u001b[1;36m-2.13919789e-01\u001b[0m, \u001b[1;36m-1.65982489e-02\u001b[0m\u001b[1m]\u001b[0m\u001b[1m]\u001b[0m,\n",
       "\n",
       "       \u001b[1m[\u001b[0m\u001b[1m[\u001b[0m \u001b[1;36m5.00809813e+00\u001b[0m,  \u001b[1;36m5.70301414e-01\u001b[0m, \u001b[1;36m-1.89613149e-01\u001b[0m\u001b[1m]\u001b[0m,\n",
       "        \u001b[1m[\u001b[0m\u001b[1;36m-8.26297581e-01\u001b[0m,  \u001b[1;36m1.73594463e+00\u001b[0m, \u001b[1;36m-1.74634665e-01\u001b[0m\u001b[1m]\u001b[0m,\n",
       "        \u001b[1m[\u001b[0m\u001b[1;36m-4.24465477e-01\u001b[0m, \u001b[1;36m-4.67707694e-01\u001b[0m,  \u001b[1;36m1.02769375e+00\u001b[0m\u001b[1m]\u001b[0m\u001b[1m]\u001b[0m,\n",
       "\n",
       "       \u001b[1m[\u001b[0m\u001b[1m[\u001b[0m\u001b[1;36m-5.64725518e-01\u001b[0m, \u001b[1;36m-4.95614737e-01\u001b[0m,  \u001b[1;36m3.35904896e-01\u001b[0m\u001b[1m]\u001b[0m,\n",
       "        \u001b[1m[\u001b[0m\u001b[1;36m-4.13069010e-01\u001b[0m, \u001b[1;36m-5.51425032e-02\u001b[0m, \u001b[1;36m-6.21160030e-01\u001b[0m\u001b[1m]\u001b[0m,\n",
       "        \u001b[1m[\u001b[0m \u001b[1;36m3.15740079e-01\u001b[0m, \u001b[1;36m-4.96982306e-01\u001b[0m, \u001b[1;36m-9.10896480e-01\u001b[0m\u001b[1m]\u001b[0m\u001b[1m]\u001b[0m,\n",
       "\n",
       "       \u001b[1m[\u001b[0m\u001b[1m[\u001b[0m\u001b[1;36m-7.28239641e-02\u001b[0m, \u001b[1;36m-2.18933091e-01\u001b[0m, \u001b[1;36m-1.25988498e-01\u001b[0m\u001b[1m]\u001b[0m,\n",
       "        \u001b[1m[\u001b[0m \u001b[1;36m3.38216156e-01\u001b[0m,  \u001b[1;36m1.91319311e+00\u001b[0m,  \u001b[1;36m2.37405300e-01\u001b[0m\u001b[1m]\u001b[0m,\n",
       "        \u001b[1m[\u001b[0m\u001b[1;36m-4.87835966e-02\u001b[0m,  \u001b[1;36m5.89803457e-01\u001b[0m, \u001b[1;36m-5.79392672e-01\u001b[0m\u001b[1m]\u001b[0m\u001b[1m]\u001b[0m,\n",
       "\n",
       "       \u001b[1m[\u001b[0m\u001b[1m[\u001b[0m \u001b[1;36m1.70645714e+00\u001b[0m,  \u001b[1;36m3.36856127e-01\u001b[0m, \u001b[1;36m-1.00084567e+00\u001b[0m\u001b[1m]\u001b[0m,\n",
       "        \u001b[1m[\u001b[0m\u001b[1;36m-1.14831105e-01\u001b[0m, \u001b[1;36m-1.92794725e-01\u001b[0m, \u001b[1;36m-8.93643964e-03\u001b[0m\u001b[1m]\u001b[0m,\n",
       "        \u001b[1m[\u001b[0m \u001b[1;36m2.73653455e-02\u001b[0m, \u001b[1;36m-2.83125103e-01\u001b[0m, \u001b[1;36m-1.32478559e+00\u001b[0m\u001b[1m]\u001b[0m\u001b[1m]\u001b[0m,\n",
       "\n",
       "       \u001b[1m[\u001b[0m\u001b[1m[\u001b[0m \u001b[1;36m4.51621860e-01\u001b[0m, \u001b[1;36m-3.05344272e+00\u001b[0m,  \u001b[1;36m3.12971413e-01\u001b[0m\u001b[1m]\u001b[0m,\n",
       "        \u001b[1m[\u001b[0m \u001b[1;36m1.28387094e+00\u001b[0m, \u001b[1;36m-6.55619526e+00\u001b[0m,  \u001b[1;36m5.21772563e-01\u001b[0m\u001b[1m]\u001b[0m,\n",
       "        \u001b[1m[\u001b[0m \u001b[1;36m3.79742324e-01\u001b[0m,  \u001b[1;36m4.27857697e-01\u001b[0m, \u001b[1;36m-1.44337404e+00\u001b[0m\u001b[1m]\u001b[0m\u001b[1m]\u001b[0m,\n",
       "\n",
       "       \u001b[1m[\u001b[0m\u001b[1m[\u001b[0m \u001b[1;36m5.36743879e-01\u001b[0m, \u001b[1;36m-2.15314418e-01\u001b[0m, \u001b[1;36m-2.48952612e-01\u001b[0m\u001b[1m]\u001b[0m,\n",
       "        \u001b[1m[\u001b[0m\u001b[1;36m-3.43001366e-01\u001b[0m,  \u001b[1;36m1.15696526e+00\u001b[0m,  \u001b[1;36m2.33619571e-01\u001b[0m\u001b[1m]\u001b[0m,\n",
       "        \u001b[1m[\u001b[0m\u001b[1;36m-1.07709312e+00\u001b[0m, \u001b[1;36m-8.26493930e-03\u001b[0m, \u001b[1;36m-3.67904633e-01\u001b[0m\u001b[1m]\u001b[0m\u001b[1m]\u001b[0m,\n",
       "\n",
       "       \u001b[1m[\u001b[0m\u001b[1m[\u001b[0m\u001b[1;36m-7.35892951e-01\u001b[0m, \u001b[1;36m-8.03366363e-01\u001b[0m,  \u001b[1;36m3.55112940e-01\u001b[0m\u001b[1m]\u001b[0m,\n",
       "        \u001b[1m[\u001b[0m \u001b[1;36m5.49502790e-01\u001b[0m, \u001b[1;36m-4.91564661e-01\u001b[0m, \u001b[1;36m-7.56490111e-01\u001b[0m\u001b[1m]\u001b[0m,\n",
       "        \u001b[1m[\u001b[0m \u001b[1;36m2.82000273e-01\u001b[0m, \u001b[1;36m-8.21453556e-02\u001b[0m, \u001b[1;36m-3.66659403e-01\u001b[0m\u001b[1m]\u001b[0m\u001b[1m]\u001b[0m,\n",
       "\n",
       "       \u001b[1m[\u001b[0m\u001b[1m[\u001b[0m \u001b[1;36m9.79478002e-01\u001b[0m, \u001b[1;36m-3.60521495e-01\u001b[0m,  \u001b[1;36m1.55658376e+00\u001b[0m\u001b[1m]\u001b[0m,\n",
       "        \u001b[1m[\u001b[0m\u001b[1;36m-1.38201857e+00\u001b[0m, \u001b[1;36m-1.12128772e-01\u001b[0m,  \u001b[1;36m1.27114415e+00\u001b[0m\u001b[1m]\u001b[0m,\n",
       "        \u001b[1m[\u001b[0m\u001b[1;36m-2.79386967e-01\u001b[0m,  \u001b[1;36m1.06432641e+00\u001b[0m, \u001b[1;36m-3.92922133e-01\u001b[0m\u001b[1m]\u001b[0m\u001b[1m]\u001b[0m,\n",
       "\n",
       "       \u001b[1m[\u001b[0m\u001b[1m[\u001b[0m\u001b[1;36m-1.34110379e+00\u001b[0m, \u001b[1;36m-2.16486216e-01\u001b[0m,  \u001b[1;36m6.47850931e-01\u001b[0m\u001b[1m]\u001b[0m,\n",
       "        \u001b[1m[\u001b[0m \u001b[1;36m3.35980386e-01\u001b[0m, \u001b[1;36m-1.41216135e+00\u001b[0m, \u001b[1;36m-1.25168204e+00\u001b[0m\u001b[1m]\u001b[0m,\n",
       "        \u001b[1m[\u001b[0m\u001b[1;36m-6.83914870e-02\u001b[0m, \u001b[1;36m-8.54990780e-02\u001b[0m, \u001b[1;36m-3.74508560e-01\u001b[0m\u001b[1m]\u001b[0m\u001b[1m]\u001b[0m,\n",
       "\n",
       "       \u001b[1m[\u001b[0m\u001b[1m[\u001b[0m \u001b[1;36m7.88063288e-01\u001b[0m, \u001b[1;36m-4.05754000e-01\u001b[0m,  \u001b[1;36m1.58483878e-01\u001b[0m\u001b[1m]\u001b[0m,\n",
       "        \u001b[1m[\u001b[0m\u001b[1;36m-1.06418394e-01\u001b[0m,  \u001b[1;36m6.37190580e-01\u001b[0m,  \u001b[1;36m3.00386082e-02\u001b[0m\u001b[1m]\u001b[0m,\n",
       "        \u001b[1m[\u001b[0m\u001b[1;36m-4.50405806e-01\u001b[0m,  \u001b[1;36m5.14118791e-01\u001b[0m, \u001b[1;36m-1.07533090e-01\u001b[0m\u001b[1m]\u001b[0m\u001b[1m]\u001b[0m,\n",
       "\n",
       "       \u001b[1m[\u001b[0m\u001b[1m[\u001b[0m\u001b[1;36m-4.38492107e+00\u001b[0m,  \u001b[1;36m1.28044114e-01\u001b[0m,  \u001b[1;36m6.45427084e+00\u001b[0m\u001b[1m]\u001b[0m,\n",
       "        \u001b[1m[\u001b[0m \u001b[1;36m6.93778455e-01\u001b[0m,  \u001b[1;36m3.02407681e-03\u001b[0m, \u001b[1;36m-3.52280468e-01\u001b[0m\u001b[1m]\u001b[0m,\n",
       "        \u001b[1m[\u001b[0m\u001b[1;36m-7.09222198e-01\u001b[0m, \u001b[1;36m-1.08229063e-01\u001b[0m,  \u001b[1;36m1.79039991e+00\u001b[0m\u001b[1m]\u001b[0m\u001b[1m]\u001b[0m,\n",
       "\n",
       "       \u001b[1m[\u001b[0m\u001b[1m[\u001b[0m \u001b[1;36m6.12362206e-01\u001b[0m,  \u001b[1;36m1.83643806e+00\u001b[0m, \u001b[1;36m-2.89377284e+00\u001b[0m\u001b[1m]\u001b[0m,\n",
       "        \u001b[1m[\u001b[0m \u001b[1;36m3.29824638e+00\u001b[0m, \u001b[1;36m-2.57684612e+00\u001b[0m, \u001b[1;36m-2.13834882e+00\u001b[0m\u001b[1m]\u001b[0m,\n",
       "        \u001b[1m[\u001b[0m \u001b[1;36m2.32902479e+00\u001b[0m, \u001b[1;36m-1.96326220e+00\u001b[0m, \u001b[1;36m-3.49979568e+00\u001b[0m\u001b[1m]\u001b[0m\u001b[1m]\u001b[0m,\n",
       "\n",
       "       \u001b[1m[\u001b[0m\u001b[1m[\u001b[0m \u001b[1;36m3.46694589e-01\u001b[0m,  \u001b[1;36m7.17425197e-02\u001b[0m, \u001b[1;36m-2.68005282e-01\u001b[0m\u001b[1m]\u001b[0m,\n",
       "        \u001b[1m[\u001b[0m \u001b[1;36m8.23974788e-01\u001b[0m, \u001b[1;36m-6.44432783e-01\u001b[0m,  \u001b[1;36m4.18017596e-01\u001b[0m\u001b[1m]\u001b[0m,\n",
       "        \u001b[1m[\u001b[0m\u001b[1;36m-3.00047512e-04\u001b[0m,  \u001b[1;36m3.05066904e-04\u001b[0m, \u001b[1;36m-3.24905723e-01\u001b[0m\u001b[1m]\u001b[0m\u001b[1m]\u001b[0m,\n",
       "\n",
       "       \u001b[1m[\u001b[0m\u001b[1m[\u001b[0m \u001b[1;36m8.84707391e-01\u001b[0m, \u001b[1;36m-1.57103285e-01\u001b[0m, \u001b[1;36m-6.61411509e-02\u001b[0m\u001b[1m]\u001b[0m,\n",
       "        \u001b[1m[\u001b[0m\u001b[1;36m-5.08630335e-01\u001b[0m,  \u001b[1;36m3.31742793e-01\u001b[0m,  \u001b[1;36m2.87529439e-01\u001b[0m\u001b[1m]\u001b[0m,\n",
       "        \u001b[1m[\u001b[0m\u001b[1;36m-1.40327585e+00\u001b[0m, \u001b[1;36m-2.43711472e-01\u001b[0m, \u001b[1;36m-6.60613239e-01\u001b[0m\u001b[1m]\u001b[0m\u001b[1m]\u001b[0m,\n",
       "\n",
       "       \u001b[1m[\u001b[0m\u001b[1m[\u001b[0m\u001b[1;36m-1.79955706e-01\u001b[0m,  \u001b[1;36m1.28871888e-01\u001b[0m, \u001b[1;36m-2.26851940e-01\u001b[0m\u001b[1m]\u001b[0m,\n",
       "        \u001b[1m[\u001b[0m\u001b[1;36m-7.49353170e-01\u001b[0m,  \u001b[1;36m3.14458430e-01\u001b[0m,  \u001b[1;36m6.26685247e-02\u001b[0m\u001b[1m]\u001b[0m,\n",
       "        \u001b[1m[\u001b[0m\u001b[1;36m-1.59069281e-02\u001b[0m, \u001b[1;36m-1.15634277e-01\u001b[0m,  \u001b[1;36m1.04598859e-02\u001b[0m\u001b[1m]\u001b[0m\u001b[1m]\u001b[0m,\n",
       "\n",
       "       \u001b[1m[\u001b[0m\u001b[1m[\u001b[0m \u001b[1;36m2.33016089e-01\u001b[0m, \u001b[1;36m-6.89696446e-02\u001b[0m,  \u001b[1;36m2.67660350e-01\u001b[0m\u001b[1m]\u001b[0m,\n",
       "        \u001b[1m[\u001b[0m\u001b[1;36m-2.33238220e-01\u001b[0m,  \u001b[1;36m3.31049524e-02\u001b[0m, \u001b[1;36m-6.50051951e-01\u001b[0m\u001b[1m]\u001b[0m,\n",
       "        \u001b[1m[\u001b[0m\u001b[1;36m-2.55396992e-01\u001b[0m,  \u001b[1;36m3.15699816e-01\u001b[0m, \u001b[1;36m-1.43693974e-02\u001b[0m\u001b[1m]\u001b[0m\u001b[1m]\u001b[0m,\n",
       "\n",
       "       \u001b[1m[\u001b[0m\u001b[1m[\u001b[0m\u001b[1;36m-1.08997023e+00\u001b[0m,  \u001b[1;36m1.01577356e-01\u001b[0m, \u001b[1;36m-3.28556418e-01\u001b[0m\u001b[1m]\u001b[0m,\n",
       "        \u001b[1m[\u001b[0m\u001b[1;36m-6.40890181e-01\u001b[0m,  \u001b[1;36m6.67233467e-02\u001b[0m, \u001b[1;36m-2.04131529e-01\u001b[0m\u001b[1m]\u001b[0m,\n",
       "        \u001b[1m[\u001b[0m\u001b[1;36m-1.55695945e-01\u001b[0m,  \u001b[1;36m2.86955953e-01\u001b[0m,  \u001b[1;36m5.19359997e-03\u001b[0m\u001b[1m]\u001b[0m\u001b[1m]\u001b[0m,\n",
       "\n",
       "       \u001b[1m[\u001b[0m\u001b[1m[\u001b[0m\u001b[1;36m-1.33387875e-04\u001b[0m,  \u001b[1;36m2.09142410e-04\u001b[0m, \u001b[1;36m-3.14188910e-05\u001b[0m\u001b[1m]\u001b[0m,\n",
       "        \u001b[1m[\u001b[0m \u001b[1;36m1.80453542e-04\u001b[0m,  \u001b[1;36m2.52024899e-03\u001b[0m, \u001b[1;36m-9.34202108e-05\u001b[0m\u001b[1m]\u001b[0m,\n",
       "        \u001b[1m[\u001b[0m \u001b[1;36m9.23983939e-03\u001b[0m,  \u001b[1;36m9.23972111e-03\u001b[0m, \u001b[1;36m-1.18071854e+00\u001b[0m\u001b[1m]\u001b[0m\u001b[1m]\u001b[0m,\n",
       "\n",
       "       \u001b[1m[\u001b[0m\u001b[1m[\u001b[0m \u001b[1;36m3.04907012e+00\u001b[0m,  \u001b[1;36m1.42023909e+00\u001b[0m,  \u001b[1;36m1.27149940e+00\u001b[0m\u001b[1m]\u001b[0m,\n",
       "        \u001b[1m[\u001b[0m\u001b[1;36m-1.71429157e+00\u001b[0m, \u001b[1;36m-1.73776519e+00\u001b[0m, \u001b[1;36m-1.79909647e+00\u001b[0m\u001b[1m]\u001b[0m,\n",
       "        \u001b[1m[\u001b[0m \u001b[1;36m3.55898333e+00\u001b[0m,  \u001b[1;36m3.49555445e+00\u001b[0m,  \u001b[1;36m7.28729391e+00\u001b[0m\u001b[1m]\u001b[0m\u001b[1m]\u001b[0m,\n",
       "\n",
       "       \u001b[1m[\u001b[0m\u001b[1m[\u001b[0m \u001b[1;36m2.19707656e+00\u001b[0m,  \u001b[1;36m9.67269784e-07\u001b[0m,  \u001b[1;36m1.26846814e+00\u001b[0m\u001b[1m]\u001b[0m,\n",
       "        \u001b[1m[\u001b[0m\u001b[1;36m-1.10988310e-02\u001b[0m, \u001b[1;36m-0.00000000e+00\u001b[0m, \u001b[1;36m-6.40791235e-03\u001b[0m\u001b[1m]\u001b[0m,\n",
       "        \u001b[1m[\u001b[0m \u001b[1;36m1.40496469e+00\u001b[0m, \u001b[1;36m-0.00000000e+00\u001b[0m,  \u001b[1;36m8.11156690e-01\u001b[0m\u001b[1m]\u001b[0m\u001b[1m]\u001b[0m,\n",
       "\n",
       "       \u001b[1m[\u001b[0m\u001b[1m[\u001b[0m\u001b[1;36m-4.71719074e+00\u001b[0m, \u001b[1;36m-3.05382279e-03\u001b[0m, \u001b[1;36m-7.28608549e-01\u001b[0m\u001b[1m]\u001b[0m,\n",
       "        \u001b[1m[\u001b[0m\u001b[1;36m-2.62538195e+00\u001b[0m, \u001b[1;36m-4.23281733e-03\u001b[0m, \u001b[1;36m-3.95921201e-01\u001b[0m\u001b[1m]\u001b[0m,\n",
       "        \u001b[1m[\u001b[0m\u001b[1;36m-2.12567115e+00\u001b[0m,  \u001b[1;36m5.19120554e-03\u001b[0m, \u001b[1;36m-3.36813658e-01\u001b[0m\u001b[1m]\u001b[0m\u001b[1m]\u001b[0m,\n",
       "\n",
       "       \u001b[1m[\u001b[0m\u001b[1m[\u001b[0m\u001b[1;36m-9.19376373e-01\u001b[0m,  \u001b[1;36m3.42196965e+00\u001b[0m,  \u001b[1;36m5.25750446e+00\u001b[0m\u001b[1m]\u001b[0m,\n",
       "        \u001b[1m[\u001b[0m \u001b[1;36m6.26973450e-01\u001b[0m, \u001b[1;36m-2.31126070e+00\u001b[0m, \u001b[1;36m-3.54721832e+00\u001b[0m\u001b[1m]\u001b[0m,\n",
       "        \u001b[1m[\u001b[0m \u001b[1;36m4.70350653e-01\u001b[0m, \u001b[1;36m-1.75067103e+00\u001b[0m, \u001b[1;36m-2.68972635e+00\u001b[0m\u001b[1m]\u001b[0m\u001b[1m]\u001b[0m,\n",
       "\n",
       "       \u001b[1m[\u001b[0m\u001b[1m[\u001b[0m\u001b[1;36m-1.89545155e-02\u001b[0m,  \u001b[1;36m1.59176871e-05\u001b[0m,  \u001b[1;36m2.65652784e-06\u001b[0m\u001b[1m]\u001b[0m,\n",
       "        \u001b[1m[\u001b[0m \u001b[1;36m1.50683600e-05\u001b[0m, \u001b[1;36m-1.58232749e-02\u001b[0m, \u001b[1;36m-1.21410657e-03\u001b[0m\u001b[1m]\u001b[0m,\n",
       "        \u001b[1m[\u001b[0m\u001b[1;36m-2.83932854e-06\u001b[0m, \u001b[1;36m-1.17856136e-03\u001b[0m, \u001b[1;36m-2.31113378e-02\u001b[0m\u001b[1m]\u001b[0m\u001b[1m]\u001b[0m\u001b[1m]\u001b[0m,      \u001b[33mdtype\u001b[0m=\u001b[35mfloat32\u001b[0m\u001b[1m)\u001b[0m"
      ]
     },
     "execution_count": 111,
     "metadata": {},
     "output_type": "execute_result"
    }
   ],
   "source": [
    "shat2"
   ]
  },
  {
   "cell_type": "code",
   "execution_count": 109,
   "metadata": {},
   "outputs": [
    {
     "data": {
      "text/html": [
       "<pre style=\"white-space:pre;overflow-x:auto;line-height:normal;font-family:Menlo,'DejaVu Sans Mono',consolas,'Courier New',monospace\"></pre>\n"
      ],
      "text/plain": []
     },
     "metadata": {},
     "output_type": "display_data"
    },
    {
     "data": {
      "text/plain": [
       "\n",
       "\u001b[1;35mArray\u001b[0m\u001b[1m(\u001b[0m\u001b[1m[\u001b[0m\u001b[1m[\u001b[0m\u001b[1m[\u001b[0m\u001b[1;36m-6.0424715e-01\u001b[0m,  \u001b[1;36m0.0000000e+00\u001b[0m,  \u001b[1;36m0.0000000e+00\u001b[0m\u001b[1m]\u001b[0m,\n",
       "        \u001b[1m[\u001b[0m\u001b[1;36m-0.0000000e+00\u001b[0m, \u001b[1;36m-6.0424715e-01\u001b[0m, \u001b[1;36m-0.0000000e+00\u001b[0m\u001b[1m]\u001b[0m,\n",
       "        \u001b[1m[\u001b[0m \u001b[1;36m0.0000000e+00\u001b[0m, \u001b[1;36m-0.0000000e+00\u001b[0m, \u001b[1;36m-6.0424715e-01\u001b[0m\u001b[1m]\u001b[0m\u001b[1m]\u001b[0m,\n",
       "\n",
       "       \u001b[1m[\u001b[0m\u001b[1m[\u001b[0m \u001b[1;36m1.0462394e+00\u001b[0m,  \u001b[1;36m0.0000000e+00\u001b[0m,  \u001b[1;36m0.0000000e+00\u001b[0m\u001b[1m]\u001b[0m,\n",
       "        \u001b[1m[\u001b[0m \u001b[1;36m0.0000000e+00\u001b[0m,  \u001b[1;36m2.8096368e+00\u001b[0m,  \u001b[1;36m0.0000000e+00\u001b[0m\u001b[1m]\u001b[0m,\n",
       "        \u001b[1m[\u001b[0m \u001b[1;36m0.0000000e+00\u001b[0m,  \u001b[1;36m0.0000000e+00\u001b[0m,  \u001b[1;36m2.8096368e+00\u001b[0m\u001b[1m]\u001b[0m\u001b[1m]\u001b[0m,\n",
       "\n",
       "       \u001b[1m[\u001b[0m\u001b[1m[\u001b[0m \u001b[1;36m3.3103592e+00\u001b[0m,  \u001b[1;36m8.9109997e-04\u001b[0m,  \u001b[1;36m8.7364800e-03\u001b[0m\u001b[1m]\u001b[0m,\n",
       "        \u001b[1m[\u001b[0m \u001b[1;36m8.9109997e-04\u001b[0m,  \u001b[1;36m3.3401010e+00\u001b[0m,  \u001b[1;36m3.8545862e-02\u001b[0m\u001b[1m]\u001b[0m,\n",
       "        \u001b[1m[\u001b[0m \u001b[1;36m8.7365601e-03\u001b[0m,  \u001b[1;36m3.8545821e-02\u001b[0m,  \u001b[1;36m2.1181519e+00\u001b[0m\u001b[1m]\u001b[0m\u001b[1m]\u001b[0m,\n",
       "\n",
       "       \u001b[1m[\u001b[0m\u001b[1m[\u001b[0m\u001b[1;36m-6.9081502e+00\u001b[0m,  \u001b[1;36m0.0000000e+00\u001b[0m,  \u001b[1;36m1.7676691e+00\u001b[0m\u001b[1m]\u001b[0m,\n",
       "        \u001b[1m[\u001b[0m \u001b[1;36m0.0000000e+00\u001b[0m, \u001b[1;36m-3.1795950e+00\u001b[0m,  \u001b[1;36m0.0000000e+00\u001b[0m\u001b[1m]\u001b[0m,\n",
       "        \u001b[1m[\u001b[0m \u001b[1;36m1.7676692e+00\u001b[0m,  \u001b[1;36m0.0000000e+00\u001b[0m, \u001b[1;36m-4.2425270e+00\u001b[0m\u001b[1m]\u001b[0m\u001b[1m]\u001b[0m,\n",
       "\n",
       "       \u001b[1m[\u001b[0m\u001b[1m[\u001b[0m\u001b[1;36m-1.0880770e-01\u001b[0m, \u001b[1;36m-1.2903541e-01\u001b[0m,  \u001b[1;36m0.0000000e+00\u001b[0m\u001b[1m]\u001b[0m,\n",
       "        \u001b[1m[\u001b[0m\u001b[1;36m-1.2902828e-01\u001b[0m,  \u001b[1;36m6.1132740e-02\u001b[0m,  \u001b[1;36m0.0000000e+00\u001b[0m\u001b[1m]\u001b[0m,\n",
       "        \u001b[1m[\u001b[0m \u001b[1;36m0.0000000e+00\u001b[0m,  \u001b[1;36m0.0000000e+00\u001b[0m, \u001b[1;36m-5.8678418e-02\u001b[0m\u001b[1m]\u001b[0m\u001b[1m]\u001b[0m,\n",
       "\n",
       "       \u001b[1m[\u001b[0m\u001b[1m[\u001b[0m\u001b[1;36m-3.7215585e-01\u001b[0m, \u001b[1;36m-0.0000000e+00\u001b[0m,  \u001b[1;36m0.0000000e+00\u001b[0m\u001b[1m]\u001b[0m,\n",
       "        \u001b[1m[\u001b[0m\u001b[1;36m-0.0000000e+00\u001b[0m, \u001b[1;36m-3.7215585e-01\u001b[0m,  \u001b[1;36m0.0000000e+00\u001b[0m\u001b[1m]\u001b[0m,\n",
       "        \u001b[1m[\u001b[0m\u001b[1;36m-0.0000000e+00\u001b[0m, \u001b[1;36m-0.0000000e+00\u001b[0m, \u001b[1;36m-3.7215585e-01\u001b[0m\u001b[1m]\u001b[0m\u001b[1m]\u001b[0m,\n",
       "\n",
       "       \u001b[1m[\u001b[0m\u001b[1m[\u001b[0m \u001b[1;36m2.4973841e+00\u001b[0m,  \u001b[1;36m0.0000000e+00\u001b[0m,  \u001b[1;36m0.0000000e+00\u001b[0m\u001b[1m]\u001b[0m,\n",
       "        \u001b[1m[\u001b[0m \u001b[1;36m0.0000000e+00\u001b[0m,  \u001b[1;36m2.1608264e+00\u001b[0m,  \u001b[1;36m0.0000000e+00\u001b[0m\u001b[1m]\u001b[0m,\n",
       "        \u001b[1m[\u001b[0m \u001b[1;36m0.0000000e+00\u001b[0m,  \u001b[1;36m0.0000000e+00\u001b[0m, \u001b[1;36m-3.3969688e-01\u001b[0m\u001b[1m]\u001b[0m\u001b[1m]\u001b[0m,\n",
       "\n",
       "       \u001b[1m[\u001b[0m\u001b[1m[\u001b[0m\u001b[1;36m-2.2157550e+00\u001b[0m,  \u001b[1;36m0.0000000e+00\u001b[0m,  \u001b[1;36m0.0000000e+00\u001b[0m\u001b[1m]\u001b[0m,\n",
       "        \u001b[1m[\u001b[0m \u001b[1;36m0.0000000e+00\u001b[0m, \u001b[1;36m-3.4384408e+00\u001b[0m,  \u001b[1;36m0.0000000e+00\u001b[0m\u001b[1m]\u001b[0m,\n",
       "        \u001b[1m[\u001b[0m \u001b[1;36m0.0000000e+00\u001b[0m,  \u001b[1;36m0.0000000e+00\u001b[0m, \u001b[1;36m-6.7039180e+00\u001b[0m\u001b[1m]\u001b[0m\u001b[1m]\u001b[0m,\n",
       "\n",
       "       \u001b[1m[\u001b[0m\u001b[1m[\u001b[0m \u001b[1;36m1.2299723e+01\u001b[0m,  \u001b[1;36m0.0000000e+00\u001b[0m,  \u001b[1;36m0.0000000e+00\u001b[0m\u001b[1m]\u001b[0m,\n",
       "        \u001b[1m[\u001b[0m\u001b[1;36m-0.0000000e+00\u001b[0m,  \u001b[1;36m6.3333338e-01\u001b[0m,  \u001b[1;36m0.0000000e+00\u001b[0m\u001b[1m]\u001b[0m,\n",
       "        \u001b[1m[\u001b[0m \u001b[1;36m0.0000000e+00\u001b[0m,  \u001b[1;36m0.0000000e+00\u001b[0m,  \u001b[1;36m8.2211437e+00\u001b[0m\u001b[1m]\u001b[0m\u001b[1m]\u001b[0m,\n",
       "\n",
       "       \u001b[1m[\u001b[0m\u001b[1m[\u001b[0m \u001b[1;36m3.3723621e+00\u001b[0m,  \u001b[1;36m0.0000000e+00\u001b[0m, \u001b[1;36m-3.1104579e+00\u001b[0m\u001b[1m]\u001b[0m,\n",
       "        \u001b[1m[\u001b[0m \u001b[1;36m0.0000000e+00\u001b[0m, \u001b[1;36m-1.2385024e+00\u001b[0m,  \u001b[1;36m0.0000000e+00\u001b[0m\u001b[1m]\u001b[0m,\n",
       "        \u001b[1m[\u001b[0m\u001b[1;36m-3.1104579e+00\u001b[0m,  \u001b[1;36m0.0000000e+00\u001b[0m, \u001b[1;36m-4.4822021e+00\u001b[0m\u001b[1m]\u001b[0m\u001b[1m]\u001b[0m,\n",
       "\n",
       "       \u001b[1m[\u001b[0m\u001b[1m[\u001b[0m\u001b[1;36m-4.6044044e+00\u001b[0m,  \u001b[1;36m6.5629999e-04\u001b[0m, \u001b[1;36m-8.7808003e-04\u001b[0m\u001b[1m]\u001b[0m,\n",
       "        \u001b[1m[\u001b[0m \u001b[1;36m6.3919998e-04\u001b[0m,  \u001b[1;36m2.3784784e+01\u001b[0m,  \u001b[1;36m8.4267193e-01\u001b[0m\u001b[1m]\u001b[0m,\n",
       "        \u001b[1m[\u001b[0m\u001b[1;36m-8.6534000e-04\u001b[0m,  \u001b[1;36m8.4268302e-01\u001b[0m,  \u001b[1;36m2.0621521e+00\u001b[0m\u001b[1m]\u001b[0m\u001b[1m]\u001b[0m,\n",
       "\n",
       "       \u001b[1m[\u001b[0m\u001b[1m[\u001b[0m\u001b[1;36m-5.0976853e+00\u001b[0m, \u001b[1;36m-1.2504701e-03\u001b[0m, \u001b[1;36m-3.2684672e+00\u001b[0m\u001b[1m]\u001b[0m,\n",
       "        \u001b[1m[\u001b[0m\u001b[1;36m-1.2942500e-03\u001b[0m, \u001b[1;36m-4.9710541e+00\u001b[0m,  \u001b[1;36m6.7846901e-03\u001b[0m\u001b[1m]\u001b[0m,\n",
       "        \u001b[1m[\u001b[0m\u001b[1;36m-3.2684679e+00\u001b[0m,  \u001b[1;36m6.8013500e-03\u001b[0m, \u001b[1;36m-7.8330064e+00\u001b[0m\u001b[1m]\u001b[0m\u001b[1m]\u001b[0m,\n",
       "\n",
       "       \u001b[1m[\u001b[0m\u001b[1m[\u001b[0m \u001b[1;36m2.9339699e+01\u001b[0m, \u001b[1;36m-2.9999999e-08\u001b[0m, \u001b[1;36m-0.0000000e+00\u001b[0m\u001b[1m]\u001b[0m,\n",
       "        \u001b[1m[\u001b[0m \u001b[1;36m2.9999999e-08\u001b[0m,  \u001b[1;36m2.9339699e+01\u001b[0m, \u001b[1;36m-0.0000000e+00\u001b[0m\u001b[1m]\u001b[0m,\n",
       "        \u001b[1m[\u001b[0m\u001b[1;36m-0.0000000e+00\u001b[0m, \u001b[1;36m-0.0000000e+00\u001b[0m,  \u001b[1;36m2.5953777e+01\u001b[0m\u001b[1m]\u001b[0m\u001b[1m]\u001b[0m,\n",
       "\n",
       "       \u001b[1m[\u001b[0m\u001b[1m[\u001b[0m\u001b[1;36m-1.8196327e+01\u001b[0m, \u001b[1;36m-7.2399002e-01\u001b[0m,  \u001b[1;36m0.0000000e+00\u001b[0m\u001b[1m]\u001b[0m,\n",
       "        \u001b[1m[\u001b[0m\u001b[1;36m-7.2420812e-01\u001b[0m, \u001b[1;36m-1.7395250e+01\u001b[0m,  \u001b[1;36m0.0000000e+00\u001b[0m\u001b[1m]\u001b[0m,\n",
       "        \u001b[1m[\u001b[0m \u001b[1;36m0.0000000e+00\u001b[0m,  \u001b[1;36m0.0000000e+00\u001b[0m, \u001b[1;36m-1.4662378e+01\u001b[0m\u001b[1m]\u001b[0m\u001b[1m]\u001b[0m,\n",
       "\n",
       "       \u001b[1m[\u001b[0m\u001b[1m[\u001b[0m\u001b[1;36m-4.5098605e+00\u001b[0m,  \u001b[1;36m0.0000000e+00\u001b[0m, \u001b[1;36m-4.8083976e-01\u001b[0m\u001b[1m]\u001b[0m,\n",
       "        \u001b[1m[\u001b[0m \u001b[1;36m0.0000000e+00\u001b[0m, \u001b[1;36m-2.2578833e-01\u001b[0m,  \u001b[1;36m0.0000000e+00\u001b[0m\u001b[1m]\u001b[0m,\n",
       "        \u001b[1m[\u001b[0m\u001b[1;36m-4.8083973e-01\u001b[0m,  \u001b[1;36m0.0000000e+00\u001b[0m, \u001b[1;36m-1.6770862e+00\u001b[0m\u001b[1m]\u001b[0m\u001b[1m]\u001b[0m,\n",
       "\n",
       "       \u001b[1m[\u001b[0m\u001b[1m[\u001b[0m \u001b[1;36m1.2276725e+00\u001b[0m,  \u001b[1;36m2.9375421e-02\u001b[0m, \u001b[1;36m-5.3250999e-04\u001b[0m\u001b[1m]\u001b[0m,\n",
       "        \u001b[1m[\u001b[0m \u001b[1;36m2.9376660e-02\u001b[0m,  \u001b[1;36m1.1007864e+01\u001b[0m, \u001b[1;36m-3.1383001e-04\u001b[0m\u001b[1m]\u001b[0m,\n",
       "        \u001b[1m[\u001b[0m\u001b[1;36m-5.3070998e-04\u001b[0m, \u001b[1;36m-3.3904999e-04\u001b[0m, \u001b[1;36m-7.1899018e+00\u001b[0m\u001b[1m]\u001b[0m\u001b[1m]\u001b[0m,\n",
       "\n",
       "       \u001b[1m[\u001b[0m\u001b[1m[\u001b[0m\u001b[1;36m-3.0673430e+00\u001b[0m,  \u001b[1;36m0.0000000e+00\u001b[0m,  \u001b[1;36m8.5036725e-01\u001b[0m\u001b[1m]\u001b[0m,\n",
       "        \u001b[1m[\u001b[0m \u001b[1;36m0.0000000e+00\u001b[0m, \u001b[1;36m-2.4366271e+00\u001b[0m,  \u001b[1;36m0.0000000e+00\u001b[0m\u001b[1m]\u001b[0m,\n",
       "        \u001b[1m[\u001b[0m \u001b[1;36m8.5036725e-01\u001b[0m,  \u001b[1;36m0.0000000e+00\u001b[0m, \u001b[1;36m-3.4111745e+00\u001b[0m\u001b[1m]\u001b[0m\u001b[1m]\u001b[0m,\n",
       "\n",
       "       \u001b[1m[\u001b[0m\u001b[1m[\u001b[0m \u001b[1;36m4.4771199e+00\u001b[0m,  \u001b[1;36m0.0000000e+00\u001b[0m,  \u001b[1;36m0.0000000e+00\u001b[0m\u001b[1m]\u001b[0m,\n",
       "        \u001b[1m[\u001b[0m \u001b[1;36m0.0000000e+00\u001b[0m,  \u001b[1;36m4.4771199e+00\u001b[0m,  \u001b[1;36m0.0000000e+00\u001b[0m\u001b[1m]\u001b[0m,\n",
       "        \u001b[1m[\u001b[0m \u001b[1;36m0.0000000e+00\u001b[0m,  \u001b[1;36m0.0000000e+00\u001b[0m,  \u001b[1;36m6.7946835e+00\u001b[0m\u001b[1m]\u001b[0m\u001b[1m]\u001b[0m,\n",
       "\n",
       "       \u001b[1m[\u001b[0m\u001b[1m[\u001b[0m\u001b[1;36m-1.4408293e+01\u001b[0m,  \u001b[1;36m0.0000000e+00\u001b[0m,  \u001b[1;36m9.6332109e-01\u001b[0m\u001b[1m]\u001b[0m,\n",
       "        \u001b[1m[\u001b[0m \u001b[1;36m0.0000000e+00\u001b[0m, \u001b[1;36m-3.8979099e+01\u001b[0m,  \u001b[1;36m0.0000000e+00\u001b[0m\u001b[1m]\u001b[0m,\n",
       "        \u001b[1m[\u001b[0m \u001b[1;36m9.6332115e-01\u001b[0m,  \u001b[1;36m0.0000000e+00\u001b[0m, \u001b[1;36m-4.0220314e+01\u001b[0m\u001b[1m]\u001b[0m\u001b[1m]\u001b[0m,\n",
       "\n",
       "       \u001b[1m[\u001b[0m\u001b[1m[\u001b[0m\u001b[1;36m-2.5966685e+00\u001b[0m,  \u001b[1;36m2.3822494e+00\u001b[0m,  \u001b[1;36m3.9657459e+00\u001b[0m\u001b[1m]\u001b[0m,\n",
       "        \u001b[1m[\u001b[0m \u001b[1;36m2.3822489e+00\u001b[0m, \u001b[1;36m-3.4785817e+00\u001b[0m,  \u001b[1;36m3.3181304e-01\u001b[0m\u001b[1m]\u001b[0m,\n",
       "        \u001b[1m[\u001b[0m \u001b[1;36m3.9657450e+00\u001b[0m,  \u001b[1;36m3.3181289e-01\u001b[0m, \u001b[1;36m-4.6808443e+00\u001b[0m\u001b[1m]\u001b[0m\u001b[1m]\u001b[0m,\n",
       "\n",
       "       \u001b[1m[\u001b[0m\u001b[1m[\u001b[0m \u001b[1;36m7.1421243e-02\u001b[0m,  \u001b[1;36m0.0000000e+00\u001b[0m,  \u001b[1;36m0.0000000e+00\u001b[0m\u001b[1m]\u001b[0m,\n",
       "        \u001b[1m[\u001b[0m \u001b[1;36m0.0000000e+00\u001b[0m,  \u001b[1;36m3.5481194e-01\u001b[0m,  \u001b[1;36m0.0000000e+00\u001b[0m\u001b[1m]\u001b[0m,\n",
       "        \u001b[1m[\u001b[0m \u001b[1;36m0.0000000e+00\u001b[0m,  \u001b[1;36m0.0000000e+00\u001b[0m,  \u001b[1;36m7.9565719e-02\u001b[0m\u001b[1m]\u001b[0m\u001b[1m]\u001b[0m,\n",
       "\n",
       "       \u001b[1m[\u001b[0m\u001b[1m[\u001b[0m \u001b[1;36m1.4527394e+00\u001b[0m,  \u001b[1;36m9.0000000e-08\u001b[0m,  \u001b[1;36m5.9999998e-08\u001b[0m\u001b[1m]\u001b[0m,\n",
       "        \u001b[1m[\u001b[0m \u001b[1;36m9.0000000e-08\u001b[0m,  \u001b[1;36m1.4527395e+00\u001b[0m, \u001b[1;36m-0.0000000e+00\u001b[0m\u001b[1m]\u001b[0m,\n",
       "        \u001b[1m[\u001b[0m \u001b[1;36m5.9999998e-08\u001b[0m, \u001b[1;36m-0.0000000e+00\u001b[0m,  \u001b[1;36m1.4527395e+00\u001b[0m\u001b[1m]\u001b[0m\u001b[1m]\u001b[0m,\n",
       "\n",
       "       \u001b[1m[\u001b[0m\u001b[1m[\u001b[0m\u001b[1;36m-7.1705642e+00\u001b[0m, \u001b[1;36m-1.0241430e-01\u001b[0m, \u001b[1;36m-7.4646515e-01\u001b[0m\u001b[1m]\u001b[0m,\n",
       "        \u001b[1m[\u001b[0m\u001b[1;36m-1.0241443e-01\u001b[0m, \u001b[1;36m-7.0832601e+00\u001b[0m, \u001b[1;36m-9.4417948e-01\u001b[0m\u001b[1m]\u001b[0m,\n",
       "        \u001b[1m[\u001b[0m\u001b[1;36m-7.4646527e-01\u001b[0m, \u001b[1;36m-9.4417942e-01\u001b[0m, \u001b[1;36m-7.3630915e+00\u001b[0m\u001b[1m]\u001b[0m\u001b[1m]\u001b[0m,\n",
       "\n",
       "       \u001b[1m[\u001b[0m\u001b[1m[\u001b[0m \u001b[1;36m2.7893213e+01\u001b[0m,  \u001b[1;36m0.0000000e+00\u001b[0m,  \u001b[1;36m0.0000000e+00\u001b[0m\u001b[1m]\u001b[0m,\n",
       "        \u001b[1m[\u001b[0m \u001b[1;36m0.0000000e+00\u001b[0m,  \u001b[1;36m2.8347898e+01\u001b[0m,  \u001b[1;36m0.0000000e+00\u001b[0m\u001b[1m]\u001b[0m,\n",
       "        \u001b[1m[\u001b[0m \u001b[1;36m0.0000000e+00\u001b[0m,  \u001b[1;36m0.0000000e+00\u001b[0m,  \u001b[1;36m2.8307650e+01\u001b[0m\u001b[1m]\u001b[0m\u001b[1m]\u001b[0m,\n",
       "\n",
       "       \u001b[1m[\u001b[0m\u001b[1m[\u001b[0m\u001b[1;36m-1.0889322e+00\u001b[0m, \u001b[1;36m-1.1429285e+00\u001b[0m,  \u001b[1;36m0.0000000e+00\u001b[0m\u001b[1m]\u001b[0m,\n",
       "        \u001b[1m[\u001b[0m\u001b[1;36m-1.1429285e+00\u001b[0m,  \u001b[1;36m2.3080800e-01\u001b[0m,  \u001b[1;36m0.0000000e+00\u001b[0m\u001b[1m]\u001b[0m,\n",
       "        \u001b[1m[\u001b[0m \u001b[1;36m0.0000000e+00\u001b[0m,  \u001b[1;36m0.0000000e+00\u001b[0m,  \u001b[1;36m7.9184639e-01\u001b[0m\u001b[1m]\u001b[0m\u001b[1m]\u001b[0m,\n",
       "\n",
       "       \u001b[1m[\u001b[0m\u001b[1m[\u001b[0m\u001b[1;36m-8.1794996e+00\u001b[0m,  \u001b[1;36m0.0000000e+00\u001b[0m,  \u001b[1;36m0.0000000e+00\u001b[0m\u001b[1m]\u001b[0m,\n",
       "        \u001b[1m[\u001b[0m \u001b[1;36m0.0000000e+00\u001b[0m, \u001b[1;36m-8.1794996e+00\u001b[0m,  \u001b[1;36m0.0000000e+00\u001b[0m\u001b[1m]\u001b[0m,\n",
       "        \u001b[1m[\u001b[0m \u001b[1;36m0.0000000e+00\u001b[0m,  \u001b[1;36m0.0000000e+00\u001b[0m,  \u001b[1;36m4.6309304e+00\u001b[0m\u001b[1m]\u001b[0m\u001b[1m]\u001b[0m,\n",
       "\n",
       "       \u001b[1m[\u001b[0m\u001b[1m[\u001b[0m\u001b[1;36m-3.1208273e+01\u001b[0m,  \u001b[1;36m0.0000000e+00\u001b[0m, \u001b[1;36m-0.0000000e+00\u001b[0m\u001b[1m]\u001b[0m,\n",
       "        \u001b[1m[\u001b[0m\u001b[1;36m-0.0000000e+00\u001b[0m, \u001b[1;36m-3.1208273e+01\u001b[0m, \u001b[1;36m-0.0000000e+00\u001b[0m\u001b[1m]\u001b[0m,\n",
       "        \u001b[1m[\u001b[0m \u001b[1;36m0.0000000e+00\u001b[0m,  \u001b[1;36m0.0000000e+00\u001b[0m, \u001b[1;36m-3.1208273e+01\u001b[0m\u001b[1m]\u001b[0m\u001b[1m]\u001b[0m,\n",
       "\n",
       "       \u001b[1m[\u001b[0m\u001b[1m[\u001b[0m\u001b[1;36m-3.9366820e-01\u001b[0m, \u001b[1;36m-3.2880459e-02\u001b[0m, \u001b[1;36m-2.5102872e-01\u001b[0m\u001b[1m]\u001b[0m,\n",
       "        \u001b[1m[\u001b[0m\u001b[1;36m-3.2880459e-02\u001b[0m, \u001b[1;36m-5.3737001e-03\u001b[0m,  \u001b[1;36m5.6950629e-02\u001b[0m\u001b[1m]\u001b[0m,\n",
       "        \u001b[1m[\u001b[0m\u001b[1;36m-2.5102872e-01\u001b[0m,  \u001b[1;36m5.6950629e-02\u001b[0m, \u001b[1;36m-1.0380522e-01\u001b[0m\u001b[1m]\u001b[0m\u001b[1m]\u001b[0m,\n",
       "\n",
       "       \u001b[1m[\u001b[0m\u001b[1m[\u001b[0m \u001b[1;36m5.2157402e-01\u001b[0m,  \u001b[1;36m0.0000000e+00\u001b[0m,  \u001b[1;36m1.8446822e-01\u001b[0m\u001b[1m]\u001b[0m,\n",
       "        \u001b[1m[\u001b[0m \u001b[1;36m0.0000000e+00\u001b[0m, \u001b[1;36m-6.7470860e-01\u001b[0m,  \u001b[1;36m0.0000000e+00\u001b[0m\u001b[1m]\u001b[0m,\n",
       "        \u001b[1m[\u001b[0m \u001b[1;36m1.8446822e-01\u001b[0m,  \u001b[1;36m0.0000000e+00\u001b[0m, \u001b[1;36m-6.4626366e-01\u001b[0m\u001b[1m]\u001b[0m\u001b[1m]\u001b[0m,\n",
       "\n",
       "       \u001b[1m[\u001b[0m\u001b[1m[\u001b[0m\u001b[1;36m-4.8696548e-01\u001b[0m,  \u001b[1;36m6.4782208e-01\u001b[0m,  \u001b[1;36m8.5105646e-01\u001b[0m\u001b[1m]\u001b[0m,\n",
       "        \u001b[1m[\u001b[0m \u001b[1;36m6.4782208e-01\u001b[0m, \u001b[1;36m-1.8883285e-01\u001b[0m,  \u001b[1;36m2.3763327e-01\u001b[0m\u001b[1m]\u001b[0m,\n",
       "        \u001b[1m[\u001b[0m \u001b[1;36m8.5105652e-01\u001b[0m,  \u001b[1;36m2.3763327e-01\u001b[0m,  \u001b[1;36m8.6133838e-01\u001b[0m\u001b[1m]\u001b[0m\u001b[1m]\u001b[0m,\n",
       "\n",
       "       \u001b[1m[\u001b[0m\u001b[1m[\u001b[0m \u001b[1;36m1.8067325e+00\u001b[0m,  \u001b[1;36m0.0000000e+00\u001b[0m,  \u001b[1;36m0.0000000e+00\u001b[0m\u001b[1m]\u001b[0m,\n",
       "        \u001b[1m[\u001b[0m \u001b[1;36m0.0000000e+00\u001b[0m,  \u001b[1;36m1.8067325e+00\u001b[0m,  \u001b[1;36m0.0000000e+00\u001b[0m\u001b[1m]\u001b[0m,\n",
       "        \u001b[1m[\u001b[0m \u001b[1;36m0.0000000e+00\u001b[0m,  \u001b[1;36m0.0000000e+00\u001b[0m, \u001b[1;36m-5.1907830e+00\u001b[0m\u001b[1m]\u001b[0m\u001b[1m]\u001b[0m\u001b[1m]\u001b[0m, \u001b[33mdtype\u001b[0m=\u001b[35mfloat32\u001b[0m\u001b[1m)\u001b[0m"
      ]
     },
     "execution_count": 109,
     "metadata": {},
     "output_type": "execute_result"
    }
   ],
   "source": [
    "s"
   ]
  },
  {
   "cell_type": "code",
   "execution_count": 65,
   "metadata": {},
   "outputs": [
    {
     "data": {
      "text/html": [
       "<pre style=\"white-space:pre;overflow-x:auto;line-height:normal;font-family:Menlo,'DejaVu Sans Mono',consolas,'Courier New',monospace\"></pre>\n"
      ],
      "text/plain": []
     },
     "metadata": {},
     "output_type": "display_data"
    },
    {
     "data": {
      "image/png": "[encoded data removed]",
      "text/plain": [
       "\u001b[1m<\u001b[0m\u001b[1;95mFigure\u001b[0m\u001b[39m size 80\u001b[0m\u001b[1;36m0x600\u001b[0m\u001b[39m with \u001b[0m\u001b[1;36m1\u001b[0m\u001b[39m Axes\u001b[0m\u001b[1m>\u001b[0m"
      ]
     },
     "metadata": {},
     "output_type": "display_data"
    },
    {
     "data": {
      "text/html": [
       "<pre style=\"white-space:pre;overflow-x:auto;line-height:normal;font-family:Menlo,'DejaVu Sans Mono',consolas,'Courier New',monospace\"></pre>\n"
      ],
      "text/plain": []
     },
     "metadata": {},
     "output_type": "display_data"
    },
    {
     "data": {
      "text/plain": [
       "\u001b[1m[\u001b[0m\u001b[1m<\u001b[0m\u001b[1;95mmatplotlib.lines.Line2D\u001b[0m\u001b[39m object at \u001b[0m\u001b[1;36m0x7f37444bd340\u001b[0m\u001b[1m>\u001b[0m\u001b[1m]\u001b[0m"
      ]
     },
     "execution_count": 65,
     "metadata": {},
     "output_type": "execute_result"
    },
    {
     "data": {
      "text/html": [
       "<pre style=\"white-space:pre;overflow-x:auto;line-height:normal;font-family:Menlo,'DejaVu Sans Mono',consolas,'Courier New',monospace\"></pre>\n"
      ],
      "text/plain": []
     },
     "metadata": {},
     "output_type": "display_data"
    },
    {
     "data": {
      "image/png": "[encoded data removed]",
      "text/plain": [
       "\u001b[1m<\u001b[0m\u001b[1;95mFigure\u001b[0m\u001b[39m size 80\u001b[0m\u001b[1;36m0x600\u001b[0m\u001b[39m with \u001b[0m\u001b[1;36m1\u001b[0m\u001b[39m Axes\u001b[0m\u001b[1m>\u001b[0m"
      ]
     },
     "metadata": {},
     "output_type": "display_data"
    }
   ],
   "source": [
    "plt.plot((jnp.abs(f) / (jnp.abs(fhat) + 1e-2)).mean(axis=1))\n",
    "plt.show()\n",
    "plt.plot(cg.n_node[cg.nodes.graph_i][node_pad])"
   ]
  },
  {
   "cell_type": "code",
   "execution_count": 42,
   "metadata": {},
   "outputs": [
    {
     "data": {
      "text/html": [
       "<pre style=\"white-space:pre;overflow-x:auto;line-height:normal;font-family:Menlo,'DejaVu Sans Mono',consolas,'Courier New',monospace\"></pre>\n"
      ],
      "text/plain": []
     },
     "metadata": {},
     "output_type": "display_data"
    },
    {
     "data": {
      "text/plain": [
       "\u001b[1;35mArray\u001b[0m\u001b[1m(\u001b[0m\u001b[1;36m0.5799207\u001b[0m, \u001b[33mdtype\u001b[0m=\u001b[35mfloat32\u001b[0m\u001b[1m)\u001b[0m"
      ]
     },
     "execution_count": 42,
     "metadata": {},
     "output_type": "execute_result"
    }
   ],
   "source": [
    "l1_loss(fhat)"
   ]
  },
  {
   "cell_type": "code",
   "execution_count": 43,
   "metadata": {},
   "outputs": [
    {
     "data": {
      "text/html": [
       "<pre style=\"white-space:pre;overflow-x:auto;line-height:normal;font-family:Menlo,'DejaVu Sans Mono',consolas,'Courier New',monospace\"></pre>\n"
      ],
      "text/plain": []
     },
     "metadata": {},
     "output_type": "display_data"
    },
    {
     "data": {
      "text/plain": [
       "\u001b[1;35mArray\u001b[0m\u001b[1m(\u001b[0m\u001b[1;36m0.04981579\u001b[0m, \u001b[33mdtype\u001b[0m=\u001b[35mfloat32\u001b[0m\u001b[1m)\u001b[0m"
      ]
     },
     "execution_count": 43,
     "metadata": {},
     "output_type": "execute_result"
    }
   ],
   "source": [
    "l1_loss(f)"
   ]
  },
  {
   "cell_type": "code",
   "execution_count": 41,
   "metadata": {},
   "outputs": [
    {
     "data": {
      "text/html": [
       "<pre style=\"white-space:pre;overflow-x:auto;line-height:normal;font-family:Menlo,'DejaVu Sans Mono',consolas,'Courier New',monospace\"></pre>\n"
      ],
      "text/plain": []
     },
     "metadata": {},
     "output_type": "display_data"
    },
    {
     "data": {
      "text/plain": [
       "\u001b[1;35mArray\u001b[0m\u001b[1m(\u001b[0m\u001b[1;36m0.5978559\u001b[0m, \u001b[33mdtype\u001b[0m=\u001b[35mfloat32\u001b[0m\u001b[1m)\u001b[0m"
      ]
     },
     "execution_count": 41,
     "metadata": {},
     "output_type": "execute_result"
    }
   ],
   "source": [
    "l1_loss(-fhat, f)"
   ]
  },
  {
   "cell_type": "code",
   "execution_count": 17,
   "metadata": {},
   "outputs": [
    {
     "data": {
      "text/html": [
       "<pre style=\"white-space:pre;overflow-x:auto;line-height:normal;font-family:Menlo,'DejaVu Sans Mono',consolas,'Courier New',monospace\"></pre>\n"
      ],
      "text/plain": []
     },
     "metadata": {},
     "output_type": "display_data"
    },
    {
     "data": {
      "text/plain": [
       "\u001b[1;35mArray\u001b[0m\u001b[1m(\u001b[0m\u001b[1;36m2.1459146\u001b[0m, \u001b[33mdtype\u001b[0m=\u001b[35mfloat32\u001b[0m\u001b[1m)\u001b[0m"
      ]
     },
     "execution_count": 17,
     "metadata": {},
     "output_type": "execute_result"
    }
   ],
   "source": [
    "l1_loss(out.energy, cg.target_data.e_form)"
   ]
  },
  {
   "cell_type": "code",
   "execution_count": 13,
   "metadata": {},
   "outputs": [
    {
     "data": {
      "text/html": [
       "<pre style=\"white-space:pre;overflow-x:auto;line-height:normal;font-family:Menlo,'DejaVu Sans Mono',consolas,'Courier New',monospace\"></pre>\n"
      ],
      "text/plain": []
     },
     "metadata": {},
     "output_type": "display_data"
    },
    {
     "data": {
      "text/plain": [
       "\u001b[1;35mArray\u001b[0m\u001b[1m(\u001b[0m\u001b[1;36m0.6943037\u001b[0m, \u001b[33mdtype\u001b[0m=\u001b[35mfloat32\u001b[0m\u001b[1m)\u001b[0m"
      ]
     },
     "execution_count": 13,
     "metadata": {},
     "output_type": "execute_result"
    }
   ],
   "source": [
    "l1_loss(f)"
   ]
  },
  {
   "cell_type": "code",
   "execution_count": null,
   "metadata": {},
   "outputs": [],
   "source": [
    "l1_loss(fhat, f)"
   ]
  },
  {
   "cell_type": "code",
   "execution_count": 85,
   "metadata": {},
   "outputs": [
    {
     "data": {
      "text/html": [
       "<pre style=\"white-space:pre;overflow-x:auto;line-height:normal;font-family:Menlo,'DejaVu Sans Mono',consolas,'Courier New',monospace\"></pre>\n"
      ],
      "text/plain": []
     },
     "metadata": {},
     "output_type": "display_data"
    },
    {
     "data": {
      "text/plain": [
       "\n",
       "\u001b[1;35mArray\u001b[0m\u001b[1m(\u001b[0m\u001b[1m[\u001b[0m\u001b[1;36m2696.727\u001b[0m   ,  \u001b[1;36m992.36285\u001b[0m ,  \u001b[1;36m620.93396\u001b[0m ,  \u001b[1;36m776.3881\u001b[0m  , \u001b[1;36m1254.885\u001b[0m   ,\n",
       "        \u001b[1;36m445.16635\u001b[0m ,  \u001b[1;36m662.7077\u001b[0m  ,  \u001b[1;36m448.4857\u001b[0m  ,  \u001b[1;36m603.1233\u001b[0m  ,  \u001b[1;36m495.03308\u001b[0m ,\n",
       "        \u001b[1;36m755.0803\u001b[0m  ,  \u001b[1;36m326.15817\u001b[0m ,  \u001b[1;36m325.39355\u001b[0m ,  \u001b[1;36m279.91446\u001b[0m ,  \u001b[1;36m277.42963\u001b[0m ,\n",
       "        \u001b[1;36m258.77118\u001b[0m ,  \u001b[1;36m274.63596\u001b[0m ,  \u001b[1;36m342.94644\u001b[0m ,  \u001b[1;36m159.77986\u001b[0m ,  \u001b[1;36m166.9987\u001b[0m  ,\n",
       "        \u001b[1;36m158.49847\u001b[0m ,  \u001b[1;36m213.66805\u001b[0m ,  \u001b[1;36m142.81676\u001b[0m ,  \u001b[1;36m195.74626\u001b[0m ,  \u001b[1;36m103.411896\u001b[0m,\n",
       "        \u001b[1;36m204.39546\u001b[0m ,   \u001b[1;36m65.49931\u001b[0m ,   \u001b[1;36m44.829044\u001b[0m,   \u001b[1;36m61.68288\u001b[0m ,   \u001b[1;36m52.1802\u001b[0m  ,\n",
       "         \u001b[1;36m26.543814\u001b[0m,    \u001b[1;36m0\u001b[0m.      \u001b[1m]\u001b[0m, \u001b[33mdtype\u001b[0m=\u001b[35mfloat32\u001b[0m\u001b[1m)\u001b[0m"
      ]
     },
     "execution_count": 85,
     "metadata": {},
     "output_type": "execute_result"
    }
   ],
   "source": [
    "jnp.linalg.det(cg.graph_data.lat)"
   ]
  },
  {
   "cell_type": "code",
   "execution_count": null,
   "metadata": {},
   "outputs": [],
   "source": [
    "loss = config.train.loss.efs_loss(cg, out)"
   ]
  },
  {
   "cell_type": "code",
   "execution_count": 35,
   "metadata": {},
   "outputs": [
    {
     "data": {
      "text/html": [
       "<pre style=\"white-space:pre;overflow-x:auto;line-height:normal;font-family:Menlo,'DejaVu Sans Mono',consolas,'Courier New',monospace\"></pre>\n"
      ],
      "text/plain": []
     },
     "metadata": {},
     "output_type": "display_data"
    },
    {
     "data": {
      "text/plain": [
       "\n",
       "\u001b[1;35mArray\u001b[0m\u001b[1m(\u001b[0m\u001b[1m[\u001b[0m\u001b[1;36m0\u001b[0m, \u001b[1;36m0\u001b[0m, \u001b[1;36m0\u001b[0m, \u001b[1;36m0\u001b[0m, \u001b[1;36m0\u001b[0m, \u001b[1;36m0\u001b[0m, \u001b[1;36m0\u001b[0m, \u001b[1;36m0\u001b[0m, \u001b[1;36m0\u001b[0m, \u001b[1;36m0\u001b[0m, \u001b[1;36m0\u001b[0m, \u001b[1;36m0\u001b[0m, \u001b[1;36m0\u001b[0m, \u001b[1;36m0\u001b[0m, \u001b[1;36m0\u001b[0m, \u001b[1;36m0\u001b[0m, \u001b[1;36m0\u001b[0m, \u001b[1;36m0\u001b[0m, \u001b[1;36m0\u001b[0m, \u001b[1;36m0\u001b[0m, \u001b[1;36m0\u001b[0m, \u001b[1;36m0\u001b[0m,\n",
       "       \u001b[1;36m0\u001b[0m, \u001b[1;36m0\u001b[0m, \u001b[1;36m0\u001b[0m, \u001b[1;36m0\u001b[0m, \u001b[1;36m0\u001b[0m, \u001b[1;36m0\u001b[0m, \u001b[1;36m0\u001b[0m, \u001b[1;36m0\u001b[0m, \u001b[1;36m0\u001b[0m, \u001b[1;36m0\u001b[0m, \u001b[1;36m0\u001b[0m, \u001b[1;36m0\u001b[0m, \u001b[1;36m0\u001b[0m, \u001b[1;36m0\u001b[0m, \u001b[1;36m0\u001b[0m, \u001b[1;36m0\u001b[0m, \u001b[1;36m0\u001b[0m, \u001b[1;36m0\u001b[0m, \u001b[1;36m0\u001b[0m, \u001b[1;36m0\u001b[0m, \u001b[1;36m0\u001b[0m, \u001b[1;36m0\u001b[0m,\n",
       "       \u001b[1;36m0\u001b[0m, \u001b[1;36m0\u001b[0m, \u001b[1;36m0\u001b[0m, \u001b[1;36m0\u001b[0m, \u001b[1;36m0\u001b[0m, \u001b[1;36m0\u001b[0m, \u001b[1;36m0\u001b[0m, \u001b[1;36m0\u001b[0m, \u001b[1;36m0\u001b[0m, \u001b[1;36m0\u001b[0m, \u001b[1;36m0\u001b[0m, \u001b[1;36m0\u001b[0m, \u001b[1;36m0\u001b[0m, \u001b[1;36m0\u001b[0m, \u001b[1;36m0\u001b[0m, \u001b[1;36m0\u001b[0m, \u001b[1;36m0\u001b[0m, \u001b[1;36m0\u001b[0m, \u001b[1;36m0\u001b[0m, \u001b[1;36m0\u001b[0m, \u001b[1;36m0\u001b[0m, \u001b[1;36m0\u001b[0m,\n",
       "       \u001b[1;36m0\u001b[0m, \u001b[1;36m0\u001b[0m, \u001b[1;36m0\u001b[0m, \u001b[1;36m0\u001b[0m, \u001b[1;36m0\u001b[0m, \u001b[1;36m0\u001b[0m, \u001b[1;36m0\u001b[0m, \u001b[1;36m0\u001b[0m, \u001b[1;36m0\u001b[0m, \u001b[1;36m0\u001b[0m, \u001b[1;36m0\u001b[0m, \u001b[1;36m0\u001b[0m, \u001b[1;36m0\u001b[0m, \u001b[1;36m0\u001b[0m, \u001b[1;36m0\u001b[0m, \u001b[1;36m0\u001b[0m, \u001b[1;36m0\u001b[0m, \u001b[1;36m0\u001b[0m, \u001b[1;36m0\u001b[0m, \u001b[1;36m0\u001b[0m, \u001b[1;36m0\u001b[0m, \u001b[1;36m0\u001b[0m,\n",
       "       \u001b[1;36m0\u001b[0m, \u001b[1;36m0\u001b[0m, \u001b[1;36m0\u001b[0m, \u001b[1;36m0\u001b[0m, \u001b[1;36m0\u001b[0m, \u001b[1;36m0\u001b[0m, \u001b[1;36m0\u001b[0m, \u001b[1;36m0\u001b[0m, \u001b[1;36m0\u001b[0m, \u001b[1;36m0\u001b[0m, \u001b[1;36m0\u001b[0m, \u001b[1;36m0\u001b[0m, \u001b[1;36m0\u001b[0m, \u001b[1;36m0\u001b[0m, \u001b[1;36m0\u001b[0m, \u001b[1;36m0\u001b[0m, \u001b[1;36m0\u001b[0m, \u001b[1;36m0\u001b[0m, \u001b[1;36m0\u001b[0m, \u001b[1;36m0\u001b[0m, \u001b[1;36m0\u001b[0m, \u001b[1;36m0\u001b[0m,\n",
       "       \u001b[1;36m0\u001b[0m, \u001b[1;36m0\u001b[0m, \u001b[1;36m0\u001b[0m, \u001b[1;36m0\u001b[0m, \u001b[1;36m0\u001b[0m, \u001b[1;36m0\u001b[0m, \u001b[1;36m0\u001b[0m, \u001b[1;36m0\u001b[0m, \u001b[1;36m0\u001b[0m, \u001b[1;36m0\u001b[0m, \u001b[1;36m0\u001b[0m, \u001b[1;36m0\u001b[0m, \u001b[1;36m0\u001b[0m, \u001b[1;36m0\u001b[0m, \u001b[1;36m0\u001b[0m, \u001b[1;36m0\u001b[0m, \u001b[1;36m0\u001b[0m, \u001b[1;36m0\u001b[0m, \u001b[1;36m0\u001b[0m, \u001b[1;36m0\u001b[0m, \u001b[1;36m0\u001b[0m, \u001b[1;36m0\u001b[0m,\n",
       "       \u001b[1;36m0\u001b[0m, \u001b[1;36m0\u001b[0m, \u001b[1;36m0\u001b[0m, \u001b[1;36m0\u001b[0m, \u001b[1;36m0\u001b[0m, \u001b[1;36m0\u001b[0m, \u001b[1;36m0\u001b[0m, \u001b[1;36m0\u001b[0m, \u001b[1;36m0\u001b[0m, \u001b[1;36m0\u001b[0m, \u001b[1;36m0\u001b[0m, \u001b[1;36m0\u001b[0m, \u001b[1;36m0\u001b[0m, \u001b[1;36m0\u001b[0m, \u001b[1;36m0\u001b[0m, \u001b[1;36m0\u001b[0m, \u001b[1;36m0\u001b[0m, \u001b[1;36m0\u001b[0m, \u001b[1;36m0\u001b[0m, \u001b[1;36m0\u001b[0m, \u001b[1;36m0\u001b[0m, \u001b[1;36m0\u001b[0m,\n",
       "       \u001b[1;36m0\u001b[0m, \u001b[1;36m0\u001b[0m, \u001b[1;36m0\u001b[0m, \u001b[1;36m0\u001b[0m, \u001b[1;36m0\u001b[0m, \u001b[1;36m0\u001b[0m, \u001b[1;36m0\u001b[0m, \u001b[1;36m0\u001b[0m, \u001b[1;36m0\u001b[0m, \u001b[1;36m0\u001b[0m, \u001b[1;36m0\u001b[0m, \u001b[1;36m0\u001b[0m, \u001b[1;36m0\u001b[0m, \u001b[1;36m0\u001b[0m, \u001b[1;36m0\u001b[0m, \u001b[1;36m0\u001b[0m, \u001b[1;36m0\u001b[0m, \u001b[1;36m0\u001b[0m, \u001b[1;36m0\u001b[0m, \u001b[1;36m0\u001b[0m, \u001b[1;36m0\u001b[0m, \u001b[1;36m0\u001b[0m,\n",
       "       \u001b[1;36m0\u001b[0m, \u001b[1;36m0\u001b[0m, \u001b[1;36m0\u001b[0m, \u001b[1;36m0\u001b[0m, \u001b[1;36m0\u001b[0m, \u001b[1;36m0\u001b[0m, \u001b[1;36m0\u001b[0m, \u001b[1;36m0\u001b[0m, \u001b[1;36m0\u001b[0m, \u001b[1;36m0\u001b[0m, \u001b[1;36m0\u001b[0m, \u001b[1;36m0\u001b[0m, \u001b[1;36m0\u001b[0m, \u001b[1;36m0\u001b[0m, \u001b[1;36m0\u001b[0m, \u001b[1;36m0\u001b[0m, \u001b[1;36m0\u001b[0m, \u001b[1;36m0\u001b[0m, \u001b[1;36m0\u001b[0m, \u001b[1;36m0\u001b[0m, \u001b[1;36m0\u001b[0m, \u001b[1;36m0\u001b[0m,\n",
       "       \u001b[1;36m0\u001b[0m, \u001b[1;36m0\u001b[0m, \u001b[1;36m0\u001b[0m, \u001b[1;36m0\u001b[0m, \u001b[1;36m0\u001b[0m, \u001b[1;36m0\u001b[0m, \u001b[1;36m0\u001b[0m, \u001b[1;36m0\u001b[0m, \u001b[1;36m0\u001b[0m, \u001b[1;36m0\u001b[0m, \u001b[1;36m0\u001b[0m, \u001b[1;36m0\u001b[0m, \u001b[1;36m0\u001b[0m, \u001b[1;36m0\u001b[0m, \u001b[1;36m0\u001b[0m, \u001b[1;36m0\u001b[0m, \u001b[1;36m0\u001b[0m, \u001b[1;36m0\u001b[0m, \u001b[1;36m0\u001b[0m, \u001b[1;36m0\u001b[0m, \u001b[1;36m0\u001b[0m, \u001b[1;36m0\u001b[0m,\n",
       "       \u001b[1;36m0\u001b[0m, \u001b[1;36m0\u001b[0m, \u001b[1;36m0\u001b[0m, \u001b[1;36m0\u001b[0m, \u001b[1;36m0\u001b[0m, \u001b[1;36m0\u001b[0m, \u001b[1;36m0\u001b[0m, \u001b[1;36m0\u001b[0m, \u001b[1;36m0\u001b[0m, \u001b[1;36m0\u001b[0m, \u001b[1;36m0\u001b[0m, \u001b[1;36m0\u001b[0m, \u001b[1;36m0\u001b[0m, \u001b[1;36m0\u001b[0m, \u001b[1;36m0\u001b[0m, \u001b[1;36m0\u001b[0m, \u001b[1;36m0\u001b[0m, \u001b[1;36m0\u001b[0m, \u001b[1;36m0\u001b[0m, \u001b[1;36m0\u001b[0m, \u001b[1;36m0\u001b[0m, \u001b[1;36m0\u001b[0m,\n",
       "       \u001b[1;36m0\u001b[0m, \u001b[1;36m0\u001b[0m, \u001b[1;36m0\u001b[0m, \u001b[1;36m0\u001b[0m, \u001b[1;36m0\u001b[0m, \u001b[1;36m0\u001b[0m, \u001b[1;36m0\u001b[0m, \u001b[1;36m0\u001b[0m, \u001b[1;36m0\u001b[0m, \u001b[1;36m0\u001b[0m, \u001b[1;36m0\u001b[0m, \u001b[1;36m0\u001b[0m, \u001b[1;36m0\u001b[0m, \u001b[1;36m0\u001b[0m, \u001b[1;36m0\u001b[0m, \u001b[1;36m0\u001b[0m, \u001b[1;36m0\u001b[0m, \u001b[1;36m0\u001b[0m, \u001b[1;36m0\u001b[0m, \u001b[1;36m0\u001b[0m, \u001b[1;36m0\u001b[0m, \u001b[1;36m0\u001b[0m,\n",
       "       \u001b[1;36m0\u001b[0m, \u001b[1;36m0\u001b[0m, \u001b[1;36m0\u001b[0m, \u001b[1;36m0\u001b[0m, \u001b[1;36m0\u001b[0m, \u001b[1;36m0\u001b[0m, \u001b[1;36m0\u001b[0m, \u001b[1;36m0\u001b[0m\u001b[1m]\u001b[0m, \u001b[33mdtype\u001b[0m=\u001b[35mint32\u001b[0m\u001b[1m)\u001b[0m"
      ]
     },
     "execution_count": 35,
     "metadata": {},
     "output_type": "execute_result"
    }
   ],
   "source": [
    "cg.nodes.graph_i[:272]"
   ]
  },
  {
   "cell_type": "code",
   "execution_count": 93,
   "metadata": {},
   "outputs": [],
   "source": [
    "from pymatgen.core import Lattice\n",
    "\n",
    "lat = Lattice(cg.graph_data.lat[0])"
   ]
  },
  {
   "cell_type": "code",
   "execution_count": 97,
   "metadata": {},
   "outputs": [],
   "source": [
    "volume = jnp.abs(jnp.linalg.det(cg.graph_data.lat))[..., None, None]\n",
    "stress_cell = (0.1 * out.stress / jnp.where(volume == 0, jnp.ones_like(volume), volume))"
   ]
  },
  {
   "cell_type": "code",
   "execution_count": 98,
   "metadata": {},
   "outputs": [
    {
     "name": "stdout",
     "output_type": "stream",
     "text": [
      "15.490802\n"
     ]
    },
    {
     "data": {
      "text/html": [
       "<pre style=\"white-space:pre;overflow-x:auto;line-height:normal;font-family:Menlo,'DejaVu Sans Mono',consolas,'Courier New',monospace\"></pre>\n"
      ],
      "text/plain": []
     },
     "metadata": {},
     "output_type": "display_data"
    },
    {
     "data": {
      "text/plain": [
       "\u001b[1m<\u001b[0m\u001b[1;95mseaborn.axisgrid.JointGrid\u001b[0m\u001b[39m object at \u001b[0m\u001b[1;36m0x7ef79c6952e0\u001b[0m\u001b[1m>\u001b[0m"
      ]
     },
     "execution_count": 98,
     "metadata": {},
     "output_type": "execute_result"
    },
    {
     "data": {
      "text/html": [
       "<pre style=\"white-space:pre;overflow-x:auto;line-height:normal;font-family:Menlo,'DejaVu Sans Mono',consolas,'Courier New',monospace\"></pre>\n"
      ],
      "text/plain": []
     },
     "metadata": {},
     "output_type": "display_data"
    },
    {
     "data": {
      "image/png": "[encoded data removed]",
      "text/plain": [
       "\u001b[1m<\u001b[0m\u001b[1;95mFigure\u001b[0m\u001b[39m size 60\u001b[0m\u001b[1;36m0x600\u001b[0m\u001b[39m with \u001b[0m\u001b[1;36m3\u001b[0m\u001b[39m Axes\u001b[0m\u001b[1m>\u001b[0m"
      ]
     },
     "metadata": {},
     "output_type": "display_data"
    }
   ],
   "source": [
    "y = cg.target_data.stress[cg.padding_mask]\n",
    "volume = jnp.linalg.det(cg.graph_data.lat)[..., None, None]\n",
    "yhat = stress_cell[cg.padding_mask]\n",
    "\n",
    "z = y - yhat\n",
    "# z = z[cg.padding_mask[cg.nodes.graph_i]]\n",
    "print(jnp.mean(jnp.abs(z)))\n",
    "sns.jointplot(x=yhat.reshape(-1), y=y.reshape(-1), kind='hex')"
   ]
  },
  {
   "cell_type": "code",
   "execution_count": 40,
   "metadata": {},
   "outputs": [
    {
     "data": {
      "text/html": [
       "<pre style=\"white-space:pre;overflow-x:auto;line-height:normal;font-family:Menlo,'DejaVu Sans Mono',consolas,'Courier New',monospace\"></pre>\n"
      ],
      "text/plain": []
     },
     "metadata": {},
     "output_type": "display_data"
    },
    {
     "data": {
      "text/plain": [
       "\n",
       "\u001b[1;35mArray\u001b[0m\u001b[1m(\u001b[0m\u001b[1m[\u001b[0m\u001b[1m[\u001b[0m\u001b[1;36m10.297847\u001b[0m  ,  \u001b[1;36m0\u001b[0m.        , \u001b[1;36m-2.931051\u001b[0m  \u001b[1m]\u001b[0m,\n",
       "       \u001b[1m[\u001b[0m \u001b[1;36m0\u001b[0m.        ,  \u001b[1;36m9.247357\u001b[0m  ,  \u001b[1;36m0\u001b[0m.        \u001b[1m]\u001b[0m,\n",
       "       \u001b[1m[\u001b[0m\u001b[1;36m-0.02958372\u001b[0m,  \u001b[1;36m0\u001b[0m.        , \u001b[1;36m10.42935\u001b[0m   \u001b[1m]\u001b[0m\u001b[1m]\u001b[0m, \u001b[33mdtype\u001b[0m=\u001b[35mfloat32\u001b[0m\u001b[1m)\u001b[0m"
      ]
     },
     "execution_count": 40,
     "metadata": {},
     "output_type": "execute_result"
    }
   ],
   "source": [
    "cg.graph_data.lat[1]"
   ]
  },
  {
   "cell_type": "code",
   "execution_count": 13,
   "metadata": {},
   "outputs": [
    {
     "data": {
      "text/html": [
       "<pre style=\"white-space:pre;overflow-x:auto;line-height:normal;font-family:Menlo,'DejaVu Sans Mono',consolas,'Courier New',monospace\"></pre>\n"
      ],
      "text/plain": []
     },
     "metadata": {},
     "output_type": "display_data"
    },
    {
     "data": {
      "text/plain": [
       "\u001b[1m<\u001b[0m\u001b[1;95mmatplotlib.collections.PathCollection\u001b[0m\u001b[39m object at \u001b[0m\u001b[1;36m0x7f01105c95b0\u001b[0m\u001b[1m>\u001b[0m"
      ]
     },
     "execution_count": 13,
     "metadata": {},
     "output_type": "execute_result"
    },
    {
     "data": {
      "text/html": [
       "<pre style=\"white-space:pre;overflow-x:auto;line-height:normal;font-family:Menlo,'DejaVu Sans Mono',consolas,'Courier New',monospace\"></pre>\n"
      ],
      "text/plain": []
     },
     "metadata": {},
     "output_type": "display_data"
    },
    {
     "data": {
      "image/png": "[encoded data removed]",
      "text/plain": [
       "\u001b[1m<\u001b[0m\u001b[1;95mFigure\u001b[0m\u001b[39m size 80\u001b[0m\u001b[1;36m0x600\u001b[0m\u001b[39m with \u001b[0m\u001b[1;36m1\u001b[0m\u001b[39m Axes\u001b[0m\u001b[1m>\u001b[0m"
      ]
     },
     "metadata": {},
     "output_type": "display_data"
    }
   ],
   "source": [
    "plt.scatter(out.energy, cg.e_form)"
   ]
  },
  {
   "cell_type": "code",
   "execution_count": null,
   "metadata": {},
   "outputs": [],
   "source": []
  }
 ],
 "metadata": {
  "kernelspec": {
   "display_name": "avid",
   "language": "python",
   "name": "python3"
  },
  "language_info": {
   "codemirror_mode": {
    "name": "ipython",
    "version": 3
   },
   "file_extension": ".py",
   "mimetype": "text/x-python",
   "name": "python",
   "nbconvert_exporter": "python",
   "pygments_lexer": "ipython3",
   "version": "3.12.0"
  }
 },
 "nbformat": 4,
 "nbformat_minor": 2
}
