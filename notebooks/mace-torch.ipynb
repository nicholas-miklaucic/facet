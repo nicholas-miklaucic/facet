{
 "cells": [
  {
   "cell_type": "code",
   "execution_count": 1,
   "metadata": {},
   "outputs": [
    {
     "name": "stdout",
     "output_type": "stream",
     "text": [
      "/home/nmiklaucic/cdv\n"
     ]
    }
   ],
   "source": [
    "%cd ~/cdv\n",
    "import os\n",
    "\n",
    "os.environ['CUDA_VISIBLE_DEVICES'] = '0'\n",
    "import numpy as np\n",
    "import pandas as pd\n",
    "import plotly.express as px\n",
    "import matplotlib.pyplot as plt\n",
    "import seaborn as sns\n",
    "\n",
    "import rho_plus as rp\n",
    "\n",
    "is_dark = True\n",
    "theme, cs = rp.mpl_setup(is_dark)\n",
    "rp.plotly_setup(is_dark)"
   ]
  },
  {
   "cell_type": "code",
   "execution_count": 2,
   "metadata": {},
   "outputs": [
    {
     "data": {
      "text/plain": [
       "Structure Summary\n",
       "Lattice\n",
       "    abc : 3.46566108 5.912730870000001 5.45788908\n",
       " angles : 89.99986914 89.99991061 90.01299071999999\n",
       " volume : 111.84044720244309\n",
       "      A : 3.465661079995782 0.0 5.406950504201276e-06\n",
       "      B : -0.0013405984239926575 5.912730718007075 1.35043098847761e-05\n",
       "      C : 0.0 0.0 5.45788908\n",
       "    pbc : True True True\n",
       "PeriodicSite: Mn0 (Mn) (1.731, 4.91, 2.721) [0.4999, 0.8303, 0.4985]\n",
       "PeriodicSite: Mn1 (Mn) (1.733, 1.003, 5.45) [0.5001, 0.1697, 0.9985]\n",
       "PeriodicSite: Mn2 (Mn) (3.465, 1.953, 2.72) [0.9998, 0.3304, 0.4984]\n",
       "PeriodicSite: Mn3 (Mn) (-0.0003616, 3.959, 5.449) [0.0001547, 0.6696, 0.9984]\n",
       "PeriodicSite: O4 (O) (-0.0002849, 1.977, 0.6282) [4.711e-05, 0.3343, 0.1151]\n",
       "PeriodicSite: O5 (O) (1.732, 4.933, 0.6285) [0.5001, 0.8342, 0.1151]\n",
       "PeriodicSite: O6 (O) (1.732, 0.9801, 3.357) [0.4999, 0.1658, 0.6151]\n",
       "PeriodicSite: O7 (O) (3.465, 3.936, 3.357) [1.0, 0.6657, 0.6151]"
      ]
     },
     "execution_count": 2,
     "metadata": {},
     "output_type": "execute_result"
    }
   ],
   "source": [
    "from pymatgen.core import Structure\n",
    "\n",
    "s = Structure.from_file('data/087.cif')\n",
    "s"
   ]
  },
  {
   "cell_type": "code",
   "execution_count": 3,
   "metadata": {},
   "outputs": [
    {
     "name": "stdout",
     "output_type": "stream",
     "text": [
      "Using Materials Project MACE for MACECalculator with /home/nmiklaucic/.cache/mace/20231203mace128L1_epoch199model\n",
      "Using float32 for MACECalculator, which is faster but less accurate. Recommended for MD. Use float64 for geometry optimization.\n",
      "Default dtype float32 does not match model dtype float64, converting models to float32.\n"
     ]
    },
    {
     "data": {
      "text/plain": [
       "{'energy': -62.19428253173828,\n",
       " 'free_energy': -62.19428253173828,\n",
       " 'node_energy': array([ 0.6044607 ,  0.6044612 ,  0.6045575 ,  0.6045661 , -0.5645795 ,\n",
       "        -0.5625615 , -0.5624423 , -0.56454134], dtype=float32),\n",
       " 'forces': array([[ 0.00144893, -0.0083482 , -0.02244522],\n",
       "        [-0.00140256,  0.00836148, -0.0228433 ],\n",
       "        [ 0.00255934, -0.01262411, -0.01770091],\n",
       "        [-0.00251153,  0.01247613, -0.01785059],\n",
       "        [ 0.00115948, -0.02385738,  0.02021112],\n",
       "        [ 0.00214557, -0.02359966,  0.02019673],\n",
       "        [-0.00219709,  0.0236147 ,  0.02025928],\n",
       "        [-0.00120194,  0.02397679,  0.02017296]], dtype=float32),\n",
       " 'stress': array([-1.71648320e-02, -2.06205603e-02, -1.71729978e-02, -5.25974542e-07,\n",
       "         6.88569287e-07, -8.41041474e-05])}"
      ]
     },
     "execution_count": 3,
     "metadata": {},
     "output_type": "execute_result"
    }
   ],
   "source": [
    "from mace.calculators import mace_mp\n",
    "from ase import build\n",
    "from pathlib import Path\n",
    "\n",
    "atoms = s.to_ase_atoms()\n",
    "\n",
    "calc = mace_mp(dispersion=False, default_dtype=\"float32\", device='cpu', model='medium')\n",
    "calc.calculate(atoms=atoms)\n",
    "calc.results"
   ]
  },
  {
   "cell_type": "code",
   "execution_count": 4,
   "metadata": {},
   "outputs": [
    {
     "name": "stderr",
     "output_type": "stream",
     "text": [
      "/tmp/ipykernel_1521511/260399794.py:1: FutureWarning: Please use len(self) or, if your atoms are distributed, self.get_global_number_of_atoms.\n",
      "  calc.results['free_energy'] / atoms.get_number_of_atoms()\n"
     ]
    },
    {
     "data": {
      "text/plain": [
       "-7.774285316467285"
      ]
     },
     "execution_count": 4,
     "metadata": {},
     "output_type": "execute_result"
    }
   ],
   "source": [
    "calc.results['free_energy'] / atoms.get_number_of_atoms()"
   ]
  },
  {
   "cell_type": "code",
   "execution_count": 5,
   "metadata": {},
   "outputs": [],
   "source": [
    "# ckpt_params = dict(seven_calc.model.named_parameters())\n",
    "# ckpt_params = {k: v.detach().cpu().numpy() for k, v in ckpt_params.items()}\n",
    "# np.save('precomputed/sevennet_ckpt.npy', ckpt_params)"
   ]
  },
  {
   "cell_type": "code",
   "execution_count": 6,
   "metadata": {},
   "outputs": [
    {
     "name": "stdout",
     "output_type": "stream",
     "text": [
      "-7.774285316467285\n"
     ]
    },
    {
     "data": {
      "text/plain": [
       "64"
      ]
     },
     "execution_count": 6,
     "metadata": {},
     "output_type": "execute_result"
    }
   ],
   "source": [
    "from functools import partial\n",
    "import torch\n",
    "from copy import deepcopy\n",
    "\n",
    "\n",
    "def serialize_atomgraph(data):    \n",
    "    return data\n",
    "\n",
    "\n",
    "class Recorder:    \n",
    "    def __init__(self):\n",
    "        self.inputs = {}\n",
    "        self.outputs = {}\n",
    "\n",
    "    def pre_hook(self, mod, args, name='module'):        \n",
    "        self.inputs[name] = serialize_atomgraph(args)\n",
    "\n",
    "    def post_hook(self, mod, args, output, name='module'):        \n",
    "        self.outputs[name] = serialize_atomgraph(output)\n",
    "\n",
    "\n",
    "rec = Recorder()\n",
    "atoms = s.to_ase_atoms()\n",
    "handles = []\n",
    "for name, mod in calc.models[0].named_modules():\n",
    "    try:\n",
    "        handle = mod.register_forward_hook(partial(rec.post_hook, name=name))\n",
    "        handles.append(handle)\n",
    "        handle = mod.register_forward_pre_hook(partial(rec.pre_hook, name=name))\n",
    "        handles.append(handle)\n",
    "    except RuntimeError:\n",
    "        continue\n",
    "\n",
    "try:\n",
    "    calc.calculate(atoms=atoms)\n",
    "finally:\n",
    "    for handle in handles:\n",
    "        handle.remove()\n",
    "print(calc.results['energy'] / s.num_sites)\n",
    "len(rec.inputs)"
   ]
  },
  {
   "cell_type": "code",
   "execution_count": 7,
   "metadata": {},
   "outputs": [
    {
     "data": {
      "text/plain": [
       "dict_keys(['atomic_energies_fn', '', 'node_embedding', 'node_embedding.linear', 'spherical_harmonics', 'radial_embedding', 'radial_embedding.cutoff_fn', 'radial_embedding.bessel_fn', 'interactions.0', 'interactions.0.skip_tp', 'interactions.0.linear_up', 'interactions.0.conv_tp_weights', 'interactions.0.conv_tp_weights.layer0', 'interactions.0.conv_tp_weights.layer0.act', 'interactions.0.conv_tp_weights.layer1', 'interactions.0.conv_tp_weights.layer2', 'interactions.0.conv_tp_weights.layer3', 'interactions.0.conv_tp', 'interactions.0.linear', 'interactions.0.reshape', 'products.0', 'products.0.symmetric_contractions', 'products.0.symmetric_contractions.contractions.0', 'products.0.symmetric_contractions.contractions.0.graph_opt_main', 'products.0.symmetric_contractions.contractions.0.contractions_weighting.0', 'products.0.symmetric_contractions.contractions.0.contractions_features.0', 'products.0.symmetric_contractions.contractions.0.contractions_weighting.1', 'products.0.symmetric_contractions.contractions.0.contractions_features.1', 'products.0.symmetric_contractions.contractions.1', 'products.0.symmetric_contractions.contractions.1.graph_opt_main', 'products.0.symmetric_contractions.contractions.1.contractions_weighting.0', 'products.0.symmetric_contractions.contractions.1.contractions_features.0', 'products.0.symmetric_contractions.contractions.1.contractions_weighting.1', 'products.0.symmetric_contractions.contractions.1.contractions_features.1', 'products.0.linear', 'readouts.0', 'readouts.0.linear', 'interactions.1', 'interactions.1.skip_tp', 'interactions.1.linear_up', 'interactions.1.conv_tp_weights', 'interactions.1.conv_tp_weights.layer0', 'interactions.1.conv_tp_weights.layer0.act', 'interactions.1.conv_tp_weights.layer1', 'interactions.1.conv_tp_weights.layer2', 'interactions.1.conv_tp_weights.layer3', 'interactions.1.conv_tp', 'interactions.1.linear', 'interactions.1.reshape', 'products.1', 'products.1.symmetric_contractions', 'products.1.symmetric_contractions.contractions.0', 'products.1.symmetric_contractions.contractions.0.graph_opt_main', 'products.1.symmetric_contractions.contractions.0.contractions_weighting.0', 'products.1.symmetric_contractions.contractions.0.contractions_features.0', 'products.1.symmetric_contractions.contractions.0.contractions_weighting.1', 'products.1.symmetric_contractions.contractions.0.contractions_features.1', 'products.1.linear', 'readouts.1', 'readouts.1.linear_1', 'readouts.1.non_linearity', 'readouts.1.non_linearity.acts.0', 'readouts.1.linear_2', 'scale_shift'])"
      ]
     },
     "execution_count": 7,
     "metadata": {},
     "output_type": "execute_result"
    }
   ],
   "source": [
    "rec.inputs.keys()"
   ]
  },
  {
   "cell_type": "code",
   "execution_count": 9,
   "metadata": {},
   "outputs": [
    {
     "data": {
      "text/plain": [
       "-46.223297"
      ]
     },
     "execution_count": 9,
     "metadata": {},
     "output_type": "execute_result"
    }
   ],
   "source": [
    "y = rec.outputs['interactions.0.linear'].numpy(force=True)\n",
    "y[0, 0]"
   ]
  },
  {
   "cell_type": "code",
   "execution_count": null,
   "metadata": {},
   "outputs": [],
   "source": [
    "x = rec.inputs['0_self_connection_intro.linear'].numpy(force=True)\n",
    "x"
   ]
  },
  {
   "cell_type": "code",
   "execution_count": null,
   "metadata": {},
   "outputs": [],
   "source": [
    "params = dict(seven_calc.model.get_submodule('0_self_connection_intro.linear').named_parameters())\n",
    "w = params['weight'].numpy(force=True).reshape(128, 224)\n",
    "w"
   ]
  },
  {
   "cell_type": "code",
   "execution_count": null,
   "metadata": {},
   "outputs": [],
   "source": [
    "((x / np.sqrt(128)) @ w)[0, 0]"
   ]
  },
  {
   "cell_type": "code",
   "execution_count": null,
   "metadata": {},
   "outputs": [],
   "source": [
    "rec.outputs['reduce_hidden_to_energy.linear']"
   ]
  },
  {
   "cell_type": "code",
   "execution_count": null,
   "metadata": {},
   "outputs": [],
   "source": [
    "ag = rec.outputs['']"
   ]
  },
  {
   "cell_type": "code",
   "execution_count": null,
   "metadata": {},
   "outputs": [],
   "source": []
  },
  {
   "cell_type": "code",
   "execution_count": null,
   "metadata": {},
   "outputs": [],
   "source": [
    "i = np.where((ag['edge_index'][0] == 48) & (ag['edge_index'][1] == 0))[0].item()\n",
    "i"
   ]
  },
  {
   "cell_type": "code",
   "execution_count": null,
   "metadata": {},
   "outputs": [],
   "source": [
    "rec.outputs['edge_embedding']['edge_embedding'][i]"
   ]
  },
  {
   "cell_type": "code",
   "execution_count": null,
   "metadata": {},
   "outputs": [],
   "source": [
    "rec.inputs['0_self_connection_intro']['x']"
   ]
  },
  {
   "cell_type": "code",
   "execution_count": null,
   "metadata": {},
   "outputs": [],
   "source": [
    "rec.outputs['0_self_connection_intro.linear'][0, 1].item()"
   ]
  },
  {
   "cell_type": "code",
   "execution_count": null,
   "metadata": {},
   "outputs": [],
   "source": [
    "sns.heatmap(rec.outputs['onehot_to_feature_x']['x'], robust=True, center=0)"
   ]
  },
  {
   "cell_type": "code",
   "execution_count": null,
   "metadata": {},
   "outputs": [],
   "source": [
    "params = dict(seven_calc.model.onehot_to_feature_x.named_parameters())\n",
    "w = params['linear.weight'].detach().cpu().numpy()\n",
    "sns.heatmap(w.reshape(89, 128)[[11]], center=0, robust=True)"
   ]
  },
  {
   "cell_type": "code",
   "execution_count": null,
   "metadata": {},
   "outputs": [],
   "source": [
    "seven_calc.model"
   ]
  },
  {
   "cell_type": "code",
   "execution_count": null,
   "metadata": {},
   "outputs": [],
   "source": [
    "rec.outputs['edge_embedding.spherical.sph'][i][6].item()"
   ]
  },
  {
   "cell_type": "code",
   "execution_count": null,
   "metadata": {},
   "outputs": [],
   "source": [
    "sns.heatmap(rec.outputs['onehot_to_feature_x'][0]['x'], robust=True)"
   ]
  },
  {
   "cell_type": "code",
   "execution_count": null,
   "metadata": {},
   "outputs": [],
   "source": [
    "rec.outputs['onehot_to_feature_x.linear'][0][0].item()"
   ]
  },
  {
   "cell_type": "code",
   "execution_count": null,
   "metadata": {},
   "outputs": [],
   "source": [
    "{k: getattr(v, 'shape', v) for k, v in rec.outputs['onehot_to_feature_x.linear'][0].items()}"
   ]
  },
  {
   "cell_type": "code",
   "execution_count": null,
   "metadata": {},
   "outputs": [],
   "source": []
  }
 ],
 "metadata": {
  "kernelspec": {
   "display_name": "baysic",
   "language": "python",
   "name": "python3"
  },
  "language_info": {
   "codemirror_mode": {
    "name": "ipython",
    "version": 3
   },
   "file_extension": ".py",
   "mimetype": "text/x-python",
   "name": "python",
   "nbconvert_exporter": "python",
   "pygments_lexer": "ipython3",
   "version": "3.10.13"
  }
 },
 "nbformat": 4,
 "nbformat_minor": 2
}
