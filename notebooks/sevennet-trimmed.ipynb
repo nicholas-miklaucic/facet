{
 "cells": [
  {
   "cell_type": "code",
   "execution_count": 1,
   "metadata": {},
   "outputs": [
    {
     "name": "stderr",
     "output_type": "stream",
     "text": [
      "/home/nmiklaucic/miniconda3/envs/avid/lib/python3.12/site-packages/IPython/core/magics/osm.py:393: UserWarning: This is now an optional IPython functionality, using bookmarks requires you to install the `pickleshare` library.\n",
      "  bkms = self.shell.db.get('bookmarks', {})\n",
      "/home/nmiklaucic/miniconda3/envs/avid/lib/python3.12/site-packages/IPython/core/magics/osm.py:417: UserWarning: This is now an optional IPython functionality, setting dhist requires you to install the `pickleshare` library.\n",
      "  self.shell.db['dhist'] = compress_dhist(dhist)[-100:]\n"
     ]
    },
    {
     "name": "stdout",
     "output_type": "stream",
     "text": [
      "/home/nmiklaucic/cdv\n"
     ]
    }
   ],
   "source": [
    "%cd ~/cdv\n",
    "import os\n",
    "\n",
    "os.environ['CUDA_VISIBLE_DEVICES'] = '1,2'\n",
    "import numpy as np\n",
    "import jax.numpy as jnp\n",
    "import jax\n",
    "import pandas as pd\n",
    "import plotly.express as px\n",
    "import matplotlib.pyplot as plt\n",
    "import seaborn as sns\n",
    "\n",
    "import rho_plus as rp\n",
    "\n",
    "is_dark = False\n",
    "theme, cs = rp.mpl_setup(is_dark)\n",
    "rp.plotly_setup(is_dark)"
   ]
  },
  {
   "cell_type": "code",
   "execution_count": 2,
   "metadata": {},
   "outputs": [
    {
     "data": {
      "text/html": [
       "<pre style=\"white-space:pre;overflow-x:auto;line-height:normal;font-family:Menlo,'DejaVu Sans Mono',consolas,'Courier New',monospace\"></pre>\n"
      ],
      "text/plain": []
     },
     "metadata": {},
     "output_type": "display_data"
    },
    {
     "data": {
      "text/plain": [
       "\u001b[1;36m842748\u001b[0m"
      ]
     },
     "execution_count": 2,
     "metadata": {},
     "output_type": "execute_result"
    }
   ],
   "source": [
    "from pathlib import Path\n",
    "from facet.data.databatch import CrystalGraphs\n",
    "from facet.layers import Context\n",
    "import pyrallis\n",
    "from facet.config import MainConfig\n",
    "import orbax.checkpoint as ocp\n",
    "\n",
    "from facet.training_state import TrainingRun\n",
    "from facet.checkpointing import best_ckpt\n",
    "\n",
    "\n",
    "conf_file = 'configs/sevennet.toml'\n",
    "\n",
    "with open(conf_file) as f:\n",
    "    config = pyrallis.cfgparsing.load(MainConfig, f)\n",
    "\n",
    "from facet.data.dataset import load_file\n",
    "\n",
    "config.data.dataset_name = 'mptrj'\n",
    "cgs = []\n",
    "for i in range(1):\n",
    "    cgs.append(load_file(config, group_num=0, file_num=i))\n",
    "\n",
    "cg: CrystalGraphs = sum(cgs[1:], start=cgs[0])\n",
    "\n",
    "model = config.build_regressor()\n",
    "\n",
    "params = model.init(jax.random.key(29205), cg=cg, ctx=Context(training=True))\n",
    "\n",
    "param_size = sum(x.size for x in jax.tree.leaves(params))\n",
    "param_size"
   ]
  },
  {
   "cell_type": "code",
   "execution_count": 3,
   "metadata": {},
   "outputs": [
    {
     "data": {
      "text/html": [
       "<pre style=\"white-space:pre;overflow-x:auto;line-height:normal;font-family:Menlo,'DejaVu Sans Mono',consolas,'Courier New',monospace\"><span style=\"color: #00a0ec; text-decoration-color: #00a0ec; font-weight: bold\">arg0 &gt;&gt;&gt; params</span>\n",
       "├── <span style=\"color: #00a0ec; text-decoration-color: #00a0ec; font-weight: bold\">edge_embedding &gt;&gt;&gt; basis &gt;&gt;&gt; freq</span>\n",
       "│   └── <span style=\"color: #00bc70; text-decoration-color: #00bc70; font-weight: bold\">f32[8]</span>\n",
       "├── <span style=\"color: #00a0ec; text-decoration-color: #00a0ec; font-weight: bold\">head</span>\n",
       "│   ├── <span style=\"color: #00bc70; text-decoration-color: #00bc70; font-weight: bold\">Dense_0 &gt;&gt;&gt; kernel</span>\n",
       "│   │   └── <span style=\"color: #ff7300; text-decoration-color: #ff7300; font-weight: bold\">f32[128, 64]</span>\n",
       "│   └── <span style=\"color: #00bc70; text-decoration-color: #00bc70; font-weight: bold\">Dense_1 &gt;&gt;&gt; kernel</span>\n",
       "│       └── <span style=\"color: #ff7300; text-decoration-color: #ff7300; font-weight: bold\">f32[64, 1]</span>\n",
       "├── <span style=\"color: #00a0ec; text-decoration-color: #00a0ec; font-weight: bold\">mace</span>\n",
       "│   ├── <span style=\"color: #00bc70; text-decoration-color: #00bc70; font-weight: bold\">layer_0 &gt;&gt;&gt; interaction</span>\n",
       "│   │   ├── <span style=\"color: #ff7300; text-decoration-color: #ff7300; font-weight: bold\">SimpleInteraction_0</span>\n",
       "│   │   │   ├── <span style=\"color: #387200; text-decoration-color: #387200; font-weight: bold\">SevenNetConv_0 &gt;&gt;&gt; LazyInMLP_0</span>\n",
       "│   │   │   │   ├── <span style=\"color: #aa2e00; text-decoration-color: #aa2e00; font-weight: bold\">Dense_0</span>\n",
       "│   │   │   │   │   └── <span style=\"color: #7555d3; text-decoration-color: #7555d3; font-weight: bold\">{...}</span>\n",
       "│   │   │   │   ├── <span style=\"color: #aa2e00; text-decoration-color: #aa2e00; font-weight: bold\">Dense_1</span>\n",
       "│   │   │   │   │   └── <span style=\"color: #7555d3; text-decoration-color: #7555d3; font-weight: bold\">{...}</span>\n",
       "│   │   │   │   └── <span style=\"color: #aa2e00; text-decoration-color: #aa2e00; font-weight: bold\">Dense_2</span>\n",
       "│   │   │   │       └── <span style=\"color: #7555d3; text-decoration-color: #7555d3; font-weight: bold\">{...}</span>\n",
       "│   │   │   ├── <span style=\"color: #387200; text-decoration-color: #387200; font-weight: bold\">linear_intro &gt;&gt;&gt; w[0,0] 128x0e,128x0e</span>\n",
       "│   │   │   │   └── <span style=\"color: #aa2e00; text-decoration-color: #aa2e00; font-weight: bold\">f32[128, 128]</span>\n",
       "│   │   │   └── <span style=\"color: #387200; text-decoration-color: #387200; font-weight: bold\">linear_outro</span>\n",
       "│   │   │       ├── <span style=\"color: #aa2e00; text-decoration-color: #aa2e00; font-weight: bold\">w[0,0] 128x0e,224x0e</span>\n",
       "│   │   │       │   └── <span style=\"color: #7555d3; text-decoration-color: #7555d3; font-weight: bold\">f32[128, 224]</span>\n",
       "│   │   │       ├── <span style=\"color: #aa2e00; text-decoration-color: #aa2e00; font-weight: bold\">w[1,1] 128x1e,64x1e</span>\n",
       "│   │   │       │   └── <span style=\"color: #7555d3; text-decoration-color: #7555d3; font-weight: bold\">f32[128, 64]</span>\n",
       "│   │   │       └── <span style=\"color: #aa2e00; text-decoration-color: #aa2e00; font-weight: bold\">w[2,2] 128x2e,32x2e</span>\n",
       "│   │   │           └── <span style=\"color: #7555d3; text-decoration-color: #7555d3; font-weight: bold\">f32[128, 32]</span>\n",
       "│   │   └── <span style=\"color: #ff7300; text-decoration-color: #ff7300; font-weight: bold\">resid_adapter &gt;&gt;&gt; w[0,0] 128x0e,224x0e</span>\n",
       "│   │       └── <span style=\"color: #387200; text-decoration-color: #387200; font-weight: bold\">f32[128, 224]</span>\n",
       "│   ├── <span style=\"color: #00bc70; text-decoration-color: #00bc70; font-weight: bold\">layer_1 &gt;&gt;&gt; interaction</span>\n",
       "│   │   ├── <span style=\"color: #ff7300; text-decoration-color: #ff7300; font-weight: bold\">SimpleInteraction_0</span>\n",
       "│   │   │   ├── <span style=\"color: #387200; text-decoration-color: #387200; font-weight: bold\">SevenNetConv_0 &gt;&gt;&gt; LazyInMLP_0</span>\n",
       "│   │   │   │   ├── <span style=\"color: #aa2e00; text-decoration-color: #aa2e00; font-weight: bold\">Dense_0</span>\n",
       "│   │   │   │   │   └── <span style=\"color: #7555d3; text-decoration-color: #7555d3; font-weight: bold\">{...}</span>\n",
       "│   │   │   │   ├── <span style=\"color: #aa2e00; text-decoration-color: #aa2e00; font-weight: bold\">Dense_1</span>\n",
       "│   │   │   │   │   └── <span style=\"color: #7555d3; text-decoration-color: #7555d3; font-weight: bold\">{...}</span>\n",
       "│   │   │   │   └── <span style=\"color: #aa2e00; text-decoration-color: #aa2e00; font-weight: bold\">Dense_2</span>\n",
       "│   │   │   │       └── <span style=\"color: #7555d3; text-decoration-color: #7555d3; font-weight: bold\">{...}</span>\n",
       "│   │   │   ├── <span style=\"color: #387200; text-decoration-color: #387200; font-weight: bold\">linear_intro</span>\n",
       "│   │   │   │   ├── <span style=\"color: #aa2e00; text-decoration-color: #aa2e00; font-weight: bold\">w[0,0] 128x0e,128x0e</span>\n",
       "│   │   │   │   │   └── <span style=\"color: #7555d3; text-decoration-color: #7555d3; font-weight: bold\">f32[128, 128]</span>\n",
       "│   │   │   │   ├── <span style=\"color: #aa2e00; text-decoration-color: #aa2e00; font-weight: bold\">w[1,1] 64x1e,64x1e</span>\n",
       "│   │   │   │   │   └── <span style=\"color: #7555d3; text-decoration-color: #7555d3; font-weight: bold\">f32[64, 64]</span>\n",
       "│   │   │   │   └── <span style=\"color: #aa2e00; text-decoration-color: #aa2e00; font-weight: bold\">w[2,2] 32x2e,32x2e</span>\n",
       "│   │   │   │       └── <span style=\"color: #7555d3; text-decoration-color: #7555d3; font-weight: bold\">f32[32, 32]</span>\n",
       "│   │   │   └── <span style=\"color: #387200; text-decoration-color: #387200; font-weight: bold\">linear_outro</span>\n",
       "│   │   │       ├── <span style=\"color: #aa2e00; text-decoration-color: #aa2e00; font-weight: bold\">w[0,0] 224x0e,224x0e</span>\n",
       "│   │   │       │   └── <span style=\"color: #7555d3; text-decoration-color: #7555d3; font-weight: bold\">f32[224, 224]</span>\n",
       "│   │   │       ├── <span style=\"color: #aa2e00; text-decoration-color: #aa2e00; font-weight: bold\">w[1,1] 384x1e,64x1e</span>\n",
       "│   │   │       │   └── <span style=\"color: #7555d3; text-decoration-color: #7555d3; font-weight: bold\">f32[384, 64]</span>\n",
       "│   │   │       └── <span style=\"color: #aa2e00; text-decoration-color: #aa2e00; font-weight: bold\">w[2,2] 352x2e,32x2e</span>\n",
       "│   │   │           └── <span style=\"color: #7555d3; text-decoration-color: #7555d3; font-weight: bold\">f32[352, 32]</span>\n",
       "│   │   └── <span style=\"color: #ff7300; text-decoration-color: #ff7300; font-weight: bold\">resid_adapter</span>\n",
       "│   │       ├── <span style=\"color: #387200; text-decoration-color: #387200; font-weight: bold\">w[0,0] 128x0e,224x0e</span>\n",
       "│   │       │   └── <span style=\"color: #aa2e00; text-decoration-color: #aa2e00; font-weight: bold\">f32[128, 224]</span>\n",
       "│   │       ├── <span style=\"color: #387200; text-decoration-color: #387200; font-weight: bold\">w[1,1] 64x1e,64x1e</span>\n",
       "│   │       │   └── <span style=\"color: #aa2e00; text-decoration-color: #aa2e00; font-weight: bold\">f32[64, 64]</span>\n",
       "│   │       └── <span style=\"color: #387200; text-decoration-color: #387200; font-weight: bold\">w[2,2] 32x2e,32x2e</span>\n",
       "│   │           └── <span style=\"color: #aa2e00; text-decoration-color: #aa2e00; font-weight: bold\">f32[32, 32]</span>\n",
       "│   ├── <span style=\"color: #00bc70; text-decoration-color: #00bc70; font-weight: bold\">layer_2 &gt;&gt;&gt; interaction</span>\n",
       "│   │   ├── <span style=\"color: #ff7300; text-decoration-color: #ff7300; font-weight: bold\">SimpleInteraction_0</span>\n",
       "│   │   │   ├── <span style=\"color: #387200; text-decoration-color: #387200; font-weight: bold\">SevenNetConv_0 &gt;&gt;&gt; LazyInMLP_0</span>\n",
       "│   │   │   │   ├── <span style=\"color: #aa2e00; text-decoration-color: #aa2e00; font-weight: bold\">Dense_0</span>\n",
       "│   │   │   │   │   └── <span style=\"color: #7555d3; text-decoration-color: #7555d3; font-weight: bold\">{...}</span>\n",
       "│   │   │   │   ├── <span style=\"color: #aa2e00; text-decoration-color: #aa2e00; font-weight: bold\">Dense_1</span>\n",
       "│   │   │   │   │   └── <span style=\"color: #7555d3; text-decoration-color: #7555d3; font-weight: bold\">{...}</span>\n",
       "│   │   │   │   └── <span style=\"color: #aa2e00; text-decoration-color: #aa2e00; font-weight: bold\">Dense_2</span>\n",
       "│   │   │   │       └── <span style=\"color: #7555d3; text-decoration-color: #7555d3; font-weight: bold\">{...}</span>\n",
       "│   │   │   ├── <span style=\"color: #387200; text-decoration-color: #387200; font-weight: bold\">linear_intro</span>\n",
       "│   │   │   │   ├── <span style=\"color: #aa2e00; text-decoration-color: #aa2e00; font-weight: bold\">w[0,0] 128x0e,128x0e</span>\n",
       "│   │   │   │   │   └── <span style=\"color: #7555d3; text-decoration-color: #7555d3; font-weight: bold\">f32[128, 128]</span>\n",
       "│   │   │   │   ├── <span style=\"color: #aa2e00; text-decoration-color: #aa2e00; font-weight: bold\">w[1,1] 64x1e,64x1e</span>\n",
       "│   │   │   │   │   └── <span style=\"color: #7555d3; text-decoration-color: #7555d3; font-weight: bold\">f32[64, 64]</span>\n",
       "│   │   │   │   └── <span style=\"color: #aa2e00; text-decoration-color: #aa2e00; font-weight: bold\">w[2,2] 32x2e,32x2e</span>\n",
       "│   │   │   │       └── <span style=\"color: #7555d3; text-decoration-color: #7555d3; font-weight: bold\">f32[32, 32]</span>\n",
       "│   │   │   └── <span style=\"color: #387200; text-decoration-color: #387200; font-weight: bold\">linear_outro</span>\n",
       "│   │   │       ├── <span style=\"color: #aa2e00; text-decoration-color: #aa2e00; font-weight: bold\">w[0,0] 224x0e,224x0e</span>\n",
       "│   │   │       │   └── <span style=\"color: #7555d3; text-decoration-color: #7555d3; font-weight: bold\">f32[224, 224]</span>\n",
       "│   │   │       ├── <span style=\"color: #aa2e00; text-decoration-color: #aa2e00; font-weight: bold\">w[1,1] 384x1e,64x1e</span>\n",
       "│   │   │       │   └── <span style=\"color: #7555d3; text-decoration-color: #7555d3; font-weight: bold\">f32[384, 64]</span>\n",
       "│   │   │       └── <span style=\"color: #aa2e00; text-decoration-color: #aa2e00; font-weight: bold\">w[2,2] 352x2e,32x2e</span>\n",
       "│   │   │           └── <span style=\"color: #7555d3; text-decoration-color: #7555d3; font-weight: bold\">f32[352, 32]</span>\n",
       "│   │   └── <span style=\"color: #ff7300; text-decoration-color: #ff7300; font-weight: bold\">resid_adapter</span>\n",
       "│   │       ├── <span style=\"color: #387200; text-decoration-color: #387200; font-weight: bold\">w[0,0] 128x0e,224x0e</span>\n",
       "│   │       │   └── <span style=\"color: #aa2e00; text-decoration-color: #aa2e00; font-weight: bold\">f32[128, 224]</span>\n",
       "│   │       ├── <span style=\"color: #387200; text-decoration-color: #387200; font-weight: bold\">w[1,1] 64x1e,64x1e</span>\n",
       "│   │       │   └── <span style=\"color: #aa2e00; text-decoration-color: #aa2e00; font-weight: bold\">f32[64, 64]</span>\n",
       "│   │       └── <span style=\"color: #387200; text-decoration-color: #387200; font-weight: bold\">w[2,2] 32x2e,32x2e</span>\n",
       "│   │           └── <span style=\"color: #aa2e00; text-decoration-color: #aa2e00; font-weight: bold\">f32[32, 32]</span>\n",
       "│   ├── <span style=\"color: #00bc70; text-decoration-color: #00bc70; font-weight: bold\">layer_3 &gt;&gt;&gt; interaction</span>\n",
       "│   │   ├── <span style=\"color: #ff7300; text-decoration-color: #ff7300; font-weight: bold\">SimpleInteraction_0</span>\n",
       "│   │   │   ├── <span style=\"color: #387200; text-decoration-color: #387200; font-weight: bold\">SevenNetConv_0 &gt;&gt;&gt; LazyInMLP_0</span>\n",
       "│   │   │   │   ├── <span style=\"color: #aa2e00; text-decoration-color: #aa2e00; font-weight: bold\">Dense_0</span>\n",
       "│   │   │   │   │   └── <span style=\"color: #7555d3; text-decoration-color: #7555d3; font-weight: bold\">{...}</span>\n",
       "│   │   │   │   ├── <span style=\"color: #aa2e00; text-decoration-color: #aa2e00; font-weight: bold\">Dense_1</span>\n",
       "│   │   │   │   │   └── <span style=\"color: #7555d3; text-decoration-color: #7555d3; font-weight: bold\">{...}</span>\n",
       "│   │   │   │   └── <span style=\"color: #aa2e00; text-decoration-color: #aa2e00; font-weight: bold\">Dense_2</span>\n",
       "│   │   │   │       └── <span style=\"color: #7555d3; text-decoration-color: #7555d3; font-weight: bold\">{...}</span>\n",
       "│   │   │   ├── <span style=\"color: #387200; text-decoration-color: #387200; font-weight: bold\">linear_intro</span>\n",
       "│   │   │   │   ├── <span style=\"color: #aa2e00; text-decoration-color: #aa2e00; font-weight: bold\">w[0,0] 128x0e,128x0e</span>\n",
       "│   │   │   │   │   └── <span style=\"color: #7555d3; text-decoration-color: #7555d3; font-weight: bold\">f32[128, 128]</span>\n",
       "│   │   │   │   ├── <span style=\"color: #aa2e00; text-decoration-color: #aa2e00; font-weight: bold\">w[1,1] 64x1e,64x1e</span>\n",
       "│   │   │   │   │   └── <span style=\"color: #7555d3; text-decoration-color: #7555d3; font-weight: bold\">f32[64, 64]</span>\n",
       "│   │   │   │   └── <span style=\"color: #aa2e00; text-decoration-color: #aa2e00; font-weight: bold\">w[2,2] 32x2e,32x2e</span>\n",
       "│   │   │   │       └── <span style=\"color: #7555d3; text-decoration-color: #7555d3; font-weight: bold\">f32[32, 32]</span>\n",
       "│   │   │   └── <span style=\"color: #387200; text-decoration-color: #387200; font-weight: bold\">linear_outro</span>\n",
       "│   │   │       ├── <span style=\"color: #aa2e00; text-decoration-color: #aa2e00; font-weight: bold\">w[0,0] 224x0e,224x0e</span>\n",
       "│   │   │       │   └── <span style=\"color: #7555d3; text-decoration-color: #7555d3; font-weight: bold\">f32[224, 224]</span>\n",
       "│   │   │       ├── <span style=\"color: #aa2e00; text-decoration-color: #aa2e00; font-weight: bold\">w[1,1] 384x1e,64x1e</span>\n",
       "│   │   │       │   └── <span style=\"color: #7555d3; text-decoration-color: #7555d3; font-weight: bold\">f32[384, 64]</span>\n",
       "│   │   │       └── <span style=\"color: #aa2e00; text-decoration-color: #aa2e00; font-weight: bold\">w[2,2] 352x2e,32x2e</span>\n",
       "│   │   │           └── <span style=\"color: #7555d3; text-decoration-color: #7555d3; font-weight: bold\">f32[352, 32]</span>\n",
       "│   │   └── <span style=\"color: #ff7300; text-decoration-color: #ff7300; font-weight: bold\">resid_adapter</span>\n",
       "│   │       ├── <span style=\"color: #387200; text-decoration-color: #387200; font-weight: bold\">w[0,0] 128x0e,224x0e</span>\n",
       "│   │       │   └── <span style=\"color: #aa2e00; text-decoration-color: #aa2e00; font-weight: bold\">f32[128, 224]</span>\n",
       "│   │       ├── <span style=\"color: #387200; text-decoration-color: #387200; font-weight: bold\">w[1,1] 64x1e,64x1e</span>\n",
       "│   │       │   └── <span style=\"color: #aa2e00; text-decoration-color: #aa2e00; font-weight: bold\">f32[64, 64]</span>\n",
       "│   │       └── <span style=\"color: #387200; text-decoration-color: #387200; font-weight: bold\">w[2,2] 32x2e,32x2e</span>\n",
       "│   │           └── <span style=\"color: #aa2e00; text-decoration-color: #aa2e00; font-weight: bold\">f32[32, 32]</span>\n",
       "│   └── <span style=\"color: #00bc70; text-decoration-color: #00bc70; font-weight: bold\">layer_4 &gt;&gt;&gt; interaction</span>\n",
       "│       ├── <span style=\"color: #ff7300; text-decoration-color: #ff7300; font-weight: bold\">SimpleInteraction_0</span>\n",
       "│       │   ├── <span style=\"color: #387200; text-decoration-color: #387200; font-weight: bold\">SevenNetConv_0 &gt;&gt;&gt; LazyInMLP_0</span>\n",
       "│       │   │   ├── <span style=\"color: #aa2e00; text-decoration-color: #aa2e00; font-weight: bold\">Dense_0</span>\n",
       "│       │   │   │   └── <span style=\"color: #7555d3; text-decoration-color: #7555d3; font-weight: bold\">{...}</span>\n",
       "│       │   │   ├── <span style=\"color: #aa2e00; text-decoration-color: #aa2e00; font-weight: bold\">Dense_1</span>\n",
       "│       │   │   │   └── <span style=\"color: #7555d3; text-decoration-color: #7555d3; font-weight: bold\">{...}</span>\n",
       "│       │   │   └── <span style=\"color: #aa2e00; text-decoration-color: #aa2e00; font-weight: bold\">Dense_2</span>\n",
       "│       │   │       └── <span style=\"color: #7555d3; text-decoration-color: #7555d3; font-weight: bold\">{...}</span>\n",
       "│       │   ├── <span style=\"color: #387200; text-decoration-color: #387200; font-weight: bold\">linear_intro</span>\n",
       "│       │   │   ├── <span style=\"color: #aa2e00; text-decoration-color: #aa2e00; font-weight: bold\">w[0,0] 128x0e,128x0e</span>\n",
       "│       │   │   │   └── <span style=\"color: #7555d3; text-decoration-color: #7555d3; font-weight: bold\">f32[128, 128]</span>\n",
       "│       │   │   ├── <span style=\"color: #aa2e00; text-decoration-color: #aa2e00; font-weight: bold\">w[1,1] 64x1e,64x1e</span>\n",
       "│       │   │   │   └── <span style=\"color: #7555d3; text-decoration-color: #7555d3; font-weight: bold\">f32[64, 64]</span>\n",
       "│       │   │   └── <span style=\"color: #aa2e00; text-decoration-color: #aa2e00; font-weight: bold\">w[2,2] 32x2e,32x2e</span>\n",
       "│       │   │       └── <span style=\"color: #7555d3; text-decoration-color: #7555d3; font-weight: bold\">f32[32, 32]</span>\n",
       "│       │   └── <span style=\"color: #387200; text-decoration-color: #387200; font-weight: bold\">linear_outro &gt;&gt;&gt; w[0,0] 224x0e,128x0e</span>\n",
       "│       │       └── <span style=\"color: #aa2e00; text-decoration-color: #aa2e00; font-weight: bold\">f32[224, 128]</span>\n",
       "│       └── <span style=\"color: #ff7300; text-decoration-color: #ff7300; font-weight: bold\">resid_adapter &gt;&gt;&gt; w[0,0] 128x0e,128x0e</span>\n",
       "│           └── <span style=\"color: #387200; text-decoration-color: #387200; font-weight: bold\">f32[128, 128]</span>\n",
       "├── <span style=\"color: #00a0ec; text-decoration-color: #00a0ec; font-weight: bold\">node_embedding &gt;&gt;&gt; embed &gt;&gt;&gt; embedding</span>\n",
       "│   └── <span style=\"color: #00bc70; text-decoration-color: #00bc70; font-weight: bold\">f32[90, 128]</span>\n",
       "└── <span style=\"color: #00a0ec; text-decoration-color: #00a0ec; font-weight: bold\">rescale</span>\n",
       "    ├── <span style=\"color: #00bc70; text-decoration-color: #00bc70; font-weight: bold\">scale</span>\n",
       "    │   └── <span style=\"color: #ff7300; text-decoration-color: #ff7300; font-weight: bold\">f32[90]</span>\n",
       "    └── <span style=\"color: #00bc70; text-decoration-color: #00bc70; font-weight: bold\">shift</span>\n",
       "        └── <span style=\"color: #ff7300; text-decoration-color: #ff7300; font-weight: bold\">f32[90]</span>\n",
       "</pre>\n"
      ],
      "text/plain": [
       "\u001b[1;38;2;0;160;236marg0 >>> params\u001b[0m\n",
       "├── \u001b[1;38;2;0;160;236medge_embedding >>> basis >>> freq\u001b[0m\n",
       "│   └── \u001b[1;38;2;0;188;112mf32[8]\u001b[0m\n",
       "├── \u001b[1;38;2;0;160;236mhead\u001b[0m\n",
       "│   ├── \u001b[1;38;2;0;188;112mDense_0 >>> kernel\u001b[0m\n",
       "│   │   └── \u001b[1;38;2;255;115;0mf32[128, 64]\u001b[0m\n",
       "│   └── \u001b[1;38;2;0;188;112mDense_1 >>> kernel\u001b[0m\n",
       "│       └── \u001b[1;38;2;255;115;0mf32[64, 1]\u001b[0m\n",
       "├── \u001b[1;38;2;0;160;236mmace\u001b[0m\n",
       "│   ├── \u001b[1;38;2;0;188;112mlayer_0 >>> interaction\u001b[0m\n",
       "│   │   ├── \u001b[1;38;2;255;115;0mSimpleInteraction_0\u001b[0m\n",
       "│   │   │   ├── \u001b[1;38;2;56;114;0mSevenNetConv_0 >>> LazyInMLP_0\u001b[0m\n",
       "│   │   │   │   ├── \u001b[1;38;2;170;46;0mDense_0\u001b[0m\n",
       "│   │   │   │   │   └── \u001b[1;38;2;117;85;211m{...}\u001b[0m\n",
       "│   │   │   │   ├── \u001b[1;38;2;170;46;0mDense_1\u001b[0m\n",
       "│   │   │   │   │   └── \u001b[1;38;2;117;85;211m{...}\u001b[0m\n",
       "│   │   │   │   └── \u001b[1;38;2;170;46;0mDense_2\u001b[0m\n",
       "│   │   │   │       └── \u001b[1;38;2;117;85;211m{...}\u001b[0m\n",
       "│   │   │   ├── \u001b[1;38;2;56;114;0mlinear_intro >>> w[0,0] 128x0e,128x0e\u001b[0m\n",
       "│   │   │   │   └── \u001b[1;38;2;170;46;0mf32[128, 128]\u001b[0m\n",
       "│   │   │   └── \u001b[1;38;2;56;114;0mlinear_outro\u001b[0m\n",
       "│   │   │       ├── \u001b[1;38;2;170;46;0mw[0,0] 128x0e,224x0e\u001b[0m\n",
       "│   │   │       │   └── \u001b[1;38;2;117;85;211mf32[128, 224]\u001b[0m\n",
       "│   │   │       ├── \u001b[1;38;2;170;46;0mw[1,1] 128x1e,64x1e\u001b[0m\n",
       "│   │   │       │   └── \u001b[1;38;2;117;85;211mf32[128, 64]\u001b[0m\n",
       "│   │   │       └── \u001b[1;38;2;170;46;0mw[2,2] 128x2e,32x2e\u001b[0m\n",
       "│   │   │           └── \u001b[1;38;2;117;85;211mf32[128, 32]\u001b[0m\n",
       "│   │   └── \u001b[1;38;2;255;115;0mresid_adapter >>> w[0,0] 128x0e,224x0e\u001b[0m\n",
       "│   │       └── \u001b[1;38;2;56;114;0mf32[128, 224]\u001b[0m\n",
       "│   ├── \u001b[1;38;2;0;188;112mlayer_1 >>> interaction\u001b[0m\n",
       "│   │   ├── \u001b[1;38;2;255;115;0mSimpleInteraction_0\u001b[0m\n",
       "│   │   │   ├── \u001b[1;38;2;56;114;0mSevenNetConv_0 >>> LazyInMLP_0\u001b[0m\n",
       "│   │   │   │   ├── \u001b[1;38;2;170;46;0mDense_0\u001b[0m\n",
       "│   │   │   │   │   └── \u001b[1;38;2;117;85;211m{...}\u001b[0m\n",
       "│   │   │   │   ├── \u001b[1;38;2;170;46;0mDense_1\u001b[0m\n",
       "│   │   │   │   │   └── \u001b[1;38;2;117;85;211m{...}\u001b[0m\n",
       "│   │   │   │   └── \u001b[1;38;2;170;46;0mDense_2\u001b[0m\n",
       "│   │   │   │       └── \u001b[1;38;2;117;85;211m{...}\u001b[0m\n",
       "│   │   │   ├── \u001b[1;38;2;56;114;0mlinear_intro\u001b[0m\n",
       "│   │   │   │   ├── \u001b[1;38;2;170;46;0mw[0,0] 128x0e,128x0e\u001b[0m\n",
       "│   │   │   │   │   └── \u001b[1;38;2;117;85;211mf32[128, 128]\u001b[0m\n",
       "│   │   │   │   ├── \u001b[1;38;2;170;46;0mw[1,1] 64x1e,64x1e\u001b[0m\n",
       "│   │   │   │   │   └── \u001b[1;38;2;117;85;211mf32[64, 64]\u001b[0m\n",
       "│   │   │   │   └── \u001b[1;38;2;170;46;0mw[2,2] 32x2e,32x2e\u001b[0m\n",
       "│   │   │   │       └── \u001b[1;38;2;117;85;211mf32[32, 32]\u001b[0m\n",
       "│   │   │   └── \u001b[1;38;2;56;114;0mlinear_outro\u001b[0m\n",
       "│   │   │       ├── \u001b[1;38;2;170;46;0mw[0,0] 224x0e,224x0e\u001b[0m\n",
       "│   │   │       │   └── \u001b[1;38;2;117;85;211mf32[224, 224]\u001b[0m\n",
       "│   │   │       ├── \u001b[1;38;2;170;46;0mw[1,1] 384x1e,64x1e\u001b[0m\n",
       "│   │   │       │   └── \u001b[1;38;2;117;85;211mf32[384, 64]\u001b[0m\n",
       "│   │   │       └── \u001b[1;38;2;170;46;0mw[2,2] 352x2e,32x2e\u001b[0m\n",
       "│   │   │           └── \u001b[1;38;2;117;85;211mf32[352, 32]\u001b[0m\n",
       "│   │   └── \u001b[1;38;2;255;115;0mresid_adapter\u001b[0m\n",
       "│   │       ├── \u001b[1;38;2;56;114;0mw[0,0] 128x0e,224x0e\u001b[0m\n",
       "│   │       │   └── \u001b[1;38;2;170;46;0mf32[128, 224]\u001b[0m\n",
       "│   │       ├── \u001b[1;38;2;56;114;0mw[1,1] 64x1e,64x1e\u001b[0m\n",
       "│   │       │   └── \u001b[1;38;2;170;46;0mf32[64, 64]\u001b[0m\n",
       "│   │       └── \u001b[1;38;2;56;114;0mw[2,2] 32x2e,32x2e\u001b[0m\n",
       "│   │           └── \u001b[1;38;2;170;46;0mf32[32, 32]\u001b[0m\n",
       "│   ├── \u001b[1;38;2;0;188;112mlayer_2 >>> interaction\u001b[0m\n",
       "│   │   ├── \u001b[1;38;2;255;115;0mSimpleInteraction_0\u001b[0m\n",
       "│   │   │   ├── \u001b[1;38;2;56;114;0mSevenNetConv_0 >>> LazyInMLP_0\u001b[0m\n",
       "│   │   │   │   ├── \u001b[1;38;2;170;46;0mDense_0\u001b[0m\n",
       "│   │   │   │   │   └── \u001b[1;38;2;117;85;211m{...}\u001b[0m\n",
       "│   │   │   │   ├── \u001b[1;38;2;170;46;0mDense_1\u001b[0m\n",
       "│   │   │   │   │   └── \u001b[1;38;2;117;85;211m{...}\u001b[0m\n",
       "│   │   │   │   └── \u001b[1;38;2;170;46;0mDense_2\u001b[0m\n",
       "│   │   │   │       └── \u001b[1;38;2;117;85;211m{...}\u001b[0m\n",
       "│   │   │   ├── \u001b[1;38;2;56;114;0mlinear_intro\u001b[0m\n",
       "│   │   │   │   ├── \u001b[1;38;2;170;46;0mw[0,0] 128x0e,128x0e\u001b[0m\n",
       "│   │   │   │   │   └── \u001b[1;38;2;117;85;211mf32[128, 128]\u001b[0m\n",
       "│   │   │   │   ├── \u001b[1;38;2;170;46;0mw[1,1] 64x1e,64x1e\u001b[0m\n",
       "│   │   │   │   │   └── \u001b[1;38;2;117;85;211mf32[64, 64]\u001b[0m\n",
       "│   │   │   │   └── \u001b[1;38;2;170;46;0mw[2,2] 32x2e,32x2e\u001b[0m\n",
       "│   │   │   │       └── \u001b[1;38;2;117;85;211mf32[32, 32]\u001b[0m\n",
       "│   │   │   └── \u001b[1;38;2;56;114;0mlinear_outro\u001b[0m\n",
       "│   │   │       ├── \u001b[1;38;2;170;46;0mw[0,0] 224x0e,224x0e\u001b[0m\n",
       "│   │   │       │   └── \u001b[1;38;2;117;85;211mf32[224, 224]\u001b[0m\n",
       "│   │   │       ├── \u001b[1;38;2;170;46;0mw[1,1] 384x1e,64x1e\u001b[0m\n",
       "│   │   │       │   └── \u001b[1;38;2;117;85;211mf32[384, 64]\u001b[0m\n",
       "│   │   │       └── \u001b[1;38;2;170;46;0mw[2,2] 352x2e,32x2e\u001b[0m\n",
       "│   │   │           └── \u001b[1;38;2;117;85;211mf32[352, 32]\u001b[0m\n",
       "│   │   └── \u001b[1;38;2;255;115;0mresid_adapter\u001b[0m\n",
       "│   │       ├── \u001b[1;38;2;56;114;0mw[0,0] 128x0e,224x0e\u001b[0m\n",
       "│   │       │   └── \u001b[1;38;2;170;46;0mf32[128, 224]\u001b[0m\n",
       "│   │       ├── \u001b[1;38;2;56;114;0mw[1,1] 64x1e,64x1e\u001b[0m\n",
       "│   │       │   └── \u001b[1;38;2;170;46;0mf32[64, 64]\u001b[0m\n",
       "│   │       └── \u001b[1;38;2;56;114;0mw[2,2] 32x2e,32x2e\u001b[0m\n",
       "│   │           └── \u001b[1;38;2;170;46;0mf32[32, 32]\u001b[0m\n",
       "│   ├── \u001b[1;38;2;0;188;112mlayer_3 >>> interaction\u001b[0m\n",
       "│   │   ├── \u001b[1;38;2;255;115;0mSimpleInteraction_0\u001b[0m\n",
       "│   │   │   ├── \u001b[1;38;2;56;114;0mSevenNetConv_0 >>> LazyInMLP_0\u001b[0m\n",
       "│   │   │   │   ├── \u001b[1;38;2;170;46;0mDense_0\u001b[0m\n",
       "│   │   │   │   │   └── \u001b[1;38;2;117;85;211m{...}\u001b[0m\n",
       "│   │   │   │   ├── \u001b[1;38;2;170;46;0mDense_1\u001b[0m\n",
       "│   │   │   │   │   └── \u001b[1;38;2;117;85;211m{...}\u001b[0m\n",
       "│   │   │   │   └── \u001b[1;38;2;170;46;0mDense_2\u001b[0m\n",
       "│   │   │   │       └── \u001b[1;38;2;117;85;211m{...}\u001b[0m\n",
       "│   │   │   ├── \u001b[1;38;2;56;114;0mlinear_intro\u001b[0m\n",
       "│   │   │   │   ├── \u001b[1;38;2;170;46;0mw[0,0] 128x0e,128x0e\u001b[0m\n",
       "│   │   │   │   │   └── \u001b[1;38;2;117;85;211mf32[128, 128]\u001b[0m\n",
       "│   │   │   │   ├── \u001b[1;38;2;170;46;0mw[1,1] 64x1e,64x1e\u001b[0m\n",
       "│   │   │   │   │   └── \u001b[1;38;2;117;85;211mf32[64, 64]\u001b[0m\n",
       "│   │   │   │   └── \u001b[1;38;2;170;46;0mw[2,2] 32x2e,32x2e\u001b[0m\n",
       "│   │   │   │       └── \u001b[1;38;2;117;85;211mf32[32, 32]\u001b[0m\n",
       "│   │   │   └── \u001b[1;38;2;56;114;0mlinear_outro\u001b[0m\n",
       "│   │   │       ├── \u001b[1;38;2;170;46;0mw[0,0] 224x0e,224x0e\u001b[0m\n",
       "│   │   │       │   └── \u001b[1;38;2;117;85;211mf32[224, 224]\u001b[0m\n",
       "│   │   │       ├── \u001b[1;38;2;170;46;0mw[1,1] 384x1e,64x1e\u001b[0m\n",
       "│   │   │       │   └── \u001b[1;38;2;117;85;211mf32[384, 64]\u001b[0m\n",
       "│   │   │       └── \u001b[1;38;2;170;46;0mw[2,2] 352x2e,32x2e\u001b[0m\n",
       "│   │   │           └── \u001b[1;38;2;117;85;211mf32[352, 32]\u001b[0m\n",
       "│   │   └── \u001b[1;38;2;255;115;0mresid_adapter\u001b[0m\n",
       "│   │       ├── \u001b[1;38;2;56;114;0mw[0,0] 128x0e,224x0e\u001b[0m\n",
       "│   │       │   └── \u001b[1;38;2;170;46;0mf32[128, 224]\u001b[0m\n",
       "│   │       ├── \u001b[1;38;2;56;114;0mw[1,1] 64x1e,64x1e\u001b[0m\n",
       "│   │       │   └── \u001b[1;38;2;170;46;0mf32[64, 64]\u001b[0m\n",
       "│   │       └── \u001b[1;38;2;56;114;0mw[2,2] 32x2e,32x2e\u001b[0m\n",
       "│   │           └── \u001b[1;38;2;170;46;0mf32[32, 32]\u001b[0m\n",
       "│   └── \u001b[1;38;2;0;188;112mlayer_4 >>> interaction\u001b[0m\n",
       "│       ├── \u001b[1;38;2;255;115;0mSimpleInteraction_0\u001b[0m\n",
       "│       │   ├── \u001b[1;38;2;56;114;0mSevenNetConv_0 >>> LazyInMLP_0\u001b[0m\n",
       "│       │   │   ├── \u001b[1;38;2;170;46;0mDense_0\u001b[0m\n",
       "│       │   │   │   └── \u001b[1;38;2;117;85;211m{...}\u001b[0m\n",
       "│       │   │   ├── \u001b[1;38;2;170;46;0mDense_1\u001b[0m\n",
       "│       │   │   │   └── \u001b[1;38;2;117;85;211m{...}\u001b[0m\n",
       "│       │   │   └── \u001b[1;38;2;170;46;0mDense_2\u001b[0m\n",
       "│       │   │       └── \u001b[1;38;2;117;85;211m{...}\u001b[0m\n",
       "│       │   ├── \u001b[1;38;2;56;114;0mlinear_intro\u001b[0m\n",
       "│       │   │   ├── \u001b[1;38;2;170;46;0mw[0,0] 128x0e,128x0e\u001b[0m\n",
       "│       │   │   │   └── \u001b[1;38;2;117;85;211mf32[128, 128]\u001b[0m\n",
       "│       │   │   ├── \u001b[1;38;2;170;46;0mw[1,1] 64x1e,64x1e\u001b[0m\n",
       "│       │   │   │   └── \u001b[1;38;2;117;85;211mf32[64, 64]\u001b[0m\n",
       "│       │   │   └── \u001b[1;38;2;170;46;0mw[2,2] 32x2e,32x2e\u001b[0m\n",
       "│       │   │       └── \u001b[1;38;2;117;85;211mf32[32, 32]\u001b[0m\n",
       "│       │   └── \u001b[1;38;2;56;114;0mlinear_outro >>> w[0,0] 224x0e,128x0e\u001b[0m\n",
       "│       │       └── \u001b[1;38;2;170;46;0mf32[224, 128]\u001b[0m\n",
       "│       └── \u001b[1;38;2;255;115;0mresid_adapter >>> w[0,0] 128x0e,128x0e\u001b[0m\n",
       "│           └── \u001b[1;38;2;56;114;0mf32[128, 128]\u001b[0m\n",
       "├── \u001b[1;38;2;0;160;236mnode_embedding >>> embed >>> embedding\u001b[0m\n",
       "│   └── \u001b[1;38;2;0;188;112mf32[90, 128]\u001b[0m\n",
       "└── \u001b[1;38;2;0;160;236mrescale\u001b[0m\n",
       "    ├── \u001b[1;38;2;0;188;112mscale\u001b[0m\n",
       "    │   └── \u001b[1;38;2;255;115;0mf32[90]\u001b[0m\n",
       "    └── \u001b[1;38;2;0;188;112mshift\u001b[0m\n",
       "        └── \u001b[1;38;2;255;115;0mf32[90]\u001b[0m\n"
      ]
     },
     "metadata": {},
     "output_type": "display_data"
    }
   ],
   "source": [
    "from facet.utils import load_pytree, debug_structure\n",
    "\n",
    "ckpt = load_pytree('precomputed/sevennet.ckpt')\n",
    "debug_structure(ckpt);"
   ]
  },
  {
   "cell_type": "code",
   "execution_count": 4,
   "metadata": {},
   "outputs": [
    {
     "data": {
      "text/html": [
       "<pre style=\"white-space:pre;overflow-x:auto;line-height:normal;font-family:Menlo,'DejaVu Sans Mono',consolas,'Courier New',monospace\"></pre>\n"
      ],
      "text/plain": []
     },
     "metadata": {},
     "output_type": "display_data"
    },
    {
     "data": {
      "text/plain": [
       "\n",
       "\u001b[1;35mArray\u001b[0m\u001b[1m(\u001b[0m\u001b[1m[\u001b[0m \u001b[1;36m-7.8997445\u001b[0m,  \u001b[1;36m-6.8716917\u001b[0m,  \u001b[1;36m-5.961403\u001b[0m ,  \u001b[1;36m-4.283994\u001b[0m ,  \u001b[1;36m-5.1842265\u001b[0m,\n",
       "        \u001b[1;36m-8.966918\u001b[0m ,  \u001b[1;36m-5.315304\u001b[0m ,  \u001b[1;36m-7.450509\u001b[0m ,  \u001b[1;36m-5.53804\u001b[0m  ,  \u001b[1;36m-5.687567\u001b[0m ,\n",
       "        \u001b[1;36m-4.1991224\u001b[0m,  \u001b[1;36m-7.7113285\u001b[0m,  \u001b[1;36m-6.5472093\u001b[0m,  \u001b[1;36m-6.72607\u001b[0m  ,  \u001b[1;36m-5.081302\u001b[0m ,\n",
       "        \u001b[1;36m-7.1649303\u001b[0m,  \u001b[1;36m-5.8647666\u001b[0m,  \u001b[1;36m-6.5488596\u001b[0m,  \u001b[1;36m-6.1808586\u001b[0m,  \u001b[1;36m-5.2782817\u001b[0m,\n",
       "       \u001b[1;36m-10.373532\u001b[0m ,  \u001b[1;36m-4.054508\u001b[0m ,  \u001b[1;36m-8.35315\u001b[0m  ,  \u001b[1;36m-5.239945\u001b[0m ,  \u001b[1;36m-6.4754243\u001b[0m,\n",
       "        \u001b[1;36m-3.6816647\u001b[0m,  \u001b[1;36m-7.073906\u001b[0m ,  \u001b[1;36m-7.288776\u001b[0m ,  \u001b[1;36m-9.82559\u001b[0m  ,  \u001b[1;36m-5.912794\u001b[0m ,\n",
       "        \u001b[1;36m-7.044846\u001b[0m ,   \u001b[1;36m0\u001b[0m.       \u001b[1m]\u001b[0m, \u001b[33mdtype\u001b[0m=\u001b[35mfloat32\u001b[0m\u001b[1m)\u001b[0m"
      ]
     },
     "execution_count": 4,
     "metadata": {},
     "output_type": "execute_result"
    }
   ],
   "source": [
    "ctx = Context(training=False)\n",
    "rng = jax.random.key(29205)\n",
    "mod_ckpt = model.bind(ckpt)\n",
    "out = mod_ckpt(cg=cg, ctx=ctx)\n",
    "out.reshape(-1)"
   ]
  },
  {
   "cell_type": "code",
   "execution_count": 5,
   "metadata": {},
   "outputs": [
    {
     "data": {
      "text/html": [
       "<pre style=\"white-space:pre;overflow-x:auto;line-height:normal;font-family:Menlo,'DejaVu Sans Mono',consolas,'Courier New',monospace\"></pre>\n"
      ],
      "text/plain": []
     },
     "metadata": {},
     "output_type": "display_data"
    },
    {
     "data": {
      "text/plain": [
       "\n",
       "\u001b[1;35mArray\u001b[0m\u001b[1m(\u001b[0m\u001b[1m[\u001b[0m\u001b[1;36m0.6020485\u001b[0m , \u001b[1;36m0.6165761\u001b[0m , \u001b[1;36m0.6501528\u001b[0m , \u001b[1;36m0.66251516\u001b[0m, \u001b[1;36m0.6809077\u001b[0m ,\n",
       "       \u001b[1;36m0.694077\u001b[0m  , \u001b[1;36m0.7044778\u001b[0m \u001b[1m]\u001b[0m, \u001b[33mdtype\u001b[0m=\u001b[35mfloat32\u001b[0m\u001b[1m)\u001b[0m"
      ]
     },
     "execution_count": 5,
     "metadata": {},
     "output_type": "execute_result"
    }
   ],
   "source": [
    "jnp.diff(mod_ckpt.edge_embedding.basis.freq)"
   ]
  },
  {
   "cell_type": "code",
   "execution_count": 6,
   "metadata": {},
   "outputs": [
    {
     "data": {
      "text/html": [
       "<pre style=\"white-space:pre;overflow-x:auto;line-height:normal;font-family:Menlo,'DejaVu Sans Mono',consolas,'Courier New',monospace\"></pre>\n"
      ],
      "text/plain": []
     },
     "metadata": {},
     "output_type": "display_data"
    },
    {
     "data": {
      "image/png": "[encoded data removed]",
      "text/plain": [
       "\u001b[1m<\u001b[0m\u001b[1;95mFigure\u001b[0m\u001b[39m size 50\u001b[0m\u001b[1;36m0x500\u001b[0m\u001b[39m with \u001b[0m\u001b[1;36m1\u001b[0m\u001b[39m Axes\u001b[0m\u001b[1m>\u001b[0m"
      ]
     },
     "metadata": {},
     "output_type": "display_data"
    }
   ],
   "source": [
    "from facet.layers import dists\n",
    "\n",
    "rmax = config.model.edge_embed.r_max\n",
    "\n",
    "cg_dists = dists(cg)[cg.padding_mask[cg.nodes.graph_i]]\n",
    "cg_dists = cg_dists.reshape(-1)\n",
    "cg_dists = cg_dists[cg_dists < rmax]\n",
    "\n",
    "sns.displot(cg_dists)\n",
    "\n",
    "rr = jnp.quantile(cg_dists, jnp.linspace(0, 1, 128))"
   ]
  },
  {
   "cell_type": "code",
   "execution_count": 7,
   "metadata": {},
   "outputs": [
    {
     "name": "stdout",
     "output_type": "stream",
     "text": [
      "99.74%\n",
      "99.88%\n",
      "99.78%\n",
      "99.76%\n",
      "99.96%\n"
     ]
    }
   ],
   "source": [
    "from facet.mace.edge_embedding import BesselBasis, SincBasis\n",
    "\n",
    "trim_params = jax.tree.map(lambda x: x, ckpt)\n",
    "\n",
    "ckpt_basis = mod_ckpt.edge_embedding.basis\n",
    "ckpt_bb = ckpt_basis(rr, rmax, ctx)\n",
    "cutoff = mod_ckpt.edge_embedding.envelope(rr, rmax, ctx)[..., None]\n",
    "\n",
    "num_basis = 10\n",
    "basis = BesselBasis(num_basis, True).bind({'params': {'freq': jnp.hstack((ckpt_basis.freq, jnp.quantile(ckpt_basis.freq, jnp.linspace(0, 1, num_basis - ckpt_basis.num_basis + 2)[1:-1])))}})\n",
    "bb = basis(rr, rmax, ctx) * cutoff\n",
    "\n",
    "trim_params['params']['edge_embedding']['basis']['freq'] = basis.freq\n",
    "\n",
    "data = []\n",
    "\n",
    "new_weights = []\n",
    "\n",
    "for layer_i in range(5):\n",
    "    w_mlp_params = ckpt['params']['mace'][f'layer_{layer_i}']['interaction']['SimpleInteraction_0']['SevenNetConv_0']['LazyInMLP_0']    \n",
    "    w_mlp = mod_ckpt.mace.layers[layer_i].interaction.interaction.conv.radial_weight.copy(out_dim=w_mlp_params['Dense_2']['kernel'].shape[-1])\n",
    "\n",
    "    ww = w_mlp.apply({'params': w_mlp_params}, rngs=rng, x=ckpt_bb, ctx=ctx) * cutoff\n",
    "    # plt.plot(rr, ww, lw=0.3, alpha=0.2, c='grey')\n",
    "\n",
    "    x, resid, rank, s = jnp.linalg.lstsq(bb, ww)\n",
    "    ww_hat = bb @ x\n",
    "    ww_err = (ww - ww_hat)\n",
    "    r2 = 1 - (jnp.mean(jnp.square(ww_err)) / jnp.var(ww.reshape(-1))).item()\n",
    "    print(f'{r2:.2%}')\n",
    "    mlp_trim = trim_params['params']['mace'][f'layer_{layer_i}']['interaction']['SimpleInteraction_0']['SevenNetConv_0']['LazyInMLP_0']\n",
    "    for dense in list(mlp_trim.keys()):\n",
    "        if dense.startswith('Dense_'):\n",
    "            if dense == 'Dense_0':\n",
    "                mlp_trim[dense]['kernel'] = x    \n",
    "            else:\n",
    "                del mlp_trim[dense]\n",
    "\n",
    "    data.append({'mlp': ww, 'spline': ww_hat})"
   ]
  },
  {
   "cell_type": "code",
   "execution_count": 8,
   "metadata": {},
   "outputs": [],
   "source": [
    "np.save('data/sevennet_basis.npy', {\n",
    "    'cutoff': cutoff,\n",
    "    'basis': ckpt_bb,\n",
    "    'data': data,\n",
    "    'rr': rr,\n",
    "})"
   ]
  },
  {
   "cell_type": "code",
   "execution_count": 8,
   "metadata": {},
   "outputs": [
    {
     "name": "stdout",
     "output_type": "stream",
     "text": [
      "631358\n",
      "842748\n"
     ]
    }
   ],
   "source": [
    "from operator import add\n",
    "print(jax.tree.reduce(add, jax.tree.map(lambda x: x.size, trim_params)))\n",
    "print(jax.tree.reduce(add, jax.tree.map(lambda x: x.size, ckpt)))"
   ]
  },
  {
   "cell_type": "code",
   "execution_count": 9,
   "metadata": {},
   "outputs": [],
   "source": [
    "from facet.utils import save_pytree\n",
    "\n",
    "\n",
    "save_pytree(trim_params, 'precomputed/sevennet-trimmed.ckpt')"
   ]
  },
  {
   "cell_type": "code",
   "execution_count": null,
   "metadata": {},
   "outputs": [],
   "source": []
  }
 ],
 "metadata": {
  "kernelspec": {
   "display_name": "avid",
   "language": "python",
   "name": "python3"
  },
  "language_info": {
   "codemirror_mode": {
    "name": "ipython",
    "version": 3
   },
   "file_extension": ".py",
   "mimetype": "text/x-python",
   "name": "python",
   "nbconvert_exporter": "python",
   "pygments_lexer": "ipython3",
   "version": "3.12.0"
  }
 },
 "nbformat": 4,
 "nbformat_minor": 2
}
