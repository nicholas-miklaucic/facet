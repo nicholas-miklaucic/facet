{
 "cells": [
  {
   "cell_type": "code",
   "execution_count": 1,
   "metadata": {},
   "outputs": [],
   "source": [
    "import os\n",
    "\n",
    "os.environ['JAX_BACKEND'] = 'cpu'\n",
    "os.environ['CUDA_VISIBLE_DEVICES'] = ''\n",
    "\n",
    "import numpy as np\n",
    "import pandas as pd\n",
    "import plotly.express as px\n",
    "import matplotlib.pyplot as plt\n",
    "import seaborn as sns\n",
    "import rho_plus as rp\n",
    "import jax\n",
    "import jax.numpy as jnp\n",
    "\n",
    "is_dark = False\n",
    "theme, cs = rp.mpl_setup(is_dark)"
   ]
  },
  {
   "cell_type": "code",
   "execution_count": 69,
   "metadata": {},
   "outputs": [
    {
     "data": {
      "text/html": [
       "<div>\n",
       "<style scoped>\n",
       "    .dataframe tbody tr th:only-of-type {\n",
       "        vertical-align: middle;\n",
       "    }\n",
       "\n",
       "    .dataframe tbody tr th {\n",
       "        vertical-align: top;\n",
       "    }\n",
       "\n",
       "    .dataframe thead th {\n",
       "        text-align: right;\n",
       "    }\n",
       "</style>\n",
       "<table border=\"1\" class=\"dataframe\">\n",
       "  <thead>\n",
       "    <tr style=\"text-align: right;\">\n",
       "      <th></th>\n",
       "      <th>energy</th>\n",
       "      <th>dataset-id</th>\n",
       "      <th>structure</th>\n",
       "      <th>num_atoms</th>\n",
       "    </tr>\n",
       "  </thead>\n",
       "  <tbody>\n",
       "    <tr>\n",
       "      <th>21491</th>\n",
       "      <td>-22.662623</td>\n",
       "      <td>mp-29009-GGA</td>\n",
       "      <td>[[-1.9651475  2.7845605 -1.945269 ] Li, [-1.96...</td>\n",
       "      <td>7</td>\n",
       "    </tr>\n",
       "    <tr>\n",
       "      <th>21501</th>\n",
       "      <td>-155.189982</td>\n",
       "      <td>mp-569811-GGA</td>\n",
       "      <td>[[-2.18038997  5.45096927  6.22349347] Yb, [ 0...</td>\n",
       "      <td>42</td>\n",
       "    </tr>\n",
       "    <tr>\n",
       "      <th>21511</th>\n",
       "      <td>-24.561668</td>\n",
       "      <td>mp-1100408-GGA</td>\n",
       "      <td>[[3.101555 3.101555 3.101555] Ta, [0. 0. 0.] S...</td>\n",
       "      <td>3</td>\n",
       "    </tr>\n",
       "    <tr>\n",
       "      <th>21521</th>\n",
       "      <td>-16.659670</td>\n",
       "      <td>mp-984335-GGA</td>\n",
       "      <td>[[0. 0. 0.] Pm, [3.81317 3.81317 3.81317] Er, ...</td>\n",
       "      <td>4</td>\n",
       "    </tr>\n",
       "    <tr>\n",
       "      <th>21531</th>\n",
       "      <td>-30.525177</td>\n",
       "      <td>mp-866110-GGA</td>\n",
       "      <td>[[1.6970065 1.6970065 1.6970065] Ho, [5.091019...</td>\n",
       "      <td>4</td>\n",
       "    </tr>\n",
       "    <tr>\n",
       "      <th>...</th>\n",
       "      <td>...</td>\n",
       "      <td>...</td>\n",
       "      <td>...</td>\n",
       "      <td>...</td>\n",
       "    </tr>\n",
       "    <tr>\n",
       "      <th>25741</th>\n",
       "      <td>-58.996721</td>\n",
       "      <td>mp-1080493-GGA</td>\n",
       "      <td>[[4.102842 4.102842 0.      ] Y, [0. 0. 0.] Y,...</td>\n",
       "      <td>10</td>\n",
       "    </tr>\n",
       "    <tr>\n",
       "      <th>25751</th>\n",
       "      <td>-329.446307</td>\n",
       "      <td>mp-1212422-GGA</td>\n",
       "      <td>[[4.274085   2.46764894 2.04299125] Ho, [ 4.27...</td>\n",
       "      <td>44</td>\n",
       "    </tr>\n",
       "    <tr>\n",
       "      <th>25761</th>\n",
       "      <td>-226.025037</td>\n",
       "      <td>mp-27800-GGA</td>\n",
       "      <td>[[0. 0. 0.] K, [5.551665 5.551665 5.551665] K,...</td>\n",
       "      <td>54</td>\n",
       "    </tr>\n",
       "    <tr>\n",
       "      <th>25771</th>\n",
       "      <td>-98.238141</td>\n",
       "      <td>mp-1201758-GGA</td>\n",
       "      <td>[[2.719352   6.89613527 2.2110595 ] K, [2.7193...</td>\n",
       "      <td>32</td>\n",
       "    </tr>\n",
       "    <tr>\n",
       "      <th>25781</th>\n",
       "      <td>-13.485841</td>\n",
       "      <td>mp-2384-GGA</td>\n",
       "      <td>[[0. 0. 0.] La, [3.025454 3.025454 3.025454] P]</td>\n",
       "      <td>2</td>\n",
       "    </tr>\n",
       "  </tbody>\n",
       "</table>\n",
       "<p>430 rows × 4 columns</p>\n",
       "</div>"
      ],
      "text/plain": [
       "           energy      dataset-id  \\\n",
       "21491  -22.662623    mp-29009-GGA   \n",
       "21501 -155.189982   mp-569811-GGA   \n",
       "21511  -24.561668  mp-1100408-GGA   \n",
       "21521  -16.659670   mp-984335-GGA   \n",
       "21531  -30.525177   mp-866110-GGA   \n",
       "...           ...             ...   \n",
       "25741  -58.996721  mp-1080493-GGA   \n",
       "25751 -329.446307  mp-1212422-GGA   \n",
       "25761 -226.025037    mp-27800-GGA   \n",
       "25771  -98.238141  mp-1201758-GGA   \n",
       "25781  -13.485841     mp-2384-GGA   \n",
       "\n",
       "                                               structure  num_atoms  \n",
       "21491  [[-1.9651475  2.7845605 -1.945269 ] Li, [-1.96...          7  \n",
       "21501  [[-2.18038997  5.45096927  6.22349347] Yb, [ 0...         42  \n",
       "21511  [[3.101555 3.101555 3.101555] Ta, [0. 0. 0.] S...          3  \n",
       "21521  [[0. 0. 0.] Pm, [3.81317 3.81317 3.81317] Er, ...          4  \n",
       "21531  [[1.6970065 1.6970065 1.6970065] Ho, [5.091019...          4  \n",
       "...                                                  ...        ...  \n",
       "25741  [[4.102842 4.102842 0.      ] Y, [0. 0. 0.] Y,...         10  \n",
       "25751  [[4.274085   2.46764894 2.04299125] Ho, [ 4.27...         44  \n",
       "25761  [[0. 0. 0.] K, [5.551665 5.551665 5.551665] K,...         54  \n",
       "25771  [[2.719352   6.89613527 2.2110595 ] K, [2.7193...         32  \n",
       "25781    [[0. 0. 0.] La, [3.025454 3.025454 3.025454] P]          2  \n",
       "\n",
       "[430 rows x 4 columns]"
      ]
     },
     "execution_count": 69,
     "metadata": {},
     "output_type": "execute_result"
    }
   ],
   "source": [
    "df = pd.read_pickle('~/cdv/precomputed/mp2022/raw/batch_0005.pkl').iloc[1::10]\n",
    "df"
   ]
  },
  {
   "cell_type": "code",
   "execution_count": 70,
   "metadata": {},
   "outputs": [
    {
     "data": {
      "text/plain": [
       "147"
      ]
     },
     "execution_count": 70,
     "metadata": {},
     "output_type": "execute_result"
    }
   ],
   "source": [
    "samp_i = np.where(df['dataset-id'].str.contains('1207373'))[0].item()\n",
    "samp_i"
   ]
  },
  {
   "cell_type": "code",
   "execution_count": null,
   "metadata": {},
   "outputs": [],
   "source": []
  },
  {
   "cell_type": "code",
   "execution_count": 71,
   "metadata": {},
   "outputs": [
    {
     "name": "stderr",
     "output_type": "stream",
     "text": [
      "100%|██████████| 430/430 [00:02<00:00, 169.59it/s]\n"
     ]
    }
   ],
   "source": [
    "from tqdm import tqdm\n",
    "def knn_graph(struct, r_start=8, k=32):\n",
    "    \"\"\"returns (ijs, ims)\n",
    "    ijs: nodes k\n",
    "    ims: nodes k 3\"\"\"\n",
    "    if r_start > 100:\n",
    "        raise ValueError()\n",
    "    graph_ijs = []\n",
    "    graph_ims = []\n",
    "    r = r_start\n",
    "    for i, nbs in enumerate(struct.get_all_neighbors(r)):\n",
    "        if len(nbs) < k:\n",
    "            # print('Not enough neighbors, using r =', 2 * r_start)\n",
    "            return knn_graph(struct, r_start=r * 2, k=k)\n",
    "        \n",
    "        sites, dists, idxs, ims = zip(*nbs)\n",
    "            \n",
    "        chosen = np.argsort(dists)[:k]\n",
    "        # if i == 0:\n",
    "        #     print(dists[chosen[-1]])\n",
    "\n",
    "        graph_ijs.append(np.array(idxs)[chosen])\n",
    "        graph_ims.append(np.array(ims)[chosen])\n",
    "\n",
    "    graph_ijs = np.stack(graph_ijs).astype(np.uint16)\n",
    "    graph_ims = np.stack(graph_ims).astype(np.int8)\n",
    "\n",
    "    return {'ims': np.array(graph_ims), 'ijs': np.array(graph_ijs)}\n",
    "\n",
    "knns = [knn_graph(struct) for struct in tqdm(df.structure)]"
   ]
  },
  {
   "cell_type": "code",
   "execution_count": 133,
   "metadata": {},
   "outputs": [
    {
     "name": "stdout",
     "output_type": "stream",
     "text": [
      "[9 8 7 6 3 3 2 2 8 9 6 7 2 2 3 3 6 7 9 8 6 7 8 9 0 0 0 0 0 0 7 6]\n",
      "[[ 0 -1  0 -1  0  0  0 -1 -1  0  0 -1  0 -1 -1  1 -1  0  1 -2  0 -1  0 -1\n",
      "   0  0  1 -1  1 -1  0 -1]\n",
      " [-1  0  0 -1  0 -1  0 -1 -1  0  0 -1 -1  0 -1  0  0 -1  0 -1 -1  0  0 -1\n",
      "  -1  1  1 -1  0  0  1 -2]\n",
      " [ 0  0  0  0  0  0  0  0  0  0  0  0  0  0  0  0  0  0  0  0  0  0  0  0\n",
      "   0  0  0  0  0  0  0  0]]\n"
     ]
    },
    {
     "data": {
      "text/plain": [
       "Structure Summary\n",
       "Lattice\n",
       "    abc : 12.598555442264118 11.914951581202272 64.57172939\n",
       " angles : 90.0 90.0 121.9167699230599\n",
       " volume : 8227.530698238736\n",
       "      A : -6.29927778 -10.91066903 0.0\n",
       "      B : -5.60900714 10.51214108 0.0\n",
       "      C : 0.0 0.0 -64.57172939\n",
       "    pbc : True True True\n",
       "PeriodicSite: Na (0.0, 0.0, 0.0) [0.0, 0.0, 0.0]\n",
       "PeriodicSite: Sm (0.0, 0.0, -32.29) [0.0, 0.0, 0.5]\n",
       "PeriodicSite: Sm (-5.954, -0.1993, 0.0) [0.5, 0.5, 0.0]\n",
       "PeriodicSite: Sm (-2.805, 5.256, 0.0) [0.0, 0.5, 0.0]\n",
       "PeriodicSite: Te (0.0, 0.0, -49.66) [0.0, 0.0, 0.769]\n",
       "PeriodicSite: Te (0.0, 0.0, -14.92) [0.0, 0.0, 0.231]\n",
       "PeriodicSite: Te (-8.794, -0.2656, 0.0) [0.7372, 0.7399, 0.0]\n",
       "PeriodicSite: Te (-3.115, -0.133, 0.0) [0.2628, 0.2601, 0.0]\n",
       "PeriodicSite: Te (-7.742, -8.147, 0.0) [0.9973, 0.2601, 0.0]\n",
       "PeriodicSite: Te (-4.167, 7.748, 0.0) [0.002684, 0.7399, 0.0]"
      ]
     },
     "execution_count": 133,
     "metadata": {},
     "output_type": "execute_result"
    }
   ],
   "source": [
    "atom_i = 0\n",
    "ij = knns[samp_i]['ijs'][atom_i]\n",
    "im = knns[samp_i]['ims'][atom_i]\n",
    "print(ij)\n",
    "print(im.T)\n",
    "\n",
    "struct = df.structure.iloc[samp_i]\n",
    "struct"
   ]
  },
  {
   "cell_type": "code",
   "execution_count": 135,
   "metadata": {},
   "outputs": [
    {
     "data": {
      "application/vnd.plotly.v1+json": {
       "config": {
        "plotlyServerURL": "https://plot.ly"
       },
       "data": [
        {
         "hovertemplate": "color=9<br>x=%{x}<br>y=%{y}<br>z=%{z}<extra></extra>",
         "legendgroup": "9",
         "marker": {
          "color": "#636efa",
          "symbol": "circle"
         },
         "mode": "markers",
         "name": "9",
         "scene": "scene",
         "showlegend": true,
         "type": "scatter3d",
         "x": [
          1.4422371031008252,
          -4.166770036899175,
          -10.466047816899174,
          7.741514883100825
         ],
         "y": [
          -2.763944031588432,
          7.748197048411567,
          -3.162471981588432,
          8.146724998411567
         ],
         "z": [
          0,
          0,
          0,
          0
         ]
        },
        {
         "hovertemplate": "color=8<br>x=%{x}<br>y=%{y}<br>z=%{z}<extra></extra>",
         "legendgroup": "8",
         "marker": {
          "color": "#EF553B",
          "symbol": "circle"
         },
         "mode": "markers",
         "name": "8",
         "scene": "scene",
         "showlegend": true,
         "type": "scatter3d",
         "x": [
          -1.4422371031008252,
          4.166770036899175,
          10.466047816899176,
          -7.741514883100825
         ],
         "y": [
          2.763944031588432,
          -7.748197048411567,
          3.162471981588432,
          -8.146724998411567
         ],
         "z": [
          0,
          0,
          0,
          0
         ]
        },
        {
         "hovertemplate": "color=7<br>x=%{x}<br>y=%{y}<br>z=%{z}<extra></extra>",
         "legendgroup": "7",
         "marker": {
          "color": "#00cc96",
          "symbol": "circle"
         },
         "mode": "markers",
         "name": "7",
         "scene": "scene",
         "showlegend": true,
         "type": "scatter3d",
         "x": [
          -3.114764330782516,
          8.793520589217483,
          2.494242809217484,
          3.1845134492174836,
          -8.723771470782516
         ],
         "y": [
          -0.1329580677024471,
          0.26556988229755296,
          -10.645099147702446,
          10.777710962297553,
          10.379183012297553
         ],
         "z": [
          0,
          0,
          0,
          0,
          0
         ]
        },
        {
         "hovertemplate": "color=6<br>x=%{x}<br>y=%{y}<br>z=%{z}<extra></extra>",
         "legendgroup": "6",
         "marker": {
          "color": "#ab63fa",
          "symbol": "circle"
         },
         "mode": "markers",
         "name": "6",
         "scene": "scene",
         "showlegend": true,
         "type": "scatter3d",
         "x": [
          3.114764330782517,
          -8.793520589217483,
          -2.494242809217483,
          -3.1845134492174827,
          8.723771470782516
         ],
         "y": [
          0.13295806770244667,
          -0.2655698822975534,
          10.645099147702446,
          -10.777710962297553,
          -10.379183012297553
         ],
         "z": [
          0,
          0,
          0,
          0,
          0
         ]
        },
        {
         "hovertemplate": "color=3<br>x=%{x}<br>y=%{y}<br>z=%{z}<extra></extra>",
         "legendgroup": "3",
         "marker": {
          "color": "#FFA15A",
          "symbol": "circle"
         },
         "mode": "markers",
         "name": "3",
         "scene": "scene",
         "showlegend": true,
         "type": "scatter3d",
         "x": [
          -2.80450357,
          2.80450357,
          9.10378135,
          -9.10378135
         ],
         "y": [
          5.25607054,
          -5.25607054,
          5.65459849,
          -5.65459849
         ],
         "z": [
          0,
          0,
          0,
          0
         ]
        },
        {
         "hovertemplate": "color=2<br>x=%{x}<br>y=%{y}<br>z=%{z}<extra></extra>",
         "legendgroup": "2",
         "marker": {
          "color": "#19d3f3",
          "symbol": "circle"
         },
         "mode": "markers",
         "name": "2",
         "scene": "scene",
         "showlegend": true,
         "type": "scatter3d",
         "x": [
          -5.95414246,
          5.95414246,
          -0.3451353199999998,
          0.3451353199999998
         ],
         "y": [
          -0.19926397500000004,
          0.19926397500000004,
          -10.711405055,
          10.711405055
         ],
         "z": [
          0,
          0,
          0,
          0
         ]
        },
        {
         "hovertemplate": "color=0<br>x=%{x}<br>y=%{y}<br>z=%{z}<extra></extra>",
         "legendgroup": "0",
         "marker": {
          "color": "#FF6692",
          "symbol": "circle"
         },
         "mode": "markers",
         "name": "0",
         "scene": "scene",
         "showlegend": true,
         "type": "scatter3d",
         "x": [
          5.60900714,
          -5.60900714,
          -11.90828492,
          11.90828492,
          -6.29927778,
          6.29927778
         ],
         "y": [
          -10.51214108,
          10.51214108,
          -0.3985279500000001,
          0.3985279500000001,
          -10.91066903,
          10.91066903
         ],
         "z": [
          0,
          0,
          0,
          0,
          0,
          0
         ]
        }
       ],
       "layout": {
        "legend": {
         "title": {
          "text": "color"
         },
         "tracegroupgap": 0
        },
        "margin": {
         "t": 60
        },
        "scene": {
         "domain": {
          "x": [
           0,
           1
          ],
          "y": [
           0,
           1
          ]
         },
         "xaxis": {
          "title": {
           "text": "x"
          }
         },
         "yaxis": {
          "title": {
           "text": "y"
          }
         },
         "zaxis": {
          "title": {
           "text": "z"
          }
         }
        },
        "template": {
         "data": {
          "bar": [
           {
            "error_x": {
             "color": "#2a3f5f"
            },
            "error_y": {
             "color": "#2a3f5f"
            },
            "marker": {
             "line": {
              "color": "#E5ECF6",
              "width": 0.5
             },
             "pattern": {
              "fillmode": "overlay",
              "size": 10,
              "solidity": 0.2
             }
            },
            "type": "bar"
           }
          ],
          "barpolar": [
           {
            "marker": {
             "line": {
              "color": "#E5ECF6",
              "width": 0.5
             },
             "pattern": {
              "fillmode": "overlay",
              "size": 10,
              "solidity": 0.2
             }
            },
            "type": "barpolar"
           }
          ],
          "carpet": [
           {
            "aaxis": {
             "endlinecolor": "#2a3f5f",
             "gridcolor": "white",
             "linecolor": "white",
             "minorgridcolor": "white",
             "startlinecolor": "#2a3f5f"
            },
            "baxis": {
             "endlinecolor": "#2a3f5f",
             "gridcolor": "white",
             "linecolor": "white",
             "minorgridcolor": "white",
             "startlinecolor": "#2a3f5f"
            },
            "type": "carpet"
           }
          ],
          "choropleth": [
           {
            "colorbar": {
             "outlinewidth": 0,
             "ticks": ""
            },
            "type": "choropleth"
           }
          ],
          "contour": [
           {
            "colorbar": {
             "outlinewidth": 0,
             "ticks": ""
            },
            "colorscale": [
             [
              0,
              "#0d0887"
             ],
             [
              0.1111111111111111,
              "#46039f"
             ],
             [
              0.2222222222222222,
              "#7201a8"
             ],
             [
              0.3333333333333333,
              "#9c179e"
             ],
             [
              0.4444444444444444,
              "#bd3786"
             ],
             [
              0.5555555555555556,
              "#d8576b"
             ],
             [
              0.6666666666666666,
              "#ed7953"
             ],
             [
              0.7777777777777778,
              "#fb9f3a"
             ],
             [
              0.8888888888888888,
              "#fdca26"
             ],
             [
              1,
              "#f0f921"
             ]
            ],
            "type": "contour"
           }
          ],
          "contourcarpet": [
           {
            "colorbar": {
             "outlinewidth": 0,
             "ticks": ""
            },
            "type": "contourcarpet"
           }
          ],
          "heatmap": [
           {
            "colorbar": {
             "outlinewidth": 0,
             "ticks": ""
            },
            "colorscale": [
             [
              0,
              "#0d0887"
             ],
             [
              0.1111111111111111,
              "#46039f"
             ],
             [
              0.2222222222222222,
              "#7201a8"
             ],
             [
              0.3333333333333333,
              "#9c179e"
             ],
             [
              0.4444444444444444,
              "#bd3786"
             ],
             [
              0.5555555555555556,
              "#d8576b"
             ],
             [
              0.6666666666666666,
              "#ed7953"
             ],
             [
              0.7777777777777778,
              "#fb9f3a"
             ],
             [
              0.8888888888888888,
              "#fdca26"
             ],
             [
              1,
              "#f0f921"
             ]
            ],
            "type": "heatmap"
           }
          ],
          "heatmapgl": [
           {
            "colorbar": {
             "outlinewidth": 0,
             "ticks": ""
            },
            "colorscale": [
             [
              0,
              "#0d0887"
             ],
             [
              0.1111111111111111,
              "#46039f"
             ],
             [
              0.2222222222222222,
              "#7201a8"
             ],
             [
              0.3333333333333333,
              "#9c179e"
             ],
             [
              0.4444444444444444,
              "#bd3786"
             ],
             [
              0.5555555555555556,
              "#d8576b"
             ],
             [
              0.6666666666666666,
              "#ed7953"
             ],
             [
              0.7777777777777778,
              "#fb9f3a"
             ],
             [
              0.8888888888888888,
              "#fdca26"
             ],
             [
              1,
              "#f0f921"
             ]
            ],
            "type": "heatmapgl"
           }
          ],
          "histogram": [
           {
            "marker": {
             "pattern": {
              "fillmode": "overlay",
              "size": 10,
              "solidity": 0.2
             }
            },
            "type": "histogram"
           }
          ],
          "histogram2d": [
           {
            "colorbar": {
             "outlinewidth": 0,
             "ticks": ""
            },
            "colorscale": [
             [
              0,
              "#0d0887"
             ],
             [
              0.1111111111111111,
              "#46039f"
             ],
             [
              0.2222222222222222,
              "#7201a8"
             ],
             [
              0.3333333333333333,
              "#9c179e"
             ],
             [
              0.4444444444444444,
              "#bd3786"
             ],
             [
              0.5555555555555556,
              "#d8576b"
             ],
             [
              0.6666666666666666,
              "#ed7953"
             ],
             [
              0.7777777777777778,
              "#fb9f3a"
             ],
             [
              0.8888888888888888,
              "#fdca26"
             ],
             [
              1,
              "#f0f921"
             ]
            ],
            "type": "histogram2d"
           }
          ],
          "histogram2dcontour": [
           {
            "colorbar": {
             "outlinewidth": 0,
             "ticks": ""
            },
            "colorscale": [
             [
              0,
              "#0d0887"
             ],
             [
              0.1111111111111111,
              "#46039f"
             ],
             [
              0.2222222222222222,
              "#7201a8"
             ],
             [
              0.3333333333333333,
              "#9c179e"
             ],
             [
              0.4444444444444444,
              "#bd3786"
             ],
             [
              0.5555555555555556,
              "#d8576b"
             ],
             [
              0.6666666666666666,
              "#ed7953"
             ],
             [
              0.7777777777777778,
              "#fb9f3a"
             ],
             [
              0.8888888888888888,
              "#fdca26"
             ],
             [
              1,
              "#f0f921"
             ]
            ],
            "type": "histogram2dcontour"
           }
          ],
          "mesh3d": [
           {
            "colorbar": {
             "outlinewidth": 0,
             "ticks": ""
            },
            "type": "mesh3d"
           }
          ],
          "parcoords": [
           {
            "line": {
             "colorbar": {
              "outlinewidth": 0,
              "ticks": ""
             }
            },
            "type": "parcoords"
           }
          ],
          "pie": [
           {
            "automargin": true,
            "type": "pie"
           }
          ],
          "scatter": [
           {
            "fillpattern": {
             "fillmode": "overlay",
             "size": 10,
             "solidity": 0.2
            },
            "type": "scatter"
           }
          ],
          "scatter3d": [
           {
            "line": {
             "colorbar": {
              "outlinewidth": 0,
              "ticks": ""
             }
            },
            "marker": {
             "colorbar": {
              "outlinewidth": 0,
              "ticks": ""
             }
            },
            "type": "scatter3d"
           }
          ],
          "scattercarpet": [
           {
            "marker": {
             "colorbar": {
              "outlinewidth": 0,
              "ticks": ""
             }
            },
            "type": "scattercarpet"
           }
          ],
          "scattergeo": [
           {
            "marker": {
             "colorbar": {
              "outlinewidth": 0,
              "ticks": ""
             }
            },
            "type": "scattergeo"
           }
          ],
          "scattergl": [
           {
            "marker": {
             "colorbar": {
              "outlinewidth": 0,
              "ticks": ""
             }
            },
            "type": "scattergl"
           }
          ],
          "scattermapbox": [
           {
            "marker": {
             "colorbar": {
              "outlinewidth": 0,
              "ticks": ""
             }
            },
            "type": "scattermapbox"
           }
          ],
          "scatterpolar": [
           {
            "marker": {
             "colorbar": {
              "outlinewidth": 0,
              "ticks": ""
             }
            },
            "type": "scatterpolar"
           }
          ],
          "scatterpolargl": [
           {
            "marker": {
             "colorbar": {
              "outlinewidth": 0,
              "ticks": ""
             }
            },
            "type": "scatterpolargl"
           }
          ],
          "scatterternary": [
           {
            "marker": {
             "colorbar": {
              "outlinewidth": 0,
              "ticks": ""
             }
            },
            "type": "scatterternary"
           }
          ],
          "surface": [
           {
            "colorbar": {
             "outlinewidth": 0,
             "ticks": ""
            },
            "colorscale": [
             [
              0,
              "#0d0887"
             ],
             [
              0.1111111111111111,
              "#46039f"
             ],
             [
              0.2222222222222222,
              "#7201a8"
             ],
             [
              0.3333333333333333,
              "#9c179e"
             ],
             [
              0.4444444444444444,
              "#bd3786"
             ],
             [
              0.5555555555555556,
              "#d8576b"
             ],
             [
              0.6666666666666666,
              "#ed7953"
             ],
             [
              0.7777777777777778,
              "#fb9f3a"
             ],
             [
              0.8888888888888888,
              "#fdca26"
             ],
             [
              1,
              "#f0f921"
             ]
            ],
            "type": "surface"
           }
          ],
          "table": [
           {
            "cells": {
             "fill": {
              "color": "#EBF0F8"
             },
             "line": {
              "color": "white"
             }
            },
            "header": {
             "fill": {
              "color": "#C8D4E3"
             },
             "line": {
              "color": "white"
             }
            },
            "type": "table"
           }
          ]
         },
         "layout": {
          "annotationdefaults": {
           "arrowcolor": "#2a3f5f",
           "arrowhead": 0,
           "arrowwidth": 1
          },
          "autotypenumbers": "strict",
          "coloraxis": {
           "colorbar": {
            "outlinewidth": 0,
            "ticks": ""
           }
          },
          "colorscale": {
           "diverging": [
            [
             0,
             "#8e0152"
            ],
            [
             0.1,
             "#c51b7d"
            ],
            [
             0.2,
             "#de77ae"
            ],
            [
             0.3,
             "#f1b6da"
            ],
            [
             0.4,
             "#fde0ef"
            ],
            [
             0.5,
             "#f7f7f7"
            ],
            [
             0.6,
             "#e6f5d0"
            ],
            [
             0.7,
             "#b8e186"
            ],
            [
             0.8,
             "#7fbc41"
            ],
            [
             0.9,
             "#4d9221"
            ],
            [
             1,
             "#276419"
            ]
           ],
           "sequential": [
            [
             0,
             "#0d0887"
            ],
            [
             0.1111111111111111,
             "#46039f"
            ],
            [
             0.2222222222222222,
             "#7201a8"
            ],
            [
             0.3333333333333333,
             "#9c179e"
            ],
            [
             0.4444444444444444,
             "#bd3786"
            ],
            [
             0.5555555555555556,
             "#d8576b"
            ],
            [
             0.6666666666666666,
             "#ed7953"
            ],
            [
             0.7777777777777778,
             "#fb9f3a"
            ],
            [
             0.8888888888888888,
             "#fdca26"
            ],
            [
             1,
             "#f0f921"
            ]
           ],
           "sequentialminus": [
            [
             0,
             "#0d0887"
            ],
            [
             0.1111111111111111,
             "#46039f"
            ],
            [
             0.2222222222222222,
             "#7201a8"
            ],
            [
             0.3333333333333333,
             "#9c179e"
            ],
            [
             0.4444444444444444,
             "#bd3786"
            ],
            [
             0.5555555555555556,
             "#d8576b"
            ],
            [
             0.6666666666666666,
             "#ed7953"
            ],
            [
             0.7777777777777778,
             "#fb9f3a"
            ],
            [
             0.8888888888888888,
             "#fdca26"
            ],
            [
             1,
             "#f0f921"
            ]
           ]
          },
          "colorway": [
           "#636efa",
           "#EF553B",
           "#00cc96",
           "#ab63fa",
           "#FFA15A",
           "#19d3f3",
           "#FF6692",
           "#B6E880",
           "#FF97FF",
           "#FECB52"
          ],
          "font": {
           "color": "#2a3f5f"
          },
          "geo": {
           "bgcolor": "white",
           "lakecolor": "white",
           "landcolor": "#E5ECF6",
           "showlakes": true,
           "showland": true,
           "subunitcolor": "white"
          },
          "hoverlabel": {
           "align": "left"
          },
          "hovermode": "closest",
          "mapbox": {
           "style": "light"
          },
          "paper_bgcolor": "white",
          "plot_bgcolor": "#E5ECF6",
          "polar": {
           "angularaxis": {
            "gridcolor": "white",
            "linecolor": "white",
            "ticks": ""
           },
           "bgcolor": "#E5ECF6",
           "radialaxis": {
            "gridcolor": "white",
            "linecolor": "white",
            "ticks": ""
           }
          },
          "scene": {
           "xaxis": {
            "backgroundcolor": "#E5ECF6",
            "gridcolor": "white",
            "gridwidth": 2,
            "linecolor": "white",
            "showbackground": true,
            "ticks": "",
            "zerolinecolor": "white"
           },
           "yaxis": {
            "backgroundcolor": "#E5ECF6",
            "gridcolor": "white",
            "gridwidth": 2,
            "linecolor": "white",
            "showbackground": true,
            "ticks": "",
            "zerolinecolor": "white"
           },
           "zaxis": {
            "backgroundcolor": "#E5ECF6",
            "gridcolor": "white",
            "gridwidth": 2,
            "linecolor": "white",
            "showbackground": true,
            "ticks": "",
            "zerolinecolor": "white"
           }
          },
          "shapedefaults": {
           "line": {
            "color": "#2a3f5f"
           }
          },
          "ternary": {
           "aaxis": {
            "gridcolor": "white",
            "linecolor": "white",
            "ticks": ""
           },
           "baxis": {
            "gridcolor": "white",
            "linecolor": "white",
            "ticks": ""
           },
           "bgcolor": "#E5ECF6",
           "caxis": {
            "gridcolor": "white",
            "linecolor": "white",
            "ticks": ""
           }
          },
          "title": {
           "x": 0.05
          },
          "xaxis": {
           "automargin": true,
           "gridcolor": "white",
           "linecolor": "white",
           "ticks": "",
           "title": {
            "standoff": 15
           },
           "zerolinecolor": "white",
           "zerolinewidth": 2
          },
          "yaxis": {
           "automargin": true,
           "gridcolor": "white",
           "linecolor": "white",
           "ticks": "",
           "title": {
            "standoff": 15
           },
           "zerolinecolor": "white",
           "zerolinewidth": 2
          }
         }
        }
       }
      },
      "text/html": [
       "<div>                            <div id=\"e19446b9-2cbf-4bac-9b44-1242b178ac1b\" class=\"plotly-graph-div\" style=\"height:525px; width:100%;\"></div>            <script type=\"text/javascript\">                require([\"plotly\"], function(Plotly) {                    window.PLOTLYENV=window.PLOTLYENV || {};                                    if (document.getElementById(\"e19446b9-2cbf-4bac-9b44-1242b178ac1b\")) {                    Plotly.newPlot(                        \"e19446b9-2cbf-4bac-9b44-1242b178ac1b\",                        [{\"hovertemplate\":\"color=9\\u003cbr\\u003ex=%{x}\\u003cbr\\u003ey=%{y}\\u003cbr\\u003ez=%{z}\\u003cextra\\u003e\\u003c\\u002fextra\\u003e\",\"legendgroup\":\"9\",\"marker\":{\"color\":\"#636efa\",\"symbol\":\"circle\"},\"mode\":\"markers\",\"name\":\"9\",\"scene\":\"scene\",\"showlegend\":true,\"x\":[1.4422371031008252,-4.166770036899175,-10.466047816899174,7.741514883100825],\"y\":[-2.763944031588432,7.748197048411567,-3.162471981588432,8.146724998411567],\"z\":[0.0,0.0,0.0,0.0],\"type\":\"scatter3d\"},{\"hovertemplate\":\"color=8\\u003cbr\\u003ex=%{x}\\u003cbr\\u003ey=%{y}\\u003cbr\\u003ez=%{z}\\u003cextra\\u003e\\u003c\\u002fextra\\u003e\",\"legendgroup\":\"8\",\"marker\":{\"color\":\"#EF553B\",\"symbol\":\"circle\"},\"mode\":\"markers\",\"name\":\"8\",\"scene\":\"scene\",\"showlegend\":true,\"x\":[-1.4422371031008252,4.166770036899175,10.466047816899176,-7.741514883100825],\"y\":[2.763944031588432,-7.748197048411567,3.162471981588432,-8.146724998411567],\"z\":[0.0,0.0,0.0,0.0],\"type\":\"scatter3d\"},{\"hovertemplate\":\"color=7\\u003cbr\\u003ex=%{x}\\u003cbr\\u003ey=%{y}\\u003cbr\\u003ez=%{z}\\u003cextra\\u003e\\u003c\\u002fextra\\u003e\",\"legendgroup\":\"7\",\"marker\":{\"color\":\"#00cc96\",\"symbol\":\"circle\"},\"mode\":\"markers\",\"name\":\"7\",\"scene\":\"scene\",\"showlegend\":true,\"x\":[-3.114764330782516,8.793520589217483,2.494242809217484,3.1845134492174836,-8.723771470782516],\"y\":[-0.1329580677024471,0.26556988229755296,-10.645099147702446,10.777710962297553,10.379183012297553],\"z\":[0.0,0.0,0.0,0.0,0.0],\"type\":\"scatter3d\"},{\"hovertemplate\":\"color=6\\u003cbr\\u003ex=%{x}\\u003cbr\\u003ey=%{y}\\u003cbr\\u003ez=%{z}\\u003cextra\\u003e\\u003c\\u002fextra\\u003e\",\"legendgroup\":\"6\",\"marker\":{\"color\":\"#ab63fa\",\"symbol\":\"circle\"},\"mode\":\"markers\",\"name\":\"6\",\"scene\":\"scene\",\"showlegend\":true,\"x\":[3.114764330782517,-8.793520589217483,-2.494242809217483,-3.1845134492174827,8.723771470782516],\"y\":[0.13295806770244667,-0.2655698822975534,10.645099147702446,-10.777710962297553,-10.379183012297553],\"z\":[0.0,0.0,0.0,0.0,0.0],\"type\":\"scatter3d\"},{\"hovertemplate\":\"color=3\\u003cbr\\u003ex=%{x}\\u003cbr\\u003ey=%{y}\\u003cbr\\u003ez=%{z}\\u003cextra\\u003e\\u003c\\u002fextra\\u003e\",\"legendgroup\":\"3\",\"marker\":{\"color\":\"#FFA15A\",\"symbol\":\"circle\"},\"mode\":\"markers\",\"name\":\"3\",\"scene\":\"scene\",\"showlegend\":true,\"x\":[-2.80450357,2.80450357,9.10378135,-9.10378135],\"y\":[5.25607054,-5.25607054,5.65459849,-5.65459849],\"z\":[0.0,0.0,0.0,0.0],\"type\":\"scatter3d\"},{\"hovertemplate\":\"color=2\\u003cbr\\u003ex=%{x}\\u003cbr\\u003ey=%{y}\\u003cbr\\u003ez=%{z}\\u003cextra\\u003e\\u003c\\u002fextra\\u003e\",\"legendgroup\":\"2\",\"marker\":{\"color\":\"#19d3f3\",\"symbol\":\"circle\"},\"mode\":\"markers\",\"name\":\"2\",\"scene\":\"scene\",\"showlegend\":true,\"x\":[-5.95414246,5.95414246,-0.3451353199999998,0.3451353199999998],\"y\":[-0.19926397500000004,0.19926397500000004,-10.711405055,10.711405055],\"z\":[0.0,0.0,0.0,0.0],\"type\":\"scatter3d\"},{\"hovertemplate\":\"color=0\\u003cbr\\u003ex=%{x}\\u003cbr\\u003ey=%{y}\\u003cbr\\u003ez=%{z}\\u003cextra\\u003e\\u003c\\u002fextra\\u003e\",\"legendgroup\":\"0\",\"marker\":{\"color\":\"#FF6692\",\"symbol\":\"circle\"},\"mode\":\"markers\",\"name\":\"0\",\"scene\":\"scene\",\"showlegend\":true,\"x\":[5.60900714,-5.60900714,-11.90828492,11.90828492,-6.29927778,6.29927778],\"y\":[-10.51214108,10.51214108,-0.3985279500000001,0.3985279500000001,-10.91066903,10.91066903],\"z\":[0.0,0.0,0.0,0.0,0.0,0.0],\"type\":\"scatter3d\"}],                        {\"template\":{\"data\":{\"histogram2dcontour\":[{\"type\":\"histogram2dcontour\",\"colorbar\":{\"outlinewidth\":0,\"ticks\":\"\"},\"colorscale\":[[0.0,\"#0d0887\"],[0.1111111111111111,\"#46039f\"],[0.2222222222222222,\"#7201a8\"],[0.3333333333333333,\"#9c179e\"],[0.4444444444444444,\"#bd3786\"],[0.5555555555555556,\"#d8576b\"],[0.6666666666666666,\"#ed7953\"],[0.7777777777777778,\"#fb9f3a\"],[0.8888888888888888,\"#fdca26\"],[1.0,\"#f0f921\"]]}],\"choropleth\":[{\"type\":\"choropleth\",\"colorbar\":{\"outlinewidth\":0,\"ticks\":\"\"}}],\"histogram2d\":[{\"type\":\"histogram2d\",\"colorbar\":{\"outlinewidth\":0,\"ticks\":\"\"},\"colorscale\":[[0.0,\"#0d0887\"],[0.1111111111111111,\"#46039f\"],[0.2222222222222222,\"#7201a8\"],[0.3333333333333333,\"#9c179e\"],[0.4444444444444444,\"#bd3786\"],[0.5555555555555556,\"#d8576b\"],[0.6666666666666666,\"#ed7953\"],[0.7777777777777778,\"#fb9f3a\"],[0.8888888888888888,\"#fdca26\"],[1.0,\"#f0f921\"]]}],\"heatmap\":[{\"type\":\"heatmap\",\"colorbar\":{\"outlinewidth\":0,\"ticks\":\"\"},\"colorscale\":[[0.0,\"#0d0887\"],[0.1111111111111111,\"#46039f\"],[0.2222222222222222,\"#7201a8\"],[0.3333333333333333,\"#9c179e\"],[0.4444444444444444,\"#bd3786\"],[0.5555555555555556,\"#d8576b\"],[0.6666666666666666,\"#ed7953\"],[0.7777777777777778,\"#fb9f3a\"],[0.8888888888888888,\"#fdca26\"],[1.0,\"#f0f921\"]]}],\"heatmapgl\":[{\"type\":\"heatmapgl\",\"colorbar\":{\"outlinewidth\":0,\"ticks\":\"\"},\"colorscale\":[[0.0,\"#0d0887\"],[0.1111111111111111,\"#46039f\"],[0.2222222222222222,\"#7201a8\"],[0.3333333333333333,\"#9c179e\"],[0.4444444444444444,\"#bd3786\"],[0.5555555555555556,\"#d8576b\"],[0.6666666666666666,\"#ed7953\"],[0.7777777777777778,\"#fb9f3a\"],[0.8888888888888888,\"#fdca26\"],[1.0,\"#f0f921\"]]}],\"contourcarpet\":[{\"type\":\"contourcarpet\",\"colorbar\":{\"outlinewidth\":0,\"ticks\":\"\"}}],\"contour\":[{\"type\":\"contour\",\"colorbar\":{\"outlinewidth\":0,\"ticks\":\"\"},\"colorscale\":[[0.0,\"#0d0887\"],[0.1111111111111111,\"#46039f\"],[0.2222222222222222,\"#7201a8\"],[0.3333333333333333,\"#9c179e\"],[0.4444444444444444,\"#bd3786\"],[0.5555555555555556,\"#d8576b\"],[0.6666666666666666,\"#ed7953\"],[0.7777777777777778,\"#fb9f3a\"],[0.8888888888888888,\"#fdca26\"],[1.0,\"#f0f921\"]]}],\"surface\":[{\"type\":\"surface\",\"colorbar\":{\"outlinewidth\":0,\"ticks\":\"\"},\"colorscale\":[[0.0,\"#0d0887\"],[0.1111111111111111,\"#46039f\"],[0.2222222222222222,\"#7201a8\"],[0.3333333333333333,\"#9c179e\"],[0.4444444444444444,\"#bd3786\"],[0.5555555555555556,\"#d8576b\"],[0.6666666666666666,\"#ed7953\"],[0.7777777777777778,\"#fb9f3a\"],[0.8888888888888888,\"#fdca26\"],[1.0,\"#f0f921\"]]}],\"mesh3d\":[{\"type\":\"mesh3d\",\"colorbar\":{\"outlinewidth\":0,\"ticks\":\"\"}}],\"scatter\":[{\"fillpattern\":{\"fillmode\":\"overlay\",\"size\":10,\"solidity\":0.2},\"type\":\"scatter\"}],\"parcoords\":[{\"type\":\"parcoords\",\"line\":{\"colorbar\":{\"outlinewidth\":0,\"ticks\":\"\"}}}],\"scatterpolargl\":[{\"type\":\"scatterpolargl\",\"marker\":{\"colorbar\":{\"outlinewidth\":0,\"ticks\":\"\"}}}],\"bar\":[{\"error_x\":{\"color\":\"#2a3f5f\"},\"error_y\":{\"color\":\"#2a3f5f\"},\"marker\":{\"line\":{\"color\":\"#E5ECF6\",\"width\":0.5},\"pattern\":{\"fillmode\":\"overlay\",\"size\":10,\"solidity\":0.2}},\"type\":\"bar\"}],\"scattergeo\":[{\"type\":\"scattergeo\",\"marker\":{\"colorbar\":{\"outlinewidth\":0,\"ticks\":\"\"}}}],\"scatterpolar\":[{\"type\":\"scatterpolar\",\"marker\":{\"colorbar\":{\"outlinewidth\":0,\"ticks\":\"\"}}}],\"histogram\":[{\"marker\":{\"pattern\":{\"fillmode\":\"overlay\",\"size\":10,\"solidity\":0.2}},\"type\":\"histogram\"}],\"scattergl\":[{\"type\":\"scattergl\",\"marker\":{\"colorbar\":{\"outlinewidth\":0,\"ticks\":\"\"}}}],\"scatter3d\":[{\"type\":\"scatter3d\",\"line\":{\"colorbar\":{\"outlinewidth\":0,\"ticks\":\"\"}},\"marker\":{\"colorbar\":{\"outlinewidth\":0,\"ticks\":\"\"}}}],\"scattermapbox\":[{\"type\":\"scattermapbox\",\"marker\":{\"colorbar\":{\"outlinewidth\":0,\"ticks\":\"\"}}}],\"scatterternary\":[{\"type\":\"scatterternary\",\"marker\":{\"colorbar\":{\"outlinewidth\":0,\"ticks\":\"\"}}}],\"scattercarpet\":[{\"type\":\"scattercarpet\",\"marker\":{\"colorbar\":{\"outlinewidth\":0,\"ticks\":\"\"}}}],\"carpet\":[{\"aaxis\":{\"endlinecolor\":\"#2a3f5f\",\"gridcolor\":\"white\",\"linecolor\":\"white\",\"minorgridcolor\":\"white\",\"startlinecolor\":\"#2a3f5f\"},\"baxis\":{\"endlinecolor\":\"#2a3f5f\",\"gridcolor\":\"white\",\"linecolor\":\"white\",\"minorgridcolor\":\"white\",\"startlinecolor\":\"#2a3f5f\"},\"type\":\"carpet\"}],\"table\":[{\"cells\":{\"fill\":{\"color\":\"#EBF0F8\"},\"line\":{\"color\":\"white\"}},\"header\":{\"fill\":{\"color\":\"#C8D4E3\"},\"line\":{\"color\":\"white\"}},\"type\":\"table\"}],\"barpolar\":[{\"marker\":{\"line\":{\"color\":\"#E5ECF6\",\"width\":0.5},\"pattern\":{\"fillmode\":\"overlay\",\"size\":10,\"solidity\":0.2}},\"type\":\"barpolar\"}],\"pie\":[{\"automargin\":true,\"type\":\"pie\"}]},\"layout\":{\"autotypenumbers\":\"strict\",\"colorway\":[\"#636efa\",\"#EF553B\",\"#00cc96\",\"#ab63fa\",\"#FFA15A\",\"#19d3f3\",\"#FF6692\",\"#B6E880\",\"#FF97FF\",\"#FECB52\"],\"font\":{\"color\":\"#2a3f5f\"},\"hovermode\":\"closest\",\"hoverlabel\":{\"align\":\"left\"},\"paper_bgcolor\":\"white\",\"plot_bgcolor\":\"#E5ECF6\",\"polar\":{\"bgcolor\":\"#E5ECF6\",\"angularaxis\":{\"gridcolor\":\"white\",\"linecolor\":\"white\",\"ticks\":\"\"},\"radialaxis\":{\"gridcolor\":\"white\",\"linecolor\":\"white\",\"ticks\":\"\"}},\"ternary\":{\"bgcolor\":\"#E5ECF6\",\"aaxis\":{\"gridcolor\":\"white\",\"linecolor\":\"white\",\"ticks\":\"\"},\"baxis\":{\"gridcolor\":\"white\",\"linecolor\":\"white\",\"ticks\":\"\"},\"caxis\":{\"gridcolor\":\"white\",\"linecolor\":\"white\",\"ticks\":\"\"}},\"coloraxis\":{\"colorbar\":{\"outlinewidth\":0,\"ticks\":\"\"}},\"colorscale\":{\"sequential\":[[0.0,\"#0d0887\"],[0.1111111111111111,\"#46039f\"],[0.2222222222222222,\"#7201a8\"],[0.3333333333333333,\"#9c179e\"],[0.4444444444444444,\"#bd3786\"],[0.5555555555555556,\"#d8576b\"],[0.6666666666666666,\"#ed7953\"],[0.7777777777777778,\"#fb9f3a\"],[0.8888888888888888,\"#fdca26\"],[1.0,\"#f0f921\"]],\"sequentialminus\":[[0.0,\"#0d0887\"],[0.1111111111111111,\"#46039f\"],[0.2222222222222222,\"#7201a8\"],[0.3333333333333333,\"#9c179e\"],[0.4444444444444444,\"#bd3786\"],[0.5555555555555556,\"#d8576b\"],[0.6666666666666666,\"#ed7953\"],[0.7777777777777778,\"#fb9f3a\"],[0.8888888888888888,\"#fdca26\"],[1.0,\"#f0f921\"]],\"diverging\":[[0,\"#8e0152\"],[0.1,\"#c51b7d\"],[0.2,\"#de77ae\"],[0.3,\"#f1b6da\"],[0.4,\"#fde0ef\"],[0.5,\"#f7f7f7\"],[0.6,\"#e6f5d0\"],[0.7,\"#b8e186\"],[0.8,\"#7fbc41\"],[0.9,\"#4d9221\"],[1,\"#276419\"]]},\"xaxis\":{\"gridcolor\":\"white\",\"linecolor\":\"white\",\"ticks\":\"\",\"title\":{\"standoff\":15},\"zerolinecolor\":\"white\",\"automargin\":true,\"zerolinewidth\":2},\"yaxis\":{\"gridcolor\":\"white\",\"linecolor\":\"white\",\"ticks\":\"\",\"title\":{\"standoff\":15},\"zerolinecolor\":\"white\",\"automargin\":true,\"zerolinewidth\":2},\"scene\":{\"xaxis\":{\"backgroundcolor\":\"#E5ECF6\",\"gridcolor\":\"white\",\"linecolor\":\"white\",\"showbackground\":true,\"ticks\":\"\",\"zerolinecolor\":\"white\",\"gridwidth\":2},\"yaxis\":{\"backgroundcolor\":\"#E5ECF6\",\"gridcolor\":\"white\",\"linecolor\":\"white\",\"showbackground\":true,\"ticks\":\"\",\"zerolinecolor\":\"white\",\"gridwidth\":2},\"zaxis\":{\"backgroundcolor\":\"#E5ECF6\",\"gridcolor\":\"white\",\"linecolor\":\"white\",\"showbackground\":true,\"ticks\":\"\",\"zerolinecolor\":\"white\",\"gridwidth\":2}},\"shapedefaults\":{\"line\":{\"color\":\"#2a3f5f\"}},\"annotationdefaults\":{\"arrowcolor\":\"#2a3f5f\",\"arrowhead\":0,\"arrowwidth\":1},\"geo\":{\"bgcolor\":\"white\",\"landcolor\":\"#E5ECF6\",\"subunitcolor\":\"white\",\"showland\":true,\"showlakes\":true,\"lakecolor\":\"white\"},\"title\":{\"x\":0.05},\"mapbox\":{\"style\":\"light\"}}},\"scene\":{\"domain\":{\"x\":[0.0,1.0],\"y\":[0.0,1.0]},\"xaxis\":{\"title\":{\"text\":\"x\"}},\"yaxis\":{\"title\":{\"text\":\"y\"}},\"zaxis\":{\"title\":{\"text\":\"z\"}}},\"legend\":{\"title\":{\"text\":\"color\"},\"tracegroupgap\":0},\"margin\":{\"t\":60}},                        {\"responsive\": true}                    ).then(function(){\n",
       "                            \n",
       "var gd = document.getElementById('e19446b9-2cbf-4bac-9b44-1242b178ac1b');\n",
       "var x = new MutationObserver(function (mutations, observer) {{\n",
       "        var display = window.getComputedStyle(gd).display;\n",
       "        if (!display || display === 'none') {{\n",
       "            console.log([gd, 'removed!']);\n",
       "            Plotly.purge(gd);\n",
       "            observer.disconnect();\n",
       "        }}\n",
       "}});\n",
       "\n",
       "// Listen for the removal of the full notebook cells\n",
       "var notebookContainer = gd.closest('#notebook-container');\n",
       "if (notebookContainer) {{\n",
       "    x.observe(notebookContainer, {childList: true});\n",
       "}}\n",
       "\n",
       "// Listen for the clearing of the current output cell\n",
       "var outputEl = gd.closest('.output');\n",
       "if (outputEl) {{\n",
       "    x.observe(outputEl, {childList: true});\n",
       "}}\n",
       "\n",
       "                        })                };                });            </script>        </div>"
      ]
     },
     "metadata": {},
     "output_type": "display_data"
    }
   ],
   "source": [
    "import plotly.express as px\n",
    "im_pos = struct.cart_coords[ij] + im @ struct.lattice.matrix\n",
    "shift = im_pos - struct.cart_coords[[atom_i]]\n",
    "\n",
    "xx, yy, zz = shift.T\n",
    "\n",
    "px.scatter_3d(x=xx, y=yy, z=zz, color=ij)"
   ]
  },
  {
   "cell_type": "code",
   "execution_count": null,
   "metadata": {},
   "outputs": [],
   "source": []
  },
  {
   "cell_type": "code",
   "execution_count": 119,
   "metadata": {},
   "outputs": [
    {
     "data": {
      "text/plain": [
       "(4, 4, 4, 7, 0, 9, 8, 6, 4, 4, 4)"
      ]
     },
     "execution_count": 119,
     "metadata": {},
     "output_type": "execute_result"
    }
   ],
   "source": [
    "idxs"
   ]
  },
  {
   "cell_type": "code",
   "execution_count": null,
   "metadata": {},
   "outputs": [],
   "source": []
  },
  {
   "cell_type": "code",
   "execution_count": 121,
   "metadata": {},
   "outputs": [
    {
     "data": {
      "text/plain": [
       "array([4, 4, 4, 4, 4, 4, 0, 9, 8, 7, 6], dtype=int64)"
      ]
     },
     "execution_count": 121,
     "metadata": {},
     "output_type": "execute_result"
    }
   ],
   "source": [
    "nbs = struct.get_all_neighbors(16)[atom_i]\n",
    "# nbs = sorted(nbs, key=lambda n: n.nn_distance)\n",
    "sites, dists, idxs, ims = zip(*nbs)\n",
    "chosen = np.argsort(dists)[:16]\n",
    "\n",
    "np.array(idxs)[chosen]"
   ]
  },
  {
   "cell_type": "code",
   "execution_count": 101,
   "metadata": {},
   "outputs": [
    {
     "name": "stdout",
     "output_type": "stream",
     "text": [
      "Te1 4 (0.0, 1.0, 0.0) [-5.60900714 10.51214108  0.        ] 11.914951581202272 11.914951581202272\n",
      "Te1 4 (0.0, -1.0, 0.0) [  5.60900714 -10.51214108   0.        ] 11.914951581202272 11.914951581202272\n",
      "Te1 4 (1.0, 1.0, 0.0) [-11.90828492  -0.39852795   0.        ] 11.914951710469943 11.914951710469943\n",
      "Te1 4 (-1.0, -1.0, 0.0) [11.90828492  0.39852795  0.        ] 11.914951710469943 11.914951710469943\n",
      "Te1 4 (1.0, 0.0, 0.0) [ -6.29927778 -10.91066903   0.        ] 12.598555442264118 12.598555442264118\n",
      "Te1 4 (-1.0, 0.0, 0.0) [ 6.29927778 10.91066903  0.        ] 12.598555442264118 12.598555442264118\n",
      "Na1 0 (0.0, 0.0, 1.0) [  0.           0.         -64.57172939] 14.916330358876735 14.916330358876735\n",
      "Te1 8 (-1.0, 0.0, 1.0) [  6.29927778  10.91066903 -64.57172939] 15.238646457164814 15.238646457164814\n",
      "Te1 9 (0.0, -1.0, 1.0) [  5.60900714 -10.51214108 -64.57172939] 15.238646457164814 15.238646457164814\n",
      "Te1 7 (0.0, 0.0, 1.0) [  0.           0.         -64.57172939] 15.238646464146019 15.238646464146019\n",
      "Te1 6 (-1.0, -1.0, 1.0) [ 11.90828492   0.39852795 -64.57172939] 15.238646464146019 15.238646464146019\n",
      "Sm1 3 (0.0, 0.0, 1.0) [  0.           0.         -64.57172939] 16.0620182159885 16.0620182159885\n",
      "Sm1 3 (0.0, -1.0, 1.0) [  5.60900714 -10.51214108 -64.57172939] 16.0620182159885 16.0620182159885\n",
      "Sm1 2 (0.0, 0.0, 1.0) [  0.           0.         -64.57172939] 16.062018239961482 16.062018239961482\n",
      "Sm1 2 (-1.0, -1.0, 1.0) [ 11.90828492   0.39852795 -64.57172939] 16.062018239961482 16.062018239961482\n",
      "Te1 9 (0.0, 0.0, 1.0) [  0.           0.         -64.57172939] 17.317431721146246 17.317431721146246\n",
      "Te1 8 (-1.0, -1.0, 1.0) [ 11.90828492   0.39852795 -64.57172939] 17.317431721146246 17.317431721146246\n",
      "Te1 6 (0.0, 0.0, 1.0) [  0.           0.         -64.57172939] 17.317431769477917 17.317431769477917\n",
      "Te1 7 (-1.0, -1.0, 1.0) [ 11.90828492   0.39852795 -64.57172939] 17.317431769477917 17.317431769477917\n",
      "Sm1 1 (0.0, 0.0, 0.0) [0. 0. 0.] 17.369534336123266 17.369534336123273\n",
      "Sm1 2 (0.0, -1.0, 1.0) [  5.60900714 -10.51214108 -64.57172939] 18.36709634146178 18.36709634146178\n",
      "Sm1 2 (-1.0, 0.0, 1.0) [  6.29927778  10.91066903 -64.57172939] 18.36709634146178 18.36709634146178\n",
      "Sm1 3 (1.0, 0.0, 1.0) [ -6.29927778 -10.91066903 -64.57172939] 18.367096404354875 18.367096404354875\n",
      "Sm1 3 (-1.0, -1.0, 1.0) [ 11.90828492   0.39852795 -64.57172939] 18.367096404354875 18.367096404354875\n",
      "Te1 6 (-1.0, 0.0, 1.0) [  6.29927778  10.91066903 -64.57172939] 18.494223271900236 18.494223271900236\n",
      "Te1 7 (0.0, -1.0, 1.0) [  5.60900714 -10.51214108 -64.57172939] 18.494223271900236 18.494223271900236\n",
      "Te1 9 (1.0, 0.0, 1.0) [ -6.29927778 -10.91066903 -64.57172939] 18.494223349876023 18.494223349876023\n",
      "Te1 8 (-2.0, -1.0, 1.0) [ 18.2075627   11.30919698 -64.57172939] 18.494223349876027 18.494223349876027\n",
      "Te1 6 (0.0, -1.0, 1.0) [  5.60900714 -10.51214108 -64.57172939] 18.67611016433089 18.67611016433089\n",
      "Te1 7 (-1.0, 0.0, 1.0) [  6.29927778  10.91066903 -64.57172939] 18.67611016433089 18.67611016433089\n",
      "Te1 8 (0.0, 0.0, 1.0) [  0.           0.         -64.57172939] 18.676110201542592 18.676110201542592\n",
      "Te1 9 (-1.0, -1.0, 1.0) [ 11.90828492   0.39852795 -64.57172939] 18.676110201542592 18.676110201542592\n",
      "Na1 0 (0.0, 1.0, 1.0) [ -5.60900714  10.51214108 -64.57172939] 19.09091361243726 19.09091361243726\n",
      "Na1 0 (0.0, -1.0, 1.0) [  5.60900714 -10.51214108 -64.57172939] 19.09091361243726 19.09091361243726\n",
      "Na1 0 (1.0, 1.0, 1.0) [-11.90828492  -0.39852795 -64.57172939] 19.09091369311533 19.09091369311533\n",
      "Na1 0 (-1.0, -1.0, 1.0) [ 11.90828492   0.39852795 -64.57172939] 19.09091369311533 19.09091369311533\n",
      "Na1 0 (1.0, 0.0, 1.0) [ -6.29927778 -10.91066903 -64.57172939] 19.52486902918815 19.52486902918815\n",
      "Na1 0 (-1.0, 0.0, 1.0) [  6.29927778  10.91066903 -64.57172939] 19.52486902918815 19.52486902918815\n",
      "Te1 7 (0.0, 1.0, 1.0) [ -5.60900714  10.51214108 -64.57172939] 20.157592615497336 20.157592615497336\n",
      "Te1 6 (-1.0, -2.0, 1.0) [ 17.51729206 -10.11361313 -64.57172939] 20.157592615497336 20.157592615497336\n",
      "Te1 8 (0.0, 1.0, 1.0) [ -5.60900714  10.51214108 -64.57172939] 20.15759268621839 20.157592686218386\n",
      "Te1 9 (-1.0, -2.0, 1.0) [ 17.51729206 -10.11361313 -64.57172939] 20.157592686218386 20.157592686218386\n",
      "Te1 4 (1.0, 2.0, 0.0) [-17.51729206  10.11361313   0.        ] 20.22722649447144 20.22722649447144\n",
      "Te1 4 (-1.0, -2.0, 0.0) [ 17.51729206 -10.11361313   0.        ] 20.22722649447144 20.22722649447144\n",
      "Te1 9 (1.0, -1.0, 1.0) [ -0.69027064 -21.42281011 -64.57172939] 20.810641458070577 20.810641458070577\n",
      "Te1 8 (-2.0, 0.0, 1.0) [ 12.59855556  21.82133806 -64.57172939] 20.810641458070577 20.810641458070577\n",
      "Te1 7 (1.0, 0.0, 1.0) [ -6.29927778 -10.91066903 -64.57172939] 20.810641501689513 20.810641501689513\n",
      "Te1 6 (-2.0, -1.0, 1.0) [ 18.2075627   11.30919698 -64.57172939] 20.810641501689517 20.810641501689517\n",
      "Sm1 1 (0.0, 1.0, 0.0) [-5.60900714 10.51214108  0.        ] 21.063399398866263 21.063399398866267\n",
      "Sm1 1 (0.0, -1.0, 0.0) [  5.60900714 -10.51214108   0.        ] 21.063399398866263 21.063399398866267\n",
      "Sm1 1 (1.0, 1.0, 0.0) [-11.90828492  -0.39852795   0.        ] 21.063399471989218 21.063399471989225\n",
      "Sm1 1 (-1.0, -1.0, 0.0) [11.90828492  0.39852795  0.        ] 21.063399471989218 21.063399471989225\n",
      "Te1 9 (0.0, -2.0, 1.0) [ 11.21801428 -21.02428216 -64.57172939] 21.177143165241866 21.177143165241866\n",
      "Te1 8 (-1.0, 1.0, 1.0) [  0.69027064  21.42281011 -64.57172939] 21.177143165241866 21.17714316524187\n",
      "Te1 7 (1.0, 1.0, 1.0) [-11.90828492  -0.39852795 -64.57172939] 21.177143281226535 21.17714328122653\n",
      "Te1 6 (-2.0, -2.0, 1.0) [ 23.81656984   0.7970559  -64.57172939] 21.177143281226535 21.177143281226535\n",
      "Te1 4 (1.0, -1.0, 0.0) [ -0.69027064 -21.42281011   0.        ] 21.433927931332704 21.433927931332704\n",
      "Te1 4 (-1.0, 1.0, 0.0) [ 0.69027064 21.42281011  0.        ] 21.433927931332704 21.433927931332704\n",
      "Te1 4 (2.0, 1.0, 0.0) [-18.2075627  -11.30919698   0.        ] 21.433928146909338 21.433928146909338\n",
      "Te1 4 (-2.0, -1.0, 0.0) [18.2075627  11.30919698  0.        ] 21.433928146909338 21.433928146909338\n",
      "Sm1 1 (1.0, 0.0, 0.0) [ -6.29927778 -10.91066903   0.        ] 21.45750037365881 21.457500373658814\n",
      "Sm1 1 (-1.0, 0.0, 0.0) [ 6.29927778 10.91066903  0.        ] 21.45750037365881 21.457500373658814\n",
      "Sm1 2 (0.0, 1.0, 1.0) [ -5.60900714  10.51214108 -64.57172939] 21.507179597287067 21.507179597287067\n",
      "Sm1 2 (-1.0, -2.0, 1.0) [ 17.51729206 -10.11361313 -64.57172939] 21.507179597287067 21.507179597287067\n",
      "Sm1 3 (1.0, 1.0, 1.0) [-11.90828492  -0.39852795 -64.57172939] 21.507179650997667 21.507179650997667\n",
      "Sm1 3 (-1.0, -2.0, 1.0) [ 17.51729206 -10.11361313 -64.57172939] 21.507179650997667 21.507179650997667\n",
      "Sm1 3 (-1.0, 0.0, 1.0) [  6.29927778  10.91066903 -64.57172939] 22.272714843014366 22.272714843014366\n",
      "Sm1 3 (1.0, -1.0, 1.0) [ -0.69027064 -21.42281011 -64.57172939] 22.272714843014374 22.272714843014374\n",
      "Sm1 2 (1.0, 0.0, 1.0) [ -6.29927778 -10.91066903 -64.57172939] 22.272714929455226 22.272714929455223\n",
      "Sm1 2 (-2.0, -1.0, 1.0) [ 18.2075627   11.30919698 -64.57172939] 22.272714929455226 22.272714929455226\n",
      "Te1 6 (0.0, 1.0, 1.0) [ -5.60900714  10.51214108 -64.57172939] 23.12837948658772 23.12837948658772\n",
      "Te1 7 (-1.0, -2.0, 1.0) [ 17.51729206 -10.11361313 -64.57172939] 23.12837948658772 23.12837948658772\n",
      "Te1 9 (1.0, 1.0, 1.0) [-11.90828492  -0.39852795 -64.57172939] 23.12837951735102 23.12837951735102\n",
      "Te1 8 (-2.0, -2.0, 1.0) [ 23.81656984   0.7970559  -64.57172939] 23.12837951735102 23.128379517351025\n",
      "Sm1 3 (0.0, 1.0, 1.0) [ -5.60900714  10.51214108 -64.57172939] 23.279187518801756 23.279187518801756\n",
      "Sm1 3 (0.0, -2.0, 1.0) [ 11.21801428 -21.02428216 -64.57172939] 23.279187518801756 23.279187518801756\n",
      "Sm1 2 (1.0, 1.0, 1.0) [-11.90828492  -0.39852795 -64.57172939] 23.279187667668232 23.279187667668232\n",
      "Sm1 2 (-2.0, -2.0, 1.0) [ 23.81656984   0.7970559  -64.57172939] 23.279187667668232 23.279187667668232\n",
      "Te1 4 (0.0, 2.0, 0.0) [-11.21801428  21.02428216   0.        ] 23.829903162404545 23.829903162404545\n",
      "Te1 4 (0.0, -2.0, 0.0) [ 11.21801428 -21.02428216   0.        ] 23.829903162404545 23.829903162404545\n",
      "Te1 4 (2.0, 2.0, 0.0) [-23.81656984  -0.7970559    0.        ] 23.829903420939885 23.829903420939885\n",
      "Te1 4 (-2.0, -2.0, 0.0) [23.81656984  0.7970559   0.        ] 23.829903420939885 23.829903420939885\n",
      "Te1 8 (0.0, -1.0, 1.0) [  5.60900714 -10.51214108 -64.57172939] 23.983281343086283 23.98328134308628\n",
      "Te1 9 (-1.0, 0.0, 1.0) [  6.29927778  10.91066903 -64.57172939] 23.983281343086283 23.983281343086283\n",
      "Te1 6 (1.0, 0.0, 1.0) [ -6.29927778 -10.91066903 -64.57172939] 23.98328147301273 23.98328147301273\n",
      "Te1 7 (-2.0, -1.0, 1.0) [ 18.2075627   11.30919698 -64.57172939] 23.98328147301273 23.98328147301273\n",
      "Na1 0 (1.0, 2.0, 1.0) [-17.51729206  10.11361313 -64.57172939] 25.132401457755588 25.132401457755588\n",
      "Na1 0 (-1.0, -2.0, 1.0) [ 17.51729206 -10.11361313 -64.57172939] 25.132401457755588 25.132401457755588\n",
      "Te1 4 (2.0, 0.0, 0.0) [-12.59855556 -21.82133806   0.        ] 25.197110884528236 25.197110884528236\n",
      "Te1 4 (-2.0, 0.0, 0.0) [12.59855556 21.82133806  0.        ] 25.197110884528236 25.197110884528236\n",
      "Te1 9 (0.0, 1.0, 1.0) [ -5.60900714  10.51214108 -64.57172939] 25.524550522025883 25.524550522025883\n",
      "Te1 8 (-1.0, -2.0, 1.0) [ 17.51729206 -10.11361313 -64.57172939] 25.524550522025883 25.524550522025883\n",
      "Te1 6 (1.0, 1.0, 1.0) [-11.90828492  -0.39852795 -64.57172939] 25.524550704125573 25.524550704125573\n",
      "Te1 7 (-2.0, -2.0, 1.0) [ 23.81656984   0.7970559  -64.57172939] 25.524550704125573 25.524550704125573\n",
      "Te1 6 (0.0, -2.0, 1.0) [ 11.21801428 -21.02428216 -64.57172939] 26.108099911994998 26.108099911994994\n",
      "Te1 7 (-1.0, 1.0, 1.0) [  0.69027064  21.42281011 -64.57172939] 26.108099911994998 26.108099911994998\n",
      "Te1 8 (1.0, 1.0, 1.0) [-11.90828492  -0.39852795 -64.57172939] 26.10810011527889 26.108100115278887\n",
      "Te1 9 (-2.0, -2.0, 1.0) [ 23.81656984   0.7970559  -64.57172939] 26.10810011527889 26.10810011527889\n",
      "Na1 0 (1.0, -1.0, 1.0) [ -0.69027064 -21.42281011 -64.57172939] 26.113409925567208 26.113409925567208\n",
      "Na1 0 (-1.0, 1.0, 1.0) [  0.69027064  21.42281011 -64.57172939] 26.113409925567208 26.113409925567208\n",
      "Na1 0 (2.0, 1.0, 1.0) [-18.2075627  -11.30919698 -64.57172939] 26.11341010251285 26.11341010251285\n",
      "Na1 0 (-2.0, -1.0, 1.0) [ 18.2075627   11.30919698 -64.57172939] 26.11341010251285 26.11341010251285\n",
      "Sm1 2 (-1.0, 1.0, 1.0) [  0.69027064  21.42281011 -64.57172939] 26.469683950833474 26.469683950833474\n",
      "Sm1 2 (0.0, -2.0, 1.0) [ 11.21801428 -21.02428216 -64.57172939] 26.469683950833474 26.469683950833474\n",
      "Sm1 3 (2.0, 1.0, 1.0) [-18.2075627  -11.30919698 -64.57172939] 26.469684169038484 26.469684169038484\n",
      "Sm1 3 (-2.0, -2.0, 1.0) [ 23.81656984   0.7970559  -64.57172939] 26.469684169038484 26.469684169038484\n",
      "Te1 7 (1.0, -1.0, 1.0) [ -0.69027064 -21.42281011 -64.57172939] 26.488230296395322 26.488230296395322\n",
      "Te1 6 (-2.0, 0.0, 1.0) [ 12.59855556  21.82133806 -64.57172939] 26.488230296395322 26.488230296395322\n",
      "Te1 9 (2.0, 0.0, 1.0) [-12.59855556 -21.82133806 -64.57172939] 26.488230436879746 26.488230436879746\n",
      "Te1 8 (-3.0, -1.0, 1.0) [ 24.50684048  22.21986601 -64.57172939] 26.488230436879746 26.488230436879746\n",
      "Sm1 1 (1.0, 2.0, 0.0) [-17.51729206  10.11361313   0.        ] 26.661609379638215 26.661609379638218\n",
      "Sm1 1 (-1.0, -2.0, 0.0) [ 17.51729206 -10.11361313   0.        ] 26.661609379638215 26.661609379638218\n",
      "Sm1 2 (-2.0, 0.0, 1.0) [ 12.59855556  21.82133806 -64.57172939] 27.09537275174172 27.09537275174172\n",
      "Sm1 2 (1.0, -1.0, 1.0) [ -0.69027064 -21.42281011 -64.57172939] 27.095372751741728 27.095372751741728\n",
      "Sm1 3 (2.0, 0.0, 1.0) [-12.59855556 -21.82133806 -64.57172939] 27.095372851219285 27.095372851219285\n",
      "Sm1 3 (-2.0, -1.0, 1.0) [ 18.2075627   11.30919698 -64.57172939] 27.095372851219285 27.095372851219285\n",
      "Te1 6 (-1.0, 1.0, 1.0) [  0.69027064  21.42281011 -64.57172939] 27.12541953901085 27.12541953901085\n",
      "Te1 7 (0.0, -2.0, 1.0) [ 11.21801428 -21.02428216 -64.57172939] 27.12541953901085 27.12541953901085\n",
      "Te1 9 (2.0, 1.0, 1.0) [-18.2075627  -11.30919698 -64.57172939] 27.125419762823924 27.125419762823924\n",
      "Te1 8 (-3.0, -2.0, 1.0) [ 30.11584762  11.70772493 -64.57172939] 27.12541976282392 27.125419762823924\n",
      "Te1 8 (0.0, 2.0, 1.0) [-11.21801428  21.02428216 -64.57172939] 27.34578826641492 27.34578826641492\n",
      "Te1 9 (-1.0, -3.0, 1.0) [ 23.1262992  -20.62575421 -64.57172939] 27.34578826641492 27.34578826641492\n",
      "Te1 7 (1.0, 2.0, 1.0) [-17.51729206  10.11361313 -64.57172939] 27.34578830021441 27.34578830021441\n",
      "Te1 6 (-2.0, -3.0, 1.0) [ 29.42557698  -9.71508518 -64.57172939] 27.345788300214412 27.34578830021441\n",
      "Sm1 1 (1.0, -1.0, 0.0) [ -0.69027064 -21.42281011   0.        ] 27.58829443114107 27.588294431141072\n",
      "Sm1 1 (-1.0, 1.0, 0.0) [ 0.69027064 21.42281011  0.        ] 27.58829443114107 27.588294431141072\n",
      "Sm1 1 (2.0, 1.0, 0.0) [-18.2075627  -11.30919698   0.        ] 27.588294598627108 27.58829459862711\n",
      "Sm1 1 (-2.0, -1.0, 0.0) [18.2075627  11.30919698  0.        ] 27.588294598627108 27.58829459862711\n",
      "Te1 6 (1.0, -1.0, 1.0) [ -0.69027064 -21.42281011 -64.57172939] 27.9790105998197 27.9790105998197\n",
      "Te1 7 (-2.0, 0.0, 1.0) [ 12.59855556  21.82133806 -64.57172939] 27.9790105998197 27.9790105998197\n",
      "Te1 8 (1.0, 0.0, 1.0) [ -6.29927778 -10.91066903 -64.57172939] 27.97901065329992 27.97901065329992\n",
      "Te1 9 (-2.0, -1.0, 1.0) [ 18.2075627   11.30919698 -64.57172939] 27.979010653299923 27.979010653299923\n",
      "Na1 0 (0.0, 2.0, 1.0) [-11.21801428  21.02428216 -64.57172939] 28.113363301190518 28.113363301190518\n",
      "Na1 0 (0.0, -2.0, 1.0) [ 11.21801428 -21.02428216 -64.57172939] 28.113363301190518 28.113363301190518\n",
      "Na1 0 (2.0, 2.0, 1.0) [-23.81656984  -0.7970559  -64.57172939] 28.11336352033442 28.11336352033442\n",
      "Na1 0 (-2.0, -2.0, 1.0) [ 23.81656984   0.7970559  -64.57172939] 28.11336352033442 28.11336352033442\n",
      "Te1 8 (-2.0, 1.0, 1.0) [  6.98954842  32.33347914 -64.57172939] 28.426421527206358 28.42642152720636\n",
      "Te1 9 (1.0, -2.0, 1.0) [  4.9187365  -31.93495119 -64.57172939] 28.42642152720636 28.42642152720636\n",
      "Te1 6 (-3.0, -2.0, 1.0) [ 30.11584762  11.70772493 -64.57172939] 28.426421750168434 28.426421750168434\n",
      "Te1 7 (2.0, 1.0, 1.0) [-18.2075627  -11.30919698 -64.57172939] 28.426421750168437 28.426421750168437\n",
      "Na1 0 (2.0, 0.0, 1.0) [-12.59855556 -21.82133806 -64.57172939] 29.281244992355756 29.281244992355756\n",
      "Na1 0 (-2.0, 0.0, 1.0) [ 12.59855556  21.82133806 -64.57172939] 29.281244992355756 29.281244992355756\n",
      "Te1 7 (0.0, 2.0, 1.0) [-11.21801428  21.02428216 -64.57172939] 29.40021898575357 29.40021898575357\n",
      "Te1 6 (-1.0, -3.0, 1.0) [ 23.1262992  -20.62575421 -64.57172939] 29.400218985753572 29.40021898575357\n",
      "Te1 8 (1.0, 2.0, 1.0) [-17.51729206  10.11361313 -64.57172939] 29.40021919112457 29.40021919112457\n",
      "Te1 9 (-2.0, -3.0, 1.0) [ 29.42557698  -9.71508518 -64.57172939] 29.400219191124577 29.400219191124577\n",
      "Sm1 1 (0.0, 2.0, 0.0) [-11.21801428  21.02428216   0.        ] 29.48838767690331 29.488387676903315\n",
      "Sm1 1 (0.0, -2.0, 0.0) [ 11.21801428 -21.02428216   0.        ] 29.48838767690331 29.488387676903315\n",
      "Sm1 1 (2.0, 2.0, 0.0) [-23.81656984  -0.7970559    0.        ] 29.48838788582868 29.488387885828683\n",
      "Sm1 1 (-2.0, -2.0, 0.0) [23.81656984  0.7970559   0.        ] 29.48838788582868 29.488387885828683\n",
      "Sm1 3 (1.0, 2.0, 1.0) [-17.51729206  10.11361313 -64.57172939] 29.52455698428851 29.52455698428851\n",
      "Sm1 3 (-1.0, -3.0, 1.0) [ 23.1262992  -20.62575421 -64.57172939] 29.52455698428851 29.524556984288512\n",
      "Sm1 2 (1.0, 2.0, 1.0) [-17.51729206  10.11361313 -64.57172939] 29.524557049497705 29.524557049497705\n",
      "Sm1 2 (-2.0, -3.0, 1.0) [ 29.42557698  -9.71508518 -64.57172939] 29.524557049497705 29.524557049497705\n",
      "Te1 5 (0.0, 0.0, 1.0) [  0.           0.         -64.57172939] 29.83266071775347 29.83266071775347\n",
      "Sm1 1 (2.0, 0.0, 0.0) [-12.59855556 -21.82133806   0.        ] 30.603841588613946 30.60384158861395\n",
      "Sm1 1 (-2.0, 0.0, 0.0) [12.59855556 21.82133806  0.        ] 30.603841588613946 30.60384158861395\n",
      "Sm1 3 (-1.0, 1.0, 1.0) [  0.69027064  21.42281011 -64.57172939] 30.638693917893896 30.638693917893896\n",
      "Sm1 3 (1.0, -2.0, 1.0) [  4.9187365  -31.93495119 -64.57172939] 30.638693917893896 30.638693917893896\n",
      "Sm1 2 (-3.0, -2.0, 1.0) [ 30.11584762  11.70772493 -64.57172939] 30.63869418181326 30.63869418181326\n",
      "Sm1 2 (2.0, 1.0, 1.0) [-18.2075627  -11.30919698 -64.57172939] 30.638694181813264 30.638694181813264\n",
      "Te1 9 (0.0, -3.0, 1.0) [ 16.82702142 -31.53642324 -64.57172939] 30.80030165113043 30.80030165113043\n",
      "Te1 8 (-1.0, 2.0, 1.0) [ -4.9187365   31.93495119 -64.57172939] 30.800301651130432 30.800301651130432\n",
      "Te1 7 (2.0, 2.0, 1.0) [-23.81656984  -0.7970559  -64.57172939] 30.80030190718311 30.80030190718311\n",
      "Te1 6 (-3.0, -3.0, 1.0) [ 35.72485476   1.19558385 -64.57172939] 30.80030190718311 30.80030190718311\n",
      "Sm1 2 (0.0, 2.0, 1.0) [-11.21801428  21.02428216 -64.57172939] 30.83928113435616 30.83928113435616\n",
      "Sm1 2 (-1.0, -3.0, 1.0) [ 23.1262992  -20.62575421 -64.57172939] 30.839281134356163 30.839281134356163\n",
      "Sm1 3 (2.0, 2.0, 1.0) [-23.81656984  -0.7970559  -64.57172939] 30.83928132164385 30.83928132164385\n",
      "Sm1 3 (-2.0, -3.0, 1.0) [ 29.42557698  -9.71508518 -64.57172939] 30.83928132164385 30.83928132164385\n",
      "Te1 9 (2.0, -1.0, 1.0) [ -6.98954842 -32.33347914 -64.57172939] 30.844715080705082 30.844715080705082\n",
      "Te1 8 (-3.0, 0.0, 1.0) [ 18.89783334  32.73200709 -64.57172939] 30.844715080705082 30.84471508070509\n",
      "Te1 7 (2.0, 0.0, 1.0) [-12.59855556 -21.82133806 -64.57172939] 30.844715136114644 30.844715136114644\n",
      "Te1 6 (-3.0, -1.0, 1.0) [ 24.50684048  22.21986601 -64.57172939] 30.84471513611464 30.844715136114644\n",
      "Te1 4 (1.0, 3.0, 0.0) [-23.1262992   20.62575421   0.        ] 30.987859742474203 30.987859742474203\n",
      "Te1 4 (-1.0, -3.0, 0.0) [ 23.1262992  -20.62575421   0.        ] 30.987859742474203 30.987859742474203\n",
      "Te1 4 (2.0, 3.0, 0.0) [-29.42557698   9.71508518   0.        ] 30.98785989158596 30.98785989158596\n",
      "Te1 4 (-2.0, -3.0, 0.0) [29.42557698 -9.71508518  0.        ] 30.98785989158596 30.98785989158596\n",
      "Te1 9 (1.0, 2.0, 1.0) [-17.51729206  10.11361313 -64.57172939] 31.807856313290497 31.807856313290497\n",
      "Te1 8 (-2.0, -3.0, 1.0) [ 29.42557698  -9.71508518 -64.57172939] 31.807856313290497 31.8078563132905\n",
      "Te1 6 (1.0, 2.0, 1.0) [-17.51729206  10.11361313 -64.57172939] 31.807856410735827 31.807856410735827\n",
      "Te1 7 (-2.0, -3.0, 1.0) [ 29.42557698  -9.71508518 -64.57172939] 31.807856410735827 31.807856410735827\n"
     ]
    }
   ],
   "source": [
    "nbs = struct.get_neighbors(struct.sites[atom_i], 32, include_image=True, include_index=True)\n",
    "nbs = sorted(nbs, key=lambda n: n.nn_distance)\n",
    "for nb in nbs:\n",
    "    offset = np.array(nb.image) @ struct.lattice.matrix\n",
    "    dist = np.linalg.norm((struct.cart_coords[nb.index] + offset) - struct.cart_coords[atom_i])\n",
    "    print(nb.species, nb.index, nb.image, offset, dist, nb.nn_distance)"
   ]
  },
  {
   "cell_type": "code",
   "execution_count": 132,
   "metadata": {},
   "outputs": [
    {
     "data": {
      "text/plain": [
       "[9, 8, 7, 6, 3, 2, 0]"
      ]
     },
     "execution_count": 132,
     "metadata": {},
     "output_type": "execute_result"
    }
   ],
   "source": [
    "list(G.neighbors(0))"
   ]
  },
  {
   "cell_type": "code",
   "execution_count": 131,
   "metadata": {},
   "outputs": [
    {
     "data": {
      "text/plain": [
       "array([[1, 0, 1, 1, 0, 0, 1, 1, 1, 1],\n",
       "       [1, 1, 1, 1, 1, 1, 1, 1, 1, 1],\n",
       "       [1, 0, 1, 1, 0, 0, 1, 1, 1, 1],\n",
       "       [1, 0, 1, 1, 0, 0, 1, 1, 1, 1],\n",
       "       [1, 1, 1, 1, 1, 1, 1, 1, 1, 1],\n",
       "       [1, 1, 1, 1, 1, 1, 1, 1, 1, 1],\n",
       "       [1, 0, 1, 1, 0, 0, 1, 1, 1, 1],\n",
       "       [1, 0, 1, 1, 0, 0, 1, 1, 1, 1],\n",
       "       [1, 0, 1, 1, 0, 0, 1, 1, 1, 1],\n",
       "       [1, 0, 1, 1, 0, 0, 1, 1, 1, 1]])"
      ]
     },
     "execution_count": 131,
     "metadata": {},
     "output_type": "execute_result"
    },
    {
     "data": {
      "image/png": "[encoded data removed]",
      "text/plain": [
       "<Figure size 800x600 with 1 Axes>"
      ]
     },
     "metadata": {},
     "output_type": "display_data"
    }
   ],
   "source": [
    "import networkx as nx\n",
    "\n",
    "G = nx.DiGraph()\n",
    "for i, row in enumerate(knns[samp_i]['ijs']):\n",
    "    for j in row:\n",
    "        G.add_edge(i, j)\n",
    "\n",
    "nx.draw_networkx(G)\n",
    "conn = np.eye(len(G.nodes)).astype(int)\n",
    "for i in range(len(conn)):\n",
    "    for j in range(len(conn)):\n",
    "        if nx.has_path(G, i, j):\n",
    "            conn[i, j] = 1\n",
    "\n",
    "conn"
   ]
  },
  {
   "cell_type": "code",
   "execution_count": 26,
   "metadata": {},
   "outputs": [
    {
     "data": {
      "text/plain": [
       "Structure Summary\n",
       "Lattice\n",
       "    abc : 6.714481 8.75801611510792 9.098840828466777\n",
       " angles : 106.90907118899793 108.46566996158978 89.262705093506\n",
       " volume : 483.71737097973164\n",
       "      A : -6.714481 0.0 0.0\n",
       "      B : -0.112697 -8.757291 0.0\n",
       "      C : 2.881934 2.609563 8.226393\n",
       "    pbc : True True True\n",
       "PeriodicSite: Sb (0.0, 0.0, 0.0) [0.0, 0.0, 0.0]\n",
       "PeriodicSite: Sb (1.385, -3.074, 4.113) [0.0, 0.5, 0.5]\n",
       "PeriodicSite: Sb (-3.414, -4.379, 0.0) [0.5, 0.5, 0.0]\n",
       "PeriodicSite: Sb (-1.916, 1.305, 4.113) [0.5, 0.0, 0.5]\n",
       "PeriodicSite: Sb (-2.218, -1.815, 1.04) [0.3804, 0.2449, 0.1264]\n",
       "PeriodicSite: Sb (-1.728, -4.333, 7.186) [0.6196, 0.7551, 0.8736]\n",
       "PeriodicSite: Sb (-3.881, 0.1969, 6.285) [0.9025, 0.2052, 0.764]\n",
       "PeriodicSite: Sb (-0.06381, -6.345, 1.942) [0.09747, 0.7948, 0.236]\n",
       "PeriodicSite: Sb (2.261, -3.154, 7.246) [0.03087, 0.6226, 0.8809]\n",
       "PeriodicSite: Sb (-6.206, -2.994, 0.98) [0.9691, 0.3774, 0.1191]\n",
       "PeriodicSite: Sb (-2.541, -1.725, 3.906) [0.5765, 0.3385, 0.4748]\n",
       "PeriodicSite: Sb (-1.404, -4.422, 4.32) [0.4235, 0.6615, 0.5252]\n",
       "PeriodicSite: Sb (0.08607, -0.6161, 5.464) [0.2677, 0.2683, 0.6641]\n",
       "PeriodicSite: Sb (-4.031, -5.532, 2.763) [0.7323, 0.7317, 0.3359]"
      ]
     },
     "execution_count": 26,
     "metadata": {},
     "output_type": "execute_result"
    }
   ],
   "source": [
    "struct = df.query('num_atoms > 8').structure.iloc[2]\n",
    "struct"
   ]
  },
  {
   "cell_type": "code",
   "execution_count": null,
   "metadata": {},
   "outputs": [],
   "source": []
  }
 ],
 "metadata": {
  "kernelspec": {
   "display_name": "baysic",
   "language": "python",
   "name": "python3"
  },
  "language_info": {
   "codemirror_mode": {
    "name": "ipython",
    "version": 3
   },
   "file_extension": ".py",
   "mimetype": "text/x-python",
   "name": "python",
   "nbconvert_exporter": "python",
   "pygments_lexer": "ipython3",
   "version": "3.12.0"
  }
 },
 "nbformat": 4,
 "nbformat_minor": 2
}
