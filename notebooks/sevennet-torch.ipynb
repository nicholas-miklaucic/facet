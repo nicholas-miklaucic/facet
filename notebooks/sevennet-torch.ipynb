{
 "cells": [
  {
   "cell_type": "code",
   "execution_count": 1,
   "metadata": {},
   "outputs": [
    {
     "name": "stdout",
     "output_type": "stream",
     "text": [
      "/home/nmiklaucic/cdv\n"
     ]
    }
   ],
   "source": [
    "%cd ~/cdv\n",
    "import os\n",
    "\n",
    "os.environ['CUDA_VISIBLE_DEVICES'] = '0'\n",
    "import numpy as np\n",
    "import pandas as pd\n",
    "import plotly.express as px\n",
    "import matplotlib.pyplot as plt\n",
    "import seaborn as sns\n",
    "\n",
    "import rho_plus as rp\n",
    "\n",
    "is_dark = True\n",
    "theme, cs = rp.mpl_setup(is_dark)\n",
    "rp.plotly_setup(is_dark)"
   ]
  },
  {
   "cell_type": "code",
   "execution_count": 2,
   "metadata": {},
   "outputs": [
    {
     "data": {
      "text/plain": [
       "Structure Summary\n",
       "Lattice\n",
       "    abc : 3.46566108 5.912730870000001 5.45788908\n",
       " angles : 89.99986914 89.99991061 90.01299071999999\n",
       " volume : 111.84044720244309\n",
       "      A : 3.465661079995782 0.0 5.406950504201276e-06\n",
       "      B : -0.0013405984239926575 5.912730718007075 1.35043098847761e-05\n",
       "      C : 0.0 0.0 5.45788908\n",
       "    pbc : True True True\n",
       "PeriodicSite: Mn0 (Mn) (1.731, 4.91, 2.721) [0.4999, 0.8303, 0.4985]\n",
       "PeriodicSite: Mn1 (Mn) (1.733, 1.003, 5.45) [0.5001, 0.1697, 0.9985]\n",
       "PeriodicSite: Mn2 (Mn) (3.465, 1.953, 2.72) [0.9998, 0.3304, 0.4984]\n",
       "PeriodicSite: Mn3 (Mn) (-0.0003616, 3.959, 5.449) [0.0001547, 0.6696, 0.9984]\n",
       "PeriodicSite: O4 (O) (-0.0002849, 1.977, 0.6282) [4.711e-05, 0.3343, 0.1151]\n",
       "PeriodicSite: O5 (O) (1.732, 4.933, 0.6285) [0.5001, 0.8342, 0.1151]\n",
       "PeriodicSite: O6 (O) (1.732, 0.9801, 3.357) [0.4999, 0.1658, 0.6151]\n",
       "PeriodicSite: O7 (O) (3.465, 3.936, 3.357) [1.0, 0.6657, 0.6151]"
      ]
     },
     "execution_count": 2,
     "metadata": {},
     "output_type": "execute_result"
    }
   ],
   "source": [
    "from pymatgen.core import Structure\n",
    "\n",
    "s = Structure.from_file('data/087.cif')\n",
    "s"
   ]
  },
  {
   "cell_type": "code",
   "execution_count": 3,
   "metadata": {},
   "outputs": [],
   "source": [
    "from sevenn.sevennet_calculator import SevenNetCalculator\n",
    "seven_calc = SevenNetCalculator(\"7net-0\", device='cpu')  # 7net-0, SevenNet-0, 7net-0_22May2024, 7net-0_11July2024 ..."
   ]
  },
  {
   "cell_type": "code",
   "execution_count": 4,
   "metadata": {},
   "outputs": [],
   "source": [
    "# ckpt_params = dict(seven_calc.model.named_parameters())\n",
    "# ckpt_params = {k: v.detach().cpu().numpy() for k, v in ckpt_params.items()}\n",
    "# np.save('precomputed/sevennet_ckpt.npy', ckpt_params)"
   ]
  },
  {
   "cell_type": "code",
   "execution_count": 5,
   "metadata": {},
   "outputs": [
    {
     "name": "stdout",
     "output_type": "stream",
     "text": [
      "-7.8014678955078125\n"
     ]
    },
    {
     "data": {
      "text/plain": [
       "133"
      ]
     },
     "execution_count": 5,
     "metadata": {},
     "output_type": "execute_result"
    }
   ],
   "source": [
    "from functools import partial\n",
    "import torch\n",
    "from copy import deepcopy\n",
    "\n",
    "\n",
    "def serialize_atomgraph(data):    \n",
    "    values = []\n",
    "    for value in data:\n",
    "        if hasattr(value, 'num_atoms'):\n",
    "            values.append({\n",
    "                k: (np.array(torch.clone(v).numpy(force=True)) if isinstance(v, torch.Tensor) else v)\n",
    "                for k, v in dict(value).items()\n",
    "            })\n",
    "        else:\n",
    "            values.append(value)\n",
    "\n",
    "    return values\n",
    "\n",
    "\n",
    "class Recorder:    \n",
    "    def __init__(self):\n",
    "        self.inputs = {}\n",
    "        self.outputs = {}\n",
    "\n",
    "    def pre_hook(self, mod, args, name='module'):        \n",
    "        self.inputs[name] = serialize_atomgraph(args)[0]\n",
    "\n",
    "    def post_hook(self, mod, args, output, name='module'):        \n",
    "        self.outputs[name] = serialize_atomgraph([output])[0]\n",
    "\n",
    "\n",
    "rec = Recorder()\n",
    "atoms = s.to_ase_atoms()\n",
    "handles = []\n",
    "for name, mod in seven_calc.model.named_modules():\n",
    "    try:\n",
    "        handle = mod.register_forward_hook(partial(rec.post_hook, name=name))\n",
    "        handles.append(handle)\n",
    "        handle = mod.register_forward_pre_hook(partial(rec.pre_hook, name=name))\n",
    "        handles.append(handle)\n",
    "    except RuntimeError:\n",
    "        continue\n",
    "out = seven_calc.calculate(atoms=atoms)\n",
    "print(seven_calc.results['free_energy'] / s.num_sites)\n",
    "\n",
    "for handle in handles:\n",
    "    handle.remove()\n",
    "\n",
    "len(rec.inputs)"
   ]
  },
  {
   "cell_type": "code",
   "execution_count": 6,
   "metadata": {},
   "outputs": [
    {
     "data": {
      "text/plain": [
       "array([[ 0.00138224,  0.00842797,  0.02226343],\n",
       "       [-0.00134953, -0.00842321,  0.02189642],\n",
       "       [ 0.00248519,  0.00626346,  0.02657895],\n",
       "       [-0.00245262, -0.00637611,  0.02643918],\n",
       "       [ 0.0008379 , -0.0194728 , -0.02410344],\n",
       "       [ 0.00157933, -0.01839091, -0.0245294 ],\n",
       "       [-0.00161705,  0.0183937 , -0.02446074],\n",
       "       [-0.00086542,  0.01957793, -0.02408434]], dtype=float32)"
      ]
     },
     "execution_count": 6,
     "metadata": {},
     "output_type": "execute_result"
    }
   ],
   "source": [
    "seven_calc.get_forces()"
   ]
  },
  {
   "cell_type": "code",
   "execution_count": 7,
   "metadata": {},
   "outputs": [
    {
     "data": {
      "text/plain": [
       "['3_equivariant_gate.gate',\n",
       " '3_equivariant_gate',\n",
       " '4_self_connection_intro.linear',\n",
       " '4_self_connection_intro',\n",
       " '4_self_interaction_1.linear',\n",
       " '4_self_interaction_1',\n",
       " '4_convolution.weight_nn.layer0.act',\n",
       " '4_convolution.weight_nn.layer0',\n",
       " '4_convolution.weight_nn.layer1',\n",
       " '4_convolution.weight_nn.layer2',\n",
       " '4_convolution.weight_nn',\n",
       " '4_convolution.convolution',\n",
       " '4_convolution',\n",
       " '4_self_interaction_2.linear',\n",
       " '4_self_interaction_2',\n",
       " '4_self_connection_outro',\n",
       " '4_equivariant_gate.gate.sc.cut',\n",
       " '4_equivariant_gate.gate.sc',\n",
       " '4_equivariant_gate.gate.act_scalars.acts.0',\n",
       " '4_equivariant_gate.gate.act_scalars',\n",
       " '4_equivariant_gate.gate',\n",
       " '4_equivariant_gate',\n",
       " 'reduce_input_to_hidden.linear',\n",
       " 'reduce_input_to_hidden',\n",
       " 'reduce_hidden_to_energy.linear',\n",
       " 'reduce_hidden_to_energy',\n",
       " 'rescale_atomic_energy',\n",
       " 'reduce_total_enegy',\n",
       " 'force_output',\n",
       " '']"
      ]
     },
     "execution_count": 7,
     "metadata": {},
     "output_type": "execute_result"
    }
   ],
   "source": [
    "list(rec.outputs.keys())[-30:]"
   ]
  },
  {
   "cell_type": "code",
   "execution_count": 8,
   "metadata": {},
   "outputs": [
    {
     "data": {
      "text/plain": [
       "0.1413189"
      ]
     },
     "execution_count": 8,
     "metadata": {},
     "output_type": "execute_result"
    }
   ],
   "source": [
    "y = rec.outputs['0_self_connection_intro.linear'].numpy(force=True)\n",
    "y[0, 0]"
   ]
  },
  {
   "cell_type": "code",
   "execution_count": 9,
   "metadata": {},
   "outputs": [
    {
     "data": {
      "text/plain": [
       "array([[-0.02162305,  0.02764658,  0.03464852, ...,  0.02918951,\n",
       "        -0.03034204,  0.09723409],\n",
       "       [-0.02162305,  0.02764658,  0.03464852, ...,  0.02918951,\n",
       "        -0.03034204,  0.09723409],\n",
       "       [-0.02162305,  0.02764658,  0.03464852, ...,  0.02918951,\n",
       "        -0.03034204,  0.09723409],\n",
       "       ...,\n",
       "       [ 0.05921005, -0.01971585,  0.00247053, ...,  0.1316716 ,\n",
       "         0.07415292, -0.06879845],\n",
       "       [ 0.05921005, -0.01971585,  0.00247053, ...,  0.1316716 ,\n",
       "         0.07415292, -0.06879845],\n",
       "       [ 0.05921005, -0.01971585,  0.00247053, ...,  0.1316716 ,\n",
       "         0.07415292, -0.06879845]], dtype=float32)"
      ]
     },
     "execution_count": 9,
     "metadata": {},
     "output_type": "execute_result"
    }
   ],
   "source": [
    "x = rec.inputs['0_self_connection_intro.linear'].numpy(force=True)\n",
    "x"
   ]
  },
  {
   "cell_type": "code",
   "execution_count": 25,
   "metadata": {},
   "outputs": [
    {
     "data": {
      "text/plain": [
       "array([[ 0.04, -0.01,  0.  , -0.07, -0.01,  0.02, -0.01, -0.05,  0.  ,\n",
       "        -0.02,  0.01,  0.  , -0.04, -0.  , -0.  ,  0.02,  0.27,  0.02,\n",
       "         0.75,  0.02,  0.03,  0.01, -0.  , -0.16,  0.09, -0.02,  0.01,\n",
       "         0.01, -0.04, -0.  , -0.  ,  0.01,  0.03, -0.05,  0.  , -0.02,\n",
       "        -0.  ,  0.02,  0.1 ,  0.02,  0.05, -0.08,  0.01, -0.  , -0.03,\n",
       "         0.  ,  0.03,  0.02,  0.03, -0.02, -0.01,  0.01, -0.03,  0.01,\n",
       "         0.  ,  0.02,  0.09,  0.01,  0.01, -0.08,  0.02, -0.01, -0.01,\n",
       "        -0.01],\n",
       "       [ 0.04, -0.01,  0.  , -0.07, -0.01,  0.02, -0.01, -0.05,  0.  ,\n",
       "        -0.02,  0.01,  0.  , -0.04, -0.  , -0.  ,  0.02,  0.27,  0.02,\n",
       "         0.75,  0.02,  0.03,  0.01, -0.  , -0.16,  0.09, -0.02,  0.01,\n",
       "         0.01, -0.04, -0.  , -0.  ,  0.01,  0.03, -0.05,  0.  , -0.02,\n",
       "        -0.  ,  0.02,  0.1 ,  0.02,  0.05, -0.08,  0.01, -0.  , -0.03,\n",
       "         0.  ,  0.03,  0.02,  0.03, -0.02, -0.01,  0.01, -0.03,  0.01,\n",
       "         0.  ,  0.02,  0.09,  0.01,  0.01, -0.08,  0.02, -0.01, -0.01,\n",
       "        -0.01],\n",
       "       [ 0.04, -0.01,  0.  , -0.07, -0.01,  0.02, -0.01, -0.05,  0.  ,\n",
       "        -0.02,  0.01,  0.  , -0.04, -0.  , -0.  ,  0.02,  0.27,  0.02,\n",
       "         0.75,  0.02,  0.03,  0.01, -0.  , -0.17,  0.09, -0.02,  0.01,\n",
       "         0.01, -0.04, -0.  , -0.  ,  0.01,  0.03, -0.05,  0.  , -0.02,\n",
       "        -0.  ,  0.02,  0.1 ,  0.02,  0.05, -0.08,  0.01, -0.  , -0.03,\n",
       "         0.  ,  0.03,  0.02,  0.03, -0.02, -0.01,  0.01, -0.03,  0.01,\n",
       "         0.  ,  0.02,  0.09,  0.01,  0.01, -0.08,  0.02, -0.01, -0.01,\n",
       "        -0.01],\n",
       "       [ 0.04, -0.01,  0.  , -0.07, -0.01,  0.02, -0.01, -0.05,  0.  ,\n",
       "        -0.02,  0.01,  0.  , -0.04, -0.  , -0.  ,  0.02,  0.27,  0.02,\n",
       "         0.75,  0.02,  0.03,  0.01, -0.  , -0.17,  0.09, -0.02,  0.01,\n",
       "         0.01, -0.04, -0.  , -0.  ,  0.01,  0.03, -0.05,  0.  , -0.02,\n",
       "        -0.  ,  0.02,  0.1 ,  0.02,  0.05, -0.08,  0.01, -0.  , -0.03,\n",
       "         0.  ,  0.03,  0.02,  0.03, -0.02, -0.01,  0.01, -0.03,  0.01,\n",
       "         0.  ,  0.02,  0.09,  0.01,  0.01, -0.08,  0.02, -0.01, -0.01,\n",
       "        -0.01],\n",
       "       [-0.02,  0.01, -0.01,  0.03,  0.  , -0.01,  0.01,  0.02, -0.01,\n",
       "         0.01,  0.  ,  0.  ,  0.02,  0.  , -0.  , -0.01, -0.48, -0.01,\n",
       "        -0.81, -0.  , -0.  , -0.  ,  0.  ,  0.09, -0.02,  0.01,  0.  ,\n",
       "        -0.01,  0.02,  0.01,  0.  , -0.01, -0.03,  0.02,  0.01,  0.01,\n",
       "        -0.  , -0.  , -0.03, -0.01, -0.01,  0.04, -0.01,  0.01,  0.02,\n",
       "         0.01, -0.  , -0.01, -0.01,  0.01,  0.03, -0.  ,  0.02, -0.  ,\n",
       "         0.01, -0.  , -0.06, -0.01,  0.  ,  0.02,  0.  ,  0.01,  0.01,\n",
       "        -0.01],\n",
       "       [-0.02,  0.01, -0.01,  0.03,  0.  , -0.01,  0.01,  0.02, -0.01,\n",
       "         0.01,  0.  ,  0.  ,  0.02,  0.  , -0.  , -0.01, -0.48, -0.01,\n",
       "        -0.81, -0.  , -0.  , -0.  ,  0.  ,  0.09, -0.02,  0.01,  0.  ,\n",
       "        -0.01,  0.02,  0.01,  0.  , -0.01, -0.03,  0.02,  0.01,  0.01,\n",
       "        -0.  , -0.  , -0.03, -0.01, -0.01,  0.04, -0.01,  0.01,  0.02,\n",
       "         0.01, -0.  , -0.01, -0.01,  0.01,  0.03, -0.  ,  0.02, -0.  ,\n",
       "         0.01, -0.  , -0.06, -0.01,  0.  ,  0.02,  0.  ,  0.01,  0.01,\n",
       "        -0.01],\n",
       "       [-0.02,  0.01, -0.01,  0.03,  0.  , -0.01,  0.01,  0.02, -0.01,\n",
       "         0.01,  0.  ,  0.  ,  0.02,  0.  , -0.  , -0.01, -0.48, -0.01,\n",
       "        -0.81, -0.  , -0.  , -0.  ,  0.  ,  0.09, -0.02,  0.01,  0.  ,\n",
       "        -0.01,  0.02,  0.01,  0.  , -0.01, -0.03,  0.02,  0.01,  0.01,\n",
       "        -0.  , -0.  , -0.03, -0.01, -0.01,  0.04, -0.01,  0.01,  0.02,\n",
       "         0.01, -0.  , -0.01, -0.01,  0.01,  0.03, -0.  ,  0.02, -0.  ,\n",
       "         0.01, -0.  , -0.06, -0.01,  0.  ,  0.02,  0.  ,  0.01,  0.01,\n",
       "        -0.01],\n",
       "       [-0.02,  0.01, -0.01,  0.03,  0.  , -0.01,  0.01,  0.02, -0.01,\n",
       "         0.01,  0.  ,  0.  ,  0.02,  0.  , -0.  , -0.01, -0.48, -0.01,\n",
       "        -0.81, -0.  , -0.  , -0.  ,  0.  ,  0.09, -0.02,  0.01,  0.  ,\n",
       "        -0.01,  0.02,  0.01,  0.  , -0.01, -0.03,  0.02,  0.01,  0.01,\n",
       "        -0.  , -0.  , -0.03, -0.01, -0.01,  0.04, -0.01,  0.01,  0.02,\n",
       "         0.01, -0.  , -0.01, -0.01,  0.01,  0.03, -0.  ,  0.02, -0.  ,\n",
       "         0.01, -0.  , -0.06, -0.01,  0.  ,  0.02,  0.  ,  0.01,  0.01,\n",
       "        -0.01]], dtype=float32)"
      ]
     },
     "execution_count": 25,
     "metadata": {},
     "output_type": "execute_result"
    }
   ],
   "source": [
    "rec.outputs['reduce_input_to_hidden']['x'].round(2)"
   ]
  },
  {
   "cell_type": "code",
   "execution_count": 22,
   "metadata": {},
   "outputs": [
    {
     "data": {
      "text/plain": [
       "tensor([[ 4.3396e-02, -7.3099e-03,  1.2003e-03, -6.8865e-02, -9.5513e-03,\n",
       "          1.6791e-02, -7.4942e-03, -4.8386e-02,  3.4664e-03, -2.2581e-02,\n",
       "          1.1399e-02,  1.7949e-03, -3.9539e-02, -4.9298e-03, -5.1056e-04,\n",
       "          1.8400e-02,  2.7434e-01,  2.0446e-02,  7.4928e-01,  1.5916e-02,\n",
       "          2.6746e-02,  1.2863e-02, -1.0949e-03, -1.6486e-01,  8.9331e-02,\n",
       "         -2.0863e-02,  1.4980e-02,  1.4410e-02, -4.0151e-02, -1.3759e-03,\n",
       "         -1.1532e-03,  6.8857e-03,  3.3827e-02, -5.1540e-02,  3.4535e-03,\n",
       "         -1.9746e-02, -4.7797e-03,  2.2620e-02,  1.0333e-01,  2.4986e-02,\n",
       "          5.1410e-02, -7.8219e-02,  9.5045e-03, -2.5534e-03, -3.0774e-02,\n",
       "          5.5592e-04,  2.5200e-02,  1.9146e-02,  2.5337e-02, -2.3996e-02,\n",
       "         -7.5140e-03,  8.3058e-03, -2.7945e-02,  1.3871e-02,  2.0098e-04,\n",
       "          2.4092e-02,  9.1418e-02,  1.4491e-02,  8.6250e-03, -7.9950e-02,\n",
       "          2.0490e-02, -5.3512e-03, -8.1044e-03, -1.2528e-02],\n",
       "        [ 4.3397e-02, -7.3111e-03,  1.2007e-03, -6.8866e-02, -9.5510e-03,\n",
       "          1.6793e-02, -7.4942e-03, -4.8385e-02,  3.4661e-03, -2.2582e-02,\n",
       "          1.1399e-02,  1.7961e-03, -3.9539e-02, -4.9302e-03, -5.0923e-04,\n",
       "          1.8400e-02,  2.7431e-01,  2.0447e-02,  7.4933e-01,  1.5916e-02,\n",
       "          2.6747e-02,  1.2865e-02, -1.0959e-03, -1.6488e-01,  8.9331e-02,\n",
       "         -2.0863e-02,  1.4981e-02,  1.4410e-02, -4.0150e-02, -1.3755e-03,\n",
       "         -1.1530e-03,  6.8850e-03,  3.3827e-02, -5.1540e-02,  3.4531e-03,\n",
       "         -1.9745e-02, -4.7802e-03,  2.2619e-02,  1.0333e-01,  2.4988e-02,\n",
       "          5.1411e-02, -7.8220e-02,  9.5042e-03, -2.5543e-03, -3.0774e-02,\n",
       "          5.5321e-04,  2.5201e-02,  1.9147e-02,  2.5337e-02, -2.3995e-02,\n",
       "         -7.5121e-03,  8.3048e-03, -2.7946e-02,  1.3869e-02,  2.0269e-04,\n",
       "          2.4092e-02,  9.1415e-02,  1.4490e-02,  8.6259e-03, -7.9950e-02,\n",
       "          2.0492e-02, -5.3518e-03, -8.1050e-03, -1.2528e-02],\n",
       "        [ 4.3404e-02, -7.3034e-03,  1.2050e-03, -6.8843e-02, -9.5545e-03,\n",
       "          1.6770e-02, -7.4974e-03, -4.8400e-02,  3.4701e-03, -2.2572e-02,\n",
       "          1.1411e-02,  1.7764e-03, -3.9558e-02, -4.9320e-03, -5.3122e-04,\n",
       "          1.8414e-02,  2.7438e-01,  2.0442e-02,  7.4884e-01,  1.5911e-02,\n",
       "          2.6739e-02,  1.2851e-02, -1.0869e-03, -1.6503e-01,  8.9337e-02,\n",
       "         -2.0877e-02,  1.4960e-02,  1.4399e-02, -4.0174e-02, -1.3862e-03,\n",
       "         -1.1651e-03,  6.8989e-03,  3.3839e-02, -5.1545e-02,  3.4567e-03,\n",
       "         -1.9751e-02, -4.7728e-03,  2.2629e-02,  1.0336e-01,  2.4964e-02,\n",
       "          5.1409e-02, -7.8245e-02,  9.5089e-03, -2.5485e-03, -3.0783e-02,\n",
       "          5.8035e-04,  2.5203e-02,  1.9126e-02,  2.5328e-02, -2.4027e-02,\n",
       "         -7.5324e-03,  8.3192e-03, -2.7941e-02,  1.3892e-02,  1.7949e-04,\n",
       "          2.4100e-02,  9.1470e-02,  1.4492e-02,  8.6172e-03, -7.9985e-02,\n",
       "          2.0463e-02, -5.3440e-03, -8.1017e-03, -1.2531e-02],\n",
       "        [ 4.3406e-02, -7.3051e-03,  1.2067e-03, -6.8845e-02, -9.5539e-03,\n",
       "          1.6772e-02, -7.4989e-03, -4.8398e-02,  3.4696e-03, -2.2574e-02,\n",
       "          1.1411e-02,  1.7780e-03, -3.9559e-02, -4.9329e-03, -5.2923e-04,\n",
       "          1.8415e-02,  2.7433e-01,  2.0444e-02,  7.4889e-01,  1.5910e-02,\n",
       "          2.6740e-02,  1.2852e-02, -1.0871e-03, -1.6509e-01,  8.9339e-02,\n",
       "         -2.0880e-02,  1.4961e-02,  1.4400e-02, -4.0174e-02, -1.3861e-03,\n",
       "         -1.1671e-03,  6.8974e-03,  3.3840e-02, -5.1546e-02,  3.4550e-03,\n",
       "         -1.9751e-02, -4.7737e-03,  2.2631e-02,  1.0336e-01,  2.4966e-02,\n",
       "          5.1412e-02, -7.8245e-02,  9.5080e-03, -2.5486e-03, -3.0785e-02,\n",
       "          5.7736e-04,  2.5203e-02,  1.9127e-02,  2.5328e-02, -2.4027e-02,\n",
       "         -7.5306e-03,  8.3174e-03, -2.7944e-02,  1.3891e-02,  1.8212e-04,\n",
       "          2.4099e-02,  9.1466e-02,  1.4492e-02,  8.6189e-03, -7.9984e-02,\n",
       "          2.0465e-02, -5.3453e-03, -8.1040e-03, -1.2531e-02],\n",
       "        [-1.5366e-02,  8.9147e-03, -5.8792e-03,  2.8912e-02,  4.4739e-03,\n",
       "         -6.6595e-03,  5.9577e-03,  2.0726e-02, -8.7969e-03,  7.3963e-03,\n",
       "          9.7728e-04,  3.6605e-03,  1.7851e-02,  3.9247e-03, -1.0110e-04,\n",
       "         -1.1275e-02, -4.7938e-01, -6.5246e-03, -8.0531e-01, -3.5377e-03,\n",
       "         -4.6390e-03, -3.6642e-03,  3.3867e-03,  8.8997e-02, -2.2776e-02,\n",
       "          1.2746e-02,  9.7840e-04, -9.2855e-03,  1.9662e-02,  6.6477e-03,\n",
       "          3.7548e-03, -7.9830e-03, -2.5115e-02,  1.6930e-02,  8.4837e-03,\n",
       "          6.4786e-03, -1.2576e-03, -2.5192e-03, -3.2918e-02, -6.1540e-03,\n",
       "         -1.4099e-02,  4.2227e-02, -6.1326e-03,  5.1843e-03,  1.8722e-02,\n",
       "          1.0236e-02, -4.8813e-03, -8.8855e-03, -7.2639e-03,  1.1181e-02,\n",
       "          2.9801e-02, -3.3559e-03,  2.1036e-02, -3.0837e-03,  8.2209e-03,\n",
       "         -4.3776e-03, -6.1897e-02, -9.4998e-03,  1.2728e-03,  1.8472e-02,\n",
       "          1.3283e-03,  1.2839e-02,  5.9198e-03, -5.8488e-03],\n",
       "        [-1.5385e-02,  8.9274e-03, -5.8868e-03,  2.8977e-02,  4.4597e-03,\n",
       "         -6.7143e-03,  5.9790e-03,  2.0762e-02, -8.7911e-03,  7.4410e-03,\n",
       "          9.8545e-04,  3.6241e-03,  1.7856e-02,  3.9221e-03, -1.3863e-04,\n",
       "         -1.1268e-02, -4.7933e-01, -6.5483e-03, -8.0588e-01, -3.5410e-03,\n",
       "         -4.6766e-03, -3.6801e-03,  3.3957e-03,  8.8031e-02, -2.2857e-02,\n",
       "          1.2749e-02,  9.2604e-04, -9.3290e-03,  1.9663e-02,  6.6308e-03,\n",
       "          3.7473e-03, -7.9759e-03, -2.5130e-02,  1.6982e-02,  8.5030e-03,\n",
       "          6.4828e-03, -1.2496e-03, -2.5469e-03, -3.2997e-02, -6.2026e-03,\n",
       "         -1.4157e-02,  4.2276e-02, -6.1317e-03,  5.1994e-03,  1.8747e-02,\n",
       "          1.0150e-02, -4.8936e-03, -8.9414e-03, -7.2777e-03,  1.1163e-02,\n",
       "          2.9868e-02, -3.3325e-03,  2.1061e-02, -3.0868e-03,  8.2111e-03,\n",
       "         -4.4019e-03, -6.1935e-02, -9.5201e-03,  1.2462e-03,  1.8465e-02,\n",
       "          1.2719e-03,  1.2857e-02,  5.9394e-03, -5.8454e-03],\n",
       "        [-1.5385e-02,  8.9284e-03, -5.8876e-03,  2.8978e-02,  4.4587e-03,\n",
       "         -6.7167e-03,  5.9789e-03,  2.0763e-02, -8.7902e-03,  7.4423e-03,\n",
       "          9.8546e-04,  3.6227e-03,  1.7856e-02,  3.9226e-03, -1.4043e-04,\n",
       "         -1.1268e-02, -4.7928e-01, -6.5496e-03, -8.0594e-01, -3.5412e-03,\n",
       "         -4.6786e-03, -3.6819e-03,  3.3970e-03,  8.7974e-02, -2.2859e-02,\n",
       "          1.2749e-02,  9.2463e-04, -9.3295e-03,  1.9663e-02,  6.6310e-03,\n",
       "          3.7473e-03, -7.9755e-03, -2.5131e-02,  1.6983e-02,  8.5037e-03,\n",
       "          6.4824e-03, -1.2487e-03, -2.5472e-03, -3.2999e-02, -6.2036e-03,\n",
       "         -1.4159e-02,  4.2278e-02, -6.1312e-03,  5.2007e-03,  1.8748e-02,\n",
       "          1.0148e-02, -4.8946e-03, -8.9427e-03, -7.2780e-03,  1.1162e-02,\n",
       "          2.9870e-02, -3.3310e-03,  2.1062e-02, -3.0849e-03,  8.2100e-03,\n",
       "         -4.4023e-03, -6.1933e-02, -9.5189e-03,  1.2448e-03,  1.8463e-02,\n",
       "          1.2698e-03,  1.2857e-02,  5.9404e-03, -5.8448e-03],\n",
       "        [-1.5366e-02,  8.9150e-03, -5.8798e-03,  2.8912e-02,  4.4735e-03,\n",
       "         -6.6599e-03,  5.9576e-03,  2.0726e-02, -8.7967e-03,  7.3962e-03,\n",
       "          9.7666e-04,  3.6609e-03,  1.7852e-02,  3.9254e-03, -1.0103e-04,\n",
       "         -1.1275e-02, -4.7937e-01, -6.5250e-03, -8.0533e-01, -3.5376e-03,\n",
       "         -4.6396e-03, -3.6634e-03,  3.3872e-03,  8.8988e-02, -2.2777e-02,\n",
       "          1.2747e-02,  9.7906e-04, -9.2844e-03,  1.9662e-02,  6.6485e-03,\n",
       "          3.7553e-03, -7.9835e-03, -2.5116e-02,  1.6930e-02,  8.4840e-03,\n",
       "          6.4789e-03, -1.2572e-03, -2.5198e-03, -3.2919e-02, -6.1529e-03,\n",
       "         -1.4100e-02,  4.2227e-02, -6.1327e-03,  5.1845e-03,  1.8723e-02,\n",
       "          1.0233e-02, -4.8819e-03, -8.8850e-03, -7.2636e-03,  1.1181e-02,\n",
       "          2.9804e-02, -3.3557e-03,  2.1036e-02, -3.0837e-03,  8.2208e-03,\n",
       "         -4.3775e-03, -6.1897e-02, -9.4993e-03,  1.2729e-03,  1.8470e-02,\n",
       "          1.3288e-03,  1.2839e-02,  5.9203e-03, -5.8489e-03]],\n",
       "       grad_fn=<ReshapeAliasBackward0>)"
      ]
     },
     "execution_count": 22,
     "metadata": {},
     "output_type": "execute_result"
    }
   ],
   "source": [
    "rec.outputs['reduce_input_to_hidden.linear']"
   ]
  },
  {
   "cell_type": "code",
   "execution_count": 19,
   "metadata": {},
   "outputs": [
    {
     "data": {
      "text/plain": [
       "tensor([[-0.0417],\n",
       "        [-0.0417],\n",
       "        [-0.0416],\n",
       "        [-0.0416],\n",
       "        [ 0.0339],\n",
       "        [ 0.0340],\n",
       "        [ 0.0340],\n",
       "        [ 0.0339]], grad_fn=<ReshapeAliasBackward0>)"
      ]
     },
     "execution_count": 19,
     "metadata": {},
     "output_type": "execute_result"
    }
   ],
   "source": [
    "rec.outputs['reduce_hidden_to_energy.linear']"
   ]
  },
  {
   "cell_type": "code",
   "execution_count": null,
   "metadata": {},
   "outputs": [],
   "source": [
    "params = dict(seven_calc.model.get_submodule('0_self_connection_intro.linear').named_parameters())\n",
    "w = params['weight'].numpy(force=True).reshape(128, 224)\n",
    "w"
   ]
  },
  {
   "cell_type": "code",
   "execution_count": null,
   "metadata": {},
   "outputs": [],
   "source": [
    "((x / np.sqrt(128)) @ w)[0, 0]"
   ]
  },
  {
   "cell_type": "code",
   "execution_count": null,
   "metadata": {},
   "outputs": [],
   "source": [
    "rec.outputs['reduce_hidden_to_energy.linear']"
   ]
  },
  {
   "cell_type": "code",
   "execution_count": 11,
   "metadata": {},
   "outputs": [],
   "source": [
    "ag = rec.outputs['']"
   ]
  },
  {
   "cell_type": "code",
   "execution_count": null,
   "metadata": {},
   "outputs": [],
   "source": []
  },
  {
   "cell_type": "code",
   "execution_count": null,
   "metadata": {},
   "outputs": [],
   "source": [
    "i = np.where((ag['edge_index'][0] == 48) & (ag['edge_index'][1] == 0))[0].item()\n",
    "i"
   ]
  },
  {
   "cell_type": "code",
   "execution_count": null,
   "metadata": {},
   "outputs": [],
   "source": [
    "rec.outputs['edge_embedding']['edge_embedding'][i]"
   ]
  },
  {
   "cell_type": "code",
   "execution_count": null,
   "metadata": {},
   "outputs": [],
   "source": [
    "rec.inputs['0_self_connection_intro']['x']"
   ]
  },
  {
   "cell_type": "code",
   "execution_count": null,
   "metadata": {},
   "outputs": [],
   "source": [
    "rec.outputs['0_self_connection_intro.linear'][0, 1].item()"
   ]
  },
  {
   "cell_type": "code",
   "execution_count": null,
   "metadata": {},
   "outputs": [],
   "source": [
    "sns.heatmap(rec.outputs['onehot_to_feature_x']['x'], robust=True, center=0)"
   ]
  },
  {
   "cell_type": "code",
   "execution_count": null,
   "metadata": {},
   "outputs": [],
   "source": [
    "params = dict(seven_calc.model.onehot_to_feature_x.named_parameters())\n",
    "w = params['linear.weight'].detach().cpu().numpy()\n",
    "sns.heatmap(w.reshape(89, 128)[[11]], center=0, robust=True)"
   ]
  },
  {
   "cell_type": "code",
   "execution_count": null,
   "metadata": {},
   "outputs": [],
   "source": [
    "seven_calc.model"
   ]
  },
  {
   "cell_type": "code",
   "execution_count": null,
   "metadata": {},
   "outputs": [],
   "source": [
    "rec.outputs['edge_embedding.spherical.sph'][i][6].item()"
   ]
  },
  {
   "cell_type": "code",
   "execution_count": null,
   "metadata": {},
   "outputs": [],
   "source": [
    "sns.heatmap(rec.outputs['onehot_to_feature_x'][0]['x'], robust=True)"
   ]
  },
  {
   "cell_type": "code",
   "execution_count": null,
   "metadata": {},
   "outputs": [],
   "source": [
    "rec.outputs['onehot_to_feature_x.linear'][0][0].item()"
   ]
  },
  {
   "cell_type": "code",
   "execution_count": null,
   "metadata": {},
   "outputs": [],
   "source": [
    "{k: getattr(v, 'shape', v) for k, v in rec.outputs['onehot_to_feature_x.linear'][0].items()}"
   ]
  },
  {
   "cell_type": "code",
   "execution_count": null,
   "metadata": {},
   "outputs": [],
   "source": []
  }
 ],
 "metadata": {
  "kernelspec": {
   "display_name": "baysic",
   "language": "python",
   "name": "python3"
  },
  "language_info": {
   "codemirror_mode": {
    "name": "ipython",
    "version": 3
   },
   "file_extension": ".py",
   "mimetype": "text/x-python",
   "name": "python",
   "nbconvert_exporter": "python",
   "pygments_lexer": "ipython3",
   "version": "3.10.13"
  }
 },
 "nbformat": 4,
 "nbformat_minor": 2
}
