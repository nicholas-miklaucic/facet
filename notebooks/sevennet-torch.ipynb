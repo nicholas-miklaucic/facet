{
 "cells": [
  {
   "cell_type": "code",
   "execution_count": null,
   "metadata": {},
   "outputs": [],
   "source": [
    "%cd ~/cdv\n",
    "import os\n",
    "\n",
    "os.environ['CUDA_VISIBLE_DEVICES'] = '0'\n",
    "import numpy as np\n",
    "import pandas as pd\n",
    "import plotly.express as px\n",
    "import matplotlib.pyplot as plt\n",
    "import seaborn as sns\n",
    "\n",
    "import rho_plus as rp\n",
    "\n",
    "is_dark = True\n",
    "theme, cs = rp.mpl_setup(is_dark)\n",
    "rp.plotly_setup(is_dark)"
   ]
  },
  {
   "cell_type": "code",
   "execution_count": null,
   "metadata": {},
   "outputs": [],
   "source": [
    "from pymatgen.core import Structure\n",
    "\n",
    "s = Structure.from_file('data/087.cif')\n",
    "s"
   ]
  },
  {
   "cell_type": "code",
   "execution_count": 44,
   "metadata": {},
   "outputs": [],
   "source": [
    "from sevenn.sevennet_calculator import SevenNetCalculator\n",
    "seven_calc = SevenNetCalculator(\"7net-0\", device='cpu')  # 7net-0, SevenNet-0, 7net-0_22May2024, 7net-0_11July2024 ..."
   ]
  },
  {
   "cell_type": "code",
   "execution_count": 45,
   "metadata": {},
   "outputs": [],
   "source": [
    "# ckpt_params = dict(seven_calc.model.named_parameters())\n",
    "# ckpt_params = {k: v.detach().cpu().numpy() for k, v in ckpt_params.items()}\n",
    "# np.save('precomputed/sevennet_ckpt.npy', ckpt_params)"
   ]
  },
  {
   "cell_type": "code",
   "execution_count": null,
   "metadata": {},
   "outputs": [],
   "source": [
    "from functools import partial\n",
    "import torch\n",
    "from copy import deepcopy\n",
    "\n",
    "\n",
    "def serialize_atomgraph(data):    \n",
    "    values = []\n",
    "    for value in data:\n",
    "        if hasattr(value, 'num_atoms'):\n",
    "            values.append({\n",
    "                k: (np.array(torch.clone(v).numpy(force=True)) if isinstance(v, torch.Tensor) else v)\n",
    "                for k, v in dict(value).items()\n",
    "            })\n",
    "        else:\n",
    "            values.append(value)\n",
    "\n",
    "    return values\n",
    "\n",
    "\n",
    "class Recorder:    \n",
    "    def __init__(self):\n",
    "        self.inputs = {}\n",
    "        self.outputs = {}\n",
    "\n",
    "    def pre_hook(self, mod, args, name='module'):        \n",
    "        self.inputs[name] = serialize_atomgraph(args)[0]\n",
    "\n",
    "    def post_hook(self, mod, args, output, name='module'):        \n",
    "        self.outputs[name] = serialize_atomgraph([output])[0]\n",
    "\n",
    "\n",
    "rec = Recorder()\n",
    "atoms = s.to_ase_atoms()\n",
    "handles = []\n",
    "for name, mod in seven_calc.model.named_modules():\n",
    "    try:\n",
    "        handle = mod.register_forward_hook(partial(rec.post_hook, name=name))\n",
    "        handles.append(handle)\n",
    "        handle = mod.register_forward_pre_hook(partial(rec.pre_hook, name=name))\n",
    "        handles.append(handle)\n",
    "    except RuntimeError:\n",
    "        continue\n",
    "out = seven_calc.calculate(atoms=atoms)\n",
    "print(seven_calc.results['free_energy'] / s.num_sites)\n",
    "\n",
    "for handle in handles:\n",
    "    handle.remove()\n",
    "\n",
    "len(rec.inputs)"
   ]
  },
  {
   "cell_type": "code",
   "execution_count": null,
   "metadata": {},
   "outputs": [],
   "source": [
    "seven_calc.get_forces()"
   ]
  },
  {
   "cell_type": "code",
   "execution_count": null,
   "metadata": {},
   "outputs": [],
   "source": [
    "list(rec.outputs.keys())[-30:]"
   ]
  },
  {
   "cell_type": "code",
   "execution_count": null,
   "metadata": {},
   "outputs": [],
   "source": [
    "y = rec.outputs['0_self_connection_intro.linear'].numpy(force=True)\n",
    "y[0, 0]"
   ]
  },
  {
   "cell_type": "code",
   "execution_count": null,
   "metadata": {},
   "outputs": [],
   "source": [
    "x = rec.inputs['0_self_connection_intro.linear'].numpy(force=True)\n",
    "x"
   ]
  },
  {
   "cell_type": "code",
   "execution_count": null,
   "metadata": {},
   "outputs": [],
   "source": [
    "params = dict(seven_calc.model.get_submodule('0_self_connection_intro.linear').named_parameters())\n",
    "w = params['weight'].numpy(force=True).reshape(128, 224)\n",
    "w"
   ]
  },
  {
   "cell_type": "code",
   "execution_count": null,
   "metadata": {},
   "outputs": [],
   "source": [
    "((x / np.sqrt(128)) @ w)[0, 0]"
   ]
  },
  {
   "cell_type": "code",
   "execution_count": null,
   "metadata": {},
   "outputs": [],
   "source": [
    "rec.outputs['reduce_hidden_to_energy.linear']"
   ]
  },
  {
   "cell_type": "code",
   "execution_count": 11,
   "metadata": {},
   "outputs": [],
   "source": [
    "ag = rec.outputs['']"
   ]
  },
  {
   "cell_type": "code",
   "execution_count": null,
   "metadata": {},
   "outputs": [],
   "source": []
  },
  {
   "cell_type": "code",
   "execution_count": null,
   "metadata": {},
   "outputs": [],
   "source": [
    "i = np.where((ag['edge_index'][0] == 48) & (ag['edge_index'][1] == 0))[0].item()\n",
    "i"
   ]
  },
  {
   "cell_type": "code",
   "execution_count": null,
   "metadata": {},
   "outputs": [],
   "source": [
    "rec.outputs['edge_embedding']['edge_embedding'][i]"
   ]
  },
  {
   "cell_type": "code",
   "execution_count": null,
   "metadata": {},
   "outputs": [],
   "source": [
    "rec.inputs['0_self_connection_intro']['x']"
   ]
  },
  {
   "cell_type": "code",
   "execution_count": null,
   "metadata": {},
   "outputs": [],
   "source": [
    "rec.outputs['0_self_connection_intro.linear'][0, 1].item()"
   ]
  },
  {
   "cell_type": "code",
   "execution_count": null,
   "metadata": {},
   "outputs": [],
   "source": [
    "sns.heatmap(rec.outputs['onehot_to_feature_x']['x'], robust=True, center=0)"
   ]
  },
  {
   "cell_type": "code",
   "execution_count": null,
   "metadata": {},
   "outputs": [],
   "source": [
    "params = dict(seven_calc.model.onehot_to_feature_x.named_parameters())\n",
    "w = params['linear.weight'].detach().cpu().numpy()\n",
    "sns.heatmap(w.reshape(89, 128)[[11]], center=0, robust=True)"
   ]
  },
  {
   "cell_type": "code",
   "execution_count": null,
   "metadata": {},
   "outputs": [],
   "source": [
    "seven_calc.model"
   ]
  },
  {
   "cell_type": "code",
   "execution_count": null,
   "metadata": {},
   "outputs": [],
   "source": [
    "rec.outputs['edge_embedding.spherical.sph'][i][6].item()"
   ]
  },
  {
   "cell_type": "code",
   "execution_count": null,
   "metadata": {},
   "outputs": [],
   "source": [
    "sns.heatmap(rec.outputs['onehot_to_feature_x'][0]['x'], robust=True)"
   ]
  },
  {
   "cell_type": "code",
   "execution_count": null,
   "metadata": {},
   "outputs": [],
   "source": [
    "rec.outputs['onehot_to_feature_x.linear'][0][0].item()"
   ]
  },
  {
   "cell_type": "code",
   "execution_count": null,
   "metadata": {},
   "outputs": [],
   "source": [
    "{k: getattr(v, 'shape', v) for k, v in rec.outputs['onehot_to_feature_x.linear'][0].items()}"
   ]
  },
  {
   "cell_type": "code",
   "execution_count": null,
   "metadata": {},
   "outputs": [],
   "source": []
  }
 ],
 "metadata": {
  "kernelspec": {
   "display_name": "baysic",
   "language": "python",
   "name": "python3"
  },
  "language_info": {
   "codemirror_mode": {
    "name": "ipython",
    "version": 3
   },
   "file_extension": ".py",
   "mimetype": "text/x-python",
   "name": "python",
   "nbconvert_exporter": "python",
   "pygments_lexer": "ipython3",
   "version": "3.10.13"
  }
 },
 "nbformat": 4,
 "nbformat_minor": 2
}
