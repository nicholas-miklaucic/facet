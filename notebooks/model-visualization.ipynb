{
 "cells": [
  {
   "cell_type": "code",
   "execution_count": 2,
   "metadata": {},
   "outputs": [
    {
     "name": "stderr",
     "output_type": "stream",
     "text": [
      "/home/nmiklaucic/miniconda3/envs/avid/lib/python3.12/site-packages/IPython/core/magics/osm.py:393: UserWarning: This is now an optional IPython functionality, using bookmarks requires you to install the `pickleshare` library.\n",
      "  bkms = self.shell.db.get('bookmarks', {})\n",
      "/home/nmiklaucic/miniconda3/envs/avid/lib/python3.12/site-packages/IPython/core/magics/osm.py:417: UserWarning: This is now an optional IPython functionality, setting dhist requires you to install the `pickleshare` library.\n",
      "  self.shell.db['dhist'] = compress_dhist(dhist)[-100:]\n"
     ]
    },
    {
     "name": "stdout",
     "output_type": "stream",
     "text": [
      "/home/nmiklaucic/cdv\n"
     ]
    }
   ],
   "source": [
    "%cd ~/cdv/\n",
    "import os\n",
    "\n",
    "# os.environ['CUDA_VISIBLE_DEVICES'] = '0'\n",
    "\n",
    "import numpy as np\n",
    "import jax.numpy as jnp\n",
    "import jax\n",
    "import jax.random as jr\n",
    "import pandas as pd\n",
    "import plotly.express as px\n",
    "import matplotlib.pyplot as plt\n",
    "import seaborn as sns\n",
    "from wat import wat\n",
    "import rho_plus as rp\n",
    "\n",
    "from eins import EinsOp, Reductions as R, Transformations as T\n",
    "\n",
    "import treescope as ts\n",
    "import treescope.figures as tsf\n",
    "\n",
    "ts.basic_interactive_setup(autovisualize_arrays=False)\n",
    "\n",
    "is_dark = False\n",
    "theme, cs = rp.mpl_setup(is_dark)\n",
    "rp.plotly_setup(is_dark)"
   ]
  },
  {
   "cell_type": "code",
   "execution_count": 3,
   "metadata": {},
   "outputs": [],
   "source": [
    "from pathlib import Path\n",
    "import pyrallis\n",
    "from facet.config import MainConfig\n",
    "import orbax.checkpoint as ocp\n",
    "\n",
    "from facet.training_state import TrainingRun\n",
    "from facet.checkpointing import best_ckpt\n",
    "\n",
    "pretrained = True\n",
    "\n",
    "if pretrained:\n",
    "    run_dir = Path('logs') / 'enb-183'\n",
    "    # run_dir = Path('logs') / '10-04-13-00_430'\n",
    "    conf_file = run_dir / 'config.toml'\n",
    "else:\n",
    "    conf_file = 'configs/small.toml'\n",
    "\n",
    "with open(conf_file) as f:\n",
    "    config = pyrallis.cfgparsing.load(MainConfig, f)\n",
    "    config.batch_size = 32\n",
    "\n",
    "if not pretrained:    \n",
    "    config.model.resid_init = 'ones'\n",
    "\n",
    "# config.model.self_connection.mlp.dropout = 0.0\n",
    "model = config.build_regressor()"
   ]
  },
  {
   "cell_type": "code",
   "execution_count": 6,
   "metadata": {},
   "outputs": [],
   "source": [
    "from facet.data.dataset import load_file, dataloader\n",
    "\n",
    "num_batches, dl = dataloader(config, 'train')\n",
    "cg = jax.tree.map(lambda x: x[2], next(dl))\n",
    "# cg"
   ]
  },
  {
   "cell_type": "code",
   "execution_count": 4,
   "metadata": {},
   "outputs": [
    {
     "name": "stderr",
     "output_type": "stream",
     "text": [
      "WARNING:absl:Configured `CheckpointManager` using deprecated legacy API. Please follow the instructions at https://orbax.readthedocs.io/en/latest/api_refactor.html to migrate.\n",
      "WARNING:absl:Given directory is read only=/home/nmiklaucic/cdv/logs/enb-183/final_ckpt/ckpts\n",
      "WARNING:absl:`StandardCheckpointHandler` expects a target tree to be provided for restore. Not doing so is generally UNSAFE unless you know the present topology to be the same one as the checkpoint was saved under.\n"
     ]
    }
   ],
   "source": [
    "from facet.layers import Context\n",
    "\n",
    "if pretrained:\n",
    "    ckpt = best_ckpt(run_dir)\n",
    "    params = ckpt['state']['params']\n",
    "    ema_params = ckpt['state']['opt_state'][-1]['ema']['params']\n",
    "else:\n",
    "    out, params = model.init_with_output(jr.key(29205), cg=cg, ctx=Context(training=True))    \n",
    "    ema_params = params"
   ]
  },
  {
   "cell_type": "code",
   "execution_count": 7,
   "metadata": {},
   "outputs": [
    {
     "name": "stdout",
     "output_type": "stream",
     "text": [
      "0.019417392\n",
      "0.011017645\n"
     ]
    }
   ],
   "source": [
    "from flax import linen as nn\n",
    "from dataclasses import dataclass\n",
    "from treescope import rendering_parts as tsr\n",
    "\n",
    "from typing import Sequence, Any\n",
    "from facet.layers import Context, Identity\n",
    "from facet.utils import debug_stat, debug_structure, flax_summary, intercept_stat, callable_name, signature\n",
    "def add_with_duplicated_name(d: dict, k, v):\n",
    "    prefix = 0\n",
    "    while f'{prefix}_{k}' in d:\n",
    "        prefix += 1\n",
    "    d[f'{prefix}_{k}'] = v\n",
    "\n",
    "class Params(dict):\n",
    "    def __treescope_repr__(self, path, subtree_renderer):\n",
    "        size = jax.tree.reduce(lambda x, y: x + y, jax.tree.map(lambda x: x.size, dict(self.items())), initializer=0)        \n",
    "\n",
    "        children = []\n",
    "        for k, v in self.items():\n",
    "            child_path = None if path is None else f\"{path}.{k}\"\n",
    "            children.append(tsr.build_full_line_with_annotations(\n",
    "                tsr.siblings_with_annotations(\n",
    "                    f\"{k}: \",\n",
    "                    subtree_renderer(v, path=child_path),\n",
    "                )))\n",
    "        return tsr.build_foldable_tree_node_from_children(\n",
    "            prefix=tsr.text('Params{'),\n",
    "            children=children,\n",
    "            comma_separated=True,\n",
    "            suffix='}',\n",
    "            path=path,\n",
    "            background_color='salmon',\n",
    "            first_line_annotation=tsr.abbreviation_color(tsr.text(f'{size} parameters')),\n",
    "            expand_state=tsr.ExpandState.COLLAPSED)\n",
    "  \n",
    "\n",
    "\n",
    "@dataclass\n",
    "class ModuleCall:  \n",
    "    module: nn.Module\n",
    "    input: dict[str, Any]\n",
    "    params: dict[str, Any]\n",
    "    param_grads: dict[str, Any]\n",
    "    children: dict[str, 'ModuleCall']\n",
    "    output: Any\n",
    "\n",
    "    def __treescope_repr__(self, path, subtree_renderer):\n",
    "        attributes = {}\n",
    "        if len(self.input):\n",
    "            attributes['input'] = self.input\n",
    "\n",
    "        if len(self.children):\n",
    "            attributes['children'] = self.children\n",
    "\n",
    "        if len(self.params):\n",
    "            attributes['params'] = Params(**self.params)\n",
    "\n",
    "        if len(self.param_grads):\n",
    "            attributes['grads'] = Params(**self.param_grads)\n",
    "\n",
    "        if self.output is not None:\n",
    "            attributes['output'] = self.output\n",
    "        \n",
    "\n",
    "        children = []\n",
    "        for k, v in attributes.items():\n",
    "            child_path = None if path is None else f\"{path}.{k}\"\n",
    "            children.append(tsr.build_full_line_with_annotations(\n",
    "                tsr.siblings_with_annotations(\n",
    "                    f\"{k}: \",\n",
    "                    subtree_renderer(v, path=child_path),\n",
    "                )))\n",
    "        return tsr.build_foldable_tree_node_from_children(\n",
    "            prefix=tsr.siblings(tsr.maybe_qualified_type_name(type(self.module)), '('),\n",
    "            children=[tsr.on_separate_lines(children)],\n",
    "            suffix=')',\n",
    "            path=path,\n",
    "            comma_separated=True,\n",
    "            first_line_annotation=tsr.abbreviation_color(tsr.text(self.module.name or \"\")),\n",
    "            background_color=ts.formatting_util.color_from_string(str(type(self.module))),\n",
    "            expand_state=tsr.ExpandState.COLLAPSED)\n",
    "            \n",
    "        # return ts.repr_lib.render_object_constructor(\n",
    "        #     object_type=type(self.module),\n",
    "        #     attributes=attributes,\n",
    "        #     color=ts.formatting_util.color_from_string(str(type(self.module))),\n",
    "        #     **kwargs\n",
    "        # )\n",
    "  \n",
    "\n",
    "def insert(stack, call, path):\n",
    "    if len(path) == 0:\n",
    "        i = 0\n",
    "        while f'{i}' in call.children:\n",
    "            i += 1\n",
    "        call.children[f'{i}'] = stack\n",
    "        return call\n",
    "    \n",
    "    head, *tail = path\n",
    "    if head in stack.children:\n",
    "        stack.children[head] = insert(stack.children[head], call, tail)        \n",
    "    else:\n",
    "        stack.children[head] = call\n",
    "\n",
    "    return stack\n",
    "\n",
    "\n",
    "class FlowRecorder:\n",
    "    def __init__(self):\n",
    "        self.stack = None\n",
    "        self.call_chain = []\n",
    "\n",
    "    def __call__(self, next_fun, args, kwargs, context):        \n",
    "        # print(self.call_chain)\n",
    "        # print(type(context.module), context.module.path, context.method_name)\n",
    "        if context.method_name == 'setup' or isinstance(context.module, Identity):\n",
    "            return next_fun(*args, **kwargs)\n",
    "        \n",
    "        if context.method_name == '__call__':\n",
    "            path = context.module.path\n",
    "        else:\n",
    "            *head, tail = context.module.path\n",
    "            path = (*head, tail + '.' + context.method_name)\n",
    "\n",
    "        if path:\n",
    "            self.call_chain.append(path[-1])\n",
    "        \n",
    "        sig = signature(next_fun)\n",
    "        bound = sig.bind(*args, **kwargs)              \n",
    "\n",
    "        call = ModuleCall(\n",
    "            context.module,\n",
    "            {k: v for k, v in bound.arguments.items() if k != 'ctx'},\n",
    "            {k: v for k, v in context.module.variables.get('params', {}).items() if not isinstance(v, dict)},\n",
    "            {},\n",
    "            {},\n",
    "            None\n",
    "        )\n",
    "\n",
    "        if self.stack is None:\n",
    "            self.stack = call\n",
    "        else:\n",
    "            self.stack = insert(self.stack, call, self.call_chain)\n",
    "\n",
    "        out = context.orig_method(*args, **kwargs)\n",
    "        call.output = out\n",
    "\n",
    "        if path:\n",
    "            self.call_chain.remove(path[-1])\n",
    "\n",
    "        return out\n",
    "\n",
    "\n",
    "rot_cg, rots = cg.rotate(314)\n",
    "obj = FlowRecorder()\n",
    "rng = jr.key(332)\n",
    "ctx = Context(training=True)\n",
    "mod_base = model.bind(params, rngs={'params': rng})\n",
    "mod = model.bind({'params': ema_params}, rngs={'params': rng})\n",
    "mod_apply = jax.jit(lambda cg: mod.apply(params, cg=cg, ctx=ctx, rngs=rng))\n",
    "with nn.intercept_methods(obj):\n",
    "    out = mod(cg=cg, ctx=ctx)\n",
    "\n",
    "rot_out = mod(cg=rot_cg, ctx=ctx)\n",
    "    \n",
    "# base_out = mod_base(cg=cg, ctx=ctx)\n",
    "# ts.display(obj.stack)\n",
    "\n",
    "print(jnp.abs(out.reshape(-1) - cg.target_data.e_form.reshape(-1))[cg.padding_mask].mean())\n",
    "print(jnp.abs(out - rot_out)[cg.padding_mask].reshape(-1).mean())"
   ]
  },
  {
   "cell_type": "code",
   "execution_count": 8,
   "metadata": {},
   "outputs": [
    {
     "data": {
      "text/html": [
       "<pre style=\"white-space:pre;overflow-x:auto;line-height:normal;font-family:Menlo,'DejaVu Sans Mono',consolas,'Courier New',monospace\"></pre>\n"
      ],
      "text/plain": []
     },
     "metadata": {},
     "output_type": "display_data"
    },
    {
     "data": {
      "text/html": [
       "<script> (()=>{ if (customElements.get('treescope-container') === undefined) { class TreescopeContainer extends HTMLElement { constructor() { super(); this.attachShadow({mode: \"open\"}); this.defns = {}; this.state = {}; } } customElements.define(\"treescope-container\", TreescopeContainer); } if (customElements.get('treescope-run-here') === undefined) { class RunHere extends HTMLElement { constructor() { super() } connectedCallback() { const run = child => { const fn = new Function(child.textContent); child.textContent = \"\"; fn.call(this); this.remove(); }; const child = this.querySelector(\"script\"); if (child) { run(child); } else { new MutationObserver(()=>{ run(this.querySelector(\"script\")); }).observe(this, {childList: true}); } } } customElements.define(\"treescope-run-here\", RunHere); } })(); </script> <treescope-container class=\"treescope_out_0b347824415442fda354090311a1c788\" ></treescope-container> <treescope-run-here><script type=\"application/octet-stream\"> const root = ( Array.from(document.getElementsByClassName( \"treescope_out_0b347824415442fda354090311a1c788\")) .filter((elt) => !elt.dataset.setup) )[0]; root.dataset.setup = 1; const msg = document.createElement(\"span\"); msg.style = \"color: #cccccc; font-family: monospace;\"; msg.textContent = \"(Loading...)\"; root.state.loadingMsg = msg; root.shadowRoot.appendChild(msg); root.state.chain = new Promise((resolve, reject) => { const observer = new IntersectionObserver((entries) => { for (const entry of entries) { if (entry.isIntersecting) { resolve(); observer.disconnect(); return; } } }, {rootMargin: \"1000px\"}); window.setTimeout(() => { observer.observe(root); }, 0); }); root.state.deferring = false; const _insertNode = (node) => { for (let oldScript of node.querySelectorAll(\"script\")) { let newScript = document.createElement(\"script\"); newScript.type = oldScript.type; newScript.textContent = oldScript.textContent; oldScript.parentNode.replaceChild(newScript, oldScript); } if (root.state.loadingMsg) { root.state.loadingMsg.remove(); root.state.loadingMsg = null; } root.shadowRoot.appendChild(node); }; root.defns.insertContent = ((contentNode, compressed) => { if (compressed) { root.state.deferring = true; } if (root.state.deferring) { root.state.chain = (async () => { await root.state.chain; if (compressed) { const encoded = contentNode.textContent; const blob = new Blob([ Uint8Array.from(atob(encoded), (m) => m.codePointAt(0)) ]); const reader = blob.stream().pipeThrough( new DecompressionStream(\"deflate\") ).pipeThrough( new TextDecoderStream(\"utf-8\") ).getReader(); const parts = []; while (true) { const step = await reader.read(); if (step.done) { break; } parts.push(step.value); } const tpl = document.createElement('template'); tpl.innerHTML = parts.join(\"\"); _insertNode(tpl.content); } else { _insertNode(contentNode.content); } })(); } else { _insertNode(contentNode.content); } }); </script></treescope-run-here><div style=\"display:none\"> <script type=\"application/octet-stream\" >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</script> <treescope-run-here><script type=\"application/octet-stream\"> const root = ( Array.from(document.getElementsByClassName( \"treescope_out_0b347824415442fda354090311a1c788\")) .filter((elt) => !elt.dataset['step0']) )[0]; root.dataset['step0'] = 1; root.defns.insertContent( this.parentNode.querySelector('script[type=\"application/octet-stream\"]'), true ); this.parentNode.remove(); </script></treescope-run-here> </div>"
      ],
      "text/plain": [
       "\u001b[1m<\u001b[0m\u001b[1;95mIPython.core.display.HTML\u001b[0m\u001b[39m object\u001b[0m\u001b[1m>\u001b[0m"
      ]
     },
     "metadata": {},
     "output_type": "display_data"
    },
    {
     "data": {
      "text/html": [
       "<pre style=\"white-space:pre;overflow-x:auto;line-height:normal;font-family:Menlo,'DejaVu Sans Mono',consolas,'Courier New',monospace\"></pre>\n"
      ],
      "text/plain": []
     },
     "metadata": {},
     "output_type": "display_data"
    },
    {
     "data": {
      "text/html": [
       "<div style=\"display:none\"> <script type=\"application/octet-stream\" >eNq1VNlO3DAU/RXLSGhGMMExWZlFaqGVeOlD+9AHhEaOfT3jysSp40EdVfx7bzIL0EUwlXhJcuNz7nJ87Iky96QNawtTqkzbWLG+ILWrgRKjplQ7P1egwXtQc6ZilhUM8oRBksVVFZegldKqAJ3nQtPZpG1Ejc8u3yySziJdVJWHe/KT9OEFOcoKLhgbk4fJ2QbYs4i0om2n9CmJzo5tGH8TP6J33ov1gEUszvNzXp4SFdYNTLV1Ipzz4fEijDFbX3z3wsFmkwOmkxUHnVTAY5kmaarKXFd5rgqW6gQyLR+ne3W3cZywnOX8LdotMlXxrtG0FEkmKpEXQohccx7zLJXs4HbjNGJlURbFm3Rb6JiLVPMy00nKsQ4DpkXF4jitMsH/Q9xDrRA8QCtdAyO/qkdL8J3xpDdNIH0CKprGGimCcfWZkwHCqEWOuKMz6eoWUcIvIFyrlkzJDX39qTgl9PUmewp+cYufgV9S+Ha8GUM56Z0LOERYmjbCkT5j+MkpGAzHZDsqarUFbeHR9xX49RewIIPzAxrt5Zx3y3RP1V4s7qDeUlfdZyRRxgBX2/DjFvFnuUuL7kHiLkeEWwK1ulwaqwY7UCQ7VN9v8CsYYha0GhlYCMQgGW8WQyaPuxVZqBdhiX9PToZ4DXW4zeLTShh+sNB9vl9fY7Ed+8bcYoGO07qVl3CFnv+nKEed5yk5Ib/RN2HkAc+IhK8mLAf7bJE2vt3V7idFwuOqhzt33+/Mw16mZ4meaTfsrN97Gl3/F8P/AnJBAFs=</script> <treescope-run-here><script type=\"application/octet-stream\"> const root = ( Array.from(document.getElementsByClassName( \"treescope_out_0b347824415442fda354090311a1c788\")) .filter((elt) => !elt.dataset['step1']) )[0]; root.dataset['step1'] = 1; root.defns.insertContent( this.parentNode.querySelector('script[type=\"application/octet-stream\"]'), true ); this.parentNode.remove(); </script></treescope-run-here> </div>"
      ],
      "text/plain": [
       "\u001b[1m<\u001b[0m\u001b[1;95mIPython.core.display.HTML\u001b[0m\u001b[39m object\u001b[0m\u001b[1m>\u001b[0m"
      ]
     },
     "metadata": {},
     "output_type": "display_data"
    },
    {
     "data": {
      "text/html": [
       "<pre style=\"white-space:pre;overflow-x:auto;line-height:normal;font-family:Menlo,'DejaVu Sans Mono',consolas,'Courier New',monospace\"></pre>\n"
      ],
      "text/plain": []
     },
     "metadata": {},
     "output_type": "display_data"
    },
    {
     "data": {
      "text/html": [
       "<treescope-run-here><script type=\"application/octet-stream\"> const root = ( Array.from(document.getElementsByClassName( \"treescope_out_0b347824415442fda354090311a1c788\")) .filter((elt) => !elt.dataset.stolen) )[0]; root.dataset.stolen = 1; this.parentNode.replaceChild(root, this); </script></treescope-run-here>"
      ],
      "text/plain": [
       "\n",
       "\u001b[1m{\u001b[0m\n",
       "    \u001b[32m'energy'\u001b[0m: \u001b[1;35mArray\u001b[0m\u001b[1m(\u001b[0m\u001b[1;36m0.0177329\u001b[0m, \u001b[33mdtype\u001b[0m=\u001b[35mfloat32\u001b[0m\u001b[1m)\u001b[0m,\n",
       "    \u001b[32m'force'\u001b[0m: \u001b[1;35mArray\u001b[0m\u001b[1m(\u001b[0m\u001b[1;36m0.11407072\u001b[0m, \u001b[33mdtype\u001b[0m=\u001b[35mfloat32\u001b[0m\u001b[1m)\u001b[0m,\n",
       "    \u001b[32m'stress'\u001b[0m: \u001b[1;35mArray\u001b[0m\u001b[1m(\u001b[0m\u001b[1;36m15.098988\u001b[0m, \u001b[33mdtype\u001b[0m=\u001b[35mfloat32\u001b[0m\u001b[1m)\u001b[0m,\n",
       "    \u001b[32m'loss'\u001b[0m: \u001b[1;35mArray\u001b[0m\u001b[1m(\u001b[0m\u001b[1;36m0.0177329\u001b[0m, \u001b[33mdtype\u001b[0m=\u001b[35mfloat32\u001b[0m\u001b[1m)\u001b[0m\n",
       "\u001b[1m}\u001b[0m"
      ]
     },
     "execution_count": 8,
     "metadata": {},
     "output_type": "execute_result"
    }
   ],
   "source": [
    "def apply(params):\n",
    "    yhat = config.train.loss.efs_wrapper(model.apply, params, cg, ctx=Context(training=False))\n",
    "    loss = config.train.loss.efs_loss(cg, yhat)\n",
    "    return loss['loss'], (loss, yhat)\n",
    "\n",
    "\n",
    "loss_out, (loss, yhat) = apply({'params': ema_params})\n",
    "loss\n",
    "\n",
    "# (loss_out, (efs_loss, yhat)), grads = jax.value_and_grad(apply, has_aux=True)(params)\n",
    "# loss_out"
   ]
  },
  {
   "cell_type": "code",
   "execution_count": 9,
   "metadata": {},
   "outputs": [],
   "source": [
    "# yhat = config.train.loss.efs_wrapper(model.apply, params, cg, ctx=ctx)\n",
    "# if pretrained and config.data.dataset_name == 'mptrj':\n",
    "#     fhat = R.l2_norm(yhat.force, -1)\n",
    "#     f = R.l2_norm(cg.target_data.force, -1)\n",
    "#     na = cg.n_node[cg.nodes.graph_i]\n",
    "\n",
    "#     sns.scatterplot(x=fhat, y=f, ec=None, alpha=0.2, s=15)\n",
    "#     plt.xlim(*plt.ylim())\n",
    "\n",
    "#     plt.show()\n",
    "\n",
    "#     dhat = jnp.linalg.det(yhat.stress)\n",
    "#     d = jnp.linalg.det(cg.target_data.stress)\n",
    "\n",
    "#     sns.scatterplot(x=dhat, y=d, ec=None, alpha=0.2, s=15)\n",
    "#     plt.xlim(*plt.ylim())"
   ]
  },
  {
   "cell_type": "code",
   "execution_count": 10,
   "metadata": {},
   "outputs": [],
   "source": [
    "# param_grad_leaves = list(zip(jax.tree.leaves(params), jax.tree.leaves(grads)))\n",
    "# def insert_grads(stack: ModuleCall, param_grad_leaves):\n",
    "#     for k, v in stack.params.items():\n",
    "#         for a, b in param_grad_leaves:\n",
    "#             if v.shape == a.shape and jnp.max(jnp.abs(v - a)) <= 1e-6:\n",
    "#                 stack.param_grads[k] = b\n",
    "\n",
    "#     for child in stack.children.values():\n",
    "#         insert_grads(child, param_grad_leaves)\n",
    "\n",
    "# insert_grads(obj.stack, param_grad_leaves)"
   ]
  },
  {
   "cell_type": "code",
   "execution_count": 11,
   "metadata": {},
   "outputs": [],
   "source": [
    "import e3nn_jax as e3nn\n",
    "from typing import Any\n",
    "from flax import struct\n",
    "from pymatgen.core import Element\n",
    "from facet.utils import StatsVisitor, StructureVisitor, tree_traverse\n",
    "\n",
    "elements = {\n",
    "   z: Element.from_Z(z).symbol\n",
    "   for z in range(1, 100)\n",
    "}\n",
    "\n",
    "md = mod.dataset_metadata\n",
    "atom_nos = md.atomic_numbers\n",
    "\n",
    "symbol_perm = np.argsort(atom_nos)\n",
    "symbols = [Element.from_Z(z).symbol if z != 0 else '0' for z in sorted(atom_nos)]\n",
    "\n",
    "colors = pd.read_csv('https://raw.githubusercontent.com/CorySimon/JMolColors/master/jmolcolors.csv')\n",
    "jmol_palette = [(row['R'], row['G'], row['B']) for i, row in colors.iterrows()]\n",
    "\n",
    "# x = e3nn.normal('128x0e + 64x1e + 32x2e', leading_shape=(32,))\n",
    "\n",
    "\n",
    "if is_dark:\n",
    "    div = rp.mpl_div_icefire_shift\n",
    "else:\n",
    "    div = rp.mpl_div_coolwarm_shift\n",
    "\n",
    "ts.default_diverging_colormap.set_globally((255 * div(jnp.linspace(0, 1, 20))).tolist())\n",
    "\n",
    "def render_tensor(arr, abbrev_color=None, **kwargs):    \n",
    "    axis_item_labels = kwargs.get('axis_item_labels', {})    \n",
    "    axis_labels = kwargs.get('axis_labels', {})\n",
    "    for i, size in enumerate(arr.shape):\n",
    "        if size == len(md.atomic_numbers):\n",
    "            axis_labels[i] = 'species'\n",
    "            axis_item_labels[i] = symbols\n",
    "            arr = jnp.take(arr, symbol_perm, axis=i)\n",
    "        elif size == (config.data.batch_n_nodes or md.batch_num_atoms * md.batch_num_graphs):\n",
    "           node_mask = cg.padding_mask[cg.nodes.graph_i]\n",
    "           new_shape = [1 for _ in range(i)] + [size] + [1 for _ in range(i + 1, len(arr.shape))]\n",
    "           kwargs['valid_mask'] = node_mask.reshape(*new_shape)\n",
    "\n",
    "    kwargs['axis_item_labels'] = axis_item_labels\n",
    "    kwargs['axis_labels'] = axis_labels\n",
    "\n",
    "    if arr.dtype == np.int16 and jnp.max(arr) <= 100:\n",
    "       kwargs['value_item_labels'] = elements\n",
    "       kwargs['colormap'] = ['grey', *jmol_palette]       \n",
    "       arr = jnp.take(mod.dataset_metadata.atomic_numbers, arr)\n",
    "\n",
    "    structure = tree_traverse(StructureVisitor(), arr)\n",
    "    stats = tree_traverse(StatsVisitor(pad=False), arr)\n",
    "\n",
    "    if abbrev_color is None:\n",
    "       abbrev = lambda x: tsr.abbreviation_color(tsr.text(x))\n",
    "    else:\n",
    "       abbrev = lambda x: tsr.custom_text_color(tsr.text(x), abbrev_color)\n",
    "    rendering = (\n",
    "        tsr.build_custom_foldable_tree_node(\n",
    "            label=abbrev(f'{structure} {stats}'),\n",
    "            contents=tsr.siblings(\n",
    "                tsr.fold_condition(\n",
    "                    expanded=ts.lowering.maybe_defer_rendering(lambda _maybe_exp_state: tsr.siblings(\n",
    "                        abbrev(\":\"),\n",
    "                        tsr.indented_children([ts.render_array(\n",
    "                            arr,\n",
    "                            pixels_per_cell=5,\n",
    "                            truncate=True,      \n",
    "                            **kwargs,\n",
    "                        ).treescope_part]),\n",
    "                    ), placeholder_thunk=lambda: tsr.text(\"Rendering array...\"))\n",
    "                ),\n",
    "                # abbrev(\">\"),\n",
    "            ),\n",
    "            expand_state=tsr.ExpandState.COLLAPSED,\n",
    "        )\n",
    "    )\n",
    "        \n",
    "    return rendering\n",
    "\n",
    "\n",
    "def test_arrayviz(\n",
    "    value: Any,\n",
    "    path: tuple[Any, ...] | None,\n",
    "):\n",
    "  if isinstance(value, (np.ndarray, jax.Array)):\n",
    "    return ts.VisualizationFromTreescopePart(render_tensor(value.squeeze()))\n",
    "\n",
    "# ts.display(params['params']['node_embedding']['embed'], autovisualize=test_arrayviz)"
   ]
  },
  {
   "cell_type": "code",
   "execution_count": 12,
   "metadata": {},
   "outputs": [],
   "source": [
    "def irrep_structure(arr: e3nn.IrrepsArray) -> str:\n",
    "  arr_structure = tree_traverse(StructureVisitor(), arr.array[..., 0])\n",
    "  return f'{arr_structure}[{arr.irreps}] :: '\n",
    "\n",
    "def irrep_array_visualizer(\n",
    "    value: Any,\n",
    "    path: tuple[Any, ...] | None,\n",
    "):\n",
    "  if isinstance(value, (np.ndarray, jax.Array)):\n",
    "    return ts.VisualizationFromTreescopePart(render_tensor(value.squeeze()))\n",
    "  elif isinstance(value, e3nn.IrrepsArray):\n",
    "    # abs_max = jnp.max(jnp.abs(value.array)).item()\n",
    "    # vmin = -abs_max\n",
    "    # vmax = abs_max\n",
    "\n",
    "    visualizations = []\n",
    "    for ir_mul, chunk in zip(value.irreps, value.chunks):      \n",
    "      if chunk is None:\n",
    "        continue\n",
    "\n",
    "      chunk = chunk.squeeze()\n",
    "      color = cs[ir_mul.ir.l]\n",
    "      ndim = chunk.ndim\n",
    "      kwargs = {\n",
    "        'abbrev_color': color,\n",
    "        # 'vmin': vmin,\n",
    "        # 'vmax': vmax,\n",
    "      }\n",
    "\n",
    "      if ir_mul.ir.l == 0:\n",
    "        kwargs['arr'] = chunk\n",
    "      else:\n",
    "        kwargs['arr'] = chunk\n",
    "        kwargs['rows'] = [ndim - 1]\n",
    "        kwargs['sliders'] = list(range(0, ndim-2))\n",
    "        kwargs['axis_labels'] = {(ndim-1): str(ir_mul.ir)}\n",
    "        \n",
    "      visualizations.append(render_tensor(**kwargs).renderable)\n",
    "    return ts.VisualizationFromTreescopePart(tsr.build_custom_foldable_tree_node(\n",
    "      label=tsr.abbreviation_color(tsr.text(irrep_structure(value))), \n",
    "      contents=tsr.indented_children(visualizations, comma_separated=True), \n",
    "      path=path, \n",
    "      expand_state=tsr.ExpandState.EXPANDED))\n",
    "  \n",
    "  \n",
    "\n",
    "# ts.display(obj.stack.children['mace'].children['layer_0'].output, autovisualize=irrep_array_visualizer)"
   ]
  },
  {
   "cell_type": "code",
   "execution_count": null,
   "metadata": {},
   "outputs": [],
   "source": [
    "ts.display(obj.stack, autovisualize=irrep_array_visualizer)"
   ]
  },
  {
   "cell_type": "code",
   "execution_count": 13,
   "metadata": {},
   "outputs": [
    {
     "data": {
      "text/html": [
       "<pre style=\"white-space:pre;overflow-x:auto;line-height:normal;font-family:Menlo,'DejaVu Sans Mono',consolas,'Courier New',monospace\"></pre>\n"
      ],
      "text/plain": []
     },
     "metadata": {},
     "output_type": "display_data"
    },
    {
     "data": {
      "text/html": [
       "<script> (()=>{ if (customElements.get('treescope-container') === undefined) { class TreescopeContainer extends HTMLElement { constructor() { super(); this.attachShadow({mode: \"open\"}); this.defns = {}; this.state = {}; } } customElements.define(\"treescope-container\", TreescopeContainer); } if (customElements.get('treescope-run-here') === undefined) { class RunHere extends HTMLElement { constructor() { super() } connectedCallback() { const run = child => { const fn = new Function(child.textContent); child.textContent = \"\"; fn.call(this); this.remove(); }; const child = this.querySelector(\"script\"); if (child) { run(child); } else { new MutationObserver(()=>{ run(this.querySelector(\"script\")); }).observe(this, {childList: true}); } } } customElements.define(\"treescope-run-here\", RunHere); } })(); </script> <treescope-container class=\"treescope_out_085e69e4052747f9a005118ebfc9d0e2\" ></treescope-container> <treescope-run-here><script type=\"application/octet-stream\"> const root = ( Array.from(document.getElementsByClassName( \"treescope_out_085e69e4052747f9a005118ebfc9d0e2\")) .filter((elt) => !elt.dataset.setup) )[0]; root.dataset.setup = 1; const msg = document.createElement(\"span\"); msg.style = \"color: #cccccc; font-family: monospace;\"; msg.textContent = \"(Loading...)\"; root.state.loadingMsg = msg; root.shadowRoot.appendChild(msg); root.state.chain = new Promise((resolve, reject) => { const observer = new IntersectionObserver((entries) => { for (const entry of entries) { if (entry.isIntersecting) { resolve(); observer.disconnect(); return; } } }, {rootMargin: \"1000px\"}); window.setTimeout(() => { observer.observe(root); }, 0); }); root.state.deferring = false; const _insertNode = (node) => { for (let oldScript of node.querySelectorAll(\"script\")) { let newScript = document.createElement(\"script\"); newScript.type = oldScript.type; newScript.textContent = oldScript.textContent; oldScript.parentNode.replaceChild(newScript, oldScript); } if (root.state.loadingMsg) { root.state.loadingMsg.remove(); root.state.loadingMsg = null; } root.shadowRoot.appendChild(node); }; root.defns.insertContent = ((contentNode, compressed) => { if (compressed) { root.state.deferring = true; } if (root.state.deferring) { root.state.chain = (async () => { await root.state.chain; if (compressed) { const encoded = contentNode.textContent; const blob = new Blob([ Uint8Array.from(atob(encoded), (m) => m.codePointAt(0)) ]); const reader = blob.stream().pipeThrough( new DecompressionStream(\"deflate\") ).pipeThrough( new TextDecoderStream(\"utf-8\") ).getReader(); const parts = []; while (true) { const step = await reader.read(); if (step.done) { break; } parts.push(step.value); } const tpl = document.createElement('template'); tpl.innerHTML = parts.join(\"\"); _insertNode(tpl.content); } else { _insertNode(contentNode.content); } })(); } else { _insertNode(contentNode.content); } }); </script></treescope-run-here><div style=\"display:none\"> <script type=\"application/octet-stream\" >eNqtVU1v4zYQ/SuEFtiVikhREiS7kG0BuRQ9FD20hx6KQqCokcSGIlVybMdd5L/vkJK9dlYbFGhtwLaGjzPvzZfXDg8KygwtgBNmhMoag+wzG42TKI0umAXFUe5gxVqjMW35INWhYIPRxo1ckH3fS4Q0PBRstGRR0mEaXKd4GMmqjSZzzcVTZ81WN6kwythiurpi81OtCED+ZIN9wVqJBNMIGlds5E0jdZcqaLFgt6L3QTSkPciuJ8tNdu/daOSSOJ+uzT/SnXSylkoiMedbNCdsKjVaqZ0UqZP/wHQ6031ZX0/pWZ/Sk9qtppiWbE5YOSLz+jYf+DgqKbjP2LURCF69BT58KOM42ZSUUIrnkDXQasc2DHvpsg7wV8r2L6aBOMl64zAL5yQNkFUjaC/5UXiv/tIffy6d/MR1o4CO9Vap1RQhI5q/GaPJGu+NfUrYOQfzO5n80YUZpfDGEWxr7MC1gEybfZyE+lKA+JsTlk6X1uzuNiE/smXxK9aZAt1hzzYblnvIm9Qt4NZqyjsD5eArsX6rPbPXrl0vW/T8AsD/eKH3dyLE1FW6MfvMwt9bcPio5RDK9aPlA8RTThLvY/VNoHHr+imNqwWNxxCbScYbKv89B89iKiSarlPTVFZhcqhbR+/LW0DhFYMdNfhcSc8uPGdPcPBJj2zkCc3gTCju3M80nLPfODr5rAZqw+gY/CWhfFL7hx4v19dLA9DIHQsON9Hl+ogY8pqUwvMmyiNmNJEh2Zpwb7X9stbY3zmqjGjspoUVNkbF69rCLnRKWCDvHj7d8jwn/jNAmGGgi2cIHl5e5isIL7TBuOjNDmyygKd+4xaaas+tptpWitegzhy3LRc3dwvAkQr2+bTA7Lyv/AYbuO1oBc2mNM/uvfXrlizCjuM27SxvJJGMb+7uG+iumLFcd8BylmcPor9iSM+0gK0XEkwsVHKBSiZd1UrrsDK68u6D7Kw1quE1ZV9TWYqeu7gMAsvLk2qq0ZQq0YN4giZJ2A++yWY104Y+innJ9j1oSrJSfHTQEK6RblT8cPxTIJb/LfgbEaT2CkOMAILnkYbxu5j/g8dSiNd/J1QpfRyd80aOyvcKV4/P4Ar2vkM/gIS8xF8EiZZ8zQ0dlYy9Y94hLZlRGVSyzjj5zqrw6cMwU/8Fgnqfuub5I+T8Y3tbf3qA/Dz68YvmvfwC8gLlFw==</script> <treescope-run-here><script type=\"application/octet-stream\"> const root = ( Array.from(document.getElementsByClassName( \"treescope_out_085e69e4052747f9a005118ebfc9d0e2\")) .filter((elt) => !elt.dataset['step0']) )[0]; root.dataset['step0'] = 1; root.defns.insertContent( this.parentNode.querySelector('script[type=\"application/octet-stream\"]'), true ); this.parentNode.remove(); </script></treescope-run-here> </div>"
      ],
      "text/plain": [
       "\u001b[1m<\u001b[0m\u001b[1;95mIPython.core.display.HTML\u001b[0m\u001b[39m object\u001b[0m\u001b[1m>\u001b[0m"
      ]
     },
     "metadata": {},
     "output_type": "display_data"
    },
    {
     "data": {
      "text/html": [
       "<pre style=\"white-space:pre;overflow-x:auto;line-height:normal;font-family:Menlo,'DejaVu Sans Mono',consolas,'Courier New',monospace\"></pre>\n"
      ],
      "text/plain": []
     },
     "metadata": {},
     "output_type": "display_data"
    },
    {
     "data": {
      "text/html": [
       "<treescope-run-here><script type=\"application/octet-stream\"> const root = ( Array.from(document.getElementsByClassName( \"treescope_out_085e69e4052747f9a005118ebfc9d0e2\")) .filter((elt) => !elt.dataset.stolen) )[0]; root.dataset.stolen = 1; this.parentNode.replaceChild(root, this); </script></treescope-run-here>"
      ],
      "text/plain": [
       "\u001b[1m<\u001b[0m\u001b[1;95mAxes:\u001b[0m\u001b[39m \u001b[0m\u001b[1m>\u001b[0m"
      ]
     },
     "execution_count": 13,
     "metadata": {},
     "output_type": "execute_result"
    },
    {
     "data": {
      "text/html": [
       "<pre style=\"white-space:pre;overflow-x:auto;line-height:normal;font-family:Menlo,'DejaVu Sans Mono',consolas,'Courier New',monospace\"></pre>\n"
      ],
      "text/plain": []
     },
     "metadata": {},
     "output_type": "display_data"
    },
    {
     "data": {
      "image/png": "[encoded data removed]",
      "text/plain": [
       "\u001b[1m<\u001b[0m\u001b[1;95mFigure\u001b[0m\u001b[39m size 80\u001b[0m\u001b[1;36m0x600\u001b[0m\u001b[39m with \u001b[0m\u001b[1;36m1\u001b[0m\u001b[39m Axes\u001b[0m\u001b[1m>\u001b[0m"
      ]
     },
     "metadata": {},
     "output_type": "display_data"
    }
   ],
   "source": [
    "y = cg.target_data.e_form[cg.padding_mask]\n",
    "yhat = obj.stack.output.reshape(-1)[cg.padding_mask]\n",
    "sns.scatterplot(x=y, y=y-yhat)\n",
    "# sns.scatterplot(x=cg.target_data.e_form[cg.padding_mask], y=obj.stack.output.reshape(-1)[cg.padding_mask])"
   ]
  },
  {
   "cell_type": "code",
   "execution_count": 14,
   "metadata": {},
   "outputs": [],
   "source": [
    "with open('reports/facet-small.html', 'w') as f:\n",
    "    with ts.active_autovisualizer.set_scoped(irrep_array_visualizer):\n",
    "        f.write(ts.render_to_html(obj.stack, compressed=False))"
   ]
  },
  {
   "cell_type": "code",
   "execution_count": 12,
   "metadata": {},
   "outputs": [],
   "source": [
    "from facet.utils import save_pytree\n",
    "\n",
    "\n",
    "# save_pytree(ema_params, 'precomputed/enb-195.ckpt')"
   ]
  },
  {
   "cell_type": "code",
   "execution_count": null,
   "metadata": {},
   "outputs": [],
   "source": []
  }
 ],
 "metadata": {
  "kernelspec": {
   "display_name": "avid",
   "language": "python",
   "name": "python3"
  },
  "language_info": {
   "codemirror_mode": {
    "name": "ipython",
    "version": 3
   },
   "file_extension": ".py",
   "mimetype": "text/x-python",
   "name": "python",
   "nbconvert_exporter": "python",
   "pygments_lexer": "ipython3",
   "version": "3.12.0"
  }
 },
 "nbformat": 4,
 "nbformat_minor": 2
}
