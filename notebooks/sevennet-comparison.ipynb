{
 "cells": [
  {
   "cell_type": "code",
   "execution_count": 1,
   "metadata": {},
   "outputs": [
    {
     "name": "stderr",
     "output_type": "stream",
     "text": [
      "/home/nmiklaucic/miniconda3/envs/avid/lib/python3.12/site-packages/IPython/core/magics/osm.py:393: UserWarning: This is now an optional IPython functionality, using bookmarks requires you to install the `pickleshare` library.\n",
      "  bkms = self.shell.db.get('bookmarks', {})\n",
      "/home/nmiklaucic/miniconda3/envs/avid/lib/python3.12/site-packages/IPython/core/magics/osm.py:417: UserWarning: This is now an optional IPython functionality, setting dhist requires you to install the `pickleshare` library.\n",
      "  self.shell.db['dhist'] = compress_dhist(dhist)[-100:]\n"
     ]
    },
    {
     "name": "stdout",
     "output_type": "stream",
     "text": [
      "/home/nmiklaucic/cdv\n"
     ]
    }
   ],
   "source": [
    "%cd ~/cdv\n",
    "import os\n",
    "\n",
    "os.environ['CUDA_VISIBLE_DEVICES'] = '1'\n",
    "import numpy as np\n",
    "import jax.numpy as jnp\n",
    "import jax\n",
    "import pandas as pd\n",
    "import plotly.express as px\n",
    "import matplotlib.pyplot as plt\n",
    "import seaborn as sns\n",
    "\n",
    "import rho_plus as rp\n",
    "\n",
    "is_dark = False\n",
    "theme, cs = rp.mpl_setup(is_dark)\n",
    "rp.plotly_setup(is_dark)"
   ]
  },
  {
   "cell_type": "code",
   "execution_count": null,
   "metadata": {},
   "outputs": [
    {
     "data": {
      "text/html": [
       "<pre style=\"white-space:pre;overflow-x:auto;line-height:normal;font-family:Menlo,'DejaVu Sans Mono',consolas,'Courier New',monospace\"></pre>\n"
      ],
      "text/plain": []
     },
     "metadata": {},
     "output_type": "display_data"
    },
    {
     "data": {
      "text/plain": [
       "\u001b[1m{\u001b[0m\u001b[32m'original'\u001b[0m: \u001b[1;36m842748\u001b[0m, \u001b[32m'radial'\u001b[0m: \u001b[1;36m624380\u001b[0m, \u001b[32m'radial-head'\u001b[0m: \u001b[1;36m616252\u001b[0m\u001b[1m}\u001b[0m"
      ]
     },
     "execution_count": 57,
     "metadata": {},
     "output_type": "execute_result"
    }
   ],
   "source": [
    "from pathlib import Path\n",
    "from facet.data.databatch import CrystalGraphs\n",
    "from facet.layers import Context\n",
    "from facet.utils import load_pytree\n",
    "import pyrallis\n",
    "from facet.config import MainConfig\n",
    "from copy import deepcopy\n",
    "import orbax.checkpoint as ocp\n",
    "from facet.data.dataset import load_file\n",
    "from facet.training_state import TrainingRun\n",
    "from facet.checkpointing import best_ckpt\n",
    "\n",
    "num_basis = 8\n",
    "\n",
    "configs: dict[str, MainConfig] = {}\n",
    "\n",
    "with open('configs/sevennet.toml') as f:\n",
    "    configs['original'] = pyrallis.cfgparsing.load(MainConfig, f)    \n",
    "    configs['radial'] = deepcopy(configs['original'])\n",
    "    configs['radial'].checkpoint_params = f'precomputed/sevennet-trimmed-emb{num_basis}.ckpt'\n",
    "    configs['radial'].model.interaction.message.radial_weight.inner_dims = []\n",
    "    configs['radial'].model.edge_embed.radial_basis.num_basis = num_basis\n",
    "    configs['radial-head'] = deepcopy(configs['radial'])    \n",
    "    configs['radial-head'].checkpoint_params = f'precomputed/sevennet-trimmed-emb{num_basis}-linhead.ckpt'\n",
    "    configs['radial-head'].model.head.inner_dims = []\n",
    "\n",
    "for _name, config in configs.items():\n",
    "    config.data.dataset_name = 'mptrj'\n",
    "\n",
    "cgs = []\n",
    "for i in range(1):\n",
    "    cgs.append(load_file(configs['original'], group_num=15, file_num=i))\n",
    "\n",
    "cg: CrystalGraphs = sum(cgs[1:], start=cgs[0])\n",
    "\n",
    "models = {name: conf.build_regressor() for name, conf in configs.items()}\n",
    "\n",
    "params = {}\n",
    "params['original'] = load_pytree('precomputed/sevennet.ckpt')\n",
    "params['radial'] = load_pytree(f'precomputed/sevennet-trimmed-emb{num_basis}.ckpt')\n",
    "params['radial-head'] = load_pytree(f'precomputed/sevennet-trimmed-emb{num_basis}-linhead.ckpt')\n",
    "\n",
    "bound = {}\n",
    "bound = {name: models[name].bind(param) for name, param in params.items()}\n",
    "\n",
    "sizes = {k: sum(x.size for x in jax.tree.leaves(v)) for k, v in params.items()}\n",
    "sizes"
   ]
  },
  {
   "cell_type": "code",
   "execution_count": 53,
   "metadata": {},
   "outputs": [
    {
     "data": {
      "text/html": [
       "<pre style=\"white-space:pre;overflow-x:auto;line-height:normal;font-family:Menlo,'DejaVu Sans Mono',consolas,'Courier New',monospace\"><span style=\"color: #00a0ec; text-decoration-color: #00a0ec; font-weight: bold\">results</span>\n",
       "├── <span style=\"color: #00a0ec; text-decoration-color: #00a0ec; font-weight: bold\">original</span>\n",
       "│   └── <span style=\"color: #00bc70; text-decoration-color: #00bc70; font-weight: bold\">    (   -10.5     -6.9    -5.91    -5.04        0)    -5.73 ±     2.22</span>\n",
       "├── <span style=\"color: #00a0ec; text-decoration-color: #00a0ec; font-weight: bold\">radial</span>\n",
       "│   └── <span style=\"color: #00bc70; text-decoration-color: #00bc70; font-weight: bold\">    (   -10.4    -6.93    -5.93    -5.05        0)    -5.73 ±     2.21</span>\n",
       "└── <span style=\"color: #00a0ec; text-decoration-color: #00a0ec; font-weight: bold\">radial-head</span>\n",
       "    └── <span style=\"color: #00bc70; text-decoration-color: #00bc70; font-weight: bold\">    (   -10.4    -6.93    -5.93    -5.05        0)    -5.73 ±     2.21</span>\n",
       "</pre>\n"
      ],
      "text/plain": [
       "\u001b[1;38;2;0;160;236mresults\u001b[0m\n",
       "├── \u001b[1;38;2;0;160;236moriginal\u001b[0m\n",
       "│   └── \u001b[1;38;2;0;188;112m    (   -10.5     -6.9    -5.91    -5.04        0)    -5.73 ±     2.22\u001b[0m\n",
       "├── \u001b[1;38;2;0;160;236mradial\u001b[0m\n",
       "│   └── \u001b[1;38;2;0;188;112m    (   -10.4    -6.93    -5.93    -5.05        0)    -5.73 ±     2.21\u001b[0m\n",
       "└── \u001b[1;38;2;0;160;236mradial-head\u001b[0m\n",
       "    └── \u001b[1;38;2;0;188;112m    (   -10.4    -6.93    -5.93    -5.05        0)    -5.73 ±     2.21\u001b[0m\n"
      ]
     },
     "metadata": {},
     "output_type": "display_data"
    }
   ],
   "source": [
    "from facet.utils import debug_stat\n",
    "\n",
    "\n",
    "ctx = Context(training=False)\n",
    "rng = jax.random.key(29205)\n",
    "results = {}\n",
    "for name, mod in bound.items():\n",
    "    results[name] = mod(cg=cg, ctx=ctx).reshape(-1)\n",
    "\n",
    "debug_stat(results=results);"
   ]
  },
  {
   "cell_type": "code",
   "execution_count": 54,
   "metadata": {},
   "outputs": [
    {
     "data": {
      "text/html": [
       "<pre style=\"white-space:pre;overflow-x:auto;line-height:normal;font-family:Menlo,'DejaVu Sans Mono',consolas,'Courier New',monospace\"></pre>\n"
      ],
      "text/plain": []
     },
     "metadata": {},
     "output_type": "display_data"
    },
    {
     "data": {
      "text/plain": [
       "\u001b[1;35mArray\u001b[0m\u001b[1m(\u001b[0m\u001b[1;36m0.02082887\u001b[0m, \u001b[33mdtype\u001b[0m=\u001b[35mfloat32\u001b[0m\u001b[1m)\u001b[0m"
      ]
     },
     "execution_count": 54,
     "metadata": {},
     "output_type": "execute_result"
    }
   ],
   "source": [
    "jnp.mean(jnp.abs(results['original'] - results['radial-head']))"
   ]
  },
  {
   "cell_type": "code",
   "execution_count": 55,
   "metadata": {},
   "outputs": [],
   "source": [
    "if num_basis == 8:\n",
    "    with open('configs/sevennet-trimmed.toml', 'w') as f:\n",
    "        pyrallis.cfgparsing.dump(configs['radial-head'], f)"
   ]
  },
  {
   "cell_type": "code",
   "execution_count": null,
   "metadata": {},
   "outputs": [],
   "source": []
  }
 ],
 "metadata": {
  "kernelspec": {
   "display_name": "avid",
   "language": "python",
   "name": "python3"
  },
  "language_info": {
   "codemirror_mode": {
    "name": "ipython",
    "version": 3
   },
   "file_extension": ".py",
   "mimetype": "text/x-python",
   "name": "python",
   "nbconvert_exporter": "python",
   "pygments_lexer": "ipython3",
   "version": "3.12.0"
  }
 },
 "nbformat": 4,
 "nbformat_minor": 2
}
