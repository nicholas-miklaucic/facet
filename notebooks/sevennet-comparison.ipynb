{
 "cells": [
  {
   "cell_type": "code",
   "execution_count": 1,
   "metadata": {},
   "outputs": [
    {
     "name": "stderr",
     "output_type": "stream",
     "text": [
      "/home/nmiklaucic/miniconda3/envs/avid/lib/python3.12/site-packages/IPython/core/magics/osm.py:393: UserWarning: This is now an optional IPython functionality, using bookmarks requires you to install the `pickleshare` library.\n",
      "  bkms = self.shell.db.get('bookmarks', {})\n",
      "/home/nmiklaucic/miniconda3/envs/avid/lib/python3.12/site-packages/IPython/core/magics/osm.py:417: UserWarning: This is now an optional IPython functionality, setting dhist requires you to install the `pickleshare` library.\n",
      "  self.shell.db['dhist'] = compress_dhist(dhist)[-100:]\n"
     ]
    },
    {
     "name": "stdout",
     "output_type": "stream",
     "text": [
      "/home/nmiklaucic/cdv\n"
     ]
    }
   ],
   "source": [
    "%cd ~/cdv\n",
    "import os\n",
    "\n",
    "os.environ['CUDA_VISIBLE_DEVICES'] = '1'\n",
    "import numpy as np\n",
    "import jax.numpy as jnp\n",
    "import jax\n",
    "import pandas as pd\n",
    "import plotly.express as px\n",
    "import matplotlib.pyplot as plt\n",
    "import seaborn as sns\n",
    "\n",
    "import rho_plus as rp\n",
    "\n",
    "is_dark = False\n",
    "theme, cs = rp.mpl_setup(is_dark)\n",
    "rp.plotly_setup(is_dark)"
   ]
  },
  {
   "cell_type": "code",
   "execution_count": 2,
   "metadata": {},
   "outputs": [
    {
     "name": "stdout",
     "output_type": "stream",
     "text": [
      "original 1.0\n",
      "radial 1.0\n",
      "radial-head 1.0\n",
      "radial-head-norm 0.34415728\n"
     ]
    },
    {
     "data": {
      "text/html": [
       "<pre style=\"white-space:pre;overflow-x:auto;line-height:normal;font-family:Menlo,'DejaVu Sans Mono',consolas,'Courier New',monospace\"></pre>\n"
      ],
      "text/plain": []
     },
     "metadata": {},
     "output_type": "display_data"
    },
    {
     "data": {
      "text/plain": [
       "\u001b[1m{\u001b[0m\u001b[32m'original'\u001b[0m: \u001b[1;36m842748\u001b[0m, \u001b[32m'radial'\u001b[0m: \u001b[1;36m624380\u001b[0m, \u001b[32m'radial-head'\u001b[0m: \u001b[1;36m616252\u001b[0m, \u001b[32m'radial-head-norm'\u001b[0m: \u001b[1;36m616252\u001b[0m\u001b[1m}\u001b[0m"
      ]
     },
     "execution_count": 2,
     "metadata": {},
     "output_type": "execute_result"
    }
   ],
   "source": [
    "from pathlib import Path\n",
    "from facet.data.databatch import CrystalGraphs\n",
    "from facet.layers import Context\n",
    "from facet.utils import load_pytree\n",
    "import pyrallis\n",
    "from facet.config import MainConfig\n",
    "from copy import deepcopy\n",
    "import orbax.checkpoint as ocp\n",
    "from facet.data.dataset import load_file\n",
    "from facet.training_state import TrainingRun\n",
    "from facet.checkpointing import best_ckpt\n",
    "\n",
    "num_basis = 8\n",
    "\n",
    "configs: dict[str, MainConfig] = {}\n",
    "\n",
    "def normalization_constant(config):\n",
    "    return config.data.metadata.avg_num_neighbors(config.model.edge_embed.r_max) ** config.model.interaction.message.radial_power\n",
    "\n",
    "with open('configs/sevennet.toml') as f:\n",
    "    configs['original'] = pyrallis.cfgparsing.load(MainConfig, f)    \n",
    "    configs['radial'] = deepcopy(configs['original'])\n",
    "    configs['radial'].checkpoint_params = f'precomputed/sevennet-trimmed-emb{num_basis}.ckpt'\n",
    "    configs['radial'].model.interaction.message.radial_weight.inner_dims = []\n",
    "    configs['radial'].model.edge_embed.radial_basis.num_basis = num_basis\n",
    "    configs['radial-head'] = deepcopy(configs['radial'])    \n",
    "    configs['radial-head'].checkpoint_params = f'precomputed/sevennet-trimmed-emb{num_basis}-linhead.ckpt'\n",
    "    configs['radial-head'].model.head.inner_dims = []\n",
    "    configs['radial-head-norm'] = deepcopy(configs['radial-head'])\n",
    "    # configs['radial-head-norm'].model.edge_embed.r_max = 6.0\n",
    "    configs['radial-head-norm'].model.interaction.message.radial_power = 0.7\n",
    "    configs['radial'].checkpoint_params = f'precomputed/sevennet-trimmed-emb{num_basis}-linhead-07.ckpt'\n",
    "\n",
    "for _name, config in configs.items():\n",
    "    config.data.dataset_name = 'mptrj'\n",
    "\n",
    "cgs = []\n",
    "for i in range(1):\n",
    "    cgs.append(load_file(configs['original'], group_num=15, file_num=i))\n",
    "\n",
    "cg: CrystalGraphs = sum(cgs[1:], start=cgs[0])\n",
    "\n",
    "models = {name: conf.build_regressor() for name, conf in configs.items()}\n",
    "\n",
    "params = {}\n",
    "params['original'] = load_pytree('precomputed/sevennet.ckpt')\n",
    "params['radial'] = load_pytree(f'precomputed/sevennet-trimmed-emb{num_basis}.ckpt')\n",
    "params['radial-head'] = load_pytree(f'precomputed/sevennet-trimmed-emb{num_basis}-linhead.ckpt')\n",
    "params['radial-head-norm'] = load_pytree(f'precomputed/sevennet-trimmed-emb{num_basis}-linhead.ckpt')\n",
    "\n",
    "\n",
    "bound = {}\n",
    "bound = {name: models[name].bind(param) for name, param in params.items()}\n",
    "\n",
    "def normalization_constant(name):\n",
    "    return configs[name].data.metadata.avg_num_neighbors(bound[name].edge_embedding.r_max) ** configs[name].model.interaction.message.radial_power\n",
    "\n",
    "for name in configs:\n",
    "    conversion_factor = normalization_constant(name) / normalization_constant('original')\n",
    "    print(name, conversion_factor)\n",
    "    mace = params[name]['params']['mace']\n",
    "    for layer in mace:\n",
    "        mlp = mace[layer]['interaction']['SimpleInteraction_0']['SevenNetConv_0']['LazyInMLP_0'] \n",
    "        mlp[max(mlp.keys())]['kernel'] = mlp[max(mlp.keys())]['kernel'] * conversion_factor\n",
    "\n",
    "bound = {name: models[name].bind(param) for name, param in params.items()}\n",
    "\n",
    "sizes = {k: sum(x.size for x in jax.tree.leaves(v)) for k, v in params.items()}\n",
    "sizes"
   ]
  },
  {
   "cell_type": "code",
   "execution_count": 3,
   "metadata": {},
   "outputs": [],
   "source": [
    "p1 = load_pytree(f'precomputed/sevennet-trimmed-emb{num_basis}-linhead-07.ckpt')"
   ]
  },
  {
   "cell_type": "code",
   "execution_count": 4,
   "metadata": {},
   "outputs": [
    {
     "data": {
      "text/html": [
       "<pre style=\"white-space:pre;overflow-x:auto;line-height:normal;font-family:Menlo,'DejaVu Sans Mono',consolas,'Courier New',monospace\"><span style=\"color: #00a0ec; text-decoration-color: #00a0ec; font-weight: bold\">results</span>\n",
       "├── <span style=\"color: #00a0ec; text-decoration-color: #00a0ec; font-weight: bold\">original</span>\n",
       "│   └── <span style=\"color: #00bc70; text-decoration-color: #00bc70; font-weight: bold\">    (   -10.5     -6.9    -5.91    -5.04        0)    -5.73 ±     2.22</span>\n",
       "├── <span style=\"color: #00a0ec; text-decoration-color: #00a0ec; font-weight: bold\">radial</span>\n",
       "│   └── <span style=\"color: #00bc70; text-decoration-color: #00bc70; font-weight: bold\">    (   -10.4    -6.93    -5.93    -5.03        0)    -5.73 ±     2.21</span>\n",
       "├── <span style=\"color: #00a0ec; text-decoration-color: #00a0ec; font-weight: bold\">radial-head</span>\n",
       "│   └── <span style=\"color: #00bc70; text-decoration-color: #00bc70; font-weight: bold\">    (   -10.4    -6.93    -5.93    -5.03        0)    -5.73 ±     2.21</span>\n",
       "└── <span style=\"color: #00a0ec; text-decoration-color: #00a0ec; font-weight: bold\">radial-head-norm</span>\n",
       "    └── <span style=\"color: #00bc70; text-decoration-color: #00bc70; font-weight: bold\">    (   -10.4    -6.93    -5.93    -5.03        0)    -5.73 ±     2.21</span>\n",
       "</pre>\n"
      ],
      "text/plain": [
       "\u001b[1;38;2;0;160;236mresults\u001b[0m\n",
       "├── \u001b[1;38;2;0;160;236moriginal\u001b[0m\n",
       "│   └── \u001b[1;38;2;0;188;112m    (   -10.5     -6.9    -5.91    -5.04        0)    -5.73 ±     2.22\u001b[0m\n",
       "├── \u001b[1;38;2;0;160;236mradial\u001b[0m\n",
       "│   └── \u001b[1;38;2;0;188;112m    (   -10.4    -6.93    -5.93    -5.03        0)    -5.73 ±     2.21\u001b[0m\n",
       "├── \u001b[1;38;2;0;160;236mradial-head\u001b[0m\n",
       "│   └── \u001b[1;38;2;0;188;112m    (   -10.4    -6.93    -5.93    -5.03        0)    -5.73 ±     2.21\u001b[0m\n",
       "└── \u001b[1;38;2;0;160;236mradial-head-norm\u001b[0m\n",
       "    └── \u001b[1;38;2;0;188;112m    (   -10.4    -6.93    -5.93    -5.03        0)    -5.73 ±     2.21\u001b[0m\n"
      ]
     },
     "metadata": {},
     "output_type": "display_data"
    }
   ],
   "source": [
    "from facet.utils import debug_stat\n",
    "\n",
    "\n",
    "ctx = Context(training=False)\n",
    "rng = jax.random.key(29205)\n",
    "results = {}\n",
    "for name, mod in bound.items():\n",
    "    results[name] = mod(cg=cg, ctx=ctx).reshape(-1)\n",
    "\n",
    "debug_stat(results=results);"
   ]
  },
  {
   "cell_type": "code",
   "execution_count": 49,
   "metadata": {},
   "outputs": [
    {
     "data": {
      "text/html": [
       "<pre style=\"white-space:pre;overflow-x:auto;line-height:normal;font-family:Menlo,'DejaVu Sans Mono',consolas,'Courier New',monospace\"><span style=\"color: #00a0ec; text-decoration-color: #00a0ec; font-weight: bold\">results</span>\n",
       "├── <span style=\"color: #00a0ec; text-decoration-color: #00a0ec; font-weight: bold\">original</span>\n",
       "│   └── <span style=\"color: #00bc70; text-decoration-color: #00bc70; font-weight: bold\">    (   -10.5     -6.9    -5.91    -5.04        0)    -5.73 ±     2.22</span>\n",
       "├── <span style=\"color: #00a0ec; text-decoration-color: #00a0ec; font-weight: bold\">p1</span>\n",
       "│   └── <span style=\"color: #00bc70; text-decoration-color: #00bc70; font-weight: bold\">    (   -10.4    -6.93    -5.93    -5.03        0)    -5.73 ±     2.21</span>\n",
       "├── <span style=\"color: #00a0ec; text-decoration-color: #00a0ec; font-weight: bold\">radial</span>\n",
       "│   └── <span style=\"color: #00bc70; text-decoration-color: #00bc70; font-weight: bold\">    (   -10.4    -6.93    -5.93    -5.03        0)    -5.73 ±     2.21</span>\n",
       "├── <span style=\"color: #00a0ec; text-decoration-color: #00a0ec; font-weight: bold\">radial-head</span>\n",
       "│   └── <span style=\"color: #00bc70; text-decoration-color: #00bc70; font-weight: bold\">    (   -10.4    -6.93    -5.93    -5.03        0)    -5.73 ±     2.21</span>\n",
       "└── <span style=\"color: #00a0ec; text-decoration-color: #00a0ec; font-weight: bold\">radial-head-norm</span>\n",
       "    └── <span style=\"color: #00bc70; text-decoration-color: #00bc70; font-weight: bold\">    (   -10.4    -6.93    -5.93    -5.03        0)    -5.73 ±     2.21</span>\n",
       "</pre>\n"
      ],
      "text/plain": [
       "\u001b[1;38;2;0;160;236mresults\u001b[0m\n",
       "├── \u001b[1;38;2;0;160;236moriginal\u001b[0m\n",
       "│   └── \u001b[1;38;2;0;188;112m    (   -10.5     -6.9    -5.91    -5.04        0)    -5.73 ±     2.22\u001b[0m\n",
       "├── \u001b[1;38;2;0;160;236mp1\u001b[0m\n",
       "│   └── \u001b[1;38;2;0;188;112m    (   -10.4    -6.93    -5.93    -5.03        0)    -5.73 ±     2.21\u001b[0m\n",
       "├── \u001b[1;38;2;0;160;236mradial\u001b[0m\n",
       "│   └── \u001b[1;38;2;0;188;112m    (   -10.4    -6.93    -5.93    -5.03        0)    -5.73 ±     2.21\u001b[0m\n",
       "├── \u001b[1;38;2;0;160;236mradial-head\u001b[0m\n",
       "│   └── \u001b[1;38;2;0;188;112m    (   -10.4    -6.93    -5.93    -5.03        0)    -5.73 ±     2.21\u001b[0m\n",
       "└── \u001b[1;38;2;0;160;236mradial-head-norm\u001b[0m\n",
       "    └── \u001b[1;38;2;0;188;112m    (   -10.4    -6.93    -5.93    -5.03        0)    -5.73 ±     2.21\u001b[0m\n"
      ]
     },
     "metadata": {},
     "output_type": "display_data"
    }
   ],
   "source": [
    "results['p1'] = models['radial-head-norm'].apply(p1, cg=cg, ctx=ctx).reshape(-1)\n",
    "debug_stat(results=results);"
   ]
  },
  {
   "cell_type": "code",
   "execution_count": 47,
   "metadata": {},
   "outputs": [
    {
     "data": {
      "text/html": [
       "<pre style=\"white-space:pre;overflow-x:auto;line-height:normal;font-family:Menlo,'DejaVu Sans Mono',consolas,'Courier New',monospace\"><span style=\"color: #00a0ec; text-decoration-color: #00a0ec; font-weight: bold\">results</span>\n",
       "├── <span style=\"color: #00a0ec; text-decoration-color: #00a0ec; font-weight: bold\">original</span>\n",
       "│   └── <span style=\"color: #00bc70; text-decoration-color: #00bc70; font-weight: bold\">    (   -10.5     -6.9    -5.91    -5.04        0)    -5.73 ±     2.22</span>\n",
       "├── <span style=\"color: #00a0ec; text-decoration-color: #00a0ec; font-weight: bold\">p1</span>\n",
       "│   └── <span style=\"color: #00bc70; text-decoration-color: #00bc70; font-weight: bold\">    (   -10.4    -6.93    -5.93    -5.03        0)    -5.73 ±     2.21</span>\n",
       "├── <span style=\"color: #00a0ec; text-decoration-color: #00a0ec; font-weight: bold\">radial</span>\n",
       "│   └── <span style=\"color: #00bc70; text-decoration-color: #00bc70; font-weight: bold\">    (   -10.4    -6.93    -5.93    -5.03        0)    -5.73 ±     2.21</span>\n",
       "├── <span style=\"color: #00a0ec; text-decoration-color: #00a0ec; font-weight: bold\">radial-head</span>\n",
       "│   └── <span style=\"color: #00bc70; text-decoration-color: #00bc70; font-weight: bold\">    (   -10.4    -6.93    -5.93    -5.03        0)    -5.73 ±     2.21</span>\n",
       "└── <span style=\"color: #00a0ec; text-decoration-color: #00a0ec; font-weight: bold\">radial-head-norm</span>\n",
       "    └── <span style=\"color: #00bc70; text-decoration-color: #00bc70; font-weight: bold\">    (   -10.4    -6.93    -5.93    -5.03        0)    -5.73 ±     2.21</span>\n",
       "</pre>\n"
      ],
      "text/plain": [
       "\u001b[1;38;2;0;160;236mresults\u001b[0m\n",
       "├── \u001b[1;38;2;0;160;236moriginal\u001b[0m\n",
       "│   └── \u001b[1;38;2;0;188;112m    (   -10.5     -6.9    -5.91    -5.04        0)    -5.73 ±     2.22\u001b[0m\n",
       "├── \u001b[1;38;2;0;160;236mp1\u001b[0m\n",
       "│   └── \u001b[1;38;2;0;188;112m    (   -10.4    -6.93    -5.93    -5.03        0)    -5.73 ±     2.21\u001b[0m\n",
       "├── \u001b[1;38;2;0;160;236mradial\u001b[0m\n",
       "│   └── \u001b[1;38;2;0;188;112m    (   -10.4    -6.93    -5.93    -5.03        0)    -5.73 ±     2.21\u001b[0m\n",
       "├── \u001b[1;38;2;0;160;236mradial-head\u001b[0m\n",
       "│   └── \u001b[1;38;2;0;188;112m    (   -10.4    -6.93    -5.93    -5.03        0)    -5.73 ±     2.21\u001b[0m\n",
       "└── \u001b[1;38;2;0;160;236mradial-head-norm\u001b[0m\n",
       "    └── \u001b[1;38;2;0;188;112m    (   -10.4    -6.93    -5.93    -5.03        0)    -5.73 ±     2.21\u001b[0m\n"
      ]
     },
     "metadata": {},
     "output_type": "display_data"
    }
   ],
   "source": [
    "debug_stat(results=results);"
   ]
  },
  {
   "cell_type": "code",
   "execution_count": 38,
   "metadata": {},
   "outputs": [
    {
     "data": {
      "text/html": [
       "<pre style=\"white-space:pre;overflow-x:auto;line-height:normal;font-family:Menlo,'DejaVu Sans Mono',consolas,'Courier New',monospace\"></pre>\n"
      ],
      "text/plain": []
     },
     "metadata": {},
     "output_type": "display_data"
    },
    {
     "data": {
      "text/plain": [
       "\u001b[1;35mArray\u001b[0m\u001b[1m(\u001b[0m\u001b[1;36m0.00023297\u001b[0m, \u001b[33mdtype\u001b[0m=\u001b[35mfloat32\u001b[0m\u001b[1m)\u001b[0m"
      ]
     },
     "execution_count": 38,
     "metadata": {},
     "output_type": "execute_result"
    }
   ],
   "source": [
    "jnp.mean(jnp.abs(results['radial-head'] - results['radial-head-norm']))"
   ]
  },
  {
   "cell_type": "code",
   "execution_count": 5,
   "metadata": {},
   "outputs": [],
   "source": [
    "from facet.utils import save_pytree\n",
    "\n",
    "\n",
    "if num_basis == 8:\n",
    "    with open('configs/sevennet-trimmed.toml', 'w') as f:\n",
    "        pyrallis.cfgparsing.dump(configs['radial-head-norm'], f)\n",
    "\n",
    "    save_pytree(params['radial-head-norm'], f'precomputed/sevennet-trimmed-emb{num_basis}-linhead-07.ckpt')"
   ]
  },
  {
   "cell_type": "code",
   "execution_count": null,
   "metadata": {},
   "outputs": [],
   "source": []
  }
 ],
 "metadata": {
  "kernelspec": {
   "display_name": "avid",
   "language": "python",
   "name": "python3"
  },
  "language_info": {
   "codemirror_mode": {
    "name": "ipython",
    "version": 3
   },
   "file_extension": ".py",
   "mimetype": "text/x-python",
   "name": "python",
   "nbconvert_exporter": "python",
   "pygments_lexer": "ipython3",
   "version": "3.12.0"
  }
 },
 "nbformat": 4,
 "nbformat_minor": 2
}
