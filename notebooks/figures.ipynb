{
 "cells": [
  {
   "cell_type": "code",
   "execution_count": 1,
   "metadata": {},
   "outputs": [
    {
     "name": "stderr",
     "output_type": "stream",
     "text": [
      "/home/nmiklaucic/miniconda3/envs/avid/lib/python3.12/site-packages/IPython/core/magics/osm.py:393: UserWarning: This is now an optional IPython functionality, using bookmarks requires you to install the `pickleshare` library.\n",
      "  bkms = self.shell.db.get('bookmarks', {})\n",
      "/home/nmiklaucic/miniconda3/envs/avid/lib/python3.12/site-packages/IPython/core/magics/osm.py:417: UserWarning: This is now an optional IPython functionality, setting dhist requires you to install the `pickleshare` library.\n",
      "  self.shell.db['dhist'] = compress_dhist(dhist)[-100:]\n"
     ]
    },
    {
     "name": "stdout",
     "output_type": "stream",
     "text": [
      "/home/nmiklaucic/cdv\n"
     ]
    }
   ],
   "source": [
    "%cd ~/cdv\n",
    "import numpy as np\n",
    "import pandas as pd\n",
    "import seaborn as sns\n",
    "import matplotlib.pyplot as plt\n",
    "import rho_plus as rp\n",
    "\n",
    "import os\n",
    "os.environ['CUDA_VISIBLE_DEVICES'] = ''\n",
    "\n",
    "import jax\n",
    "import jax.numpy as jnp\n",
    "\n",
    "is_dark = False\n",
    "theme, cs = rp.mpl_setup(is_dark)"
   ]
  },
  {
   "cell_type": "code",
   "execution_count": 2,
   "metadata": {},
   "outputs": [
    {
     "data": {
      "text/plain": [
       "(4741464, 6)"
      ]
     },
     "execution_count": 2,
     "metadata": {},
     "output_type": "execute_result"
    }
   ],
   "source": [
    "dfs = []\n",
    "models = ['enb-197', 'enb-198', 'enb-199']\n",
    "for model in models:\n",
    "    for split in ('train', 'valid', 'test'):\n",
    "        dfs.append(pd.read_feather(f'data/{model}_{split}.feather'))\n",
    "        dfs[-1]['split'] = split\n",
    "        dfs[-1]['model'] = model\n",
    "\n",
    "df = pd.concat(dfs).reset_index()\n",
    "df['split'] = pd.Categorical(df['split'], categories=['train', 'valid', 'test'], ordered=True)\n",
    "df['model'] = pd.Categorical(df['model'])\n",
    "\n",
    "df.shape"
   ]
  },
  {
   "cell_type": "code",
   "execution_count": 3,
   "metadata": {},
   "outputs": [
    {
     "data": {
      "text/html": [
       "<div>\n",
       "<style scoped>\n",
       "    .dataframe tbody tr th:only-of-type {\n",
       "        vertical-align: middle;\n",
       "    }\n",
       "\n",
       "    .dataframe tbody tr th {\n",
       "        vertical-align: top;\n",
       "    }\n",
       "\n",
       "    .dataframe thead th {\n",
       "        text-align: right;\n",
       "    }\n",
       "</style>\n",
       "<table border=\"1\" class=\"dataframe\">\n",
       "  <thead>\n",
       "    <tr style=\"text-align: right;\">\n",
       "      <th></th>\n",
       "      <th></th>\n",
       "      <th>enb-197</th>\n",
       "      <th>enb-198</th>\n",
       "      <th>enb-199</th>\n",
       "      <th>target</th>\n",
       "    </tr>\n",
       "    <tr>\n",
       "      <th>index</th>\n",
       "      <th>split</th>\n",
       "      <th></th>\n",
       "      <th></th>\n",
       "      <th></th>\n",
       "      <th></th>\n",
       "    </tr>\n",
       "  </thead>\n",
       "  <tbody>\n",
       "    <tr>\n",
       "      <th rowspan=\"3\" valign=\"top\">0</th>\n",
       "      <th>train</th>\n",
       "      <td>-7.450242</td>\n",
       "      <td>-7.446835</td>\n",
       "      <td>-7.451971</td>\n",
       "      <td>-7.449115</td>\n",
       "    </tr>\n",
       "    <tr>\n",
       "      <th>valid</th>\n",
       "      <td>-4.543889</td>\n",
       "      <td>-4.527889</td>\n",
       "      <td>-4.576456</td>\n",
       "      <td>-4.560117</td>\n",
       "    </tr>\n",
       "    <tr>\n",
       "      <th>test</th>\n",
       "      <td>-6.615935</td>\n",
       "      <td>-6.616247</td>\n",
       "      <td>-6.609588</td>\n",
       "      <td>-6.616924</td>\n",
       "    </tr>\n",
       "    <tr>\n",
       "      <th rowspan=\"2\" valign=\"top\">1</th>\n",
       "      <th>train</th>\n",
       "      <td>-8.074464</td>\n",
       "      <td>-8.072561</td>\n",
       "      <td>-8.073508</td>\n",
       "      <td>-8.068948</td>\n",
       "    </tr>\n",
       "    <tr>\n",
       "      <th>valid</th>\n",
       "      <td>-3.482732</td>\n",
       "      <td>-3.422691</td>\n",
       "      <td>-3.483650</td>\n",
       "      <td>-3.444715</td>\n",
       "    </tr>\n",
       "    <tr>\n",
       "      <th>...</th>\n",
       "      <th>...</th>\n",
       "      <td>...</td>\n",
       "      <td>...</td>\n",
       "      <td>...</td>\n",
       "      <td>...</td>\n",
       "    </tr>\n",
       "    <tr>\n",
       "      <th>1314487</th>\n",
       "      <th>train</th>\n",
       "      <td>-4.200040</td>\n",
       "      <td>-4.237227</td>\n",
       "      <td>-4.214700</td>\n",
       "      <td>-4.113819</td>\n",
       "    </tr>\n",
       "    <tr>\n",
       "      <th>1314488</th>\n",
       "      <th>train</th>\n",
       "      <td>-7.813198</td>\n",
       "      <td>-7.824353</td>\n",
       "      <td>-7.822027</td>\n",
       "      <td>-7.813792</td>\n",
       "    </tr>\n",
       "    <tr>\n",
       "      <th>1314489</th>\n",
       "      <th>train</th>\n",
       "      <td>-9.255919</td>\n",
       "      <td>-9.282350</td>\n",
       "      <td>-9.261489</td>\n",
       "      <td>-9.289242</td>\n",
       "    </tr>\n",
       "    <tr>\n",
       "      <th>1314490</th>\n",
       "      <th>train</th>\n",
       "      <td>-6.490796</td>\n",
       "      <td>-6.450808</td>\n",
       "      <td>-6.500042</td>\n",
       "      <td>-6.486058</td>\n",
       "    </tr>\n",
       "    <tr>\n",
       "      <th>1314491</th>\n",
       "      <th>train</th>\n",
       "      <td>-9.395794</td>\n",
       "      <td>-9.441685</td>\n",
       "      <td>-9.472312</td>\n",
       "      <td>-9.356917</td>\n",
       "    </tr>\n",
       "  </tbody>\n",
       "</table>\n",
       "<p>1580488 rows × 4 columns</p>\n",
       "</div>"
      ],
      "text/plain": [
       "                enb-197   enb-198   enb-199    target\n",
       "index   split                                        \n",
       "0       train -7.450242 -7.446835 -7.451971 -7.449115\n",
       "        valid -4.543889 -4.527889 -4.576456 -4.560117\n",
       "        test  -6.615935 -6.616247 -6.609588 -6.616924\n",
       "1       train -8.074464 -8.072561 -8.073508 -8.068948\n",
       "        valid -3.482732 -3.422691 -3.483650 -3.444715\n",
       "...                 ...       ...       ...       ...\n",
       "1314487 train -4.200040 -4.237227 -4.214700 -4.113819\n",
       "1314488 train -7.813198 -7.824353 -7.822027 -7.813792\n",
       "1314489 train -9.255919 -9.282350 -9.261489 -9.289242\n",
       "1314490 train -6.490796 -6.450808 -6.500042 -6.486058\n",
       "1314491 train -9.395794 -9.441685 -9.472312 -9.356917\n",
       "\n",
       "[1580488 rows x 4 columns]"
      ]
     },
     "execution_count": 3,
     "metadata": {},
     "output_type": "execute_result"
    }
   ],
   "source": [
    "pivoted = df.pivot_table(index=['index', 'split'], columns='model', values=['prediction', 'target'], observed=False)\n",
    "pivoted.columns = models + ['target'] + ['target2'] * (len(models) - 1)\n",
    "pivoted.drop(columns=['target2'], inplace=True)\n",
    "pivoted"
   ]
  },
  {
   "cell_type": "code",
   "execution_count": 14,
   "metadata": {},
   "outputs": [],
   "source": [
    "pivoted['mean'] = pivoted[models].mean(axis=1)"
   ]
  },
  {
   "cell_type": "code",
   "execution_count": 17,
   "metadata": {},
   "outputs": [
    {
     "data": {
      "text/html": [
       "<div>\n",
       "<style scoped>\n",
       "    .dataframe tbody tr th:only-of-type {\n",
       "        vertical-align: middle;\n",
       "    }\n",
       "\n",
       "    .dataframe tbody tr th {\n",
       "        vertical-align: top;\n",
       "    }\n",
       "\n",
       "    .dataframe thead th {\n",
       "        text-align: right;\n",
       "    }\n",
       "</style>\n",
       "<table border=\"1\" class=\"dataframe\">\n",
       "  <thead>\n",
       "    <tr style=\"text-align: right;\">\n",
       "      <th></th>\n",
       "      <th>0</th>\n",
       "    </tr>\n",
       "  </thead>\n",
       "  <tbody>\n",
       "    <tr>\n",
       "      <th>enb-197</th>\n",
       "      <td>15.35</td>\n",
       "    </tr>\n",
       "    <tr>\n",
       "      <th>enb-198</th>\n",
       "      <td>15.67</td>\n",
       "    </tr>\n",
       "    <tr>\n",
       "      <th>enb-199</th>\n",
       "      <td>15.50</td>\n",
       "    </tr>\n",
       "    <tr>\n",
       "      <th>target</th>\n",
       "      <td>0.00</td>\n",
       "    </tr>\n",
       "    <tr>\n",
       "      <th>mean</th>\n",
       "      <td>12.97</td>\n",
       "    </tr>\n",
       "  </tbody>\n",
       "</table>\n",
       "</div>"
      ],
      "text/plain": [
       "             0\n",
       "enb-197  15.35\n",
       "enb-198  15.67\n",
       "enb-199  15.50\n",
       "target    0.00\n",
       "mean     12.97"
      ]
     },
     "execution_count": 17,
     "metadata": {},
     "output_type": "execute_result"
    }
   ],
   "source": [
    "((pivoted - pivoted[['target']].values).abs().mean(axis=0) * 1000).round(2).to_frame()"
   ]
  },
  {
   "cell_type": "code",
   "execution_count": 19,
   "metadata": {},
   "outputs": [
    {
     "name": "stderr",
     "output_type": "stream",
     "text": [
      "/tmp/ipykernel_429826/2646053960.py:1: FutureWarning: The default of observed=False is deprecated and will be changed to True in a future version of pandas. Pass observed=False to retain current behavior or observed=True to adopt the future default and silence this warning.\n",
      "  res_df = ((pivoted - pivoted[['target']].values).abs().groupby('split').mean() * 1000).round(2)\n"
     ]
    },
    {
     "data": {
      "text/html": [
       "<div>\n",
       "<style scoped>\n",
       "    .dataframe tbody tr th:only-of-type {\n",
       "        vertical-align: middle;\n",
       "    }\n",
       "\n",
       "    .dataframe tbody tr th {\n",
       "        vertical-align: top;\n",
       "    }\n",
       "\n",
       "    .dataframe thead th {\n",
       "        text-align: right;\n",
       "    }\n",
       "</style>\n",
       "<table border=\"1\" class=\"dataframe\">\n",
       "  <thead>\n",
       "    <tr style=\"text-align: right;\">\n",
       "      <th></th>\n",
       "      <th>enb-197</th>\n",
       "      <th>enb-198</th>\n",
       "      <th>enb-199</th>\n",
       "      <th>target</th>\n",
       "      <th>mean</th>\n",
       "    </tr>\n",
       "    <tr>\n",
       "      <th>split</th>\n",
       "      <th></th>\n",
       "      <th></th>\n",
       "      <th></th>\n",
       "      <th></th>\n",
       "      <th></th>\n",
       "    </tr>\n",
       "  </thead>\n",
       "  <tbody>\n",
       "    <tr>\n",
       "      <th>train</th>\n",
       "      <td>12.78</td>\n",
       "      <td>13.13</td>\n",
       "      <td>12.98</td>\n",
       "      <td>0.0</td>\n",
       "      <td>10.77</td>\n",
       "    </tr>\n",
       "    <tr>\n",
       "      <th>valid</th>\n",
       "      <td>28.58</td>\n",
       "      <td>29.13</td>\n",
       "      <td>28.72</td>\n",
       "      <td>0.0</td>\n",
       "      <td>24.64</td>\n",
       "    </tr>\n",
       "    <tr>\n",
       "      <th>test</th>\n",
       "      <td>27.53</td>\n",
       "      <td>27.38</td>\n",
       "      <td>27.23</td>\n",
       "      <td>0.0</td>\n",
       "      <td>23.11</td>\n",
       "    </tr>\n",
       "    <tr>\n",
       "      <th>all</th>\n",
       "      <td>15.35</td>\n",
       "      <td>15.67</td>\n",
       "      <td>15.50</td>\n",
       "      <td>0.0</td>\n",
       "      <td>12.97</td>\n",
       "    </tr>\n",
       "  </tbody>\n",
       "</table>\n",
       "</div>"
      ],
      "text/plain": [
       "       enb-197  enb-198  enb-199  target   mean\n",
       "split                                          \n",
       "train    12.78    13.13    12.98     0.0  10.77\n",
       "valid    28.58    29.13    28.72     0.0  24.64\n",
       "test     27.53    27.38    27.23     0.0  23.11\n",
       "all      15.35    15.67    15.50     0.0  12.97"
      ]
     },
     "execution_count": 19,
     "metadata": {},
     "output_type": "execute_result"
    }
   ],
   "source": [
    "res_df = ((pivoted - pivoted[['target']].values).abs().groupby('split').mean() * 1000).round(2)\n",
    "\n",
    "res_df.loc['all', :] = ((pivoted - pivoted[['target']].values).abs().mean(axis=0) * 1000).round(2).T\n",
    "res_df"
   ]
  },
  {
   "cell_type": "code",
   "execution_count": 10,
   "metadata": {},
   "outputs": [
    {
     "data": {
      "text/plain": [
       "811149"
      ]
     },
     "execution_count": 10,
     "metadata": {},
     "output_type": "execute_result"
    }
   ],
   "source": [
    "270383 * 3"
   ]
  },
  {
   "cell_type": "code",
   "execution_count": 5,
   "metadata": {},
   "outputs": [
    {
     "data": {
      "text/plain": [
       "0.013220107364214242"
      ]
     },
     "execution_count": 5,
     "metadata": {},
     "output_type": "execute_result"
    }
   ],
   "source": [
    "np.mean(np.abs(target - ensemble['enb-197']))"
   ]
  },
  {
   "cell_type": "code",
   "execution_count": 11,
   "metadata": {},
   "outputs": [
    {
     "data": {
      "text/plain": [
       "'mp-556783-1-3'"
      ]
     },
     "execution_count": 11,
     "metadata": {},
     "output_type": "execute_result"
    }
   ],
   "source": [
    "from facet.data.dataset_generation import parse_data_id_mptrj\n",
    "\n",
    "\n",
    "parse_data_id_mptrj(df['dataset_id'][4])"
   ]
  },
  {
   "cell_type": "code",
   "execution_count": 12,
   "metadata": {},
   "outputs": [
    {
     "data": {
      "text/html": [
       "<div>\n",
       "<style scoped>\n",
       "    .dataframe tbody tr th:only-of-type {\n",
       "        vertical-align: middle;\n",
       "    }\n",
       "\n",
       "    .dataframe tbody tr th {\n",
       "        vertical-align: top;\n",
       "    }\n",
       "\n",
       "    .dataframe thead th {\n",
       "        text-align: right;\n",
       "    }\n",
       "</style>\n",
       "<table border=\"1\" class=\"dataframe\">\n",
       "  <thead>\n",
       "    <tr style=\"text-align: right;\">\n",
       "      <th></th>\n",
       "      <th>dataset_id</th>\n",
       "      <th>target</th>\n",
       "      <th>prediction</th>\n",
       "      <th>split</th>\n",
       "      <th>model</th>\n",
       "      <th>err</th>\n",
       "      <th>abs_err</th>\n",
       "    </tr>\n",
       "  </thead>\n",
       "  <tbody>\n",
       "    <tr>\n",
       "      <th>1152873</th>\n",
       "      <td>1936295000</td>\n",
       "      <td>-1.809825</td>\n",
       "      <td>-7.621657</td>\n",
       "      <td>train</td>\n",
       "      <td>enb-183</td>\n",
       "      <td>5.811832</td>\n",
       "      <td>5.811832</td>\n",
       "    </tr>\n",
       "    <tr>\n",
       "      <th>2733361</th>\n",
       "      <td>1936295000</td>\n",
       "      <td>-1.809825</td>\n",
       "      <td>-7.621657</td>\n",
       "      <td>train</td>\n",
       "      <td>enb-197</td>\n",
       "      <td>5.811832</td>\n",
       "      <td>5.811832</td>\n",
       "    </tr>\n",
       "    <tr>\n",
       "      <th>2744061</th>\n",
       "      <td>-1365746880</td>\n",
       "      <td>-4.238377</td>\n",
       "      <td>-9.050261</td>\n",
       "      <td>train</td>\n",
       "      <td>enb-197</td>\n",
       "      <td>4.811885</td>\n",
       "      <td>4.811885</td>\n",
       "    </tr>\n",
       "    <tr>\n",
       "      <th>1163573</th>\n",
       "      <td>-1365746880</td>\n",
       "      <td>-4.238377</td>\n",
       "      <td>-9.050261</td>\n",
       "      <td>train</td>\n",
       "      <td>enb-183</td>\n",
       "      <td>4.811885</td>\n",
       "      <td>4.811885</td>\n",
       "    </tr>\n",
       "    <tr>\n",
       "      <th>1368686</th>\n",
       "      <td>1555394000</td>\n",
       "      <td>-3.590962</td>\n",
       "      <td>-8.203356</td>\n",
       "      <td>valid</td>\n",
       "      <td>enb-183</td>\n",
       "      <td>4.612394</td>\n",
       "      <td>4.612394</td>\n",
       "    </tr>\n",
       "  </tbody>\n",
       "</table>\n",
       "</div>"
      ],
      "text/plain": [
       "         dataset_id    target  prediction  split    model       err   abs_err\n",
       "1152873  1936295000 -1.809825   -7.621657  train  enb-183  5.811832  5.811832\n",
       "2733361  1936295000 -1.809825   -7.621657  train  enb-197  5.811832  5.811832\n",
       "2744061 -1365746880 -4.238377   -9.050261  train  enb-197  4.811885  4.811885\n",
       "1163573 -1365746880 -4.238377   -9.050261  train  enb-183  4.811885  4.811885\n",
       "1368686  1555394000 -3.590962   -8.203356  valid  enb-183  4.612394  4.612394"
      ]
     },
     "execution_count": 12,
     "metadata": {},
     "output_type": "execute_result"
    }
   ],
   "source": [
    "df['err'] = df.eval('target - prediction')\n",
    "df['abs_err'] = np.abs(df['err'])\n",
    "\n",
    "worst = df.sort_values('abs_err', ascending=False).head(30)\n",
    "worst.head()"
   ]
  },
  {
   "cell_type": "code",
   "execution_count": null,
   "metadata": {},
   "outputs": [
    {
     "name": "stderr",
     "output_type": "stream",
     "text": [
      "/tmp/ipykernel_404552/1019965449.py:1: FutureWarning: The default of observed=False is deprecated and will be changed to True in a future version of pandas. Pass observed=False to retain current behavior or observed=True to adopt the future default and silence this warning.\n",
      "  df.groupby(['model', 'dataset_id']).std(numeric_only=True)\n"
     ]
    },
    {
     "data": {
      "text/html": [
       "<div>\n",
       "<style scoped>\n",
       "    .dataframe tbody tr th:only-of-type {\n",
       "        vertical-align: middle;\n",
       "    }\n",
       "\n",
       "    .dataframe tbody tr th {\n",
       "        vertical-align: top;\n",
       "    }\n",
       "\n",
       "    .dataframe thead th {\n",
       "        text-align: right;\n",
       "    }\n",
       "</style>\n",
       "<table border=\"1\" class=\"dataframe\">\n",
       "  <thead>\n",
       "    <tr style=\"text-align: right;\">\n",
       "      <th></th>\n",
       "      <th></th>\n",
       "      <th>target</th>\n",
       "      <th>prediction</th>\n",
       "      <th>err</th>\n",
       "      <th>abs_err</th>\n",
       "    </tr>\n",
       "    <tr>\n",
       "      <th>model</th>\n",
       "      <th>dataset_id</th>\n",
       "      <th></th>\n",
       "      <th></th>\n",
       "      <th></th>\n",
       "      <th></th>\n",
       "    </tr>\n",
       "  </thead>\n",
       "  <tbody>\n",
       "    <tr>\n",
       "      <th rowspan=\"5\" valign=\"top\">enb-183</th>\n",
       "      <th>-1883890888</th>\n",
       "      <td>NaN</td>\n",
       "      <td>NaN</td>\n",
       "      <td>NaN</td>\n",
       "      <td>NaN</td>\n",
       "    </tr>\n",
       "    <tr>\n",
       "      <th>-1883890886</th>\n",
       "      <td>0.098067</td>\n",
       "      <td>0.057520</td>\n",
       "      <td>0.080796</td>\n",
       "      <td>0.080796</td>\n",
       "    </tr>\n",
       "    <tr>\n",
       "      <th>-1883890885</th>\n",
       "      <td>0.266137</td>\n",
       "      <td>0.224026</td>\n",
       "      <td>0.042112</td>\n",
       "      <td>0.042112</td>\n",
       "    </tr>\n",
       "    <tr>\n",
       "      <th>-1883890884</th>\n",
       "      <td>0.014991</td>\n",
       "      <td>0.041049</td>\n",
       "      <td>0.026058</td>\n",
       "      <td>0.026058</td>\n",
       "    </tr>\n",
       "    <tr>\n",
       "      <th>-1883890880</th>\n",
       "      <td>NaN</td>\n",
       "      <td>NaN</td>\n",
       "      <td>NaN</td>\n",
       "      <td>NaN</td>\n",
       "    </tr>\n",
       "    <tr>\n",
       "      <th>...</th>\n",
       "      <th>...</th>\n",
       "      <td>...</td>\n",
       "      <td>...</td>\n",
       "      <td>...</td>\n",
       "      <td>...</td>\n",
       "    </tr>\n",
       "    <tr>\n",
       "      <th rowspan=\"5\" valign=\"top\">enb-197</th>\n",
       "      <th>1999566005</th>\n",
       "      <td>NaN</td>\n",
       "      <td>NaN</td>\n",
       "      <td>NaN</td>\n",
       "      <td>NaN</td>\n",
       "    </tr>\n",
       "    <tr>\n",
       "      <th>1999576000</th>\n",
       "      <td>0.117367</td>\n",
       "      <td>0.004895</td>\n",
       "      <td>0.115926</td>\n",
       "      <td>0.066890</td>\n",
       "    </tr>\n",
       "    <tr>\n",
       "      <th>1999576001</th>\n",
       "      <td>NaN</td>\n",
       "      <td>NaN</td>\n",
       "      <td>NaN</td>\n",
       "      <td>NaN</td>\n",
       "    </tr>\n",
       "    <tr>\n",
       "      <th>1999576002</th>\n",
       "      <td>0.233464</td>\n",
       "      <td>0.219452</td>\n",
       "      <td>0.014012</td>\n",
       "      <td>0.014012</td>\n",
       "    </tr>\n",
       "    <tr>\n",
       "      <th>1999576003</th>\n",
       "      <td>0.005275</td>\n",
       "      <td>0.008454</td>\n",
       "      <td>0.003179</td>\n",
       "      <td>0.003179</td>\n",
       "    </tr>\n",
       "  </tbody>\n",
       "</table>\n",
       "<p>2534578 rows × 4 columns</p>\n",
       "</div>"
      ],
      "text/plain": [
       "                       target  prediction       err   abs_err\n",
       "model   dataset_id                                           \n",
       "enb-183 -1883890888       NaN         NaN       NaN       NaN\n",
       "        -1883890886  0.098067    0.057520  0.080796  0.080796\n",
       "        -1883890885  0.266137    0.224026  0.042112  0.042112\n",
       "        -1883890884  0.014991    0.041049  0.026058  0.026058\n",
       "        -1883890880       NaN         NaN       NaN       NaN\n",
       "...                       ...         ...       ...       ...\n",
       "enb-197  1999566005       NaN         NaN       NaN       NaN\n",
       "         1999576000  0.117367    0.004895  0.115926  0.066890\n",
       "         1999576001       NaN         NaN       NaN       NaN\n",
       "         1999576002  0.233464    0.219452  0.014012  0.014012\n",
       "         1999576003  0.005275    0.008454  0.003179  0.003179\n",
       "\n",
       "[2534578 rows x 4 columns]"
      ]
     },
     "execution_count": 15,
     "metadata": {},
     "output_type": "execute_result"
    }
   ],
   "source": [
    "df.groupby(['model', 'dataset_id']).mean(numeric_only=True)"
   ]
  },
  {
   "cell_type": "code",
   "execution_count": 5,
   "metadata": {},
   "outputs": [
    {
     "data": {
      "text/plain": [
       "0.9991213586622706"
      ]
     },
     "execution_count": 5,
     "metadata": {},
     "output_type": "execute_result"
    }
   ],
   "source": [
    "from sklearn.metrics import r2_score\n",
    "\n",
    "r2_score(df['prediction'], df['target'])"
   ]
  },
  {
   "cell_type": "code",
   "execution_count": 8,
   "metadata": {},
   "outputs": [
    {
     "name": "stderr",
     "output_type": "stream",
     "text": [
      "/tmp/ipykernel_404552/3418772384.py:1: FutureWarning: The default of observed=False is deprecated and will be changed to True in a future version of pandas. Pass observed=False to retain current behavior or observed=True to adopt the future default and silence this warning.\n",
      "  df.groupby('split').mean(numeric_only=True)['abs_err'].round(5) * 1000\n"
     ]
    },
    {
     "data": {
      "text/plain": [
       "split\n",
       "train    23.36\n",
       "valid    33.61\n",
       "test     32.12\n",
       "Name: abs_err, dtype: float64"
      ]
     },
     "execution_count": 8,
     "metadata": {},
     "output_type": "execute_result"
    }
   ],
   "source": [
    "df.groupby('split').mean(numeric_only=True)['abs_err'].round(5) * 1000"
   ]
  },
  {
   "cell_type": "code",
   "execution_count": 43,
   "metadata": {},
   "outputs": [
    {
     "data": {
      "text/plain": [
       "24.96"
      ]
     },
     "execution_count": 43,
     "metadata": {},
     "output_type": "execute_result"
    }
   ],
   "source": [
    "df['abs_err'].mean().round(5) * 1000"
   ]
  },
  {
   "cell_type": "code",
   "execution_count": 30,
   "metadata": {},
   "outputs": [
    {
     "data": {
      "text/plain": [
       "['mp-936295',\n",
       " 'mp-555394',\n",
       " 'mp-614724',\n",
       " 'mp-694932',\n",
       " 'mp-694932',\n",
       " 'mp-807421',\n",
       " 'mp-887457',\n",
       " 'mp-808843',\n",
       " 'mp-988484',\n",
       " 'mp-693892',\n",
       " 'mp-734306',\n",
       " 'mp-723973',\n",
       " 'mp-722050',\n",
       " 'mp-807730',\n",
       " 'mp-807825',\n",
       " 'mp-877684',\n",
       " 'mp-936895',\n",
       " 'mp-785008']"
      ]
     },
     "execution_count": 30,
     "metadata": {},
     "output_type": "execute_result"
    }
   ],
   "source": [
    "worst_ds_ids = [parse_data_id_mptrj(x) for x in worst['dataset_id']]\n",
    "worst_mp_ids = [s.rsplit('-', maxsplit=2)[0] for s in worst_ds_ids if s.startswith('mp')]\n",
    "worst_mp_ids"
   ]
  },
  {
   "cell_type": "code",
   "execution_count": 36,
   "metadata": {},
   "outputs": [
    {
     "data": {
      "application/vnd.jupyter.widget-view+json": {
       "model_id": "2dac8721f3224ad79100591c0219a951",
       "version_major": 2,
       "version_minor": 0
      },
      "text/plain": [
       "Retrieving SummaryDoc documents:   0%|          | 0/18 [00:00<?, ?it/s]"
      ]
     },
     "metadata": {},
     "output_type": "display_data"
    }
   ],
   "source": [
    "from mp_api.client import MPRester\n",
    "\n",
    "with MPRester() as mpr:\n",
    "    docs = mpr.materials.summary.search(material_ids=worst_mp_ids)"
   ]
  },
  {
   "cell_type": "code",
   "execution_count": 54,
   "metadata": {},
   "outputs": [
    {
     "data": {
      "text/plain": [
       "['Na2Co6O12',\n",
       " 'Li4Mn2V2P8O28',\n",
       " 'Li4Mn1V3P8O28',\n",
       " 'V2O3F3',\n",
       " 'Si8Ag20O26',\n",
       " 'Sr8Cr4Cl4O16',\n",
       " 'Na4Te4H8O14',\n",
       " 'Sc4Se6',\n",
       " 'C4Br2N2O2',\n",
       " 'Li2V4P8H4O32',\n",
       " 'Li2V4P8H4O32',\n",
       " 'K3Li3Sb9O24',\n",
       " 'Ta22O4',\n",
       " 'Si16O32',\n",
       " 'Cs6Cr2F14',\n",
       " 'Na2Co6O12',\n",
       " 'V1Fe2Se4',\n",
       " 'La9Er1O15']"
      ]
     },
     "execution_count": 54,
     "metadata": {},
     "output_type": "execute_result"
    }
   ],
   "source": [
    "[doc.composition.to_pretty_string() for doc in docs]"
   ]
  },
  {
   "cell_type": "code",
   "execution_count": 37,
   "metadata": {},
   "outputs": [
    {
     "data": {
      "text/plain": [
       "<Axes: xlabel='err', ylabel='Count'>"
      ]
     },
     "execution_count": 37,
     "metadata": {},
     "output_type": "execute_result"
    },
    {
     "data": {
      "image/png": "[encoded data removed]",
      "text/plain": [
       "<Figure size 800x600 with 1 Axes>"
      ]
     },
     "metadata": {},
     "output_type": "display_data"
    }
   ],
   "source": [
    "sns.histplot(df['err'].clip(-0.3, 0.3), bins=50)"
   ]
  },
  {
   "cell_type": "code",
   "execution_count": null,
   "metadata": {},
   "outputs": [
    {
     "data": {
      "image/png": "[encoded data removed]",
      "text/plain": [
       "<Figure size 1500x500 with 3 Axes>"
      ]
     },
     "metadata": {},
     "output_type": "display_data"
    }
   ],
   "source": [
    "g = sns.displot(df, x='prediction', y='target', col='split')\n",
    "\n",
    "xmin, xmax = plt.xlim()\n",
    "ymin, ymax = plt.ylim()\n",
    "\n",
    "newmin, newmax = min(xmin, ymin), max(xmax, ymax)\n",
    "\n",
    "plt.xlim(newmin, newmax)\n",
    "plt.ylim(newmin, newmax)\n",
    "\n",
    "for ax in g.axes.flatten():\n",
    "    ax.axline((0, 0), slope=1, ls='--', lw=0.5, color='grey')"
   ]
  }
 ],
 "metadata": {
  "kernelspec": {
   "display_name": "avid",
   "language": "python",
   "name": "python3"
  },
  "language_info": {
   "codemirror_mode": {
    "name": "ipython",
    "version": 3
   },
   "file_extension": ".py",
   "mimetype": "text/x-python",
   "name": "python",
   "nbconvert_exporter": "python",
   "pygments_lexer": "ipython3",
   "version": "3.12.0"
  }
 },
 "nbformat": 4,
 "nbformat_minor": 2
}
