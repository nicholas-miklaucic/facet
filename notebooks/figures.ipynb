{
 "cells": [
  {
   "cell_type": "code",
   "execution_count": 3,
   "metadata": {},
   "outputs": [
    {
     "name": "stdout",
     "output_type": "stream",
     "text": [
      "/home/nmiklaucic/cdv\n"
     ]
    },
    {
     "name": "stderr",
     "output_type": "stream",
     "text": [
      "/home/nmiklaucic/miniconda3/envs/avid/lib/python3.12/site-packages/IPython/core/magics/osm.py:393: UserWarning: This is now an optional IPython functionality, using bookmarks requires you to install the `pickleshare` library.\n",
      "  bkms = self.shell.db.get('bookmarks', {})\n",
      "/home/nmiklaucic/miniconda3/envs/avid/lib/python3.12/site-packages/IPython/core/magics/osm.py:417: UserWarning: This is now an optional IPython functionality, setting dhist requires you to install the `pickleshare` library.\n",
      "  self.shell.db['dhist'] = compress_dhist(dhist)[-100:]\n"
     ]
    }
   ],
   "source": [
    "%cd ~/cdv\n",
    "import numpy as np\n",
    "import pandas as pd\n",
    "import seaborn as sns\n",
    "import matplotlib.pyplot as plt\n",
    "import rho_plus as rp\n",
    "\n",
    "import os\n",
    "os.environ['CUDA_VISIBLE_DEVICES'] = '0'\n",
    "\n",
    "import jax\n",
    "import jax.numpy as jnp\n",
    "\n",
    "is_dark = False\n",
    "theme, cs = rp.mpl_setup(is_dark)"
   ]
  },
  {
   "cell_type": "code",
   "execution_count": 4,
   "metadata": {},
   "outputs": [],
   "source": [
    "from pathlib import Path\n",
    "from facet.data.databatch import CrystalGraphs\n",
    "from facet.layers import Context\n",
    "import pyrallis\n",
    "from facet.config import MainConfig\n",
    "import orbax.checkpoint as ocp\n",
    "\n",
    "from facet.training_state import TrainingRun\n",
    "from facet.checkpointing import best_ckpt\n",
    "\n",
    "\n",
    "conf_file = 'configs/sevennet.toml'\n",
    "\n",
    "with open(conf_file) as f:\n",
    "    config = pyrallis.cfgparsing.load(MainConfig, f)\n",
    "\n",
    "from facet.data.dataset import load_file\n",
    "\n",
    "config.data.dataset_name = 'mptrj'\n",
    "cgs = []\n",
    "for i in range(1):\n",
    "    cgs.append(load_file(config, group_num=0, file_num=i))\n",
    "\n",
    "cg: CrystalGraphs = sum(cgs[1:], start=cgs[0])\n",
    "\n",
    "# model = config.build_regressor()\n",
    "\n",
    "# params = model.init(jax.random.key(29205), cg=cg, ctx=Context(training=True))\n",
    "\n",
    "# param_size = sum(x.size for x in jax.tree.leaves(params))\n",
    "# param_size"
   ]
  },
  {
   "cell_type": "code",
   "execution_count": null,
   "metadata": {},
   "outputs": [],
   "source": []
  }
 ],
 "metadata": {
  "kernelspec": {
   "display_name": "avid",
   "language": "python",
   "name": "python3"
  },
  "language_info": {
   "codemirror_mode": {
    "name": "ipython",
    "version": 3
   },
   "file_extension": ".py",
   "mimetype": "text/x-python",
   "name": "python",
   "nbconvert_exporter": "python",
   "pygments_lexer": "ipython3",
   "version": "3.12.0"
  }
 },
 "nbformat": 4,
 "nbformat_minor": 2
}
