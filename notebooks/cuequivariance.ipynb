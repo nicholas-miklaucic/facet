{
 "cells": [
  {
   "cell_type": "code",
   "execution_count": 1,
   "metadata": {},
   "outputs": [
    {
     "name": "stderr",
     "output_type": "stream",
     "text": [
      "/home/nmiklaucic/miniconda3/envs/avid/lib/python3.12/site-packages/IPython/core/magics/osm.py:393: UserWarning: This is now an optional IPython functionality, using bookmarks requires you to install the `pickleshare` library.\n",
      "  bkms = self.shell.db.get('bookmarks', {})\n",
      "/home/nmiklaucic/miniconda3/envs/avid/lib/python3.12/site-packages/IPython/core/magics/osm.py:417: UserWarning: This is now an optional IPython functionality, setting dhist requires you to install the `pickleshare` library.\n",
      "  self.shell.db['dhist'] = compress_dhist(dhist)[-100:]\n"
     ]
    },
    {
     "name": "stdout",
     "output_type": "stream",
     "text": [
      "/home/nmiklaucic/cdv\n"
     ]
    }
   ],
   "source": [
    "%cd ~/cdv\n",
    "import numpy as np\n",
    "import jax.numpy as jnp\n",
    "import jax\n",
    "import pandas as pd\n",
    "import plotly.express as px\n",
    "import matplotlib.pyplot as plt\n",
    "import seaborn as sns\n",
    "import rho_plus as rp\n",
    "\n",
    "is_dark = False\n",
    "theme, cs = rp.mpl_setup(is_dark)\n",
    "rp.plotly_setup(is_dark)"
   ]
  },
  {
   "cell_type": "code",
   "execution_count": 449,
   "metadata": {},
   "outputs": [],
   "source": [
    "import cuequivariance as cue\n",
    "import cuequivariance_jax as cuex\n",
    "import jax\n",
    "import jax.numpy as jnp\n",
    "import jax.random as jr\n",
    "import e3nn_jax as e3nn\n",
    "\n",
    "vecs = jr.normal(jr.key(123), (1024, 32, 3))\n",
    "norms = jnp.linalg.vector_norm(vecs, axis=-1, keepdims=True)\n",
    "vecs = vecs / norms\n",
    "nodes = e3nn.normal('2x2e', jr.key(23), (1024,))\n",
    "\n",
    "weights = jr.normal(jr.key(12), (1024, 32, e3nn.tensor_product(nodes.irreps, '0e + 1e + 2e').filter(lmax=2).num_irreps)) * 0 + 1\n",
    "\n",
    "nodes_cue = cuex.RepArray(cue.Irreps('SO3', str(nodes.irreps).replace('e', '')), nodes.array, cue.ir_mul)\n",
    "vecs_cue = cuex.RepArray(cue.Irreps('SO3', '1x1'), vecs, cue.ir_mul)"
   ]
  },
  {
   "cell_type": "code",
   "execution_count": 450,
   "metadata": {},
   "outputs": [
    {
     "data": {
      "text/plain": [
       "2x0e+2x1e+2x1e+2x2e+2x2e+2x2e"
      ]
     },
     "execution_count": 450,
     "metadata": {},
     "output_type": "execute_result"
    }
   ],
   "source": [
    "from e3nn_jax.legacy import FunctionalTensorProduct\n",
    "\n",
    "def get_tp_ins(nodes, edge_sh):    \n",
    "    # map node features onto edges for tp\n",
    "    edge_features = nodes  # [n_nodes, irreps]\n",
    "\n",
    "    # we gather the instructions for the tp as well as the tp output irreps\n",
    "    mode = 'uvu'\n",
    "    trainable = True\n",
    "    irreps_after_tp = []\n",
    "    instructions = []\n",
    "\n",
    "    for i, (mul_in1, irreps_in1) in enumerate(edge_features.irreps):\n",
    "        for j, (_, irreps_in2) in enumerate(edge_sh.irreps):\n",
    "            for curr_irreps_out in irreps_in1 * irreps_in2:\n",
    "                if curr_irreps_out in e3nn.Irreps('0e + 1e + 2e'):\n",
    "                    k = len(irreps_after_tp)\n",
    "                    irreps_after_tp += [(mul_in1, curr_irreps_out)]\n",
    "                    instructions += [(i, j, k, mode, trainable)]\n",
    "\n",
    "    # we will likely have constructed irreps in a non-l-increasing order\n",
    "    # so we sort them to be in a l-increasing order\n",
    "    irreps_after_tp, p, _inv = e3nn.Irreps(irreps_after_tp).sort()\n",
    "\n",
    "\n",
    "    # if we sort the target irreps, we will have to sort the instructions\n",
    "    # acoordingly, using the permutation indices\n",
    "    sorted_instructions = []\n",
    "\n",
    "    for irreps_in1, irreps_in2, irreps_out, mode, trainable in instructions:\n",
    "        sorted_instructions += [\n",
    "            (\n",
    "                irreps_in1,\n",
    "                irreps_in2,                \n",
    "                p[irreps_out],\n",
    "                mode,\n",
    "                trainable,\n",
    "            )\n",
    "        ]\n",
    "\n",
    "\n",
    "    tp = FunctionalTensorProduct(\n",
    "        irreps_in1=edge_features.irreps,\n",
    "        irreps_in2=edge_sh.irreps,\n",
    "        irreps_out=e3nn.Irreps(irreps_after_tp),\n",
    "        instructions=sorted_instructions,        \n",
    "    )\n",
    "\n",
    "    # for i, ins in enumerate(tp.instructions):\n",
    "    #     tp.instructions[i] = ins.replace(path_weight = 1.0)\n",
    "\n",
    "    return (tp, sorted_instructions)\n",
    "\n",
    "n = nodes[0]\n",
    "v = vecs[0, 0]\n",
    "w = weights[0, 0]\n",
    "\n",
    "def tpsh_e3nn(nodes, vecs, w):\n",
    "    edge_sh = e3nn.spherical_harmonics([0, 1, 2], e3nn.IrrepsArray('1e', vecs), normalize=False)\n",
    "\n",
    "    # map node features onto edges for tp\n",
    "    edge_features = nodes  # [n_nodes, irreps]\n",
    "\n",
    "    tp, sorted_instructions = get_tp_ins(nodes, edge_sh)\n",
    "\n",
    "    return tp.left_right(w, edge_features, edge_sh, custom_einsum_jvp=True, fused=False, sparse=False)\n",
    "\n",
    "\n",
    "edge_sh = e3nn.spherical_harmonics([0, 1, 2], e3nn.IrrepsArray('1e', v), normalize=False)\n",
    "tp, ins = get_tp_ins(nodes, edge_sh)\n",
    "\n",
    "out_e3nn = tpsh_e3nn(n, v, w)\n",
    "out_e3nn.irreps"
   ]
  },
  {
   "cell_type": "code",
   "execution_count": 473,
   "metadata": {},
   "outputs": [
    {
     "data": {
      "text/plain": [
       "Array(0.7467634, dtype=float32)"
      ]
     },
     "execution_count": 473,
     "metadata": {},
     "output_type": "execute_result"
    }
   ],
   "source": [
    "from facet.utils import debug_structure\n",
    "from cuequivariance.segmented_tensor_product import Path\n",
    "import functools as ft\n",
    "\n",
    "path_weights = [ins.path_weight for ins in tp.instructions]\n",
    "\n",
    "with cue.assume('SO3', cue.mul_ir):\n",
    "    n_cue = cuex.RepArray(str(nodes.irreps).replace('e', ''), nodes.array[(0,)])\n",
    "    v_cue = cuex.RepArray('1', vecs[0, 0])\n",
    "\n",
    "    def tpsh_cue(nodes_cue, vecs_cue, weights):\n",
    "        sh = cuex.spherical_harmonics([0, 1, 2], vecs_cue, normalize=False)\n",
    "        e = cue.descriptors.channelwise_tensor_product(\n",
    "            nodes_cue.irreps,\n",
    "            sh.irreps,            \n",
    "            [cue.SO3(i) for i in range(3)]\n",
    "        )\n",
    "        \n",
    "        \n",
    "        prev_d = e.d\n",
    "        d = prev_d\n",
    "        order = list(np.argsort([p.indices[0] for p in d.paths]))\n",
    "        # d = d.sort_paths((1, 2))\n",
    "        d = d.permute_segments(0, tuple(order))\n",
    "        # d = d.permute_segments(3, order)  \n",
    "        # d = d.normalize_paths_for_operand(3)        \n",
    "        e = cue.EquivariantTensorProduct(d, list(e.operands))\n",
    "                    \n",
    "        etp = cuex.RepArray(e.output, cuex.tensor_product(d, weights, nodes_cue.array, sh.array), cue.mul_ir)\n",
    "        # etp = cuex.equivariant_tensor_product(e, weights, nodes_cue, sh)\n",
    "        return etp, e, prev_d\n",
    "\n",
    "    out_cue, e, prev_d = tpsh_cue(n_cue, v_cue, w)\n",
    "\n",
    "out_cue = out_cue.change_layout(cue.ir_mul)\n",
    "x1 = out_cue.array\n",
    "x2 = out_e3nn.array\n",
    "\n",
    "jnp.abs(x1 - x2).mean()"
   ]
  },
  {
   "cell_type": "code",
   "execution_count": 479,
   "metadata": {},
   "outputs": [
    {
     "data": {
      "text/plain": [
       "{0: 2x0+2x1+2x1+2x2+2x2+2x2}\n",
       "[-0.81195843  0.3859183   1.0584085  -0.02668525  0.47694126 -1.0455055\n",
       "  1.7947125   0.04886016  0.6136793   0.9749287   2.2370982   0.01066139\n",
       " -0.9564137   0.760594   -0.21819799 -0.00292352  0.06584872 -0.57523394\n",
       "  0.3943256   0.8087608  -0.95810246  0.5178938  -2.0254498   0.05794221\n",
       " -0.8430972   0.0047067   0.27478755 -0.55921185 -0.5911751  -0.14389732\n",
       " -1.186356   -0.3420669   0.5458499  -0.485501    0.73040366  0.08982657\n",
       " -0.4836881  -0.38035002 -0.20524529  0.11623054 -1.0172516   0.7248208\n",
       " -1.0615475  -0.1061655 ]"
      ]
     },
     "execution_count": 479,
     "metadata": {},
     "output_type": "execute_result"
    }
   ],
   "source": [
    "out_cue"
   ]
  },
  {
   "cell_type": "code",
   "execution_count": 475,
   "metadata": {},
   "outputs": [
    {
     "name": "stdout",
     "output_type": "stream",
     "text": [
      "0.9999990000010001 0.4472135954999579\n",
      "1.0000031622876602 0.5773502691896258\n",
      "1.0000024494957427 0.4472135954999579\n",
      "0.9999977639370226 1.0\n",
      "1.0000031622876602 0.5773502691896258\n",
      "1.000002160251566 0.4472135954999579\n"
     ]
    }
   ],
   "source": [
    "for path, prev_path, ins in zip(e.d.paths, prev_d.paths, tp.instructions):\n",
    "    print((path.coefficients / (prev_path.coefficients + 1e-6)).max(), 1 / ins.path_weight)"
   ]
  },
  {
   "cell_type": "code",
   "execution_count": 476,
   "metadata": {},
   "outputs": [
    {
     "data": {
      "text/plain": [
       "{0: 2} [ 0.8087608  -0.95810246  0.5178938  -2.0254498   0.05794221]"
      ]
     },
     "execution_count": 476,
     "metadata": {},
     "output_type": "execute_result"
    }
   ],
   "source": [
    "n_cue.slice_by_mul[1:2]"
   ]
  },
  {
   "cell_type": "code",
   "execution_count": 472,
   "metadata": {},
   "outputs": [
    {
     "data": {
      "text/plain": [
       "1x2e [ 0.8087608  -0.95810246  0.5178938  -2.0254498   0.05794221]"
      ]
     },
     "execution_count": 472,
     "metadata": {},
     "output_type": "execute_result"
    }
   ],
   "source": [
    "n.slice_by_mul[1:2]"
   ]
  },
  {
   "cell_type": "code",
   "execution_count": 477,
   "metadata": {},
   "outputs": [
    {
     "data": {
      "text/plain": [
       "Array([-0.81195843,  0.3859183 ,  1.0584085 , -0.02668525,  0.47694126,\n",
       "       -1.0455055 ,  1.7947125 ,  0.04886016,  0.6136793 ,  0.9749287 ,\n",
       "        2.2370982 ,  0.01066139, -0.9564137 ,  0.760594  , -0.21819799,\n",
       "       -0.00292352,  0.06584872, -0.57523394,  0.3943256 ,  0.8087608 ,\n",
       "       -0.95810246,  0.5178938 , -2.0254498 ,  0.05794221, -0.8430972 ,\n",
       "        0.0047067 ,  0.27478755, -0.55921185, -0.5911751 , -0.14389732,\n",
       "       -1.186356  , -0.3420669 ,  0.5458499 , -0.485501  ,  0.73040366,\n",
       "        0.08982657, -0.4836881 , -0.38035002, -0.20524529,  0.11623054,\n",
       "       -1.0172516 ,  0.7248208 , -1.0615475 , -0.1061655 ], dtype=float32)"
      ]
     },
     "execution_count": 477,
     "metadata": {},
     "output_type": "execute_result"
    }
   ],
   "source": [
    "x1"
   ]
  },
  {
   "cell_type": "code",
   "execution_count": 478,
   "metadata": {},
   "outputs": [
    {
     "data": {
      "text/plain": [
       "Array([-1.16643421e-01, -1.33028150e+00, -7.99995661e-02,  3.48588109e-01,\n",
       "       -1.05059355e-01, -3.14817160e-01,  5.89692593e-01,  1.45089400e+00,\n",
       "       -3.76765370e-01, -1.47288889e-01, -2.01810628e-01,  3.11330378e-01,\n",
       "        7.48942912e-01, -2.36842781e-01, -2.18197986e-01, -2.92351935e-03,\n",
       "        6.58487156e-02, -5.75233936e-01,  3.94325614e-01,  8.08760822e-01,\n",
       "       -9.58102465e-01,  5.17893791e-01, -2.02544975e+00,  5.79422116e-02,\n",
       "        5.37986875e-01, -5.20771503e-01, -3.91398787e-01,  2.13746727e-03,\n",
       "        3.62309277e-01,  1.41523373e+00, -8.04060519e-01, -2.19214344e+00,\n",
       "        3.79194349e-01, -2.00570405e-01,  2.57215589e-01,  4.35347587e-01,\n",
       "       -4.54131186e-01,  3.15178216e-01, -2.48633206e-01,  9.64066386e-01,\n",
       "        2.02874923e+00,  1.00050636e-01,  4.02233720e-01, -1.66354573e+00],      dtype=float32)"
      ]
     },
     "execution_count": 478,
     "metadata": {},
     "output_type": "execute_result"
    }
   ],
   "source": [
    "x2"
   ]
  },
  {
   "cell_type": "code",
   "execution_count": 461,
   "metadata": {},
   "outputs": [
    {
     "data": {
      "text/plain": [
       "[<matplotlib.lines.Line2D at 0x76ac209c2ff0>]"
      ]
     },
     "execution_count": 461,
     "metadata": {},
     "output_type": "execute_result"
    },
    {
     "data": {
      "image/png": "[encoded data removed]",
      "text/plain": [
       "<Figure size 800x600 with 1 Axes>"
      ]
     },
     "metadata": {},
     "output_type": "display_data"
    }
   ],
   "source": [
    "plt.plot(x1)\n",
    "plt.plot(x2)"
   ]
  },
  {
   "cell_type": "code",
   "execution_count": 427,
   "metadata": {},
   "outputs": [
    {
     "data": {
      "text/plain": [
       "{0: 2x0} [0.05584282 1.1635344 ]"
      ]
     },
     "execution_count": 427,
     "metadata": {},
     "output_type": "execute_result"
    }
   ],
   "source": [
    "out_cue.filter(keep='0')"
   ]
  },
  {
   "cell_type": "code",
   "execution_count": 409,
   "metadata": {},
   "outputs": [
    {
     "data": {
      "text/plain": [
       "2x0e [-1.0438296  2.909592 ]"
      ]
     },
     "execution_count": 409,
     "metadata": {},
     "output_type": "execute_result"
    }
   ],
   "source": [
    "out_e3nn.filter(lmax=0)"
   ]
  },
  {
   "cell_type": "code",
   "execution_count": 410,
   "metadata": {},
   "outputs": [
    {
     "data": {
      "text/plain": [
       "Array([ 1.0996723 , -1.7460575 ,  0.        ,  0.        ,  0.        ,\n",
       "        0.        ,  0.        ,  0.        , -0.334709  , -1.9533051 ,\n",
       "       -1.6259837 , -0.5536774 ,  0.4211443 , -1.2848783 ,  1.2876683 ,\n",
       "        0.36333185, -1.6061617 , -4.520699  ,  2.7018907 ,  2.5972848 ,\n",
       "       -0.8696607 , -3.091805  ,  0.6522469 ,  1.4793229 , -0.73642385,\n",
       "        0.48770332,  1.9590476 ,  0.8514452 , -0.53323555,  0.65232205,\n",
       "        0.5140223 ,  1.5257372 , -1.3272561 ,  0.34033298,  1.3079576 ,\n",
       "        0.7510832 ,  1.0292989 ,  1.6237904 ,  0.05171067,  2.80904   ],      dtype=float32)"
      ]
     },
     "execution_count": 410,
     "metadata": {},
     "output_type": "execute_result"
    }
   ],
   "source": [
    "x1 - x2"
   ]
  },
  {
   "cell_type": "code",
   "execution_count": 411,
   "metadata": {},
   "outputs": [
    {
     "data": {
      "text/plain": [
       "Array([[-0.9932875 ,  0.69651127,  0.2585017 ],\n",
       "       [ 1.6614106 , -1.0278797 , -2.1800723 ]], dtype=float32)"
      ]
     },
     "execution_count": 411,
     "metadata": {},
     "output_type": "execute_result"
    }
   ],
   "source": [
    "x2[2:8].reshape(2, 3)"
   ]
  },
  {
   "cell_type": "code",
   "execution_count": 412,
   "metadata": {},
   "outputs": [
    {
     "data": {
      "text/plain": [
       "[Instruction(i=0,0,1, mode=uvu, has_weight=True, path_weight=1.7320508075688772, weight_std=1.0, mul=2,1,2, path_shape=(2, 1), num_elements=1),\n",
       " Instruction(i=0,1,0, mode=uvu, has_weight=True, path_weight=1.0, weight_std=1.0, mul=2,1,2, path_shape=(2, 1), num_elements=1),\n",
       " Instruction(i=0,1,2, mode=uvu, has_weight=True, path_weight=1.7320508075688772, weight_std=1.0, mul=2,1,2, path_shape=(2, 1), num_elements=1),\n",
       " Instruction(i=0,1,4, mode=uvu, has_weight=True, path_weight=2.23606797749979, weight_std=1.0, mul=2,1,2, path_shape=(2, 1), num_elements=1),\n",
       " Instruction(i=0,2,3, mode=uvu, has_weight=True, path_weight=1.7320508075688772, weight_std=1.0, mul=2,1,2, path_shape=(2, 1), num_elements=1),\n",
       " Instruction(i=0,2,5, mode=uvu, has_weight=True, path_weight=2.23606797749979, weight_std=1.0, mul=2,1,2, path_shape=(2, 1), num_elements=1)]"
      ]
     },
     "execution_count": 412,
     "metadata": {},
     "output_type": "execute_result"
    }
   ],
   "source": [
    "tp.instructions"
   ]
  },
  {
   "cell_type": "code",
   "execution_count": 413,
   "metadata": {},
   "outputs": [
    {
     "data": {
      "text/plain": [
       "[op0[0]*op1[0]*op2[0]*op3[1]*c c.shape=(3, 1, 3) c.nnz=3,\n",
       " op0[1]*op1[0]*op2[1]*op3[0]*c c.shape=(3, 3, 1) c.nnz=3,\n",
       " op0[2]*op1[0]*op2[1]*op3[2]*c c.shape=(3, 3, 3) c.nnz=6,\n",
       " op0[3]*op1[0]*op2[1]*op3[4]*c c.shape=(3, 3, 5) c.nnz=11,\n",
       " op0[4]*op1[0]*op2[2]*op3[3]*c c.shape=(3, 5, 3) c.nnz=11,\n",
       " op0[5]*op1[0]*op2[2]*op3[5]*c c.shape=(3, 5, 5) c.nnz=16]"
      ]
     },
     "execution_count": 413,
     "metadata": {},
     "output_type": "execute_result"
    }
   ],
   "source": [
    "e.d.paths"
   ]
  },
  {
   "cell_type": "code",
   "execution_count": 414,
   "metadata": {},
   "outputs": [
    {
     "data": {
      "text/plain": [
       "[op0[0]*op1[0]*op2[0]*op3[4]*c c.shape=(3, 1, 3) c.nnz=3,\n",
       " op0[1]*op1[0]*op2[1]*op3[5]*c c.shape=(3, 3, 1) c.nnz=3,\n",
       " op0[2]*op1[0]*op2[1]*op3[3]*c c.shape=(3, 3, 3) c.nnz=6,\n",
       " op0[3]*op1[0]*op2[1]*op3[1]*c c.shape=(3, 3, 5) c.nnz=11,\n",
       " op0[4]*op1[0]*op2[2]*op3[2]*c c.shape=(3, 5, 3) c.nnz=11,\n",
       " op0[5]*op1[0]*op2[2]*op3[0]*c c.shape=(3, 5, 5) c.nnz=16]"
      ]
     },
     "execution_count": 414,
     "metadata": {},
     "output_type": "execute_result"
    }
   ],
   "source": [
    "e.d.permute_segments(3, (5, 4, 3, 2, 1, 0)).paths"
   ]
  },
  {
   "cell_type": "code",
   "execution_count": 400,
   "metadata": {},
   "outputs": [
    {
     "data": {
      "text/plain": [
       "array([0.        , 0.        , 0.31622777])"
      ]
     },
     "execution_count": 400,
     "metadata": {},
     "output_type": "execute_result"
    }
   ],
   "source": [
    "e.d.paths[4].coefficients[0, 0]"
   ]
  },
  {
   "cell_type": "code",
   "execution_count": 245,
   "metadata": {},
   "outputs": [
    {
     "data": {
      "text/plain": [
       "[Instruction(i=0,0,0, mode=uvu, has_weight=True, path_weight=1.0, weight_std=1.0, mul=128,1,128, path_shape=(128, 1), num_elements=1),\n",
       " Instruction(i=0,1,3, mode=uvu, has_weight=True, path_weight=1.7320508075688772, weight_std=1.0, mul=128,1,128, path_shape=(128, 1), num_elements=1),\n",
       " Instruction(i=0,2,9, mode=uvu, has_weight=True, path_weight=2.23606797749979, weight_std=1.0, mul=128,1,128, path_shape=(128, 1), num_elements=1),\n",
       " Instruction(i=1,0,4, mode=uvu, has_weight=True, path_weight=1.7320508075688772, weight_std=1.0, mul=64,1,64, path_shape=(64, 1), num_elements=1),\n",
       " Instruction(i=1,1,1, mode=uvu, has_weight=True, path_weight=1.0, weight_std=1.0, mul=64,1,64, path_shape=(64, 1), num_elements=1),\n",
       " Instruction(i=1,1,5, mode=uvu, has_weight=True, path_weight=1.7320508075688772, weight_std=1.0, mul=64,1,64, path_shape=(64, 1), num_elements=1),\n",
       " Instruction(i=1,1,10, mode=uvu, has_weight=True, path_weight=2.23606797749979, weight_std=1.0, mul=64,1,64, path_shape=(64, 1), num_elements=1),\n",
       " Instruction(i=1,2,6, mode=uvu, has_weight=True, path_weight=1.7320508075688772, weight_std=1.0, mul=64,1,64, path_shape=(64, 1), num_elements=1),\n",
       " Instruction(i=1,2,11, mode=uvu, has_weight=True, path_weight=2.23606797749979, weight_std=1.0, mul=64,1,64, path_shape=(64, 1), num_elements=1),\n",
       " Instruction(i=2,0,12, mode=uvu, has_weight=True, path_weight=2.23606797749979, weight_std=1.0, mul=32,1,32, path_shape=(32, 1), num_elements=1),\n",
       " Instruction(i=2,1,7, mode=uvu, has_weight=True, path_weight=1.7320508075688772, weight_std=1.0, mul=32,1,32, path_shape=(32, 1), num_elements=1),\n",
       " Instruction(i=2,1,13, mode=uvu, has_weight=True, path_weight=2.23606797749979, weight_std=1.0, mul=32,1,32, path_shape=(32, 1), num_elements=1),\n",
       " Instruction(i=2,2,2, mode=uvu, has_weight=True, path_weight=1.0, weight_std=1.0, mul=32,1,32, path_shape=(32, 1), num_elements=1),\n",
       " Instruction(i=2,2,8, mode=uvu, has_weight=True, path_weight=1.7320508075688772, weight_std=1.0, mul=32,1,32, path_shape=(32, 1), num_elements=1),\n",
       " Instruction(i=2,2,14, mode=uvu, has_weight=True, path_weight=2.23606797749979, weight_std=1.0, mul=32,1,32, path_shape=(32, 1), num_elements=1)]"
      ]
     },
     "execution_count": 245,
     "metadata": {},
     "output_type": "execute_result"
    }
   ],
   "source": [
    "tp.instructions"
   ]
  },
  {
   "cell_type": "code",
   "execution_count": 246,
   "metadata": {},
   "outputs": [
    {
     "data": {
      "text/plain": [
       "128x0+64x0+32x0+128x1+64x1+64x1+64x1+32x1+32x1+128x2+64x2+64x2+32x2+32x2+32x2"
      ]
     },
     "execution_count": 246,
     "metadata": {},
     "output_type": "execute_result"
    }
   ],
   "source": [
    "out_cue.irreps"
   ]
  },
  {
   "cell_type": "code",
   "execution_count": 248,
   "metadata": {},
   "outputs": [
    {
     "data": {
      "text/plain": [
       "128x0e+64x0e+32x0e+128x1e+64x1e+64x1e+64x1e+32x1e+32x1e+128x2e+64x2e+64x2e+32x2e+32x2e+32x2e+64x3e+32x3e+32x3e+32x4e"
      ]
     },
     "execution_count": 248,
     "metadata": {},
     "output_type": "execute_result"
    }
   ],
   "source": [
    "e3nn.tensor_product('128x0e + 64x1e + 32x2e', '0e + 1e + 2e', regroup_output=False)"
   ]
  },
  {
   "cell_type": "code",
   "execution_count": 222,
   "metadata": {},
   "outputs": [
    {
     "data": {
      "text/plain": [
       "Array(0.79989266, dtype=float32)"
      ]
     },
     "execution_count": 222,
     "metadata": {},
     "output_type": "execute_result"
    }
   ],
   "source": [
    "diff = out_cue.array - out_e3nn.array\n",
    "jnp.abs(diff).mean()"
   ]
  },
  {
   "cell_type": "code",
   "execution_count": 223,
   "metadata": {},
   "outputs": [
    {
     "data": {
      "text/plain": [
       "Array(0.6176491, dtype=float32)"
      ]
     },
     "execution_count": 223,
     "metadata": {},
     "output_type": "execute_result"
    }
   ],
   "source": [
    "jnp.abs(jnp.sort(x1) - jnp.sort(x2)).max()"
   ]
  },
  {
   "cell_type": "code",
   "execution_count": 225,
   "metadata": {},
   "outputs": [
    {
     "data": {
      "text/plain": [
       "Array(0.15157627, dtype=float32)"
      ]
     },
     "execution_count": 225,
     "metadata": {},
     "output_type": "execute_result"
    }
   ],
   "source": [
    "a_2e = out_cue.filter(keep=0)\n",
    "b_2e = out_e3nn.filter(keep='0e')\n",
    "\n",
    "jnp.mean(jnp.abs(jnp.sort(a_2e.array[::5]) - jnp.sort(b_2e.array[::5])))"
   ]
  },
  {
   "cell_type": "code",
   "execution_count": 226,
   "metadata": {},
   "outputs": [
    {
     "data": {
      "text/plain": [
       "<seaborn.axisgrid.FacetGrid at 0x766e4191d850>"
      ]
     },
     "execution_count": 226,
     "metadata": {},
     "output_type": "execute_result"
    },
    {
     "data": {
      "image/png": "[encoded data removed]",
      "text/plain": [
       "<Figure size 500x500 with 1 Axes>"
      ]
     },
     "metadata": {},
     "output_type": "display_data"
    }
   ],
   "source": [
    "sns.displot(a_2e.array - b_2e.array, bins=40)"
   ]
  },
  {
   "cell_type": "code",
   "execution_count": 237,
   "metadata": {},
   "outputs": [
    {
     "data": {
      "text/plain": [
       "Array([ 0.16      ,  0.59      ,  1.35      , -0.7       , -0.38      ,\n",
       "        0.22      ,  0.35999998, -0.48999998,  2.04      ,  0.        ,\n",
       "        0.78999996, -0.63      , -0.38      , -2.03      ], dtype=float32)"
      ]
     },
     "execution_count": 237,
     "metadata": {},
     "output_type": "execute_result"
    }
   ],
   "source": [
    "a_2e.array.round(2)[::16]"
   ]
  },
  {
   "cell_type": "code",
   "execution_count": 238,
   "metadata": {},
   "outputs": [
    {
     "data": {
      "text/plain": [
       "Array([ 0.16      ,  0.59      ,  1.35      , -0.7       , -0.38      ,\n",
       "        0.22      ,  0.35999998, -0.48999998,  1.22      , -0.5       ,\n",
       "       -0.13      , -1.9799999 ,  0.35999998, -1.7199999 ], dtype=float32)"
      ]
     },
     "execution_count": 238,
     "metadata": {},
     "output_type": "execute_result"
    }
   ],
   "source": [
    "b_2e.array.round(2)[::16]"
   ]
  },
  {
   "cell_type": "code",
   "execution_count": 247,
   "metadata": {},
   "outputs": [
    {
     "data": {
      "text/plain": [
       "[Instruction(i=0,0,0, mode=uvu, has_weight=True, path_weight=1.0, weight_std=1.0, mul=128,1,128, path_shape=(128, 1), num_elements=1),\n",
       " Instruction(i=0,1,3, mode=uvu, has_weight=True, path_weight=1.0, weight_std=1.0, mul=128,1,128, path_shape=(128, 1), num_elements=1),\n",
       " Instruction(i=0,2,9, mode=uvu, has_weight=True, path_weight=1.0, weight_std=1.0, mul=128,1,128, path_shape=(128, 1), num_elements=1),\n",
       " Instruction(i=1,0,4, mode=uvu, has_weight=True, path_weight=1.0, weight_std=1.0, mul=64,1,64, path_shape=(64, 1), num_elements=1),\n",
       " Instruction(i=1,1,1, mode=uvu, has_weight=True, path_weight=1.0, weight_std=1.0, mul=64,1,64, path_shape=(64, 1), num_elements=1),\n",
       " Instruction(i=1,1,5, mode=uvu, has_weight=True, path_weight=1.0, weight_std=1.0, mul=64,1,64, path_shape=(64, 1), num_elements=1),\n",
       " Instruction(i=1,1,10, mode=uvu, has_weight=True, path_weight=1.0, weight_std=1.0, mul=64,1,64, path_shape=(64, 1), num_elements=1),\n",
       " Instruction(i=1,2,6, mode=uvu, has_weight=True, path_weight=1.0, weight_std=1.0, mul=64,1,64, path_shape=(64, 1), num_elements=1),\n",
       " Instruction(i=1,2,11, mode=uvu, has_weight=True, path_weight=1.0, weight_std=1.0, mul=64,1,64, path_shape=(64, 1), num_elements=1),\n",
       " Instruction(i=2,0,12, mode=uvu, has_weight=True, path_weight=1.0, weight_std=1.0, mul=32,1,32, path_shape=(32, 1), num_elements=1),\n",
       " Instruction(i=2,1,7, mode=uvu, has_weight=True, path_weight=1.0, weight_std=1.0, mul=32,1,32, path_shape=(32, 1), num_elements=1),\n",
       " Instruction(i=2,1,13, mode=uvu, has_weight=True, path_weight=1.0, weight_std=1.0, mul=32,1,32, path_shape=(32, 1), num_elements=1),\n",
       " Instruction(i=2,2,2, mode=uvu, has_weight=True, path_weight=1.0, weight_std=1.0, mul=32,1,32, path_shape=(32, 1), num_elements=1),\n",
       " Instruction(i=2,2,8, mode=uvu, has_weight=True, path_weight=1.0, weight_std=1.0, mul=32,1,32, path_shape=(32, 1), num_elements=1),\n",
       " Instruction(i=2,2,14, mode=uvu, has_weight=True, path_weight=1.0, weight_std=1.0, mul=32,1,32, path_shape=(32, 1), num_elements=1)]"
      ]
     },
     "execution_count": 247,
     "metadata": {},
     "output_type": "execute_result"
    }
   ],
   "source": [
    "tp.instructions"
   ]
  },
  {
   "cell_type": "code",
   "execution_count": 255,
   "metadata": {},
   "outputs": [
    {
     "data": {
      "text/plain": [
       "[op0[0]*op1[0]*op2[0]*op3[0]*[[[1.]]],\n",
       " op0[3]*op1[0]*op2[1]*op3[3]*c c.shape=(1, 3, 3) c.nnz=3,\n",
       " op0[9]*op1[0]*op2[2]*op3[9]*c c.shape=(1, 5, 5) c.nnz=5,\n",
       " op0[4]*op1[1]*op2[0]*op3[4]*c c.shape=(3, 1, 3) c.nnz=3,\n",
       " op0[1]*op1[1]*op2[1]*op3[1]*c c.shape=(3, 3, 1) c.nnz=3,\n",
       " op0[5]*op1[1]*op2[1]*op3[5]*c c.shape=(3, 3, 3) c.nnz=6,\n",
       " op0[10]*op1[1]*op2[1]*op3[10]*c c.shape=(3, 3, 5) c.nnz=11,\n",
       " op0[6]*op1[1]*op2[2]*op3[6]*c c.shape=(3, 5, 3) c.nnz=11,\n",
       " op0[11]*op1[1]*op2[2]*op3[11]*c c.shape=(3, 5, 5) c.nnz=16,\n",
       " op0[12]*op1[2]*op2[0]*op3[12]*c c.shape=(5, 1, 5) c.nnz=5,\n",
       " op0[7]*op1[2]*op2[1]*op3[7]*c c.shape=(5, 3, 3) c.nnz=11,\n",
       " op0[13]*op1[2]*op2[1]*op3[13]*c c.shape=(5, 3, 5) c.nnz=16,\n",
       " op0[2]*op1[2]*op2[2]*op3[2]*c c.shape=(5, 5, 1) c.nnz=5,\n",
       " op0[8]*op1[2]*op2[2]*op3[8]*c c.shape=(5, 5, 3) c.nnz=16,\n",
       " op0[14]*op1[2]*op2[2]*op3[14]*c c.shape=(5, 5, 5) c.nnz=25]"
      ]
     },
     "execution_count": 255,
     "metadata": {},
     "output_type": "execute_result"
    }
   ],
   "source": [
    "e.d.sort_paths((1, 2)).paths"
   ]
  },
  {
   "cell_type": "code",
   "execution_count": 116,
   "metadata": {},
   "outputs": [
    {
     "data": {
      "text/plain": [
       "Array([-6.0003786, -5.043804 , -4.8613753, ...,  4.0026145,  4.367615 ,\n",
       "        4.904835 ], dtype=float32)"
      ]
     },
     "execution_count": 116,
     "metadata": {},
     "output_type": "execute_result"
    }
   ],
   "source": [
    "jnp.sort(x1)"
   ]
  },
  {
   "cell_type": "code",
   "execution_count": null,
   "metadata": {},
   "outputs": [
    {
     "data": {
      "text/plain": [
       "Array([-6.000378 , -4.8613753, -3.8610375, ...,  4.0026145,  4.3676147,\n",
       "        4.9048347], dtype=float32)"
      ]
     },
     "execution_count": 115,
     "metadata": {},
     "output_type": "execute_result"
    }
   ],
   "source": [
    "jnp.sort(x2)"
   ]
  },
  {
   "cell_type": "code",
   "execution_count": null,
   "metadata": {},
   "outputs": [],
   "source": []
  }
 ],
 "metadata": {
  "kernelspec": {
   "display_name": "avid",
   "language": "python",
   "name": "python3"
  },
  "language_info": {
   "codemirror_mode": {
    "name": "ipython",
    "version": 3
   },
   "file_extension": ".py",
   "mimetype": "text/x-python",
   "name": "python",
   "nbconvert_exporter": "python",
   "pygments_lexer": "ipython3",
   "version": "3.12.0"
  }
 },
 "nbformat": 4,
 "nbformat_minor": 2
}
